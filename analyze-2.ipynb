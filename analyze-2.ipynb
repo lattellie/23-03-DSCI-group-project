{
 "cells": [
  {
   "cell_type": "code",
   "execution_count": null,
   "id": "440813be-14be-4183-babe-46b0de491754",
   "metadata": {},
   "outputs": [],
   "source": []
  },
  {
   "cell_type": "code",
   "execution_count": 180,
   "id": "c18a61b6-c0a2-4148-a9f3-f566fe33ca64",
   "metadata": {},
   "outputs": [],
   "source": [
    "library(tidyverse)\n",
    "library(repr)\n",
    "library(tidymodels)\n",
    "library(gridExtra)\n",
    "options(repr.matrix.max.rows = 6)"
   ]
  },
  {
   "cell_type": "code",
   "execution_count": 94,
   "id": "49e202b7-9ddb-40d9-9b0f-9480b6a0827c",
   "metadata": {},
   "outputs": [
    {
     "name": "stderr",
     "output_type": "stream",
     "text": [
      "\u001b[1mRows: \u001b[22m\u001b[34m187\u001b[39m \u001b[1mColumns: \u001b[22m\u001b[34m38\u001b[39m\n",
      "\u001b[36m──\u001b[39m \u001b[1mColumn specification\u001b[22m \u001b[36m────────────────────────────────────────────────────────\u001b[39m\n",
      "\u001b[1mDelimiter:\u001b[22m \",\"\n",
      "\u001b[31mchr\u001b[39m (13): RecipientABO, RecipientRh, ABOmatch, CMVstatus, DonorCMV, Recipien...\n",
      "\u001b[32mdbl\u001b[39m (25): id, Recipientgender, Stemcellsource, Donorage, Donorage35, IIIV, G...\n",
      "\n",
      "\u001b[36mℹ\u001b[39m Use `spec()` to retrieve the full column specification for this data.\n",
      "\u001b[36mℹ\u001b[39m Specify the column types or set `show_col_types = FALSE` to quiet this message.\n"
     ]
    },
    {
     "data": {
      "text/html": [
       "<table class=\"dataframe\">\n",
       "<caption>A tibble: 6 × 38</caption>\n",
       "<thead>\n",
       "\t<tr><th scope=col>id</th><th scope=col>Recipientgender</th><th scope=col>Stemcellsource</th><th scope=col>Donorage</th><th scope=col>Donorage35</th><th scope=col>IIIV</th><th scope=col>Gendermatch</th><th scope=col>DonorABO</th><th scope=col>RecipientABO</th><th scope=col>RecipientRh</th><th scope=col>⋯</th><th scope=col>extcGvHD</th><th scope=col>CD34kgx10d6</th><th scope=col>CD3dCD34</th><th scope=col>CD3dkgx10d8</th><th scope=col>Rbodymass</th><th scope=col>ANCrecovery</th><th scope=col>PLTrecovery</th><th scope=col>time_to_aGvHD_III_IV</th><th scope=col>survival_time</th><th scope=col>survival_status</th></tr>\n",
       "\t<tr><th scope=col>&lt;dbl&gt;</th><th scope=col>&lt;dbl&gt;</th><th scope=col>&lt;dbl&gt;</th><th scope=col>&lt;dbl&gt;</th><th scope=col>&lt;dbl&gt;</th><th scope=col>&lt;dbl&gt;</th><th scope=col>&lt;dbl&gt;</th><th scope=col>&lt;dbl&gt;</th><th scope=col>&lt;chr&gt;</th><th scope=col>&lt;chr&gt;</th><th scope=col>⋯</th><th scope=col>&lt;chr&gt;</th><th scope=col>&lt;dbl&gt;</th><th scope=col>&lt;chr&gt;</th><th scope=col>&lt;chr&gt;</th><th scope=col>&lt;chr&gt;</th><th scope=col>&lt;dbl&gt;</th><th scope=col>&lt;dbl&gt;</th><th scope=col>&lt;dbl&gt;</th><th scope=col>&lt;dbl&gt;</th><th scope=col>&lt;dbl&gt;</th></tr>\n",
       "</thead>\n",
       "<tbody>\n",
       "\t<tr><td>1</td><td>1</td><td>1</td><td>22.83014</td><td>0</td><td>1</td><td>0</td><td> 1</td><td>1 </td><td>1</td><td>⋯</td><td>1</td><td> 7.20</td><td>1.33876  </td><td>5.38 </td><td>35  </td><td>19</td><td>51</td><td>     32</td><td> 999</td><td>0</td></tr>\n",
       "\t<tr><td>2</td><td>1</td><td>0</td><td>23.34247</td><td>0</td><td>1</td><td>0</td><td>-1</td><td>-1</td><td>1</td><td>⋯</td><td>1</td><td> 4.50</td><td>11.078295</td><td>0.41 </td><td>20.6</td><td>16</td><td>37</td><td>1000000</td><td> 163</td><td>1</td></tr>\n",
       "\t<tr><td>3</td><td>1</td><td>0</td><td>26.39452</td><td>0</td><td>1</td><td>0</td><td>-1</td><td>-1</td><td>1</td><td>⋯</td><td>1</td><td> 7.94</td><td>19.01323 </td><td>0.42 </td><td>23.4</td><td>23</td><td>20</td><td>1000000</td><td> 435</td><td>1</td></tr>\n",
       "\t<tr><td>4</td><td>0</td><td>0</td><td>39.68493</td><td>1</td><td>1</td><td>0</td><td> 1</td><td>2 </td><td>1</td><td>⋯</td><td>?</td><td> 4.25</td><td>29.481647</td><td>0.14 </td><td>50  </td><td>23</td><td>29</td><td>     19</td><td>  53</td><td>1</td></tr>\n",
       "\t<tr><td>5</td><td>0</td><td>1</td><td>33.35890</td><td>0</td><td>0</td><td>0</td><td> 1</td><td>2 </td><td>0</td><td>⋯</td><td>1</td><td>51.85</td><td>3.972255 </td><td>13.05</td><td>9   </td><td>14</td><td>14</td><td>1000000</td><td>2043</td><td>0</td></tr>\n",
       "\t<tr><td>6</td><td>1</td><td>0</td><td>27.39178</td><td>0</td><td>0</td><td>0</td><td> 2</td><td>0 </td><td>1</td><td>⋯</td><td>1</td><td> 3.27</td><td>8.412758 </td><td>0.39 </td><td>40  </td><td>16</td><td>70</td><td>1000000</td><td>2800</td><td>0</td></tr>\n",
       "</tbody>\n",
       "</table>\n"
      ],
      "text/latex": [
       "A tibble: 6 × 38\n",
       "\\begin{tabular}{lllllllllllllllllllll}\n",
       " id & Recipientgender & Stemcellsource & Donorage & Donorage35 & IIIV & Gendermatch & DonorABO & RecipientABO & RecipientRh & ⋯ & extcGvHD & CD34kgx10d6 & CD3dCD34 & CD3dkgx10d8 & Rbodymass & ANCrecovery & PLTrecovery & time\\_to\\_aGvHD\\_III\\_IV & survival\\_time & survival\\_status\\\\\n",
       " <dbl> & <dbl> & <dbl> & <dbl> & <dbl> & <dbl> & <dbl> & <dbl> & <chr> & <chr> & ⋯ & <chr> & <dbl> & <chr> & <chr> & <chr> & <dbl> & <dbl> & <dbl> & <dbl> & <dbl>\\\\\n",
       "\\hline\n",
       "\t 1 & 1 & 1 & 22.83014 & 0 & 1 & 0 &  1 & 1  & 1 & ⋯ & 1 &  7.20 & 1.33876   & 5.38  & 35   & 19 & 51 &      32 &  999 & 0\\\\\n",
       "\t 2 & 1 & 0 & 23.34247 & 0 & 1 & 0 & -1 & -1 & 1 & ⋯ & 1 &  4.50 & 11.078295 & 0.41  & 20.6 & 16 & 37 & 1000000 &  163 & 1\\\\\n",
       "\t 3 & 1 & 0 & 26.39452 & 0 & 1 & 0 & -1 & -1 & 1 & ⋯ & 1 &  7.94 & 19.01323  & 0.42  & 23.4 & 23 & 20 & 1000000 &  435 & 1\\\\\n",
       "\t 4 & 0 & 0 & 39.68493 & 1 & 1 & 0 &  1 & 2  & 1 & ⋯ & ? &  4.25 & 29.481647 & 0.14  & 50   & 23 & 29 &      19 &   53 & 1\\\\\n",
       "\t 5 & 0 & 1 & 33.35890 & 0 & 0 & 0 &  1 & 2  & 0 & ⋯ & 1 & 51.85 & 3.972255  & 13.05 & 9    & 14 & 14 & 1000000 & 2043 & 0\\\\\n",
       "\t 6 & 1 & 0 & 27.39178 & 0 & 0 & 0 &  2 & 0  & 1 & ⋯ & 1 &  3.27 & 8.412758  & 0.39  & 40   & 16 & 70 & 1000000 & 2800 & 0\\\\\n",
       "\\end{tabular}\n"
      ],
      "text/markdown": [
       "\n",
       "A tibble: 6 × 38\n",
       "\n",
       "| id &lt;dbl&gt; | Recipientgender &lt;dbl&gt; | Stemcellsource &lt;dbl&gt; | Donorage &lt;dbl&gt; | Donorage35 &lt;dbl&gt; | IIIV &lt;dbl&gt; | Gendermatch &lt;dbl&gt; | DonorABO &lt;dbl&gt; | RecipientABO &lt;chr&gt; | RecipientRh &lt;chr&gt; | ⋯ ⋯ | extcGvHD &lt;chr&gt; | CD34kgx10d6 &lt;dbl&gt; | CD3dCD34 &lt;chr&gt; | CD3dkgx10d8 &lt;chr&gt; | Rbodymass &lt;chr&gt; | ANCrecovery &lt;dbl&gt; | PLTrecovery &lt;dbl&gt; | time_to_aGvHD_III_IV &lt;dbl&gt; | survival_time &lt;dbl&gt; | survival_status &lt;dbl&gt; |\n",
       "|---|---|---|---|---|---|---|---|---|---|---|---|---|---|---|---|---|---|---|---|---|\n",
       "| 1 | 1 | 1 | 22.83014 | 0 | 1 | 0 |  1 | 1  | 1 | ⋯ | 1 |  7.20 | 1.33876   | 5.38  | 35   | 19 | 51 |      32 |  999 | 0 |\n",
       "| 2 | 1 | 0 | 23.34247 | 0 | 1 | 0 | -1 | -1 | 1 | ⋯ | 1 |  4.50 | 11.078295 | 0.41  | 20.6 | 16 | 37 | 1000000 |  163 | 1 |\n",
       "| 3 | 1 | 0 | 26.39452 | 0 | 1 | 0 | -1 | -1 | 1 | ⋯ | 1 |  7.94 | 19.01323  | 0.42  | 23.4 | 23 | 20 | 1000000 |  435 | 1 |\n",
       "| 4 | 0 | 0 | 39.68493 | 1 | 1 | 0 |  1 | 2  | 1 | ⋯ | ? |  4.25 | 29.481647 | 0.14  | 50   | 23 | 29 |      19 |   53 | 1 |\n",
       "| 5 | 0 | 1 | 33.35890 | 0 | 0 | 0 |  1 | 2  | 0 | ⋯ | 1 | 51.85 | 3.972255  | 13.05 | 9    | 14 | 14 | 1000000 | 2043 | 0 |\n",
       "| 6 | 1 | 0 | 27.39178 | 0 | 0 | 0 |  2 | 0  | 1 | ⋯ | 1 |  3.27 | 8.412758  | 0.39  | 40   | 16 | 70 | 1000000 | 2800 | 0 |\n",
       "\n"
      ],
      "text/plain": [
       "  id Recipientgender Stemcellsource Donorage Donorage35 IIIV Gendermatch\n",
       "1 1  1               1              22.83014 0          1    0          \n",
       "2 2  1               0              23.34247 0          1    0          \n",
       "3 3  1               0              26.39452 0          1    0          \n",
       "4 4  0               0              39.68493 1          1    0          \n",
       "5 5  0               1              33.35890 0          0    0          \n",
       "6 6  1               0              27.39178 0          0    0          \n",
       "  DonorABO RecipientABO RecipientRh ⋯ extcGvHD CD34kgx10d6 CD3dCD34 \n",
       "1  1       1            1           ⋯ 1         7.20       1.33876  \n",
       "2 -1       -1           1           ⋯ 1         4.50       11.078295\n",
       "3 -1       -1           1           ⋯ 1         7.94       19.01323 \n",
       "4  1       2            1           ⋯ ?         4.25       29.481647\n",
       "5  1       2            0           ⋯ 1        51.85       3.972255 \n",
       "6  2       0            1           ⋯ 1         3.27       8.412758 \n",
       "  CD3dkgx10d8 Rbodymass ANCrecovery PLTrecovery time_to_aGvHD_III_IV\n",
       "1 5.38        35        19          51               32             \n",
       "2 0.41        20.6      16          37          1000000             \n",
       "3 0.42        23.4      23          20          1000000             \n",
       "4 0.14        50        23          29               19             \n",
       "5 13.05       9         14          14          1000000             \n",
       "6 0.39        40        16          70          1000000             \n",
       "  survival_time survival_status\n",
       "1  999          0              \n",
       "2  163          1              \n",
       "3  435          1              \n",
       "4   53          1              \n",
       "5 2043          0              \n",
       "6 2800          0              "
      ]
     },
     "metadata": {},
     "output_type": "display_data"
    },
    {
     "data": {
      "text/html": [
       "<style>\n",
       ".list-inline {list-style: none; margin:0; padding: 0}\n",
       ".list-inline>li {display: inline-block}\n",
       ".list-inline>li:not(:last-child)::after {content: \"\\00b7\"; padding: 0 .5ex}\n",
       "</style>\n",
       "<ol class=list-inline><li>'id'</li><li>'Recipientgender'</li><li>'Stemcellsource'</li><li>'Donorage'</li><li>'Donorage35'</li><li>'IIIV'</li><li>'Gendermatch'</li><li>'DonorABO'</li><li>'RecipientABO'</li><li>'RecipientRh'</li><li>'ABOmatch'</li><li>'CMVstatus'</li><li>'DonorCMV'</li><li>'RecipientCMV'</li><li>'Disease'</li><li>'Riskgroup'</li><li>'Txpostrelapse'</li><li>'Diseasegroup'</li><li>'HLAmatch'</li><li>'HLAmismatch'</li><li>'Antigen'</li><li>'Alel'</li><li>'HLAgrI'</li><li>'Recipientage'</li><li>'Recipientage10'</li><li>'Recipientageint'</li><li>'Relapse'</li><li>'aGvHDIIIIV'</li><li>'extcGvHD'</li><li>'CD34kgx10d6'</li><li>'CD3dCD34'</li><li>'CD3dkgx10d8'</li><li>'Rbodymass'</li><li>'ANCrecovery'</li><li>'PLTrecovery'</li><li>'time_to_aGvHD_III_IV'</li><li>'survival_time'</li><li>'survival_status'</li></ol>\n"
      ],
      "text/latex": [
       "\\begin{enumerate*}\n",
       "\\item 'id'\n",
       "\\item 'Recipientgender'\n",
       "\\item 'Stemcellsource'\n",
       "\\item 'Donorage'\n",
       "\\item 'Donorage35'\n",
       "\\item 'IIIV'\n",
       "\\item 'Gendermatch'\n",
       "\\item 'DonorABO'\n",
       "\\item 'RecipientABO'\n",
       "\\item 'RecipientRh'\n",
       "\\item 'ABOmatch'\n",
       "\\item 'CMVstatus'\n",
       "\\item 'DonorCMV'\n",
       "\\item 'RecipientCMV'\n",
       "\\item 'Disease'\n",
       "\\item 'Riskgroup'\n",
       "\\item 'Txpostrelapse'\n",
       "\\item 'Diseasegroup'\n",
       "\\item 'HLAmatch'\n",
       "\\item 'HLAmismatch'\n",
       "\\item 'Antigen'\n",
       "\\item 'Alel'\n",
       "\\item 'HLAgrI'\n",
       "\\item 'Recipientage'\n",
       "\\item 'Recipientage10'\n",
       "\\item 'Recipientageint'\n",
       "\\item 'Relapse'\n",
       "\\item 'aGvHDIIIIV'\n",
       "\\item 'extcGvHD'\n",
       "\\item 'CD34kgx10d6'\n",
       "\\item 'CD3dCD34'\n",
       "\\item 'CD3dkgx10d8'\n",
       "\\item 'Rbodymass'\n",
       "\\item 'ANCrecovery'\n",
       "\\item 'PLTrecovery'\n",
       "\\item 'time\\_to\\_aGvHD\\_III\\_IV'\n",
       "\\item 'survival\\_time'\n",
       "\\item 'survival\\_status'\n",
       "\\end{enumerate*}\n"
      ],
      "text/markdown": [
       "1. 'id'\n",
       "2. 'Recipientgender'\n",
       "3. 'Stemcellsource'\n",
       "4. 'Donorage'\n",
       "5. 'Donorage35'\n",
       "6. 'IIIV'\n",
       "7. 'Gendermatch'\n",
       "8. 'DonorABO'\n",
       "9. 'RecipientABO'\n",
       "10. 'RecipientRh'\n",
       "11. 'ABOmatch'\n",
       "12. 'CMVstatus'\n",
       "13. 'DonorCMV'\n",
       "14. 'RecipientCMV'\n",
       "15. 'Disease'\n",
       "16. 'Riskgroup'\n",
       "17. 'Txpostrelapse'\n",
       "18. 'Diseasegroup'\n",
       "19. 'HLAmatch'\n",
       "20. 'HLAmismatch'\n",
       "21. 'Antigen'\n",
       "22. 'Alel'\n",
       "23. 'HLAgrI'\n",
       "24. 'Recipientage'\n",
       "25. 'Recipientage10'\n",
       "26. 'Recipientageint'\n",
       "27. 'Relapse'\n",
       "28. 'aGvHDIIIIV'\n",
       "29. 'extcGvHD'\n",
       "30. 'CD34kgx10d6'\n",
       "31. 'CD3dCD34'\n",
       "32. 'CD3dkgx10d8'\n",
       "33. 'Rbodymass'\n",
       "34. 'ANCrecovery'\n",
       "35. 'PLTrecovery'\n",
       "36. 'time_to_aGvHD_III_IV'\n",
       "37. 'survival_time'\n",
       "38. 'survival_status'\n",
       "\n",
       "\n"
      ],
      "text/plain": [
       " [1] \"id\"                   \"Recipientgender\"      \"Stemcellsource\"      \n",
       " [4] \"Donorage\"             \"Donorage35\"           \"IIIV\"                \n",
       " [7] \"Gendermatch\"          \"DonorABO\"             \"RecipientABO\"        \n",
       "[10] \"RecipientRh\"          \"ABOmatch\"             \"CMVstatus\"           \n",
       "[13] \"DonorCMV\"             \"RecipientCMV\"         \"Disease\"             \n",
       "[16] \"Riskgroup\"            \"Txpostrelapse\"        \"Diseasegroup\"        \n",
       "[19] \"HLAmatch\"             \"HLAmismatch\"          \"Antigen\"             \n",
       "[22] \"Alel\"                 \"HLAgrI\"               \"Recipientage\"        \n",
       "[25] \"Recipientage10\"       \"Recipientageint\"      \"Relapse\"             \n",
       "[28] \"aGvHDIIIIV\"           \"extcGvHD\"             \"CD34kgx10d6\"         \n",
       "[31] \"CD3dCD34\"             \"CD3dkgx10d8\"          \"Rbodymass\"           \n",
       "[34] \"ANCrecovery\"          \"PLTrecovery\"          \"time_to_aGvHD_III_IV\"\n",
       "[37] \"survival_time\"        \"survival_status\"     "
      ]
     },
     "metadata": {},
     "output_type": "display_data"
    },
    {
     "name": "stdout",
     "output_type": "stream",
     "text": [
      "Rows: 187\n",
      "Columns: 38\n",
      "$ id                   \u001b[3m\u001b[90m<dbl>\u001b[39m\u001b[23m 1, 2, 3, 4, 5, 6, 7, 8, 9, 10, 11, 12, 13, 14, 15…\n",
      "$ Recipientgender      \u001b[3m\u001b[90m<dbl>\u001b[39m\u001b[23m 1, 1, 1, 0, 0, 1, 0, 1, 1, 1, 0, 0, 1, 1, 1, 1, 1…\n",
      "$ Stemcellsource       \u001b[3m\u001b[90m<dbl>\u001b[39m\u001b[23m 1, 0, 0, 0, 1, 0, 1, 0, 1, 1, 1, 1, 1, 0, 1, 0, 1…\n",
      "$ Donorage             \u001b[3m\u001b[90m<dbl>\u001b[39m\u001b[23m 22.83014, 23.34247, 26.39452, 39.68493, 33.35890,…\n",
      "$ Donorage35           \u001b[3m\u001b[90m<dbl>\u001b[39m\u001b[23m 0, 0, 0, 1, 0, 0, 0, 0, 0, 0, 0, 1, 1, 0, 0, 1, 1…\n",
      "$ IIIV                 \u001b[3m\u001b[90m<dbl>\u001b[39m\u001b[23m 1, 1, 1, 1, 0, 0, 1, 1, 0, 1, 0, 1, 0, 1, 1, 0, 1…\n",
      "$ Gendermatch          \u001b[3m\u001b[90m<dbl>\u001b[39m\u001b[23m 0, 0, 0, 0, 0, 0, 0, 0, 0, 1, 0, 0, 0, 0, 0, 0, 0…\n",
      "$ DonorABO             \u001b[3m\u001b[90m<dbl>\u001b[39m\u001b[23m 1, -1, -1, 1, 1, 2, 0, 0, 2, 1, 0, 1, 0, 0, 1, 0,…\n",
      "$ RecipientABO         \u001b[3m\u001b[90m<chr>\u001b[39m\u001b[23m \"1\", \"-1\", \"-1\", \"2\", \"2\", \"0\", \"1\", \"1\", \"0\", \"0…\n",
      "$ RecipientRh          \u001b[3m\u001b[90m<chr>\u001b[39m\u001b[23m \"1\", \"1\", \"1\", \"1\", \"0\", \"1\", \"0\", \"1\", \"1\", \"1\",…\n",
      "$ ABOmatch             \u001b[3m\u001b[90m<chr>\u001b[39m\u001b[23m \"0\", \"0\", \"0\", \"1\", \"1\", \"1\", \"1\", \"1\", \"1\", \"1\",…\n",
      "$ CMVstatus            \u001b[3m\u001b[90m<chr>\u001b[39m\u001b[23m \"3\", \"0\", \"2\", \"1\", \"0\", \"?\", \"?\", \"1\", \"2\", \"2\",…\n",
      "$ DonorCMV             \u001b[3m\u001b[90m<chr>\u001b[39m\u001b[23m \"1\", \"0\", \"0\", \"1\", \"0\", \"?\", \"0\", \"1\", \"0\", \"0\",…\n",
      "$ RecipientCMV         \u001b[3m\u001b[90m<chr>\u001b[39m\u001b[23m \"1\", \"0\", \"1\", \"0\", \"1\", \"1\", \"?\", \"0\", \"1\", \"1\",…\n",
      "$ Disease              \u001b[3m\u001b[90m<chr>\u001b[39m\u001b[23m \"ALL\", \"ALL\", \"ALL\", \"AML\", \"chronic\", \"chronic\",…\n",
      "$ Riskgroup            \u001b[3m\u001b[90m<dbl>\u001b[39m\u001b[23m 1, 0, 0, 0, 1, 1, 0, 0, 0, 0, 1, 1, 0, 1, 1, 1, 0…\n",
      "$ Txpostrelapse        \u001b[3m\u001b[90m<dbl>\u001b[39m\u001b[23m 0, 0, 0, 0, 0, 1, 0, 0, 0, 0, 0, 0, 0, 0, 0, 0, 0…\n",
      "$ Diseasegroup         \u001b[3m\u001b[90m<dbl>\u001b[39m\u001b[23m 1, 1, 1, 1, 1, 1, 1, 0, 0, 0, 1, 1, 1, 1, 1, 1, 1…\n",
      "$ HLAmatch             \u001b[3m\u001b[90m<dbl>\u001b[39m\u001b[23m 0, 0, 0, 0, 1, 0, 0, 3, 0, 1, 1, 2, 0, 0, 0, 1, 1…\n",
      "$ HLAmismatch          \u001b[3m\u001b[90m<dbl>\u001b[39m\u001b[23m 0, 0, 0, 0, 0, 0, 0, 1, 0, 0, 0, 1, 0, 0, 0, 0, 0…\n",
      "$ Antigen              \u001b[3m\u001b[90m<chr>\u001b[39m\u001b[23m \"-1\", \"-1\", \"-1\", \"-1\", \"1\", \"-1\", \"-1\", \"1\", \"-1…\n",
      "$ Alel                 \u001b[3m\u001b[90m<chr>\u001b[39m\u001b[23m \"-1\", \"-1\", \"-1\", \"-1\", \"0\", \"-1\", \"-1\", \"2\", \"-1…\n",
      "$ HLAgrI               \u001b[3m\u001b[90m<dbl>\u001b[39m\u001b[23m 0, 0, 0, 0, 1, 0, 0, 7, 0, 3, 2, 4, 0, 0, 0, 1, 2…\n",
      "$ Recipientage         \u001b[3m\u001b[90m<dbl>\u001b[39m\u001b[23m 9.6, 4.0, 6.6, 18.1, 1.3, 8.9, 14.4, 18.2, 7.9, 4…\n",
      "$ Recipientage10       \u001b[3m\u001b[90m<dbl>\u001b[39m\u001b[23m 0, 0, 0, 1, 0, 0, 1, 1, 0, 0, 0, 1, 0, 1, 1, 1, 1…\n",
      "$ Recipientageint      \u001b[3m\u001b[90m<dbl>\u001b[39m\u001b[23m 1, 0, 1, 2, 0, 1, 2, 2, 1, 0, 0, 2, 1, 2, 2, 2, 2…\n",
      "$ Relapse              \u001b[3m\u001b[90m<dbl>\u001b[39m\u001b[23m 0, 1, 1, 0, 0, 0, 0, 0, 0, 0, 0, 0, 0, 1, 0, 0, 0…\n",
      "$ aGvHDIIIIV           \u001b[3m\u001b[90m<dbl>\u001b[39m\u001b[23m 0, 1, 1, 0, 1, 1, 0, 0, 1, 1, 1, 1, 1, 1, 1, 1, 1…\n",
      "$ extcGvHD             \u001b[3m\u001b[90m<chr>\u001b[39m\u001b[23m \"1\", \"1\", \"1\", \"?\", \"1\", \"1\", \"?\", \"?\", \"1\", \"1\",…\n",
      "$ CD34kgx10d6          \u001b[3m\u001b[90m<dbl>\u001b[39m\u001b[23m 7.20, 4.50, 7.94, 4.25, 51.85, 3.27, 17.78, 6.41,…\n",
      "$ CD3dCD34             \u001b[3m\u001b[90m<chr>\u001b[39m\u001b[23m \"1.33876\", \"11.078295\", \"19.01323\", \"29.481647\", …\n",
      "$ CD3dkgx10d8          \u001b[3m\u001b[90m<chr>\u001b[39m\u001b[23m \"5.38\", \"0.41\", \"0.42\", \"0.14\", \"13.05\", \"0.39\", …\n",
      "$ Rbodymass            \u001b[3m\u001b[90m<chr>\u001b[39m\u001b[23m \"35\", \"20.6\", \"23.4\", \"50\", \"9\", \"40\", \"51\", \"56\"…\n",
      "$ ANCrecovery          \u001b[3m\u001b[90m<dbl>\u001b[39m\u001b[23m 19, 16, 23, 23, 14, 16, 17, 22, 15, 16, 12, 11, 1…\n",
      "$ PLTrecovery          \u001b[3m\u001b[90m<dbl>\u001b[39m\u001b[23m 51, 37, 20, 29, 14, 70, 29, 58, 14, 17, 13, 16, 3…\n",
      "$ time_to_aGvHD_III_IV \u001b[3m\u001b[90m<dbl>\u001b[39m\u001b[23m 32, 1000000, 1000000, 19, 1000000, 1000000, 18, 2…\n",
      "$ survival_time        \u001b[3m\u001b[90m<dbl>\u001b[39m\u001b[23m 999, 163, 435, 53, 2043, 2800, 41, 45, 671, 676, …\n",
      "$ survival_status      \u001b[3m\u001b[90m<dbl>\u001b[39m\u001b[23m 0, 1, 1, 1, 0, 0, 1, 1, 0, 0, 0, 0, 0, 1, 0, 0, 1…\n"
     ]
    }
   ],
   "source": [
    "# look through the dataset to see what type of variables we have\n",
    "bone_data <- read_csv(\"data/boneMarrow.csv\")\n",
    "head(bone_data)\n",
    "colnames(bone_data)\n",
    "glimpse(bone_data)"
   ]
  },
  {
   "cell_type": "markdown",
   "id": "67216e13-3876-4157-a6c9-f87625b82bd7",
   "metadata": {
    "tags": []
   },
   "source": [
    "# Part 1: Original data visualization (proposal)"
   ]
  },
  {
   "cell_type": "code",
   "execution_count": 188,
   "id": "8ab57b09-5f8e-4200-be30-6c99e9981dd8",
   "metadata": {},
   "outputs": [
    {
     "data": {
      "text/html": [
       "<table class=\"dataframe\">\n",
       "<caption>A tibble: 187 × 8</caption>\n",
       "<thead>\n",
       "\t<tr><th scope=col>Donorage</th><th scope=col>ABOmatch</th><th scope=col>Recipientage</th><th scope=col>DonorABO</th><th scope=col>RecipientABO</th><th scope=col>Relapse</th><th scope=col>survival_time</th><th scope=col>survival_status</th></tr>\n",
       "\t<tr><th scope=col>&lt;dbl&gt;</th><th scope=col>&lt;chr&gt;</th><th scope=col>&lt;dbl&gt;</th><th scope=col>&lt;dbl&gt;</th><th scope=col>&lt;chr&gt;</th><th scope=col>&lt;dbl&gt;</th><th scope=col>&lt;dbl&gt;</th><th scope=col>&lt;fct&gt;</th></tr>\n",
       "</thead>\n",
       "<tbody>\n",
       "\t<tr><td>22.83014</td><td>0</td><td>9.6</td><td> 1</td><td>1 </td><td>0</td><td>999</td><td>0</td></tr>\n",
       "\t<tr><td>23.34247</td><td>0</td><td>4.0</td><td>-1</td><td>-1</td><td>1</td><td>163</td><td>1</td></tr>\n",
       "\t<tr><td>26.39452</td><td>0</td><td>6.6</td><td>-1</td><td>-1</td><td>1</td><td>435</td><td>1</td></tr>\n",
       "\t<tr><td>⋮</td><td>⋮</td><td>⋮</td><td>⋮</td><td>⋮</td><td>⋮</td><td>⋮</td><td>⋮</td></tr>\n",
       "\t<tr><td>27.34794</td><td>1</td><td>10.4</td><td>1</td><td>-1</td><td>0</td><td>1895</td><td>0</td></tr>\n",
       "\t<tr><td>27.78082</td><td>1</td><td> 8.0</td><td>1</td><td>0 </td><td>0</td><td> 382</td><td>1</td></tr>\n",
       "\t<tr><td>55.55342</td><td>1</td><td> 9.5</td><td>1</td><td>2 </td><td>0</td><td>1109</td><td>0</td></tr>\n",
       "</tbody>\n",
       "</table>\n"
      ],
      "text/latex": [
       "A tibble: 187 × 8\n",
       "\\begin{tabular}{llllllll}\n",
       " Donorage & ABOmatch & Recipientage & DonorABO & RecipientABO & Relapse & survival\\_time & survival\\_status\\\\\n",
       " <dbl> & <chr> & <dbl> & <dbl> & <chr> & <dbl> & <dbl> & <fct>\\\\\n",
       "\\hline\n",
       "\t 22.83014 & 0 & 9.6 &  1 & 1  & 0 & 999 & 0\\\\\n",
       "\t 23.34247 & 0 & 4.0 & -1 & -1 & 1 & 163 & 1\\\\\n",
       "\t 26.39452 & 0 & 6.6 & -1 & -1 & 1 & 435 & 1\\\\\n",
       "\t ⋮ & ⋮ & ⋮ & ⋮ & ⋮ & ⋮ & ⋮ & ⋮\\\\\n",
       "\t 27.34794 & 1 & 10.4 & 1 & -1 & 0 & 1895 & 0\\\\\n",
       "\t 27.78082 & 1 &  8.0 & 1 & 0  & 0 &  382 & 1\\\\\n",
       "\t 55.55342 & 1 &  9.5 & 1 & 2  & 0 & 1109 & 0\\\\\n",
       "\\end{tabular}\n"
      ],
      "text/markdown": [
       "\n",
       "A tibble: 187 × 8\n",
       "\n",
       "| Donorage &lt;dbl&gt; | ABOmatch &lt;chr&gt; | Recipientage &lt;dbl&gt; | DonorABO &lt;dbl&gt; | RecipientABO &lt;chr&gt; | Relapse &lt;dbl&gt; | survival_time &lt;dbl&gt; | survival_status &lt;fct&gt; |\n",
       "|---|---|---|---|---|---|---|---|\n",
       "| 22.83014 | 0 | 9.6 |  1 | 1  | 0 | 999 | 0 |\n",
       "| 23.34247 | 0 | 4.0 | -1 | -1 | 1 | 163 | 1 |\n",
       "| 26.39452 | 0 | 6.6 | -1 | -1 | 1 | 435 | 1 |\n",
       "| ⋮ | ⋮ | ⋮ | ⋮ | ⋮ | ⋮ | ⋮ | ⋮ |\n",
       "| 27.34794 | 1 | 10.4 | 1 | -1 | 0 | 1895 | 0 |\n",
       "| 27.78082 | 1 |  8.0 | 1 | 0  | 0 |  382 | 1 |\n",
       "| 55.55342 | 1 |  9.5 | 1 | 2  | 0 | 1109 | 0 |\n",
       "\n"
      ],
      "text/plain": [
       "    Donorage ABOmatch Recipientage DonorABO RecipientABO Relapse survival_time\n",
       "1   22.83014 0        9.6           1       1            0       999          \n",
       "2   23.34247 0        4.0          -1       -1           1       163          \n",
       "3   26.39452 0        6.6          -1       -1           1       435          \n",
       "⋮   ⋮        ⋮        ⋮            ⋮        ⋮            ⋮       ⋮            \n",
       "185 27.34794 1        10.4         1        -1           0       1895         \n",
       "186 27.78082 1         8.0         1        0            0        382         \n",
       "187 55.55342 1         9.5         1        2            0       1109         \n",
       "    survival_status\n",
       "1   0              \n",
       "2   1              \n",
       "3   1              \n",
       "⋮   ⋮              \n",
       "185 0              \n",
       "186 1              \n",
       "187 0              "
      ]
     },
     "metadata": {},
     "output_type": "display_data"
    }
   ],
   "source": [
    "# select only the data related to blood type and age\n",
    "bone_selected <- bone_data |>\n",
    "select(Donorage, ABOmatch, Recipientage, DonorABO, RecipientABO, Relapse, survival_time, survival_status)|>\n",
    "mutate(survival_status = as_factor(survival_status))\n",
    "bone_selected"
   ]
  },
  {
   "cell_type": "code",
   "execution_count": 189,
   "id": "39241a6d-cfe3-4957-91f6-9d11040f4895",
   "metadata": {},
   "outputs": [
    {
     "data": {
      "text/html": [
       "<table class=\"dataframe\">\n",
       "<caption>A tibble: 2 × 2</caption>\n",
       "<thead>\n",
       "\t<tr><th scope=col>survival_status</th><th scope=col>count</th></tr>\n",
       "\t<tr><th scope=col>&lt;fct&gt;</th><th scope=col>&lt;int&gt;</th></tr>\n",
       "</thead>\n",
       "<tbody>\n",
       "\t<tr><td>0</td><td>102</td></tr>\n",
       "\t<tr><td>1</td><td> 85</td></tr>\n",
       "</tbody>\n",
       "</table>\n"
      ],
      "text/latex": [
       "A tibble: 2 × 2\n",
       "\\begin{tabular}{ll}\n",
       " survival\\_status & count\\\\\n",
       " <fct> & <int>\\\\\n",
       "\\hline\n",
       "\t 0 & 102\\\\\n",
       "\t 1 &  85\\\\\n",
       "\\end{tabular}\n"
      ],
      "text/markdown": [
       "\n",
       "A tibble: 2 × 2\n",
       "\n",
       "| survival_status &lt;fct&gt; | count &lt;int&gt; |\n",
       "|---|---|\n",
       "| 0 | 102 |\n",
       "| 1 |  85 |\n",
       "\n"
      ],
      "text/plain": [
       "  survival_status count\n",
       "1 0               102  \n",
       "2 1                85  "
      ]
     },
     "metadata": {},
     "output_type": "display_data"
    },
    {
     "data": {
      "text/html": [
       "<table class=\"dataframe\">\n",
       "<caption>A tibble: 2 × 2</caption>\n",
       "<thead>\n",
       "\t<tr><th scope=col>survival_status</th><th scope=col>count</th></tr>\n",
       "\t<tr><th scope=col>&lt;fct&gt;</th><th scope=col>&lt;int&gt;</th></tr>\n",
       "</thead>\n",
       "<tbody>\n",
       "\t<tr><td>0</td><td>71</td></tr>\n",
       "\t<tr><td>1</td><td>59</td></tr>\n",
       "</tbody>\n",
       "</table>\n"
      ],
      "text/latex": [
       "A tibble: 2 × 2\n",
       "\\begin{tabular}{ll}\n",
       " survival\\_status & count\\\\\n",
       " <fct> & <int>\\\\\n",
       "\\hline\n",
       "\t 0 & 71\\\\\n",
       "\t 1 & 59\\\\\n",
       "\\end{tabular}\n"
      ],
      "text/markdown": [
       "\n",
       "A tibble: 2 × 2\n",
       "\n",
       "| survival_status &lt;fct&gt; | count &lt;int&gt; |\n",
       "|---|---|\n",
       "| 0 | 71 |\n",
       "| 1 | 59 |\n",
       "\n"
      ],
      "text/plain": [
       "  survival_status count\n",
       "1 0               71   \n",
       "2 1               59   "
      ]
     },
     "metadata": {},
     "output_type": "display_data"
    }
   ],
   "source": [
    "# see the summary of our database\n",
    "survival_summarize <- bone_selected |>\n",
    "group_by(survival_status) |>\n",
    "summarize(count=n())\n",
    "\n",
    "set.seed(1)\n",
    "bone_split <- initial_split(bone_selected, prop=0.7, strata=survival_status)\n",
    "bone_train <- training(bone_split)\n",
    "bone_test <- testing(bone_split)\n",
    "train_summarize <- bone_train |>\n",
    "group_by(survival_status) |>\n",
    "summarize(count=n())\n",
    "\n",
    "survival_summarize\n",
    "train_summarize"
   ]
  },
  {
   "cell_type": "markdown",
   "id": "680a4f41-9248-4f77-a012-04be2dbf6529",
   "metadata": {},
   "source": [
    "## Age analysis"
   ]
  },
  {
   "cell_type": "code",
   "execution_count": 190,
   "id": "b5c47925-3c62-49f7-9fb4-a584070aa293",
   "metadata": {},
   "outputs": [
    {
     "data": {
      "text/html": [
       "<table class=\"dataframe\">\n",
       "<caption>A tibble: 130 × 8</caption>\n",
       "<thead>\n",
       "\t<tr><th scope=col>Donorage</th><th scope=col>Recipientage</th><th scope=col>Relapse</th><th scope=col>survival_time</th><th scope=col>survival_status</th><th scope=col>age_diff</th><th scope=col>DonorAgeGroup</th><th scope=col>RecipientAgeGroup</th></tr>\n",
       "\t<tr><th scope=col>&lt;dbl&gt;</th><th scope=col>&lt;dbl&gt;</th><th scope=col>&lt;dbl&gt;</th><th scope=col>&lt;dbl&gt;</th><th scope=col>&lt;fct&gt;</th><th scope=col>&lt;dbl&gt;</th><th scope=col>&lt;fct&gt;</th><th scope=col>&lt;fct&gt;</th></tr>\n",
       "</thead>\n",
       "<tbody>\n",
       "\t<tr><td>22.83014</td><td>9.6</td><td>0</td><td> 999</td><td>0</td><td>13.23014</td><td>20-25</td><td>5-10</td></tr>\n",
       "\t<tr><td>33.35890</td><td>1.3</td><td>0</td><td>2043</td><td>0</td><td>32.05890</td><td>30-35</td><td><span style=white-space:pre-wrap>&lt;5  </span></td></tr>\n",
       "\t<tr><td>29.73151</td><td>1.9</td><td>0</td><td> 599</td><td>0</td><td>27.83151</td><td>25-30</td><td><span style=white-space:pre-wrap>&lt;5  </span></td></tr>\n",
       "\t<tr><td>⋮</td><td>⋮</td><td>⋮</td><td>⋮</td><td>⋮</td><td>⋮</td><td>⋮</td><td>⋮</td></tr>\n",
       "\t<tr><td>37.57534</td><td>12.9</td><td>1</td><td>385</td><td>1</td><td>24.67534</td><td>35+  </td><td>10-15</td></tr>\n",
       "\t<tr><td>22.89589</td><td>13.9</td><td>0</td><td>634</td><td>1</td><td> 8.99589</td><td>20-25</td><td>10-15</td></tr>\n",
       "\t<tr><td>27.78082</td><td> 8.0</td><td>0</td><td>382</td><td>1</td><td>19.78082</td><td>25-30</td><td>5-10 </td></tr>\n",
       "</tbody>\n",
       "</table>\n"
      ],
      "text/latex": [
       "A tibble: 130 × 8\n",
       "\\begin{tabular}{llllllll}\n",
       " Donorage & Recipientage & Relapse & survival\\_time & survival\\_status & age\\_diff & DonorAgeGroup & RecipientAgeGroup\\\\\n",
       " <dbl> & <dbl> & <dbl> & <dbl> & <fct> & <dbl> & <fct> & <fct>\\\\\n",
       "\\hline\n",
       "\t 22.83014 & 9.6 & 0 &  999 & 0 & 13.23014 & 20-25 & 5-10\\\\\n",
       "\t 33.35890 & 1.3 & 0 & 2043 & 0 & 32.05890 & 30-35 & <5  \\\\\n",
       "\t 29.73151 & 1.9 & 0 &  599 & 0 & 27.83151 & 25-30 & <5  \\\\\n",
       "\t ⋮ & ⋮ & ⋮ & ⋮ & ⋮ & ⋮ & ⋮ & ⋮\\\\\n",
       "\t 37.57534 & 12.9 & 1 & 385 & 1 & 24.67534 & 35+   & 10-15\\\\\n",
       "\t 22.89589 & 13.9 & 0 & 634 & 1 &  8.99589 & 20-25 & 10-15\\\\\n",
       "\t 27.78082 &  8.0 & 0 & 382 & 1 & 19.78082 & 25-30 & 5-10 \\\\\n",
       "\\end{tabular}\n"
      ],
      "text/markdown": [
       "\n",
       "A tibble: 130 × 8\n",
       "\n",
       "| Donorage &lt;dbl&gt; | Recipientage &lt;dbl&gt; | Relapse &lt;dbl&gt; | survival_time &lt;dbl&gt; | survival_status &lt;fct&gt; | age_diff &lt;dbl&gt; | DonorAgeGroup &lt;fct&gt; | RecipientAgeGroup &lt;fct&gt; |\n",
       "|---|---|---|---|---|---|---|---|\n",
       "| 22.83014 | 9.6 | 0 |  999 | 0 | 13.23014 | 20-25 | 5-10 |\n",
       "| 33.35890 | 1.3 | 0 | 2043 | 0 | 32.05890 | 30-35 | &lt;5   |\n",
       "| 29.73151 | 1.9 | 0 |  599 | 0 | 27.83151 | 25-30 | &lt;5   |\n",
       "| ⋮ | ⋮ | ⋮ | ⋮ | ⋮ | ⋮ | ⋮ | ⋮ |\n",
       "| 37.57534 | 12.9 | 1 | 385 | 1 | 24.67534 | 35+   | 10-15 |\n",
       "| 22.89589 | 13.9 | 0 | 634 | 1 |  8.99589 | 20-25 | 10-15 |\n",
       "| 27.78082 |  8.0 | 0 | 382 | 1 | 19.78082 | 25-30 | 5-10  |\n",
       "\n"
      ],
      "text/plain": [
       "    Donorage Recipientage Relapse survival_time survival_status age_diff\n",
       "1   22.83014 9.6          0        999          0               13.23014\n",
       "2   33.35890 1.3          0       2043          0               32.05890\n",
       "3   29.73151 1.9          0        599          0               27.83151\n",
       "⋮   ⋮        ⋮            ⋮       ⋮             ⋮               ⋮       \n",
       "128 37.57534 12.9         1       385           1               24.67534\n",
       "129 22.89589 13.9         0       634           1                8.99589\n",
       "130 27.78082  8.0         0       382           1               19.78082\n",
       "    DonorAgeGroup RecipientAgeGroup\n",
       "1   20-25         5-10             \n",
       "2   30-35         <5               \n",
       "3   25-30         <5               \n",
       "⋮   ⋮             ⋮                \n",
       "128 35+           10-15            \n",
       "129 20-25         10-15            \n",
       "130 25-30         5-10             "
      ]
     },
     "metadata": {},
     "output_type": "display_data"
    }
   ],
   "source": [
    "bone_age <- bone_train |>\n",
    "select(Donorage,Recipientage,Relapse,survival_time,survival_status)|>\n",
    "mutate(age_diff = Donorage-Recipientage)|>\n",
    "mutate(DonorAgeGroup = cut(Donorage, breaks = c(0,5,10,15,20,25,30,35,100),\n",
    "              labels=c(\"<5\",\"5-10\",\"10-15\",\"15-20\",\"20-25\",\"25-30\",\"30-35\",\"35+\")))|>\n",
    "mutate(RecipientAgeGroup = cut(Recipientage, breaks = c(0,5,10,15,20,25,30,35,100),\n",
    "              labels=c(\"<5\",\"5-10\",\"10-15\",\"15-20\",\"20-25\",\"25-30\",\"30-35\",\"35+\")))\n",
    "bone_age"
   ]
  },
  {
   "cell_type": "code",
   "execution_count": 191,
   "id": "6f448f4c-accd-45e7-a296-1760af518165",
   "metadata": {},
   "outputs": [
    {
     "data": {
      "text/html": [
       "<table class=\"dataframe\">\n",
       "<caption>A tibble: 5 × 2</caption>\n",
       "<thead>\n",
       "\t<tr><th scope=col>age</th><th scope=col>RecipientAgeCount</th></tr>\n",
       "\t<tr><th scope=col>&lt;fct&gt;</th><th scope=col>&lt;int&gt;</th></tr>\n",
       "</thead>\n",
       "<tbody>\n",
       "\t<tr><td><span style=white-space:pre-wrap>&lt;5   </span></td><td>35</td></tr>\n",
       "\t<tr><td>5-10 </td><td>31</td></tr>\n",
       "\t<tr><td>10-15</td><td>35</td></tr>\n",
       "\t<tr><td>15-20</td><td>27</td></tr>\n",
       "\t<tr><td>20-25</td><td> 2</td></tr>\n",
       "</tbody>\n",
       "</table>\n"
      ],
      "text/latex": [
       "A tibble: 5 × 2\n",
       "\\begin{tabular}{ll}\n",
       " age & RecipientAgeCount\\\\\n",
       " <fct> & <int>\\\\\n",
       "\\hline\n",
       "\t <5    & 35\\\\\n",
       "\t 5-10  & 31\\\\\n",
       "\t 10-15 & 35\\\\\n",
       "\t 15-20 & 27\\\\\n",
       "\t 20-25 &  2\\\\\n",
       "\\end{tabular}\n"
      ],
      "text/markdown": [
       "\n",
       "A tibble: 5 × 2\n",
       "\n",
       "| age &lt;fct&gt; | RecipientAgeCount &lt;int&gt; |\n",
       "|---|---|\n",
       "| &lt;5    | 35 |\n",
       "| 5-10  | 31 |\n",
       "| 10-15 | 35 |\n",
       "| 15-20 | 27 |\n",
       "| 20-25 |  2 |\n",
       "\n"
      ],
      "text/plain": [
       "  age   RecipientAgeCount\n",
       "1 <5    35               \n",
       "2 5-10  31               \n",
       "3 10-15 35               \n",
       "4 15-20 27               \n",
       "5 20-25  2               "
      ]
     },
     "metadata": {},
     "output_type": "display_data"
    },
    {
     "data": {
      "text/html": [
       "<table class=\"dataframe\">\n",
       "<caption>A tibble: 5 × 2</caption>\n",
       "<thead>\n",
       "\t<tr><th scope=col>age</th><th scope=col>DonorAgeCount</th></tr>\n",
       "\t<tr><th scope=col>&lt;fct&gt;</th><th scope=col>&lt;int&gt;</th></tr>\n",
       "</thead>\n",
       "<tbody>\n",
       "\t<tr><td>15-20</td><td> 3</td></tr>\n",
       "\t<tr><td>20-25</td><td>27</td></tr>\n",
       "\t<tr><td>25-30</td><td>13</td></tr>\n",
       "\t<tr><td>30-35</td><td>27</td></tr>\n",
       "\t<tr><td>35+  </td><td>60</td></tr>\n",
       "</tbody>\n",
       "</table>\n"
      ],
      "text/latex": [
       "A tibble: 5 × 2\n",
       "\\begin{tabular}{ll}\n",
       " age & DonorAgeCount\\\\\n",
       " <fct> & <int>\\\\\n",
       "\\hline\n",
       "\t 15-20 &  3\\\\\n",
       "\t 20-25 & 27\\\\\n",
       "\t 25-30 & 13\\\\\n",
       "\t 30-35 & 27\\\\\n",
       "\t 35+   & 60\\\\\n",
       "\\end{tabular}\n"
      ],
      "text/markdown": [
       "\n",
       "A tibble: 5 × 2\n",
       "\n",
       "| age &lt;fct&gt; | DonorAgeCount &lt;int&gt; |\n",
       "|---|---|\n",
       "| 15-20 |  3 |\n",
       "| 20-25 | 27 |\n",
       "| 25-30 | 13 |\n",
       "| 30-35 | 27 |\n",
       "| 35+   | 60 |\n",
       "\n"
      ],
      "text/plain": [
       "  age   DonorAgeCount\n",
       "1 15-20  3           \n",
       "2 20-25 27           \n",
       "3 25-30 13           \n",
       "4 30-35 27           \n",
       "5 35+   60           "
      ]
     },
     "metadata": {},
     "output_type": "display_data"
    }
   ],
   "source": [
    "Recipient_Age_summarize <- bone_age |>\n",
    "group_by(RecipientAgeGroup)|>\n",
    "summarize(RecipientAgeCount=n())|>\n",
    "rename(age=RecipientAgeGroup)\n",
    "Recipient_Age_summarize \n",
    "\n",
    "Donor_Age_summarize <- bone_age |>\n",
    "group_by(DonorAgeGroup)|>\n",
    "summarize(DonorAgeCount=n())|>\n",
    "rename(age=DonorAgeGroup)\n",
    "Donor_Age_summarize "
   ]
  },
  {
   "cell_type": "code",
   "execution_count": 208,
   "id": "1a7a4394-0840-4a98-985f-6228a8914e4e",
   "metadata": {},
   "outputs": [
    {
     "data": {
      "text/html": [
       "<table class=\"dataframe\">\n",
       "<caption>A tibble: 8 × 3</caption>\n",
       "<thead>\n",
       "\t<tr><th scope=col>age</th><th scope=col>donor_age</th><th scope=col>recipient_age</th></tr>\n",
       "\t<tr><th scope=col>&lt;fct&gt;</th><th scope=col>&lt;int&gt;</th><th scope=col>&lt;int&gt;</th></tr>\n",
       "</thead>\n",
       "<tbody>\n",
       "\t<tr><td><span style=white-space:pre-wrap>&lt;5   </span></td><td>NA</td><td>35</td></tr>\n",
       "\t<tr><td>5-10 </td><td>NA</td><td>31</td></tr>\n",
       "\t<tr><td>10-15</td><td>NA</td><td>35</td></tr>\n",
       "\t<tr><td>15-20</td><td> 3</td><td>27</td></tr>\n",
       "\t<tr><td>20-25</td><td>27</td><td> 2</td></tr>\n",
       "\t<tr><td>25-30</td><td>13</td><td>NA</td></tr>\n",
       "\t<tr><td>30-35</td><td>27</td><td>NA</td></tr>\n",
       "\t<tr><td>35+  </td><td>60</td><td>NA</td></tr>\n",
       "</tbody>\n",
       "</table>\n"
      ],
      "text/latex": [
       "A tibble: 8 × 3\n",
       "\\begin{tabular}{lll}\n",
       " age & donor\\_age & recipient\\_age\\\\\n",
       " <fct> & <int> & <int>\\\\\n",
       "\\hline\n",
       "\t <5    & NA & 35\\\\\n",
       "\t 5-10  & NA & 31\\\\\n",
       "\t 10-15 & NA & 35\\\\\n",
       "\t 15-20 &  3 & 27\\\\\n",
       "\t 20-25 & 27 &  2\\\\\n",
       "\t 25-30 & 13 & NA\\\\\n",
       "\t 30-35 & 27 & NA\\\\\n",
       "\t 35+   & 60 & NA\\\\\n",
       "\\end{tabular}\n"
      ],
      "text/markdown": [
       "\n",
       "A tibble: 8 × 3\n",
       "\n",
       "| age &lt;fct&gt; | donor_age &lt;int&gt; | recipient_age &lt;int&gt; |\n",
       "|---|---|---|\n",
       "| &lt;5    | NA | 35 |\n",
       "| 5-10  | NA | 31 |\n",
       "| 10-15 | NA | 35 |\n",
       "| 15-20 |  3 | 27 |\n",
       "| 20-25 | 27 |  2 |\n",
       "| 25-30 | 13 | NA |\n",
       "| 30-35 | 27 | NA |\n",
       "| 35+   | 60 | NA |\n",
       "\n"
      ],
      "text/plain": [
       "  age   donor_age recipient_age\n",
       "1 <5    NA        35           \n",
       "2 5-10  NA        31           \n",
       "3 10-15 NA        35           \n",
       "4 15-20  3        27           \n",
       "5 20-25 27         2           \n",
       "6 25-30 13        NA           \n",
       "7 30-35 27        NA           \n",
       "8 35+   60        NA           "
      ]
     },
     "metadata": {},
     "output_type": "display_data"
    }
   ],
   "source": [
    "options(tibble.print_max = 8) # to show all the rows.\n",
    "age_summarize <- full_join(x=Donor_Age_summarize,y=Recipient_Age_summarize,by=\"age\")|>\n",
    "arrange(by=age)|>\n",
    "rename(donor_age = DonorAgeCount,recipient_age = RecipientAgeCount)\n",
    "age_summarize"
   ]
  },
  {
   "cell_type": "code",
   "execution_count": 193,
   "id": "5e791de3-1f9a-42f7-bc55-794192bb22df",
   "metadata": {},
   "outputs": [
    {
     "data": {
      "image/png": "[encoded data removed]",
      "text/plain": [
       "plot without title"
      ]
     },
     "metadata": {
      "image/png": {
       "height": 240,
       "width": 600
      }
     },
     "output_type": "display_data"
    },
    {
     "data": {
      "image/png": "[encoded data removed]",
      "text/plain": [
       "plot without title"
      ]
     },
     "metadata": {
      "image/png": {
       "height": 240,
       "width": 600
      }
     },
     "output_type": "display_data"
    },
    {
     "data": {
      "image/png": "[encoded data removed]",
      "text/plain": [
       "plot without title"
      ]
     },
     "metadata": {
      "image/png": {
       "height": 240,
       "width": 600
      }
     },
     "output_type": "display_data"
    }
   ],
   "source": [
    "# visualize the distribution of donor's age, recipient's age, and the difference between donor and recipient's age\n",
    "options(repr.plot.width=10,repr.plot.height=4)\n",
    "age_diff_plot <- bone_age |>\n",
    "ggplot(aes(x=age_diff,fill=survival_status))+\n",
    "geom_histogram(bins=20)+\n",
    "labs(x=\"Age Difference\", y = \"count\",color= \"survival status\")+\n",
    "facet_grid(cols=vars(survival_status))\n",
    "age_diff_plot\n",
    "\n",
    "Donor_age_plot <- bone_age |>\n",
    "ggplot(aes(x=Donorage,fill=survival_status))+\n",
    "geom_histogram(bins=20)+\n",
    "facet_grid(cols=vars(survival_status))+\n",
    "labs(x=\"Donor Age\", y = \"count\",color= \"survival status\")\n",
    "Donor_age_plot\n",
    "\n",
    "Recipient_age_plot <- bone_age |>\n",
    "ggplot(aes(x=Recipientage,fill=survival_status))+\n",
    "geom_histogram(bins=20)+\n",
    "facet_grid(cols=vars(survival_status))+\n",
    "labs(x=\"Recipient Age\", y = \"count\",color= \"survival status\")\n",
    "Recipient_age_plot"
   ]
  },
  {
   "cell_type": "markdown",
   "id": "e5a2b45b-36dc-4efc-ac5b-905ba49d8c13",
   "metadata": {},
   "source": [
    "## Blood visualization"
   ]
  },
  {
   "cell_type": "code",
   "execution_count": 194,
   "id": "abd1befd-f8bc-4f2d-a9e5-892ca0c1a784",
   "metadata": {},
   "outputs": [
    {
     "data": {
      "text/html": [
       "<table class=\"dataframe\">\n",
       "<caption>A tibble: 129 × 5</caption>\n",
       "<thead>\n",
       "\t<tr><th scope=col>DonorABO</th><th scope=col>RecipientABO</th><th scope=col>ABOmatch</th><th scope=col>survival_time</th><th scope=col>survival_status</th></tr>\n",
       "\t<tr><th scope=col>&lt;dbl&gt;</th><th scope=col>&lt;chr&gt;</th><th scope=col>&lt;chr&gt;</th><th scope=col>&lt;dbl&gt;</th><th scope=col>&lt;fct&gt;</th></tr>\n",
       "</thead>\n",
       "<tbody>\n",
       "\t<tr><td>1</td><td>1 </td><td>0</td><td> 999</td><td>0</td></tr>\n",
       "\t<tr><td>1</td><td>2 </td><td>1</td><td>2043</td><td>0</td></tr>\n",
       "\t<tr><td>0</td><td>-1</td><td>1</td><td> 599</td><td>0</td></tr>\n",
       "\t<tr><td>⋮</td><td>⋮</td><td>⋮</td><td>⋮</td><td>⋮</td></tr>\n",
       "\t<tr><td>1</td><td>1</td><td>0</td><td>385</td><td>1</td></tr>\n",
       "\t<tr><td>1</td><td>0</td><td>1</td><td>634</td><td>1</td></tr>\n",
       "\t<tr><td>1</td><td>0</td><td>1</td><td>382</td><td>1</td></tr>\n",
       "</tbody>\n",
       "</table>\n"
      ],
      "text/latex": [
       "A tibble: 129 × 5\n",
       "\\begin{tabular}{lllll}\n",
       " DonorABO & RecipientABO & ABOmatch & survival\\_time & survival\\_status\\\\\n",
       " <dbl> & <chr> & <chr> & <dbl> & <fct>\\\\\n",
       "\\hline\n",
       "\t 1 & 1  & 0 &  999 & 0\\\\\n",
       "\t 1 & 2  & 1 & 2043 & 0\\\\\n",
       "\t 0 & -1 & 1 &  599 & 0\\\\\n",
       "\t ⋮ & ⋮ & ⋮ & ⋮ & ⋮\\\\\n",
       "\t 1 & 1 & 0 & 385 & 1\\\\\n",
       "\t 1 & 0 & 1 & 634 & 1\\\\\n",
       "\t 1 & 0 & 1 & 382 & 1\\\\\n",
       "\\end{tabular}\n"
      ],
      "text/markdown": [
       "\n",
       "A tibble: 129 × 5\n",
       "\n",
       "| DonorABO &lt;dbl&gt; | RecipientABO &lt;chr&gt; | ABOmatch &lt;chr&gt; | survival_time &lt;dbl&gt; | survival_status &lt;fct&gt; |\n",
       "|---|---|---|---|---|\n",
       "| 1 | 1  | 0 |  999 | 0 |\n",
       "| 1 | 2  | 1 | 2043 | 0 |\n",
       "| 0 | -1 | 1 |  599 | 0 |\n",
       "| ⋮ | ⋮ | ⋮ | ⋮ | ⋮ |\n",
       "| 1 | 1 | 0 | 385 | 1 |\n",
       "| 1 | 0 | 1 | 634 | 1 |\n",
       "| 1 | 0 | 1 | 382 | 1 |\n",
       "\n"
      ],
      "text/plain": [
       "    DonorABO RecipientABO ABOmatch survival_time survival_status\n",
       "1   1        1            0         999          0              \n",
       "2   1        2            1        2043          0              \n",
       "3   0        -1           1         599          0              \n",
       "⋮   ⋮        ⋮            ⋮        ⋮             ⋮              \n",
       "127 1        1            0        385           1              \n",
       "128 1        0            1        634           1              \n",
       "129 1        0            1        382           1              "
      ]
     },
     "metadata": {},
     "output_type": "display_data"
    }
   ],
   "source": [
    "# select only the variables related to the blood type\n",
    "bone_blood <- bone_train |>\n",
    "select(DonorABO,RecipientABO,ABOmatch,survival_time,survival_status)\n",
    "\n",
    "# make the data tidy by filtering out missing values\n",
    "bone_blood_filtered <- bone_blood |>\n",
    "filter(ABOmatch != \"?\")\n",
    "\n",
    "bone_blood_filtered"
   ]
  },
  {
   "cell_type": "code",
   "execution_count": 195,
   "id": "a7f8e164-5bee-4b0e-b61f-5c2becc7d335",
   "metadata": {},
   "outputs": [
    {
     "data": {
      "image/png": "[encoded data removed]",
      "text/plain": [
       "plot without title"
      ]
     },
     "metadata": {
      "image/png": {
       "height": 240,
       "width": 600
      }
     },
     "output_type": "display_data"
    }
   ],
   "source": [
    "# Blood match visualization:\n",
    "options(repr.plot.width=10,repr.plot.height=4)\n",
    "\n",
    "blood_match_plot <- bone_blood_filtered |>\n",
    "ggplot(aes(x=ABOmatch,fill=survival_status))+\n",
    "geom_bar()+\n",
    "facet_grid(cols=vars(survival_status)) +\n",
    "ggtitle(\"Survival status vs. Blood Type Match\") +\n",
    "labs(x = \"Blood Type Match\", y = \"Count\", fill = \"Survival Status\") \n",
    "\n",
    "blood_match_plot"
   ]
  },
  {
   "cell_type": "code",
   "execution_count": 198,
   "id": "ea3eb99e-4587-4681-8d6e-ed996c1f5084",
   "metadata": {},
   "outputs": [
    {
     "name": "stderr",
     "output_type": "stream",
     "text": [
      "\u001b[1m\u001b[22m`summarise()` has grouped output by 'DonorABO'. You can override using the\n",
      "`.groups` argument.\n"
     ]
    },
    {
     "data": {
      "text/html": [
       "<table class=\"dataframe\">\n",
       "<caption>A matrix: 3 × 8 of type chr</caption>\n",
       "<tbody>\n",
       "\t<tr><th scope=row>DonorABO</th><td>B </td><td>B </td><td>O </td><td>O </td><td>A </td><td>A </td><td>AB</td><td>AB</td></tr>\n",
       "\t<tr><th scope=row>survival_status</th><td>0 </td><td>1 </td><td>0 </td><td>1 </td><td>0 </td><td>1 </td><td>0 </td><td>1 </td></tr>\n",
       "\t<tr><th scope=row>count</th><td>12</td><td> 7</td><td>26</td><td>22</td><td>26</td><td>28</td><td> 7</td><td> 2</td></tr>\n",
       "</tbody>\n",
       "</table>\n"
      ],
      "text/latex": [
       "A matrix: 3 × 8 of type chr\n",
       "\\begin{tabular}{r|llllllll}\n",
       "\tDonorABO & B  & B  & O  & O  & A  & A  & AB & AB\\\\\n",
       "\tsurvival\\_status & 0  & 1  & 0  & 1  & 0  & 1  & 0  & 1 \\\\\n",
       "\tcount & 12 &  7 & 26 & 22 & 26 & 28 &  7 &  2\\\\\n",
       "\\end{tabular}\n"
      ],
      "text/markdown": [
       "\n",
       "A matrix: 3 × 8 of type chr\n",
       "\n",
       "| DonorABO | B  | B  | O  | O  | A  | A  | AB | AB |\n",
       "| survival_status | 0  | 1  | 0  | 1  | 0  | 1  | 0  | 1  |\n",
       "| count | 12 |  7 | 26 | 22 | 26 | 28 |  7 |  2 |\n",
       "\n"
      ],
      "text/plain": [
       "                [,1] [,2] [,3] [,4] [,5] [,6] [,7] [,8]\n",
       "DonorABO        B    B    O    O    A    A    AB   AB  \n",
       "survival_status 0    1    0    1    0    1    0    1   \n",
       "count           12    7   26   22   26   28    7    2  "
      ]
     },
     "metadata": {},
     "output_type": "display_data"
    }
   ],
   "source": [
    "# 'DonorABO''RecipientABO'\n",
    "blood_summarize <- bone_train |>\n",
    "select(DonorABO, survival_status)|>\n",
    "group_by(DonorABO,survival_status) |>\n",
    "summarize(count=n())|>\n",
    "mutate(DonorABO = case_when(\n",
    "      DonorABO == -1 ~ 'B',\n",
    "      DonorABO == 1 ~ 'A',\n",
    "      DonorABO == 0 ~ 'O',\n",
    "      DonorABO == 2 ~ 'AB'))\n",
    "\n",
    "# transpose the dataframe to better visualize the data\n",
    "t(blood_summarize)"
   ]
  },
  {
   "cell_type": "code",
   "execution_count": 201,
   "id": "a99a347d-6f3e-4a27-9923-9d5152e0c754",
   "metadata": {},
   "outputs": [
    {
     "name": "stderr",
     "output_type": "stream",
     "text": [
      "\u001b[1m\u001b[22m`summarise()` has grouped output by 'DonorABO'. You can override using the\n",
      "`.groups` argument.\n"
     ]
    },
    {
     "data": {
      "text/html": [
       "<table class=\"dataframe\">\n",
       "<caption>A grouped_df: 4 × 4</caption>\n",
       "<thead>\n",
       "\t<tr><th scope=col>DonorABO</th><th scope=col>death</th><th scope=col>survive</th><th scope=col>survival_rate</th></tr>\n",
       "\t<tr><th scope=col>&lt;chr&gt;</th><th scope=col>&lt;int&gt;</th><th scope=col>&lt;int&gt;</th><th scope=col>&lt;dbl&gt;</th></tr>\n",
       "</thead>\n",
       "<tbody>\n",
       "\t<tr><td>A </td><td>26</td><td>28</td><td>0.5185185</td></tr>\n",
       "\t<tr><td>AB</td><td> 7</td><td> 2</td><td>0.2222222</td></tr>\n",
       "\t<tr><td>B </td><td>12</td><td> 7</td><td>0.3684211</td></tr>\n",
       "\t<tr><td>O </td><td>26</td><td>22</td><td>0.4583333</td></tr>\n",
       "</tbody>\n",
       "</table>\n"
      ],
      "text/latex": [
       "A grouped\\_df: 4 × 4\n",
       "\\begin{tabular}{llll}\n",
       " DonorABO & death & survive & survival\\_rate\\\\\n",
       " <chr> & <int> & <int> & <dbl>\\\\\n",
       "\\hline\n",
       "\t A  & 26 & 28 & 0.5185185\\\\\n",
       "\t AB &  7 &  2 & 0.2222222\\\\\n",
       "\t B  & 12 &  7 & 0.3684211\\\\\n",
       "\t O  & 26 & 22 & 0.4583333\\\\\n",
       "\\end{tabular}\n"
      ],
      "text/markdown": [
       "\n",
       "A grouped_df: 4 × 4\n",
       "\n",
       "| DonorABO &lt;chr&gt; | death &lt;int&gt; | survive &lt;int&gt; | survival_rate &lt;dbl&gt; |\n",
       "|---|---|---|---|\n",
       "| A  | 26 | 28 | 0.5185185 |\n",
       "| AB |  7 |  2 | 0.2222222 |\n",
       "| B  | 12 |  7 | 0.3684211 |\n",
       "| O  | 26 | 22 | 0.4583333 |\n",
       "\n"
      ],
      "text/plain": [
       "  DonorABO death survive survival_rate\n",
       "1 A        26    28      0.5185185    \n",
       "2 AB        7     2      0.2222222    \n",
       "3 B        12     7      0.3684211    \n",
       "4 O        26    22      0.4583333    "
      ]
     },
     "metadata": {},
     "output_type": "display_data"
    },
    {
     "name": "stderr",
     "output_type": "stream",
     "text": [
      "\u001b[1m\u001b[22m`summarise()` has grouped output by 'RecipientABO'. You can override using the\n",
      "`.groups` argument.\n"
     ]
    },
    {
     "data": {
      "text/html": [
       "<table class=\"dataframe\">\n",
       "<caption>A grouped_df: 4 × 4</caption>\n",
       "<thead>\n",
       "\t<tr><th scope=col>RecipientABO</th><th scope=col>death</th><th scope=col>survive</th><th scope=col>survival_rate</th></tr>\n",
       "\t<tr><th scope=col>&lt;chr&gt;</th><th scope=col>&lt;int&gt;</th><th scope=col>&lt;int&gt;</th><th scope=col>&lt;dbl&gt;</th></tr>\n",
       "</thead>\n",
       "<tbody>\n",
       "\t<tr><td>A </td><td>28</td><td>26</td><td>0.4814815</td></tr>\n",
       "\t<tr><td>AB</td><td> 5</td><td> 2</td><td>0.2857143</td></tr>\n",
       "\t<tr><td>B </td><td>20</td><td>15</td><td>0.4285714</td></tr>\n",
       "\t<tr><td>O </td><td>18</td><td>15</td><td>0.4545455</td></tr>\n",
       "</tbody>\n",
       "</table>\n"
      ],
      "text/latex": [
       "A grouped\\_df: 4 × 4\n",
       "\\begin{tabular}{llll}\n",
       " RecipientABO & death & survive & survival\\_rate\\\\\n",
       " <chr> & <int> & <int> & <dbl>\\\\\n",
       "\\hline\n",
       "\t A  & 28 & 26 & 0.4814815\\\\\n",
       "\t AB &  5 &  2 & 0.2857143\\\\\n",
       "\t B  & 20 & 15 & 0.4285714\\\\\n",
       "\t O  & 18 & 15 & 0.4545455\\\\\n",
       "\\end{tabular}\n"
      ],
      "text/markdown": [
       "\n",
       "A grouped_df: 4 × 4\n",
       "\n",
       "| RecipientABO &lt;chr&gt; | death &lt;int&gt; | survive &lt;int&gt; | survival_rate &lt;dbl&gt; |\n",
       "|---|---|---|---|\n",
       "| A  | 28 | 26 | 0.4814815 |\n",
       "| AB |  5 |  2 | 0.2857143 |\n",
       "| B  | 20 | 15 | 0.4285714 |\n",
       "| O  | 18 | 15 | 0.4545455 |\n",
       "\n"
      ],
      "text/plain": [
       "  RecipientABO death survive survival_rate\n",
       "1 A            28    26      0.4814815    \n",
       "2 AB            5     2      0.2857143    \n",
       "3 B            20    15      0.4285714    \n",
       "4 O            18    15      0.4545455    "
      ]
     },
     "metadata": {},
     "output_type": "display_data"
    }
   ],
   "source": [
    "# see the summary of donor's blood type / Recipient's blood type and the survival rate\n",
    "options(repr.plot.width=6,repr.plot.height=4)\n",
    "blood_summarize2 <- bone_train |>\n",
    "select(RecipientABO, DonorABO, survival_status) |>\n",
    "  mutate(RecipientABO = case_when(\n",
    "      RecipientABO == -1 ~ 'B',\n",
    "      RecipientABO == 1 ~ 'A',\n",
    "      RecipientABO == 0 ~ 'O',\n",
    "      RecipientABO == 2 ~ 'AB')) |>\n",
    "mutate(DonorABO = case_when(\n",
    "      DonorABO == -1 ~ 'B',\n",
    "      DonorABO == 1 ~ 'A',\n",
    "      DonorABO == 0 ~ 'O',\n",
    "      DonorABO == 2 ~ 'AB'))\n",
    "\n",
    "#donor\n",
    "Donor_summarize <- blood_summarize2 |>\n",
    "group_by(DonorABO, survival_status)|>\n",
    "summarize(count=n())|>\n",
    "pivot_wider(names_from=survival_status,\n",
    "            values_from=count) |>\n",
    "rename(\"survive\" = \"1\", \"death\" = \"0\")|>\n",
    "mutate(survival_rate = survive/(death+survive))\n",
    "Donor_summarize\n",
    "\n",
    "#recipient\n",
    "Recipient_summarize <- blood_summarize2 |>\n",
    "group_by(RecipientABO, survival_status)|>\n",
    "summarize(count=n())|>\n",
    "pivot_wider(names_from=survival_status,\n",
    "            values_from=count) |>\n",
    "rename(\"survive\" = \"1\", \"death\" = \"0\")|>\n",
    "mutate(survival_rate = survive/(death+survive))|>\n",
    "filter(RecipientABO != \"NA\")\n",
    "Recipient_summarize"
   ]
  },
  {
   "cell_type": "code",
   "execution_count": 214,
   "id": "3168fda4-6286-432b-804e-2b4f2911df90",
   "metadata": {},
   "outputs": [
    {
     "data": {
      "image/png": "[encoded data removed]",
      "text/plain": [
       "plot without title"
      ]
     },
     "metadata": {
      "image/png": {
       "height": 240,
       "width": 600
      }
     },
     "output_type": "display_data"
    }
   ],
   "source": [
    "# visualize the summary with bar chart\n",
    "Donor_plot <- Donor_summarize |>\n",
    "ggplot(aes(x = as.factor(DonorABO), y = survival_rate, fill=DonorABO))+\n",
    "geom_bar(stat = \"identity\")+\n",
    "labs(x=\"Donor Blood Type\", y = \"Survival Rate\")+\n",
    "theme(text = element_text(size=15))\n",
    "\n",
    "Recipient_plot <- Recipient_summarize |>\n",
    "ggplot(aes(x = as.factor(RecipientABO), y = survival_rate, fill=RecipientABO))+\n",
    "geom_bar(stat = \"identity\")+\n",
    "labs(x=\"Recipient Blood Type\", y = \"Survival Rate\")+\n",
    "theme(text = element_text(size=15))\n",
    "\n",
    "options(repr.plot.width=10, repr.plot.height=4)\n",
    "grid.arrange(Recipient_plot, Donor_plot, ncol=2)"
   ]
  },
  {
   "cell_type": "markdown",
   "id": "befe2fa5-0b09-4cbe-85d9-1706ee31649b",
   "metadata": {},
   "source": [
    "## All data pre-visualization summarize"
   ]
  },
  {
   "cell_type": "markdown",
   "id": "144014b4-fe41-4528-8ca5-c1836514a948",
   "metadata": {},
   "source": [
    "## Visualization - Age\n",
    "- `table` Age group count: Donor age and Recipient Age, group by margin of 5 years\n",
    "- `plot` Age difference: Age difference count\n",
    "- `plot` Donor Age: Donor Age count\n",
    "- `plot` Recipient Age: Recipient Age count"
   ]
  },
  {
   "cell_type": "code",
   "execution_count": 209,
   "id": "5976e9ed-4a2a-4134-85ea-9ac16abae870",
   "metadata": {},
   "outputs": [
    {
     "data": {
      "text/html": [
       "<table class=\"dataframe\">\n",
       "<caption>A tibble: 8 × 3</caption>\n",
       "<thead>\n",
       "\t<tr><th scope=col>age</th><th scope=col>donor_age</th><th scope=col>recipient_age</th></tr>\n",
       "\t<tr><th scope=col>&lt;fct&gt;</th><th scope=col>&lt;int&gt;</th><th scope=col>&lt;int&gt;</th></tr>\n",
       "</thead>\n",
       "<tbody>\n",
       "\t<tr><td><span style=white-space:pre-wrap>&lt;5   </span></td><td>NA</td><td>35</td></tr>\n",
       "\t<tr><td>5-10 </td><td>NA</td><td>31</td></tr>\n",
       "\t<tr><td>10-15</td><td>NA</td><td>35</td></tr>\n",
       "\t<tr><td>15-20</td><td> 3</td><td>27</td></tr>\n",
       "\t<tr><td>20-25</td><td>27</td><td> 2</td></tr>\n",
       "\t<tr><td>25-30</td><td>13</td><td>NA</td></tr>\n",
       "\t<tr><td>30-35</td><td>27</td><td>NA</td></tr>\n",
       "\t<tr><td>35+  </td><td>60</td><td>NA</td></tr>\n",
       "</tbody>\n",
       "</table>\n"
      ],
      "text/latex": [
       "A tibble: 8 × 3\n",
       "\\begin{tabular}{lll}\n",
       " age & donor\\_age & recipient\\_age\\\\\n",
       " <fct> & <int> & <int>\\\\\n",
       "\\hline\n",
       "\t <5    & NA & 35\\\\\n",
       "\t 5-10  & NA & 31\\\\\n",
       "\t 10-15 & NA & 35\\\\\n",
       "\t 15-20 &  3 & 27\\\\\n",
       "\t 20-25 & 27 &  2\\\\\n",
       "\t 25-30 & 13 & NA\\\\\n",
       "\t 30-35 & 27 & NA\\\\\n",
       "\t 35+   & 60 & NA\\\\\n",
       "\\end{tabular}\n"
      ],
      "text/markdown": [
       "\n",
       "A tibble: 8 × 3\n",
       "\n",
       "| age &lt;fct&gt; | donor_age &lt;int&gt; | recipient_age &lt;int&gt; |\n",
       "|---|---|---|\n",
       "| &lt;5    | NA | 35 |\n",
       "| 5-10  | NA | 31 |\n",
       "| 10-15 | NA | 35 |\n",
       "| 15-20 |  3 | 27 |\n",
       "| 20-25 | 27 |  2 |\n",
       "| 25-30 | 13 | NA |\n",
       "| 30-35 | 27 | NA |\n",
       "| 35+   | 60 | NA |\n",
       "\n"
      ],
      "text/plain": [
       "  age   donor_age recipient_age\n",
       "1 <5    NA        35           \n",
       "2 5-10  NA        31           \n",
       "3 10-15 NA        35           \n",
       "4 15-20  3        27           \n",
       "5 20-25 27         2           \n",
       "6 25-30 13        NA           \n",
       "7 30-35 27        NA           \n",
       "8 35+   60        NA           "
      ]
     },
     "metadata": {},
     "output_type": "display_data"
    }
   ],
   "source": [
    "options(repr.matrix.max.rows=15)\n",
    "age_summarize"
   ]
  },
  {
   "cell_type": "code",
   "execution_count": 210,
   "id": "34811ce7-1da5-41b6-80db-db93fbedfd1d",
   "metadata": {},
   "outputs": [
    {
     "data": {
      "image/png": "[encoded data removed]",
      "text/plain": [
       "plot without title"
      ]
     },
     "metadata": {
      "image/png": {
       "height": 210,
       "width": 1200
      }
     },
     "output_type": "display_data"
    }
   ],
   "source": [
    "options(repr.plot.width=10,repr.plot.height=4)\n",
    "age_diff_plot <- bone_age |>\n",
    "ggplot(aes(x=age_diff,fill=survival_status))+\n",
    "geom_histogram(bins=20)+\n",
    "labs(x=\"Age Difference\", y = \"count\",color= \"survival status\")+\n",
    "facet_grid(cols=vars(survival_status))\n",
    "\n",
    "Donor_age_plot <- bone_age |>\n",
    "ggplot(aes(x=Donorage,fill=survival_status))+\n",
    "geom_histogram(bins=20)+\n",
    "facet_grid(cols=vars(survival_status))+\n",
    "labs(x=\"Donor Age\", y = \"count\",color= \"survival status\")\n",
    "\n",
    "Recipient_age_plot <- bone_age |>\n",
    "ggplot(aes(x=Recipientage,fill=survival_status))+\n",
    "geom_histogram(bins=20)+\n",
    "facet_grid(cols=vars(survival_status))+\n",
    "labs(x=\"Recipient Age\", y = \"count\",color= \"survival status\")\n",
    "\n",
    "options(repr.plot.width=20, repr.plot.height=3.5)\n",
    "grid.arrange(age_diff_plot, Donor_age_plot, Recipient_age_plot, ncol=3)"
   ]
  },
  {
   "cell_type": "markdown",
   "id": "3d4dbcf2-6ba0-451c-b63e-38b98e25c6f2",
   "metadata": {},
   "source": [
    "## Visualization - blood Type\n",
    "- `table` donor blood type vs instance count\n",
    "- `plot` donor blood type vs survival rates\n",
    "- `table` recipient blood type vs instance count\n",
    "- `plot` recipient blood type vs survival rates\n",
    "- `plot` blood match vs survival count"
   ]
  },
  {
   "cell_type": "code",
   "execution_count": 211,
   "id": "2a51fc84-642c-4eae-a48b-f9ad3ac746a0",
   "metadata": {},
   "outputs": [
    {
     "data": {
      "text/html": [
       "<table class=\"dataframe\">\n",
       "<caption>A grouped_df: 4 × 4</caption>\n",
       "<thead>\n",
       "\t<tr><th scope=col>DonorABO</th><th scope=col>death</th><th scope=col>survive</th><th scope=col>survival_rate</th></tr>\n",
       "\t<tr><th scope=col>&lt;chr&gt;</th><th scope=col>&lt;int&gt;</th><th scope=col>&lt;int&gt;</th><th scope=col>&lt;dbl&gt;</th></tr>\n",
       "</thead>\n",
       "<tbody>\n",
       "\t<tr><td>A </td><td>26</td><td>28</td><td>0.5185185</td></tr>\n",
       "\t<tr><td>AB</td><td> 7</td><td> 2</td><td>0.2222222</td></tr>\n",
       "\t<tr><td>B </td><td>12</td><td> 7</td><td>0.3684211</td></tr>\n",
       "\t<tr><td>O </td><td>26</td><td>22</td><td>0.4583333</td></tr>\n",
       "</tbody>\n",
       "</table>\n"
      ],
      "text/latex": [
       "A grouped\\_df: 4 × 4\n",
       "\\begin{tabular}{llll}\n",
       " DonorABO & death & survive & survival\\_rate\\\\\n",
       " <chr> & <int> & <int> & <dbl>\\\\\n",
       "\\hline\n",
       "\t A  & 26 & 28 & 0.5185185\\\\\n",
       "\t AB &  7 &  2 & 0.2222222\\\\\n",
       "\t B  & 12 &  7 & 0.3684211\\\\\n",
       "\t O  & 26 & 22 & 0.4583333\\\\\n",
       "\\end{tabular}\n"
      ],
      "text/markdown": [
       "\n",
       "A grouped_df: 4 × 4\n",
       "\n",
       "| DonorABO &lt;chr&gt; | death &lt;int&gt; | survive &lt;int&gt; | survival_rate &lt;dbl&gt; |\n",
       "|---|---|---|---|\n",
       "| A  | 26 | 28 | 0.5185185 |\n",
       "| AB |  7 |  2 | 0.2222222 |\n",
       "| B  | 12 |  7 | 0.3684211 |\n",
       "| O  | 26 | 22 | 0.4583333 |\n",
       "\n"
      ],
      "text/plain": [
       "  DonorABO death survive survival_rate\n",
       "1 A        26    28      0.5185185    \n",
       "2 AB        7     2      0.2222222    \n",
       "3 B        12     7      0.3684211    \n",
       "4 O        26    22      0.4583333    "
      ]
     },
     "metadata": {},
     "output_type": "display_data"
    },
    {
     "data": {
      "image/png": "[encoded data removed]",
      "text/plain": [
       "plot without title"
      ]
     },
     "metadata": {
      "image/png": {
       "height": 240,
       "width": 360
      }
     },
     "output_type": "display_data"
    }
   ],
   "source": [
    "options(repr.plot.width=6,repr.plot.height=4)\n",
    "Donor_summarize\n",
    "Donor_plot"
   ]
  },
  {
   "cell_type": "code",
   "execution_count": 212,
   "id": "56001e01-8452-4781-8550-eb00a3db01bc",
   "metadata": {},
   "outputs": [
    {
     "data": {
      "text/html": [
       "<table class=\"dataframe\">\n",
       "<caption>A grouped_df: 4 × 4</caption>\n",
       "<thead>\n",
       "\t<tr><th scope=col>RecipientABO</th><th scope=col>death</th><th scope=col>survive</th><th scope=col>survival_rate</th></tr>\n",
       "\t<tr><th scope=col>&lt;chr&gt;</th><th scope=col>&lt;int&gt;</th><th scope=col>&lt;int&gt;</th><th scope=col>&lt;dbl&gt;</th></tr>\n",
       "</thead>\n",
       "<tbody>\n",
       "\t<tr><td>A </td><td>28</td><td>26</td><td>0.4814815</td></tr>\n",
       "\t<tr><td>AB</td><td> 5</td><td> 2</td><td>0.2857143</td></tr>\n",
       "\t<tr><td>B </td><td>20</td><td>15</td><td>0.4285714</td></tr>\n",
       "\t<tr><td>O </td><td>18</td><td>15</td><td>0.4545455</td></tr>\n",
       "</tbody>\n",
       "</table>\n"
      ],
      "text/latex": [
       "A grouped\\_df: 4 × 4\n",
       "\\begin{tabular}{llll}\n",
       " RecipientABO & death & survive & survival\\_rate\\\\\n",
       " <chr> & <int> & <int> & <dbl>\\\\\n",
       "\\hline\n",
       "\t A  & 28 & 26 & 0.4814815\\\\\n",
       "\t AB &  5 &  2 & 0.2857143\\\\\n",
       "\t B  & 20 & 15 & 0.4285714\\\\\n",
       "\t O  & 18 & 15 & 0.4545455\\\\\n",
       "\\end{tabular}\n"
      ],
      "text/markdown": [
       "\n",
       "A grouped_df: 4 × 4\n",
       "\n",
       "| RecipientABO &lt;chr&gt; | death &lt;int&gt; | survive &lt;int&gt; | survival_rate &lt;dbl&gt; |\n",
       "|---|---|---|---|\n",
       "| A  | 28 | 26 | 0.4814815 |\n",
       "| AB |  5 |  2 | 0.2857143 |\n",
       "| B  | 20 | 15 | 0.4285714 |\n",
       "| O  | 18 | 15 | 0.4545455 |\n",
       "\n"
      ],
      "text/plain": [
       "  RecipientABO death survive survival_rate\n",
       "1 A            28    26      0.4814815    \n",
       "2 AB            5     2      0.2857143    \n",
       "3 B            20    15      0.4285714    \n",
       "4 O            18    15      0.4545455    "
      ]
     },
     "metadata": {},
     "output_type": "display_data"
    },
    {
     "data": {
      "image/png": "[encoded data removed]",
      "text/plain": [
       "plot without title"
      ]
     },
     "metadata": {
      "image/png": {
       "height": 240,
       "width": 360
      }
     },
     "output_type": "display_data"
    }
   ],
   "source": [
    "Recipient_summarize\n",
    "Recipient_plot"
   ]
  },
  {
   "cell_type": "code",
   "execution_count": 213,
   "id": "4f4c52ca-832d-4a97-a2bf-5b3e321f14f8",
   "metadata": {},
   "outputs": [
    {
     "data": {
      "image/png": "[encoded data removed]",
      "text/plain": [
       "plot without title"
      ]
     },
     "metadata": {
      "image/png": {
       "height": 240,
       "width": 360
      }
     },
     "output_type": "display_data"
    }
   ],
   "source": [
    "blood_match_plot"
   ]
  },
  {
   "cell_type": "markdown",
   "id": "247e672c-f326-4e30-8cc3-6df310d4e25a",
   "metadata": {
    "tags": []
   },
   "source": [
    "# Part2: New version of data preprocessing"
   ]
  },
  {
   "cell_type": "markdown",
   "id": "8c1153aa-6aab-44c6-baff-07bbd74dd209",
   "metadata": {},
   "source": [
    "!!! the reason why we need a new visualization"
   ]
  },
  {
   "cell_type": "code",
   "execution_count": 183,
   "id": "891cb22b-de9b-4abf-8db2-f3c4923058e7",
   "metadata": {},
   "outputs": [
    {
     "name": "stderr",
     "output_type": "stream",
     "text": [
      "Warning message in mask$eval_all_mutate(quo):\n",
      "“NAs introduced by coercion”\n",
      "Warning message in mask$eval_all_mutate(quo):\n",
      "“NAs introduced by coercion”\n",
      "Warning message in mask$eval_all_mutate(quo):\n",
      "“NAs introduced by coercion”\n",
      "Warning message in mask$eval_all_mutate(quo):\n",
      "“NAs introduced by coercion”\n"
     ]
    }
   ],
   "source": [
    "## tidy data\n",
    "#1. discard any NA values\n",
    "#2. select only the numeric values\n",
    "#3. transform non numeric values into numeric values that are applicable (CD3dCD34, CD3dkgx10d8 and Rbodymass)\n",
    "filtered_bone <- na.omit(bone_data)|>\n",
    "select(-survival_time, -RecipientABO, -RecipientRh, -CMVstatus,-DonorCMV, -RecipientCMV, -Disease, -Antigen,-Alel,-extcGvHD)|>\n",
    "mutate(survival_status = as_factor(survival_status),\n",
    "        CD3dCD34 = as.numeric(CD3dCD34),\n",
    "        CD3dkgx10d8 = as.numeric(CD3dkgx10d8),\n",
    "        Rbodymass = as.numeric(Rbodymass),\n",
    "        ABOmatch = as.numeric(ABOmatch))"
   ]
  },
  {
   "cell_type": "code",
   "execution_count": 147,
   "id": "421c5d53-29bd-45df-aabe-b8ff3e0fe87a",
   "metadata": {},
   "outputs": [],
   "source": [
    "# split the tidy data into training and testing dataset\n",
    "set.seed(66)\n",
    "bone_split <- initial_split(filtered_bone, prop = 0.75, strata = survival_status)\n",
    "bone_training <- training(bone_split)\n",
    "bone_testing <- testing(bone_split)"
   ]
  },
  {
   "cell_type": "code",
   "execution_count": 148,
   "id": "427e90be-f97e-4df7-8023-ba2536e3a6a1",
   "metadata": {},
   "outputs": [
    {
     "data": {
      "text/html": [
       "<table class=\"dataframe\">\n",
       "<caption>A matrix: 1 × 28 of type dbl</caption>\n",
       "<thead>\n",
       "\t<tr><th></th><th scope=col>survival_status</th><th scope=col>PLTrecovery</th><th scope=col>Relapse</th><th scope=col>Recipientage</th><th scope=col>Recipientage10</th><th scope=col>Recipientageint</th><th scope=col>ANCrecovery</th><th scope=col>id</th><th scope=col>Donorage35</th><th scope=col>IIIV</th><th scope=col>⋯</th><th scope=col>DonorABO</th><th scope=col>HLAmismatch</th><th scope=col>Stemcellsource</th><th scope=col>ABOmatch</th><th scope=col>time_to_aGvHD_III_IV</th><th scope=col>aGvHDIIIIV</th><th scope=col>CD34kgx10d6</th><th scope=col>CD3dCD34</th><th scope=col>CD3dkgx10d8</th><th scope=col>Rbodymass</th></tr>\n",
       "</thead>\n",
       "<tbody>\n",
       "\t<tr><th scope=row>survival_status</th><td>1</td><td>0.4</td><td>0.3</td><td>0.2</td><td>0.2</td><td>0.2</td><td>0.2</td><td>0.1</td><td>0.1</td><td>0.1</td><td>⋯</td><td>0</td><td>0</td><td>-0.1</td><td>-0.1</td><td>-0.1</td><td>-0.2</td><td>-0.2</td><td>NA</td><td>NA</td><td>NA</td></tr>\n",
       "</tbody>\n",
       "</table>\n"
      ],
      "text/latex": [
       "A matrix: 1 × 28 of type dbl\n",
       "\\begin{tabular}{r|lllllllllllllllllllll}\n",
       "  & survival\\_status & PLTrecovery & Relapse & Recipientage & Recipientage10 & Recipientageint & ANCrecovery & id & Donorage35 & IIIV & ⋯ & DonorABO & HLAmismatch & Stemcellsource & ABOmatch & time\\_to\\_aGvHD\\_III\\_IV & aGvHDIIIIV & CD34kgx10d6 & CD3dCD34 & CD3dkgx10d8 & Rbodymass\\\\\n",
       "\\hline\n",
       "\tsurvival\\_status & 1 & 0.4 & 0.3 & 0.2 & 0.2 & 0.2 & 0.2 & 0.1 & 0.1 & 0.1 & ⋯ & 0 & 0 & -0.1 & -0.1 & -0.1 & -0.2 & -0.2 & NA & NA & NA\\\\\n",
       "\\end{tabular}\n"
      ],
      "text/markdown": [
       "\n",
       "A matrix: 1 × 28 of type dbl\n",
       "\n",
       "| <!--/--> | survival_status | PLTrecovery | Relapse | Recipientage | Recipientage10 | Recipientageint | ANCrecovery | id | Donorage35 | IIIV | ⋯ | DonorABO | HLAmismatch | Stemcellsource | ABOmatch | time_to_aGvHD_III_IV | aGvHDIIIIV | CD34kgx10d6 | CD3dCD34 | CD3dkgx10d8 | Rbodymass |\n",
       "|---|---|---|---|---|---|---|---|---|---|---|---|---|---|---|---|---|---|---|---|---|---|\n",
       "| survival_status | 1 | 0.4 | 0.3 | 0.2 | 0.2 | 0.2 | 0.2 | 0.1 | 0.1 | 0.1 | ⋯ | 0 | 0 | -0.1 | -0.1 | -0.1 | -0.2 | -0.2 | NA | NA | NA |\n",
       "\n"
      ],
      "text/plain": [
       "                survival_status PLTrecovery Relapse Recipientage Recipientage10\n",
       "survival_status 1               0.4         0.3     0.2          0.2           \n",
       "                Recipientageint ANCrecovery id  Donorage35 IIIV ⋯ DonorABO\n",
       "survival_status 0.2             0.2         0.1 0.1        0.1  ⋯ 0       \n",
       "                HLAmismatch Stemcellsource ABOmatch time_to_aGvHD_III_IV\n",
       "survival_status 0           -0.1           -0.1     -0.1                \n",
       "                aGvHDIIIIV CD34kgx10d6 CD3dCD34 CD3dkgx10d8 Rbodymass\n",
       "survival_status -0.2       -0.2        NA       NA          NA       "
      ]
     },
     "metadata": {},
     "output_type": "display_data"
    }
   ],
   "source": [
    "# use the correlation function to see which numeric varible has the closest relationship with the survival status\n",
    "num_bone <- bone_training |>\n",
    "mutate(survival_status = as.numeric(survival_status))\n",
    "# glimpse(num_bone)\n",
    "corr <- round(cor(num_bone), 1)\n",
    "corr <- as.data.frame(corr)\n",
    "cor2 <- corr |> \n",
    "select(survival_status)|>\n",
    "arrange(desc(survival_status))\n",
    "cor2 <- t(cor2)\n",
    "cor2"
   ]
  },
  {
   "cell_type": "code",
   "execution_count": 149,
   "id": "d21806a0-156a-4780-aaf3-cd7d504293dc",
   "metadata": {},
   "outputs": [
    {
     "data": {
      "text/html": [
       "<table class=\"dataframe\">\n",
       "<caption>A tibble: 6 × 6</caption>\n",
       "<thead>\n",
       "\t<tr><th scope=col>PLTrecovery</th><th scope=col>Relapse</th><th scope=col>Recipientage</th><th scope=col>Donorage</th><th scope=col>ANCrecovery</th><th scope=col>survival_status</th></tr>\n",
       "\t<tr><th scope=col>&lt;dbl&gt;</th><th scope=col>&lt;dbl&gt;</th><th scope=col>&lt;dbl&gt;</th><th scope=col>&lt;dbl&gt;</th><th scope=col>&lt;dbl&gt;</th><th scope=col>&lt;fct&gt;</th></tr>\n",
       "</thead>\n",
       "<tbody>\n",
       "\t<tr><td>51</td><td>0</td><td> 9.6</td><td>22.83014</td><td>19</td><td>0</td></tr>\n",
       "\t<tr><td>70</td><td>0</td><td> 8.9</td><td>27.39178</td><td>16</td><td>0</td></tr>\n",
       "\t<tr><td>14</td><td>0</td><td> 7.9</td><td>32.64110</td><td>15</td><td>0</td></tr>\n",
       "\t<tr><td>17</td><td>0</td><td> 4.7</td><td>28.78356</td><td>16</td><td>0</td></tr>\n",
       "\t<tr><td>13</td><td>0</td><td> 1.9</td><td>29.73151</td><td>12</td><td>0</td></tr>\n",
       "\t<tr><td>16</td><td>0</td><td>13.4</td><td>36.80000</td><td>11</td><td>0</td></tr>\n",
       "</tbody>\n",
       "</table>\n"
      ],
      "text/latex": [
       "A tibble: 6 × 6\n",
       "\\begin{tabular}{llllll}\n",
       " PLTrecovery & Relapse & Recipientage & Donorage & ANCrecovery & survival\\_status\\\\\n",
       " <dbl> & <dbl> & <dbl> & <dbl> & <dbl> & <fct>\\\\\n",
       "\\hline\n",
       "\t 51 & 0 &  9.6 & 22.83014 & 19 & 0\\\\\n",
       "\t 70 & 0 &  8.9 & 27.39178 & 16 & 0\\\\\n",
       "\t 14 & 0 &  7.9 & 32.64110 & 15 & 0\\\\\n",
       "\t 17 & 0 &  4.7 & 28.78356 & 16 & 0\\\\\n",
       "\t 13 & 0 &  1.9 & 29.73151 & 12 & 0\\\\\n",
       "\t 16 & 0 & 13.4 & 36.80000 & 11 & 0\\\\\n",
       "\\end{tabular}\n"
      ],
      "text/markdown": [
       "\n",
       "A tibble: 6 × 6\n",
       "\n",
       "| PLTrecovery &lt;dbl&gt; | Relapse &lt;dbl&gt; | Recipientage &lt;dbl&gt; | Donorage &lt;dbl&gt; | ANCrecovery &lt;dbl&gt; | survival_status &lt;fct&gt; |\n",
       "|---|---|---|---|---|---|\n",
       "| 51 | 0 |  9.6 | 22.83014 | 19 | 0 |\n",
       "| 70 | 0 |  8.9 | 27.39178 | 16 | 0 |\n",
       "| 14 | 0 |  7.9 | 32.64110 | 15 | 0 |\n",
       "| 17 | 0 |  4.7 | 28.78356 | 16 | 0 |\n",
       "| 13 | 0 |  1.9 | 29.73151 | 12 | 0 |\n",
       "| 16 | 0 | 13.4 | 36.80000 | 11 | 0 |\n",
       "\n"
      ],
      "text/plain": [
       "  PLTrecovery Relapse Recipientage Donorage ANCrecovery survival_status\n",
       "1 51          0        9.6         22.83014 19          0              \n",
       "2 70          0        8.9         27.39178 16          0              \n",
       "3 14          0        7.9         32.64110 15          0              \n",
       "4 17          0        4.7         28.78356 16          0              \n",
       "5 13          0        1.9         29.73151 12          0              \n",
       "6 16          0       13.4         36.80000 11          0              "
      ]
     },
     "metadata": {},
     "output_type": "display_data"
    }
   ],
   "source": [
    "# choose the parameter we want from the elements that has the closest relationship with the survival_status\n",
    "bone_training <- bone_training |>\n",
    "select(PLTrecovery, Relapse, Recipientage, Donorage, ANCrecovery, survival_status)|>\n",
    "mutate(survival_status = as.factor(survival_status))\n",
    "head(bone_training)"
   ]
  },
  {
   "cell_type": "code",
   "execution_count": 150,
   "id": "0833443d-c838-4b85-8617-e891a1774740",
   "metadata": {},
   "outputs": [],
   "source": [
    "# apply the forward selection to select which variables other than Recipientage should we include in our analysis\n",
    "set.seed(100)\n",
    "names <- colnames(bone_training |> select(-survival_status, -Recipientage))\n",
    "accuracies <- tibble(size = integer(), \n",
    "                     model_string = character(), \n",
    "                     accuracy = numeric())\n",
    "knn_spec <- nearest_neighbor(weight_func = \"rectangular\", neighbors = tune()) |>\n",
    "     set_engine(\"kknn\") |>\n",
    "     set_mode(\"classification\")\n",
    "kval <- tibble(neighbors=seq(from=1, to=10,by=1))\n",
    "\n",
    "bone_vfold <- vfold_cv(bone_training, v=5, strata = survival_status)\n",
    "n_total <- length(names)\n",
    "selected <- c()\n",
    "\n",
    "# for every size from 1 to the total number of predictors\n",
    "for (i in 1:n_total) {\n",
    "    # for every predictor still not added yet\n",
    "    accs <- list()\n",
    "    models <- list()\n",
    "    for (j in 1:length(names)) {\n",
    "        # create a model string for this combination of predictors\n",
    "        preds_new <- c(\"Recipientage\", selected, names[[j]])\n",
    "        model_string <- paste(\"survival_status\", \"~\", paste(preds_new, collapse=\"+\"))\n",
    "        model_string\n",
    "        # create a recipe from the model string\n",
    "        bone_recipe <- recipe(as.formula(model_string), data = bone_training) |>\n",
    "                          step_scale(all_predictors()) |>\n",
    "                          step_center(all_predictors())\n",
    "\n",
    "        # tune the KNN classifier with these predictors, \n",
    "        # and collect the accuracy for the best K\n",
    "        acc <- workflow() |>\n",
    "          add_recipe(bone_recipe) |>\n",
    "          add_model(knn_spec) |>\n",
    "          tune_grid(resamples = bone_vfold, grid = kval) |>\n",
    "          collect_metrics() |>\n",
    "          filter(.metric == \"accuracy\") |>\n",
    "          summarize(mx = max(mean))\n",
    "        acc <- acc$mx |> unlist()\n",
    "\n",
    "        # add this result to the dataframe\n",
    "        accs[[j]] <- acc\n",
    "        models[[j]] <- model_string\n",
    "    }\n",
    "    jstar <- which.max(unlist(accs))\n",
    "    accuracies <- accuracies |> \n",
    "      add_row(size = i, \n",
    "              model_string = models[[jstar]], \n",
    "              accuracy = accs[[jstar]])\n",
    "    selected <- c(selected, names[[jstar]])\n",
    "    names <- names[-jstar]\n",
    "}"
   ]
  },
  {
   "cell_type": "code",
   "execution_count": 151,
   "id": "78f653f7-75af-49f8-9404-a2e82d0e4909",
   "metadata": {},
   "outputs": [
    {
     "data": {
      "text/html": [
       "<table class=\"dataframe\">\n",
       "<caption>A tibble: 4 × 3</caption>\n",
       "<thead>\n",
       "\t<tr><th scope=col>size</th><th scope=col>model_string</th><th scope=col>accuracy</th></tr>\n",
       "\t<tr><th scope=col>&lt;int&gt;</th><th scope=col>&lt;chr&gt;</th><th scope=col>&lt;dbl&gt;</th></tr>\n",
       "</thead>\n",
       "<tbody>\n",
       "\t<tr><td>1</td><td>survival_status ~ Recipientage+Relapse                                 </td><td>0.6686371</td></tr>\n",
       "\t<tr><td>2</td><td>survival_status ~ Recipientage+Relapse+PLTrecovery                     </td><td>0.7276318</td></tr>\n",
       "\t<tr><td>3</td><td>survival_status ~ Recipientage+Relapse+PLTrecovery+ANCrecovery         </td><td>0.7276318</td></tr>\n",
       "\t<tr><td>4</td><td>survival_status ~ Recipientage+Relapse+PLTrecovery+ANCrecovery+Donorage</td><td>0.7202244</td></tr>\n",
       "</tbody>\n",
       "</table>\n"
      ],
      "text/latex": [
       "A tibble: 4 × 3\n",
       "\\begin{tabular}{lll}\n",
       " size & model\\_string & accuracy\\\\\n",
       " <int> & <chr> & <dbl>\\\\\n",
       "\\hline\n",
       "\t 1 & survival\\_status \\textasciitilde{} Recipientage+Relapse                                  & 0.6686371\\\\\n",
       "\t 2 & survival\\_status \\textasciitilde{} Recipientage+Relapse+PLTrecovery                      & 0.7276318\\\\\n",
       "\t 3 & survival\\_status \\textasciitilde{} Recipientage+Relapse+PLTrecovery+ANCrecovery          & 0.7276318\\\\\n",
       "\t 4 & survival\\_status \\textasciitilde{} Recipientage+Relapse+PLTrecovery+ANCrecovery+Donorage & 0.7202244\\\\\n",
       "\\end{tabular}\n"
      ],
      "text/markdown": [
       "\n",
       "A tibble: 4 × 3\n",
       "\n",
       "| size &lt;int&gt; | model_string &lt;chr&gt; | accuracy &lt;dbl&gt; |\n",
       "|---|---|---|\n",
       "| 1 | survival_status ~ Recipientage+Relapse                                  | 0.6686371 |\n",
       "| 2 | survival_status ~ Recipientage+Relapse+PLTrecovery                      | 0.7276318 |\n",
       "| 3 | survival_status ~ Recipientage+Relapse+PLTrecovery+ANCrecovery          | 0.7276318 |\n",
       "| 4 | survival_status ~ Recipientage+Relapse+PLTrecovery+ANCrecovery+Donorage | 0.7202244 |\n",
       "\n"
      ],
      "text/plain": [
       "  size model_string                                                           \n",
       "1 1    survival_status ~ Recipientage+Relapse                                 \n",
       "2 2    survival_status ~ Recipientage+Relapse+PLTrecovery                     \n",
       "3 3    survival_status ~ Recipientage+Relapse+PLTrecovery+ANCrecovery         \n",
       "4 4    survival_status ~ Recipientage+Relapse+PLTrecovery+ANCrecovery+Donorage\n",
       "  accuracy \n",
       "1 0.6686371\n",
       "2 0.7276318\n",
       "3 0.7276318\n",
       "4 0.7202244"
      ]
     },
     "metadata": {},
     "output_type": "display_data"
    }
   ],
   "source": [
    "accuracies"
   ]
  },
  {
   "cell_type": "code",
   "execution_count": 182,
   "id": "76711597-5e6d-46cf-bd3a-8c7873b5a88e",
   "metadata": {},
   "outputs": [
    {
     "data": {
      "image/png": "[encoded data removed]",
      "text/plain": [
       "plot without title"
      ]
     },
     "metadata": {
      "image/png": {
       "height": 420,
       "width": 1200
      }
     },
     "output_type": "display_data"
    }
   ],
   "source": [
    "# visualize the relationship between survival rate and (recipientage + relapse), (recipientage + pltrecovery)\n",
    "\n",
    "plot1 <- bone_training |>\n",
    "mutate(survival_status  = case_when(\n",
    "      survival_status  == 1 ~ 'Survive',\n",
    "      survival_status  == 0 ~ 'Didn\\'t survive'))|>\n",
    "ggplot(aes(x=Recipientage, y = Relapse, color = survival_status ))+\n",
    "geom_point()+\n",
    "theme(text=element_text(size=16))+\n",
    "labs(x=\"recipient's age\", y = \"relapse? 1:yes\", color = \"status\")\n",
    "\n",
    "\n",
    "plot2 <- bone_training |>\n",
    "mutate(survival_status  = case_when(\n",
    "      survival_status  == 1 ~ 'Survive',\n",
    "      survival_status  == 0 ~ 'Didn\\'t survive'))|>\n",
    "ggplot(aes(x=Recipientage, y = PLTrecovery, color = survival_status ))+\n",
    "geom_point()+\n",
    "theme(text=element_text(size=16))+\n",
    "labs(x=\"recipient's age\", y = \"platelet count >50000/mm3? 1:yes\", color = \"status\")\n",
    "\n",
    "options(repr.plot.width=20, repr.plot.height=7)\n",
    "grid.arrange(plot1, plot2, ncol=2)\n"
   ]
  },
  {
   "cell_type": "code",
   "execution_count": 152,
   "id": "66e3c1b2-ec1e-45e5-be79-26ff241bff67",
   "metadata": {},
   "outputs": [],
   "source": [
    "# based on the forward selection, we will choose Recipient age + Relapse + PLTrecovery as our variable.\n",
    "# standardize data\n",
    "bone_recipe <- recipe(survival_status ~ Recipientage+Relapse+PLTrecovery, data = bone_training) |>\n",
    "  step_scale(all_predictors())|>\n",
    "  step_center(all_predictors())\n",
    "\n",
    "# build the model structure\n",
    "knn_spec <- nearest_neighbor(weight_func = \"rectangular\", neighbor = tune())|>\n",
    "  set_engine(\"kknn\")|>\n",
    "  set_mode(\"classification\")\n",
    "\n",
    "# setting the folds and ks\n",
    "set.seed(234)\n",
    "bone_vfold <- vfold_cv(bone_training, v = 5, strata = survival_status)\n",
    "k_val <- tibble(neighbors = seq(from = 1, to = 25, by = 1))\n",
    "\n",
    "# build the workflow for building model\n",
    "knn_fit <- workflow()|>\n",
    "  add_recipe(bone_recipe)|>\n",
    "  add_model(knn_spec)|>\n",
    "  tune_grid(resamples = bone_vfold, grid = k_val)"
   ]
  },
  {
   "cell_type": "code",
   "execution_count": 162,
   "id": "abba03b8-6cf2-47dc-9741-d4dc45d277e4",
   "metadata": {},
   "outputs": [
    {
     "data": {
      "text/html": [
       "<table class=\"dataframe\">\n",
       "<caption>A tibble: 25 × 7</caption>\n",
       "<thead>\n",
       "\t<tr><th scope=col>neighbors</th><th scope=col>.metric</th><th scope=col>.estimator</th><th scope=col>mean</th><th scope=col>n</th><th scope=col>std_err</th><th scope=col>.config</th></tr>\n",
       "\t<tr><th scope=col>&lt;dbl&gt;</th><th scope=col>&lt;chr&gt;</th><th scope=col>&lt;chr&gt;</th><th scope=col>&lt;dbl&gt;</th><th scope=col>&lt;int&gt;</th><th scope=col>&lt;dbl&gt;</th><th scope=col>&lt;chr&gt;</th></tr>\n",
       "</thead>\n",
       "<tbody>\n",
       "\t<tr><td>1</td><td>accuracy</td><td>binary</td><td>0.6045612</td><td>5</td><td>0.05883035</td><td>Preprocessor1_Model01</td></tr>\n",
       "\t<tr><td>2</td><td>accuracy</td><td>binary</td><td>0.6045612</td><td>5</td><td>0.05883035</td><td>Preprocessor1_Model02</td></tr>\n",
       "\t<tr><td>3</td><td>accuracy</td><td>binary</td><td>0.7043696</td><td>5</td><td>0.04227367</td><td>Preprocessor1_Model03</td></tr>\n",
       "\t<tr><td>⋮</td><td>⋮</td><td>⋮</td><td>⋮</td><td>⋮</td><td>⋮</td><td>⋮</td></tr>\n",
       "\t<tr><td>23</td><td>accuracy</td><td>binary</td><td>0.727349</td><td>5</td><td>0.01497418</td><td>Preprocessor1_Model23</td></tr>\n",
       "\t<tr><td>24</td><td>accuracy</td><td>binary</td><td>0.727349</td><td>5</td><td>0.01497418</td><td>Preprocessor1_Model24</td></tr>\n",
       "\t<tr><td>25</td><td>accuracy</td><td>binary</td><td>0.727349</td><td>5</td><td>0.01497418</td><td>Preprocessor1_Model25</td></tr>\n",
       "</tbody>\n",
       "</table>\n"
      ],
      "text/latex": [
       "A tibble: 25 × 7\n",
       "\\begin{tabular}{lllllll}\n",
       " neighbors & .metric & .estimator & mean & n & std\\_err & .config\\\\\n",
       " <dbl> & <chr> & <chr> & <dbl> & <int> & <dbl> & <chr>\\\\\n",
       "\\hline\n",
       "\t 1 & accuracy & binary & 0.6045612 & 5 & 0.05883035 & Preprocessor1\\_Model01\\\\\n",
       "\t 2 & accuracy & binary & 0.6045612 & 5 & 0.05883035 & Preprocessor1\\_Model02\\\\\n",
       "\t 3 & accuracy & binary & 0.7043696 & 5 & 0.04227367 & Preprocessor1\\_Model03\\\\\n",
       "\t ⋮ & ⋮ & ⋮ & ⋮ & ⋮ & ⋮ & ⋮\\\\\n",
       "\t 23 & accuracy & binary & 0.727349 & 5 & 0.01497418 & Preprocessor1\\_Model23\\\\\n",
       "\t 24 & accuracy & binary & 0.727349 & 5 & 0.01497418 & Preprocessor1\\_Model24\\\\\n",
       "\t 25 & accuracy & binary & 0.727349 & 5 & 0.01497418 & Preprocessor1\\_Model25\\\\\n",
       "\\end{tabular}\n"
      ],
      "text/markdown": [
       "\n",
       "A tibble: 25 × 7\n",
       "\n",
       "| neighbors &lt;dbl&gt; | .metric &lt;chr&gt; | .estimator &lt;chr&gt; | mean &lt;dbl&gt; | n &lt;int&gt; | std_err &lt;dbl&gt; | .config &lt;chr&gt; |\n",
       "|---|---|---|---|---|---|---|\n",
       "| 1 | accuracy | binary | 0.6045612 | 5 | 0.05883035 | Preprocessor1_Model01 |\n",
       "| 2 | accuracy | binary | 0.6045612 | 5 | 0.05883035 | Preprocessor1_Model02 |\n",
       "| 3 | accuracy | binary | 0.7043696 | 5 | 0.04227367 | Preprocessor1_Model03 |\n",
       "| ⋮ | ⋮ | ⋮ | ⋮ | ⋮ | ⋮ | ⋮ |\n",
       "| 23 | accuracy | binary | 0.727349 | 5 | 0.01497418 | Preprocessor1_Model23 |\n",
       "| 24 | accuracy | binary | 0.727349 | 5 | 0.01497418 | Preprocessor1_Model24 |\n",
       "| 25 | accuracy | binary | 0.727349 | 5 | 0.01497418 | Preprocessor1_Model25 |\n",
       "\n"
      ],
      "text/plain": [
       "   neighbors .metric  .estimator mean      n std_err    .config              \n",
       "1  1         accuracy binary     0.6045612 5 0.05883035 Preprocessor1_Model01\n",
       "2  2         accuracy binary     0.6045612 5 0.05883035 Preprocessor1_Model02\n",
       "3  3         accuracy binary     0.7043696 5 0.04227367 Preprocessor1_Model03\n",
       "⋮  ⋮         ⋮        ⋮          ⋮         ⋮ ⋮          ⋮                    \n",
       "23 23        accuracy binary     0.727349  5 0.01497418 Preprocessor1_Model23\n",
       "24 24        accuracy binary     0.727349  5 0.01497418 Preprocessor1_Model24\n",
       "25 25        accuracy binary     0.727349  5 0.01497418 Preprocessor1_Model25"
      ]
     },
     "metadata": {},
     "output_type": "display_data"
    },
    {
     "data": {
      "text/html": [
       "15"
      ],
      "text/latex": [
       "15"
      ],
      "text/markdown": [
       "15"
      ],
      "text/plain": [
       "[1] 15"
      ]
     },
     "metadata": {},
     "output_type": "display_data"
    },
    {
     "data": {
      "image/png": "[encoded data removed]",
      "text/plain": [
       "plot without title"
      ]
     },
     "metadata": {
      "image/png": {
       "height": 420,
       "width": 420
      }
     },
     "output_type": "display_data"
    }
   ],
   "source": [
    "# visualize the result of our model\n",
    "bone_metric <- knn_fit |>\n",
    "collect_metrics() |>\n",
    "filter(.metric == \"accuracy\") \n",
    "bone_metric\n",
    "\n",
    "n_plot <- bone_metric |>\n",
    "ggplot(aes(x=neighbors, y = mean))+\n",
    "geom_point()+\n",
    "geom_line()+\n",
    "labs(x=\"number of neighbors\", y = \"mean accuracy\")+\n",
    "ggtitle(\"accuracy vs neighbors\")\n",
    "n_plot\n",
    "\n",
    "nmin <- bone_metric |>\n",
    "arrange(desc(mean)) |>\n",
    "slice(1)|>\n",
    "select(neighbors)|>\n",
    "pull()\n",
    "nmin"
   ]
  },
  {
   "cell_type": "code",
   "execution_count": 163,
   "id": "a11c7f10-1753-44bd-9f55-22db7f5891b3",
   "metadata": {},
   "outputs": [
    {
     "data": {
      "text/html": [
       "<table class=\"dataframe\">\n",
       "<caption>A tibble: 48 × 29</caption>\n",
       "<thead>\n",
       "\t<tr><th scope=col>.pred_class</th><th scope=col>id</th><th scope=col>Recipientgender</th><th scope=col>Stemcellsource</th><th scope=col>Donorage</th><th scope=col>Donorage35</th><th scope=col>IIIV</th><th scope=col>Gendermatch</th><th scope=col>DonorABO</th><th scope=col>ABOmatch</th><th scope=col>⋯</th><th scope=col>Relapse</th><th scope=col>aGvHDIIIIV</th><th scope=col>CD34kgx10d6</th><th scope=col>CD3dCD34</th><th scope=col>CD3dkgx10d8</th><th scope=col>Rbodymass</th><th scope=col>ANCrecovery</th><th scope=col>PLTrecovery</th><th scope=col>time_to_aGvHD_III_IV</th><th scope=col>survival_status</th></tr>\n",
       "\t<tr><th scope=col>&lt;fct&gt;</th><th scope=col>&lt;dbl&gt;</th><th scope=col>&lt;dbl&gt;</th><th scope=col>&lt;dbl&gt;</th><th scope=col>&lt;dbl&gt;</th><th scope=col>&lt;dbl&gt;</th><th scope=col>&lt;dbl&gt;</th><th scope=col>&lt;dbl&gt;</th><th scope=col>&lt;dbl&gt;</th><th scope=col>&lt;dbl&gt;</th><th scope=col>⋯</th><th scope=col>&lt;dbl&gt;</th><th scope=col>&lt;dbl&gt;</th><th scope=col>&lt;dbl&gt;</th><th scope=col>&lt;dbl&gt;</th><th scope=col>&lt;dbl&gt;</th><th scope=col>&lt;dbl&gt;</th><th scope=col>&lt;dbl&gt;</th><th scope=col>&lt;dbl&gt;</th><th scope=col>&lt;dbl&gt;</th><th scope=col>&lt;fct&gt;</th></tr>\n",
       "</thead>\n",
       "<tbody>\n",
       "\t<tr><td>0</td><td> 5</td><td>0</td><td>1</td><td>33.35890</td><td>0</td><td>0</td><td>0</td><td>1</td><td>1</td><td>⋯</td><td>0</td><td>1</td><td>51.85</td><td>3.972255</td><td>13.05</td><td> 9.0</td><td>14</td><td>14</td><td>1e+06</td><td>0</td></tr>\n",
       "\t<tr><td>0</td><td>13</td><td>1</td><td>1</td><td>40.86301</td><td>1</td><td>0</td><td>0</td><td>0</td><td>1</td><td>⋯</td><td>0</td><td>1</td><td>15.42</td><td>2.734654</td><td> 5.64</td><td>18.1</td><td>14</td><td>37</td><td>1e+06</td><td>0</td></tr>\n",
       "\t<tr><td>1</td><td>14</td><td>1</td><td>0</td><td>30.60274</td><td>0</td><td>1</td><td>0</td><td>0</td><td>1</td><td>⋯</td><td>1</td><td>1</td><td> 3.14</td><td>3.713956</td><td> 0.85</td><td>42.0</td><td>20</td><td>48</td><td>1e+06</td><td>1</td></tr>\n",
       "\t<tr><td>⋮</td><td>⋮</td><td>⋮</td><td>⋮</td><td>⋮</td><td>⋮</td><td>⋮</td><td>⋮</td><td>⋮</td><td>⋮</td><td>⋱</td><td>⋮</td><td>⋮</td><td>⋮</td><td>⋮</td><td>⋮</td><td>⋮</td><td>⋮</td><td>⋮</td><td>⋮</td><td>⋮</td></tr>\n",
       "\t<tr><td>0</td><td>176</td><td>0</td><td>1</td><td>36.69041</td><td>1</td><td>1</td><td>0</td><td>1</td><td>1</td><td>⋯</td><td>0</td><td>1</td><td> 7.47</td><td>0.843967</td><td>8.85</td><td>24</td><td>15</td><td>247</td><td>1e+06</td><td>0</td></tr>\n",
       "\t<tr><td>0</td><td>178</td><td>0</td><td>1</td><td>34.16712</td><td>0</td><td>1</td><td>0</td><td>0</td><td>1</td><td>⋯</td><td>0</td><td>1</td><td>11.45</td><td>1.671314</td><td>6.85</td><td>49</td><td>13</td><td> 14</td><td>1e+06</td><td>0</td></tr>\n",
       "\t<tr><td>0</td><td>185</td><td>0</td><td>1</td><td>27.34794</td><td>0</td><td>1</td><td>0</td><td>1</td><td>1</td><td>⋯</td><td>0</td><td>1</td><td> 7.73</td><td>1.635559</td><td>4.73</td><td>33</td><td>16</td><td> 16</td><td>1e+06</td><td>0</td></tr>\n",
       "</tbody>\n",
       "</table>\n"
      ],
      "text/latex": [
       "A tibble: 48 × 29\n",
       "\\begin{tabular}{lllllllllllllllllllll}\n",
       " .pred\\_class & id & Recipientgender & Stemcellsource & Donorage & Donorage35 & IIIV & Gendermatch & DonorABO & ABOmatch & ⋯ & Relapse & aGvHDIIIIV & CD34kgx10d6 & CD3dCD34 & CD3dkgx10d8 & Rbodymass & ANCrecovery & PLTrecovery & time\\_to\\_aGvHD\\_III\\_IV & survival\\_status\\\\\n",
       " <fct> & <dbl> & <dbl> & <dbl> & <dbl> & <dbl> & <dbl> & <dbl> & <dbl> & <dbl> & ⋯ & <dbl> & <dbl> & <dbl> & <dbl> & <dbl> & <dbl> & <dbl> & <dbl> & <dbl> & <fct>\\\\\n",
       "\\hline\n",
       "\t 0 &  5 & 0 & 1 & 33.35890 & 0 & 0 & 0 & 1 & 1 & ⋯ & 0 & 1 & 51.85 & 3.972255 & 13.05 &  9.0 & 14 & 14 & 1e+06 & 0\\\\\n",
       "\t 0 & 13 & 1 & 1 & 40.86301 & 1 & 0 & 0 & 0 & 1 & ⋯ & 0 & 1 & 15.42 & 2.734654 &  5.64 & 18.1 & 14 & 37 & 1e+06 & 0\\\\\n",
       "\t 1 & 14 & 1 & 0 & 30.60274 & 0 & 1 & 0 & 0 & 1 & ⋯ & 1 & 1 &  3.14 & 3.713956 &  0.85 & 42.0 & 20 & 48 & 1e+06 & 1\\\\\n",
       "\t ⋮ & ⋮ & ⋮ & ⋮ & ⋮ & ⋮ & ⋮ & ⋮ & ⋮ & ⋮ & ⋱ & ⋮ & ⋮ & ⋮ & ⋮ & ⋮ & ⋮ & ⋮ & ⋮ & ⋮ & ⋮\\\\\n",
       "\t 0 & 176 & 0 & 1 & 36.69041 & 1 & 1 & 0 & 1 & 1 & ⋯ & 0 & 1 &  7.47 & 0.843967 & 8.85 & 24 & 15 & 247 & 1e+06 & 0\\\\\n",
       "\t 0 & 178 & 0 & 1 & 34.16712 & 0 & 1 & 0 & 0 & 1 & ⋯ & 0 & 1 & 11.45 & 1.671314 & 6.85 & 49 & 13 &  14 & 1e+06 & 0\\\\\n",
       "\t 0 & 185 & 0 & 1 & 27.34794 & 0 & 1 & 0 & 1 & 1 & ⋯ & 0 & 1 &  7.73 & 1.635559 & 4.73 & 33 & 16 &  16 & 1e+06 & 0\\\\\n",
       "\\end{tabular}\n"
      ],
      "text/markdown": [
       "\n",
       "A tibble: 48 × 29\n",
       "\n",
       "| .pred_class &lt;fct&gt; | id &lt;dbl&gt; | Recipientgender &lt;dbl&gt; | Stemcellsource &lt;dbl&gt; | Donorage &lt;dbl&gt; | Donorage35 &lt;dbl&gt; | IIIV &lt;dbl&gt; | Gendermatch &lt;dbl&gt; | DonorABO &lt;dbl&gt; | ABOmatch &lt;dbl&gt; | ⋯ ⋯ | Relapse &lt;dbl&gt; | aGvHDIIIIV &lt;dbl&gt; | CD34kgx10d6 &lt;dbl&gt; | CD3dCD34 &lt;dbl&gt; | CD3dkgx10d8 &lt;dbl&gt; | Rbodymass &lt;dbl&gt; | ANCrecovery &lt;dbl&gt; | PLTrecovery &lt;dbl&gt; | time_to_aGvHD_III_IV &lt;dbl&gt; | survival_status &lt;fct&gt; |\n",
       "|---|---|---|---|---|---|---|---|---|---|---|---|---|---|---|---|---|---|---|---|---|\n",
       "| 0 |  5 | 0 | 1 | 33.35890 | 0 | 0 | 0 | 1 | 1 | ⋯ | 0 | 1 | 51.85 | 3.972255 | 13.05 |  9.0 | 14 | 14 | 1e+06 | 0 |\n",
       "| 0 | 13 | 1 | 1 | 40.86301 | 1 | 0 | 0 | 0 | 1 | ⋯ | 0 | 1 | 15.42 | 2.734654 |  5.64 | 18.1 | 14 | 37 | 1e+06 | 0 |\n",
       "| 1 | 14 | 1 | 0 | 30.60274 | 0 | 1 | 0 | 0 | 1 | ⋯ | 1 | 1 |  3.14 | 3.713956 |  0.85 | 42.0 | 20 | 48 | 1e+06 | 1 |\n",
       "| ⋮ | ⋮ | ⋮ | ⋮ | ⋮ | ⋮ | ⋮ | ⋮ | ⋮ | ⋮ | ⋱ | ⋮ | ⋮ | ⋮ | ⋮ | ⋮ | ⋮ | ⋮ | ⋮ | ⋮ | ⋮ |\n",
       "| 0 | 176 | 0 | 1 | 36.69041 | 1 | 1 | 0 | 1 | 1 | ⋯ | 0 | 1 |  7.47 | 0.843967 | 8.85 | 24 | 15 | 247 | 1e+06 | 0 |\n",
       "| 0 | 178 | 0 | 1 | 34.16712 | 0 | 1 | 0 | 0 | 1 | ⋯ | 0 | 1 | 11.45 | 1.671314 | 6.85 | 49 | 13 |  14 | 1e+06 | 0 |\n",
       "| 0 | 185 | 0 | 1 | 27.34794 | 0 | 1 | 0 | 1 | 1 | ⋯ | 0 | 1 |  7.73 | 1.635559 | 4.73 | 33 | 16 |  16 | 1e+06 | 0 |\n",
       "\n"
      ],
      "text/plain": [
       "   .pred_class id  Recipientgender Stemcellsource Donorage Donorage35 IIIV\n",
       "1  0            5  0               1              33.35890 0          0   \n",
       "2  0           13  1               1              40.86301 1          0   \n",
       "3  1           14  1               0              30.60274 0          1   \n",
       "⋮  ⋮           ⋮   ⋮               ⋮              ⋮        ⋮          ⋮   \n",
       "46 0           176 0               1              36.69041 1          1   \n",
       "47 0           178 0               1              34.16712 0          1   \n",
       "48 0           185 0               1              27.34794 0          1   \n",
       "   Gendermatch DonorABO ABOmatch ⋯ Relapse aGvHDIIIIV CD34kgx10d6 CD3dCD34\n",
       "1  0           1        1        ⋯ 0       1          51.85       3.972255\n",
       "2  0           0        1        ⋯ 0       1          15.42       2.734654\n",
       "3  0           0        1        ⋯ 1       1           3.14       3.713956\n",
       "⋮  ⋮           ⋮        ⋮        ⋱ ⋮       ⋮          ⋮           ⋮       \n",
       "46 0           1        1        ⋯ 0       1           7.47       0.843967\n",
       "47 0           0        1        ⋯ 0       1          11.45       1.671314\n",
       "48 0           1        1        ⋯ 0       1           7.73       1.635559\n",
       "   CD3dkgx10d8 Rbodymass ANCrecovery PLTrecovery time_to_aGvHD_III_IV\n",
       "1  13.05        9.0      14          14          1e+06               \n",
       "2   5.64       18.1      14          37          1e+06               \n",
       "3   0.85       42.0      20          48          1e+06               \n",
       "⋮  ⋮           ⋮         ⋮           ⋮           ⋮                   \n",
       "46 8.85        24        15          247         1e+06               \n",
       "47 6.85        49        13           14         1e+06               \n",
       "48 4.73        33        16           16         1e+06               \n",
       "   survival_status\n",
       "1  0              \n",
       "2  0              \n",
       "3  1              \n",
       "⋮  ⋮              \n",
       "46 0              \n",
       "47 0              \n",
       "48 0              "
      ]
     },
     "metadata": {},
     "output_type": "display_data"
    }
   ],
   "source": [
    "knn_best_spec <- nearest_neighbor(weight_func = \"rectangular\", neighbor = nmin)|>\n",
    "  set_engine(\"kknn\")|>\n",
    "  set_mode(\"classification\")\n",
    "\n",
    "bone_vfold <- vfold_cv(bone_training, v = 5, strata = survival_status)\n",
    "\n",
    "# build the workflow for building model\n",
    "knn_fit <- workflow()|>\n",
    "add_recipe(bone_recipe)|>\n",
    "add_model(knn_best_spec)|>\n",
    "fit(data = bone_training)\n",
    "\n",
    "bone_pred <- predict(knn_fit, bone_testing) |>\n",
    "bind_cols(bone_testing |> mutate(survival_status = as.factor(survival_status)))\n",
    "bone_pred"
   ]
  },
  {
   "cell_type": "code",
   "execution_count": 165,
   "id": "356e1a98-c70b-45a5-9448-e6e585bd64a1",
   "metadata": {},
   "outputs": [
    {
     "data": {
      "text/html": [
       "<table class=\"dataframe\">\n",
       "<caption>A tibble: 1 × 3</caption>\n",
       "<thead>\n",
       "\t<tr><th scope=col>.metric</th><th scope=col>.estimator</th><th scope=col>.estimate</th></tr>\n",
       "\t<tr><th scope=col>&lt;chr&gt;</th><th scope=col>&lt;chr&gt;</th><th scope=col>&lt;dbl&gt;</th></tr>\n",
       "</thead>\n",
       "<tbody>\n",
       "\t<tr><td>accuracy</td><td>binary</td><td>0.7083333</td></tr>\n",
       "</tbody>\n",
       "</table>\n"
      ],
      "text/latex": [
       "A tibble: 1 × 3\n",
       "\\begin{tabular}{lll}\n",
       " .metric & .estimator & .estimate\\\\\n",
       " <chr> & <chr> & <dbl>\\\\\n",
       "\\hline\n",
       "\t accuracy & binary & 0.7083333\\\\\n",
       "\\end{tabular}\n"
      ],
      "text/markdown": [
       "\n",
       "A tibble: 1 × 3\n",
       "\n",
       "| .metric &lt;chr&gt; | .estimator &lt;chr&gt; | .estimate &lt;dbl&gt; |\n",
       "|---|---|---|\n",
       "| accuracy | binary | 0.7083333 |\n",
       "\n"
      ],
      "text/plain": [
       "  .metric  .estimator .estimate\n",
       "1 accuracy binary     0.7083333"
      ]
     },
     "metadata": {},
     "output_type": "display_data"
    },
    {
     "data": {
      "text/plain": [
       "          Truth\n",
       "Prediction  0  1\n",
       "         0 21  9\n",
       "         1  5 13"
      ]
     },
     "metadata": {},
     "output_type": "display_data"
    }
   ],
   "source": [
    "bone_test_metric <- bone_pred |>\n",
    "  metrics(truth = survival_status, estimate = .pred_class) |>\n",
    "  filter(.metric == \"accuracy\")\n",
    "bone_test_metric\n",
    "\n",
    "\n",
    "# get conf mat\n",
    "bone_conf <- bone_pred |>\n",
    "  conf_mat(truth = survival_status, estimate = .pred_class)\n",
    "bone_conf"
   ]
  },
  {
   "cell_type": "markdown",
   "id": "c8d45506-e50a-4ffc-adfd-4be9f5769150",
   "metadata": {},
   "source": [
    "# Results and Discussion"
   ]
  },
  {
   "cell_type": "markdown",
   "id": "2bda386c-6c9e-4922-b4f1-1e994294747c",
   "metadata": {},
   "source": [
    "# Bibliography"
   ]
  },
  {
   "cell_type": "code",
   "execution_count": 82,
   "id": "52c4680c-2f6c-4a0e-9a2f-0ac1b4e98609",
   "metadata": {},
   "outputs": [],
   "source": [
    "names <- colnames(bone_training |> select(PLTrecovery, Recipientageint, Relapse, ANCrecovery, Donorage))\n",
    "accuracies2 <- tibble(size = integer(), \n",
    "                     model_string = character(), \n",
    "                     accuracy = numeric())\n",
    "knn_spec <- nearest_neighbor(weight_func = \"rectangular\", neighbors = tune()) |>\n",
    "     set_engine(\"kknn\") |>\n",
    "     set_mode(\"classification\")\n",
    "kval <- tibble(neighbors=seq(from=1, to=10,by=1))\n",
    "\n",
    "bone_vfold <- vfold_cv(bone_training, v=5, strata = survival_status)\n",
    "n_total <- length(names)\n",
    "selected <- c()\n",
    "\n",
    "# for every size from 1 to the total number of predictors\n",
    "for (i in 1:n_total) {\n",
    "    # for every predictor still not added yet\n",
    "    accs <- list()\n",
    "    models <- list()\n",
    "    for (j in 1:length(names)) {\n",
    "        # create a model string for this combination of predictors\n",
    "        preds_new <- c(selected, names[[j]])\n",
    "        model_string <- paste(\"survival_status\", \"~\", paste(preds_new, collapse=\"+\"))\n",
    "        model_string\n",
    "        # create a recipe from the model string\n",
    "        bone_recipe <- recipe(as.formula(model_string), data = bone_training) |>\n",
    "                          step_scale(all_predictors()) |>\n",
    "                          step_center(all_predictors())\n",
    "\n",
    "        # tune the KNN classifier with these predictors, \n",
    "        # and collect the accuracy for the best K\n",
    "        acc <- workflow() |>\n",
    "          add_recipe(bone_recipe) |>\n",
    "          add_model(knn_spec) |>\n",
    "          tune_grid(resamples = bone_vfold, grid = kval) |>\n",
    "          collect_metrics() |>\n",
    "          filter(.metric == \"accuracy\") |>\n",
    "          summarize(mx = max(mean))\n",
    "        acc <- acc$mx |> unlist()\n",
    "\n",
    "        # add this result to the dataframe\n",
    "        accs[[j]] <- acc\n",
    "        models[[j]] <- model_string\n",
    "    }\n",
    "    jstar <- which.max(unlist(accs))\n",
    "    accuracies2 <- accuracies2 |> \n",
    "      add_row(size = i, \n",
    "              model_string = models[[jstar]], \n",
    "              accuracy = accs[[jstar]])\n",
    "    selected <- c(selected, names[[jstar]])\n",
    "    names <- names[-jstar]\n",
    "}"
   ]
  },
  {
   "cell_type": "code",
   "execution_count": 84,
   "id": "d91af712-002c-48e6-81fc-62300ae5e628",
   "metadata": {},
   "outputs": [
    {
     "data": {
      "text/html": [
       "<table class=\"dataframe\">\n",
       "<caption>A tibble: 5 × 3</caption>\n",
       "<thead>\n",
       "\t<tr><th scope=col>size</th><th scope=col>model_string</th><th scope=col>accuracy</th></tr>\n",
       "\t<tr><th scope=col>&lt;int&gt;</th><th scope=col>&lt;chr&gt;</th><th scope=col>&lt;dbl&gt;</th></tr>\n",
       "</thead>\n",
       "<tbody>\n",
       "\t<tr><td>1</td><td>survival_status ~ PLTrecovery                                             </td><td>0.6691115</td></tr>\n",
       "\t<tr><td>2</td><td>survival_status ~ PLTrecovery+Relapse                                     </td><td>0.7258165</td></tr>\n",
       "\t<tr><td>3</td><td>survival_status ~ PLTrecovery+Relapse+Recipientageint                     </td><td>0.7322022</td></tr>\n",
       "\t<tr><td>4</td><td>survival_status ~ PLTrecovery+Relapse+Recipientageint+Donorage            </td><td>0.7194308</td></tr>\n",
       "\t<tr><td>5</td><td>survival_status ~ PLTrecovery+Relapse+Recipientageint+Donorage+ANCrecovery</td><td>0.7194308</td></tr>\n",
       "</tbody>\n",
       "</table>\n"
      ],
      "text/latex": [
       "A tibble: 5 × 3\n",
       "\\begin{tabular}{lll}\n",
       " size & model\\_string & accuracy\\\\\n",
       " <int> & <chr> & <dbl>\\\\\n",
       "\\hline\n",
       "\t 1 & survival\\_status \\textasciitilde{} PLTrecovery                                              & 0.6691115\\\\\n",
       "\t 2 & survival\\_status \\textasciitilde{} PLTrecovery+Relapse                                      & 0.7258165\\\\\n",
       "\t 3 & survival\\_status \\textasciitilde{} PLTrecovery+Relapse+Recipientageint                      & 0.7322022\\\\\n",
       "\t 4 & survival\\_status \\textasciitilde{} PLTrecovery+Relapse+Recipientageint+Donorage             & 0.7194308\\\\\n",
       "\t 5 & survival\\_status \\textasciitilde{} PLTrecovery+Relapse+Recipientageint+Donorage+ANCrecovery & 0.7194308\\\\\n",
       "\\end{tabular}\n"
      ],
      "text/markdown": [
       "\n",
       "A tibble: 5 × 3\n",
       "\n",
       "| size &lt;int&gt; | model_string &lt;chr&gt; | accuracy &lt;dbl&gt; |\n",
       "|---|---|---|\n",
       "| 1 | survival_status ~ PLTrecovery                                              | 0.6691115 |\n",
       "| 2 | survival_status ~ PLTrecovery+Relapse                                      | 0.7258165 |\n",
       "| 3 | survival_status ~ PLTrecovery+Relapse+Recipientageint                      | 0.7322022 |\n",
       "| 4 | survival_status ~ PLTrecovery+Relapse+Recipientageint+Donorage             | 0.7194308 |\n",
       "| 5 | survival_status ~ PLTrecovery+Relapse+Recipientageint+Donorage+ANCrecovery | 0.7194308 |\n",
       "\n"
      ],
      "text/plain": [
       "  size\n",
       "1 1   \n",
       "2 2   \n",
       "3 3   \n",
       "4 4   \n",
       "5 5   \n",
       "  model_string                                                              \n",
       "1 survival_status ~ PLTrecovery                                             \n",
       "2 survival_status ~ PLTrecovery+Relapse                                     \n",
       "3 survival_status ~ PLTrecovery+Relapse+Recipientageint                     \n",
       "4 survival_status ~ PLTrecovery+Relapse+Recipientageint+Donorage            \n",
       "5 survival_status ~ PLTrecovery+Relapse+Recipientageint+Donorage+ANCrecovery\n",
       "  accuracy \n",
       "1 0.6691115\n",
       "2 0.7258165\n",
       "3 0.7322022\n",
       "4 0.7194308\n",
       "5 0.7194308"
      ]
     },
     "metadata": {},
     "output_type": "display_data"
    },
    {
     "data": {
      "text/html": [
       "<table class=\"dataframe\">\n",
       "<caption>A tibble: 5 × 3</caption>\n",
       "<thead>\n",
       "\t<tr><th scope=col>size</th><th scope=col>model_string</th><th scope=col>accuracy</th></tr>\n",
       "\t<tr><th scope=col>&lt;int&gt;</th><th scope=col>&lt;chr&gt;</th><th scope=col>&lt;dbl&gt;</th></tr>\n",
       "</thead>\n",
       "<tbody>\n",
       "\t<tr><td>1</td><td>survival_status ~ PLTrecovery                                             </td><td>0.6691115</td></tr>\n",
       "\t<tr><td>2</td><td>survival_status ~ PLTrecovery+Relapse                                     </td><td>0.7258165</td></tr>\n",
       "\t<tr><td>3</td><td>survival_status ~ PLTrecovery+Relapse+Recipientageint                     </td><td>0.7322022</td></tr>\n",
       "\t<tr><td>4</td><td>survival_status ~ PLTrecovery+Relapse+Recipientageint+Donorage            </td><td>0.7194308</td></tr>\n",
       "\t<tr><td>5</td><td>survival_status ~ PLTrecovery+Relapse+Recipientageint+Donorage+ANCrecovery</td><td>0.7194308</td></tr>\n",
       "</tbody>\n",
       "</table>\n"
      ],
      "text/latex": [
       "A tibble: 5 × 3\n",
       "\\begin{tabular}{lll}\n",
       " size & model\\_string & accuracy\\\\\n",
       " <int> & <chr> & <dbl>\\\\\n",
       "\\hline\n",
       "\t 1 & survival\\_status \\textasciitilde{} PLTrecovery                                              & 0.6691115\\\\\n",
       "\t 2 & survival\\_status \\textasciitilde{} PLTrecovery+Relapse                                      & 0.7258165\\\\\n",
       "\t 3 & survival\\_status \\textasciitilde{} PLTrecovery+Relapse+Recipientageint                      & 0.7322022\\\\\n",
       "\t 4 & survival\\_status \\textasciitilde{} PLTrecovery+Relapse+Recipientageint+Donorage             & 0.7194308\\\\\n",
       "\t 5 & survival\\_status \\textasciitilde{} PLTrecovery+Relapse+Recipientageint+Donorage+ANCrecovery & 0.7194308\\\\\n",
       "\\end{tabular}\n"
      ],
      "text/markdown": [
       "\n",
       "A tibble: 5 × 3\n",
       "\n",
       "| size &lt;int&gt; | model_string &lt;chr&gt; | accuracy &lt;dbl&gt; |\n",
       "|---|---|---|\n",
       "| 1 | survival_status ~ PLTrecovery                                              | 0.6691115 |\n",
       "| 2 | survival_status ~ PLTrecovery+Relapse                                      | 0.7258165 |\n",
       "| 3 | survival_status ~ PLTrecovery+Relapse+Recipientageint                      | 0.7322022 |\n",
       "| 4 | survival_status ~ PLTrecovery+Relapse+Recipientageint+Donorage             | 0.7194308 |\n",
       "| 5 | survival_status ~ PLTrecovery+Relapse+Recipientageint+Donorage+ANCrecovery | 0.7194308 |\n",
       "\n"
      ],
      "text/plain": [
       "  size\n",
       "1 1   \n",
       "2 2   \n",
       "3 3   \n",
       "4 4   \n",
       "5 5   \n",
       "  model_string                                                              \n",
       "1 survival_status ~ PLTrecovery                                             \n",
       "2 survival_status ~ PLTrecovery+Relapse                                     \n",
       "3 survival_status ~ PLTrecovery+Relapse+Recipientageint                     \n",
       "4 survival_status ~ PLTrecovery+Relapse+Recipientageint+Donorage            \n",
       "5 survival_status ~ PLTrecovery+Relapse+Recipientageint+Donorage+ANCrecovery\n",
       "  accuracy \n",
       "1 0.6691115\n",
       "2 0.7258165\n",
       "3 0.7322022\n",
       "4 0.7194308\n",
       "5 0.7194308"
      ]
     },
     "metadata": {},
     "output_type": "display_data"
    }
   ],
   "source": [
    "accuracies2 |> head()\n",
    "accuracies2 |> tail()"
   ]
  },
  {
   "cell_type": "code",
   "execution_count": null,
   "id": "2c50877d-b229-43e0-bdfb-5865f41f5a71",
   "metadata": {},
   "outputs": [],
   "source": []
  }
 ],
 "metadata": {
  "kernelspec": {
   "display_name": "R",
   "language": "R",
   "name": "ir"
  },
  "language_info": {
   "codemirror_mode": "r",
   "file_extension": ".r",
   "mimetype": "text/x-r-source",
   "name": "R",
   "pygments_lexer": "r",
   "version": "4.1.3"
  }
 },
 "nbformat": 4,
 "nbformat_minor": 5
}
