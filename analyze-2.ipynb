{
 "cells": [
  {
   "cell_type": "markdown",
   "id": "7e1910c4-6b17-460f-9950-c60b35e92620",
   "metadata": {},
   "source": [
    "# Which Factors in Bone Marrow Transplants Can Most Accurately Predict the Survival Rates of the Recipients? \n",
    "### Group member: \n",
    "Ellie Hu, Grace Clarke, João P. Valino, Sarah Lee, Matthew Ocampo\n",
    "## Introductions:\n",
    "Bone marrow transplants are when healthy stem cells from a donor are implanted in a patient to replace bone marrow that is not working properly and not producing enough blood cells. When specifying treating either early or advanced leukemia, bone marrow transplants have a higher survival rate of 65% compared to advanced leukemia where they have a survival rate of only 25% (Schmitz et al., 2006). Bone marrow transplants have survival rate of 46% over two years compared to other treatments such as peripheral-blood transplants which have a survival rate of 51% over the same time period (Anasetti et al., 2012).The transplant types also have a similar relapse rate (Schmitz et al., 2006).Bone marrow transplants also have a lower chance of graft failure, but a lower rate of chronic GVHD compared to peripheral-blood transplants which makes them viable options to treat leukemia.(Anasetti et al., 2012).\n",
    "## Research Question:\n",
    "It is important that a transplant is successful as the resulting recovery time is lengthy for recipients as they may need up to a year off of work. This leads to our research question: \n",
    "**Is there a relationship between donor and recipient ages/blood types/relapse/PLT recovery and the survival rates of the recipients? Can survival rate be predicted based on these variables?**\n",
    "\n",
    "\n",
    "## Data Set Information\n",
    "**Title of Data Set**: Bone marrow transplant: children Data Set\n",
    "\n",
    "**Description**: The data set describes pediatric patients with several hematologic diseases: malignant disorders (i.a. acute lymphoblastic leukemia, acute myelogenous leukemia, chronic myelogenous leukemia, myelodysplastic syndrome) and nonmalignant cases (i.a. severe aplastic anemia, Fanconi anemia, with X-linked adrenoleukodystrophy). All patients were subject to the unmanipulated allogeneic unrelated donor hematopoietic stem cell transplantation.\n",
    "- Table Contents:\n",
    "- Area: Life\n",
    "- Set Characteristics: Multivariate\n",
    "- Attribute Characteristics: Integer, Real\n",
    "- number of Instances: 187\n",
    "- number of Attributes: 39\n",
    "- number of Attributes We Will Use: 7\n",
    "- Missing Values? Yes\n",
    "\n",
    "https://archive.ics.uci.edu/ml/datasets/Bone+marrow+transplant%3A+children"
   ]
  },
  {
   "cell_type": "markdown",
   "id": "e9eef6fb-dbda-4518-9801-7b1f5a1eee26",
   "metadata": {
    "tags": []
   },
   "source": [
    "# Methods and Code"
   ]
  },
  {
   "cell_type": "code",
   "execution_count": 1,
   "id": "c18a61b6-c0a2-4148-a9f3-f566fe33ca64",
   "metadata": {},
   "outputs": [
    {
     "name": "stderr",
     "output_type": "stream",
     "text": [
      "── \u001b[1mAttaching packages\u001b[22m ─────────────────────────────────────── tidyverse 1.3.1 ──\n",
      "\n",
      "\u001b[32m✔\u001b[39m \u001b[34mggplot2\u001b[39m 3.3.6     \u001b[32m✔\u001b[39m \u001b[34mpurrr  \u001b[39m 0.3.4\n",
      "\u001b[32m✔\u001b[39m \u001b[34mtibble \u001b[39m 3.1.7     \u001b[32m✔\u001b[39m \u001b[34mdplyr  \u001b[39m 1.0.9\n",
      "\u001b[32m✔\u001b[39m \u001b[34mtidyr  \u001b[39m 1.2.0     \u001b[32m✔\u001b[39m \u001b[34mstringr\u001b[39m 1.4.0\n",
      "\u001b[32m✔\u001b[39m \u001b[34mreadr  \u001b[39m 2.1.2     \u001b[32m✔\u001b[39m \u001b[34mforcats\u001b[39m 0.5.1\n",
      "\n",
      "── \u001b[1mConflicts\u001b[22m ────────────────────────────────────────── tidyverse_conflicts() ──\n",
      "\u001b[31m✖\u001b[39m \u001b[34mdplyr\u001b[39m::\u001b[32mfilter()\u001b[39m masks \u001b[34mstats\u001b[39m::filter()\n",
      "\u001b[31m✖\u001b[39m \u001b[34mdplyr\u001b[39m::\u001b[32mlag()\u001b[39m    masks \u001b[34mstats\u001b[39m::lag()\n",
      "\n",
      "── \u001b[1mAttaching packages\u001b[22m ────────────────────────────────────── tidymodels 1.0.0 ──\n",
      "\n",
      "\u001b[32m✔\u001b[39m \u001b[34mbroom       \u001b[39m 1.0.0     \u001b[32m✔\u001b[39m \u001b[34mrsample     \u001b[39m 1.0.0\n",
      "\u001b[32m✔\u001b[39m \u001b[34mdials       \u001b[39m 1.0.0     \u001b[32m✔\u001b[39m \u001b[34mtune        \u001b[39m 1.0.0\n",
      "\u001b[32m✔\u001b[39m \u001b[34minfer       \u001b[39m 1.0.2     \u001b[32m✔\u001b[39m \u001b[34mworkflows   \u001b[39m 1.0.0\n",
      "\u001b[32m✔\u001b[39m \u001b[34mmodeldata   \u001b[39m 1.0.0     \u001b[32m✔\u001b[39m \u001b[34mworkflowsets\u001b[39m 1.0.0\n",
      "\u001b[32m✔\u001b[39m \u001b[34mparsnip     \u001b[39m 1.0.0     \u001b[32m✔\u001b[39m \u001b[34myardstick   \u001b[39m 1.0.0\n",
      "\u001b[32m✔\u001b[39m \u001b[34mrecipes     \u001b[39m 1.0.1     \n",
      "\n",
      "── \u001b[1mConflicts\u001b[22m ───────────────────────────────────────── tidymodels_conflicts() ──\n",
      "\u001b[31m✖\u001b[39m \u001b[34mscales\u001b[39m::\u001b[32mdiscard()\u001b[39m masks \u001b[34mpurrr\u001b[39m::discard()\n",
      "\u001b[31m✖\u001b[39m \u001b[34mdplyr\u001b[39m::\u001b[32mfilter()\u001b[39m   masks \u001b[34mstats\u001b[39m::filter()\n",
      "\u001b[31m✖\u001b[39m \u001b[34mrecipes\u001b[39m::\u001b[32mfixed()\u001b[39m  masks \u001b[34mstringr\u001b[39m::fixed()\n",
      "\u001b[31m✖\u001b[39m \u001b[34mdplyr\u001b[39m::\u001b[32mlag()\u001b[39m      masks \u001b[34mstats\u001b[39m::lag()\n",
      "\u001b[31m✖\u001b[39m \u001b[34myardstick\u001b[39m::\u001b[32mspec()\u001b[39m masks \u001b[34mreadr\u001b[39m::spec()\n",
      "\u001b[31m✖\u001b[39m \u001b[34mrecipes\u001b[39m::\u001b[32mstep()\u001b[39m   masks \u001b[34mstats\u001b[39m::step()\n",
      "\u001b[34m•\u001b[39m Use suppressPackageStartupMessages() to eliminate package startup messages\n",
      "\n",
      "\n",
      "Attaching package: ‘gridExtra’\n",
      "\n",
      "\n",
      "The following object is masked from ‘package:dplyr’:\n",
      "\n",
      "    combine\n",
      "\n",
      "\n"
     ]
    }
   ],
   "source": [
    "library(tidyverse)\n",
    "library(repr)\n",
    "library(tidymodels)\n",
    "library(gridExtra)\n",
    "options(repr.matrix.max.rows = 6)"
   ]
  },
  {
   "cell_type": "code",
   "execution_count": 2,
   "id": "49e202b7-9ddb-40d9-9b0f-9480b6a0827c",
   "metadata": {},
   "outputs": [
    {
     "name": "stderr",
     "output_type": "stream",
     "text": [
      "\u001b[1mRows: \u001b[22m\u001b[34m187\u001b[39m \u001b[1mColumns: \u001b[22m\u001b[34m38\u001b[39m\n",
      "\u001b[36m──\u001b[39m \u001b[1mColumn specification\u001b[22m \u001b[36m────────────────────────────────────────────────────────\u001b[39m\n",
      "\u001b[1mDelimiter:\u001b[22m \",\"\n",
      "\u001b[31mchr\u001b[39m (13): RecipientABO, RecipientRh, ABOmatch, CMVstatus, DonorCMV, Recipien...\n",
      "\u001b[32mdbl\u001b[39m (25): id, Recipientgender, Stemcellsource, Donorage, Donorage35, IIIV, G...\n",
      "\n",
      "\u001b[36mℹ\u001b[39m Use `spec()` to retrieve the full column specification for this data.\n",
      "\u001b[36mℹ\u001b[39m Specify the column types or set `show_col_types = FALSE` to quiet this message.\n"
     ]
    },
    {
     "data": {
      "text/html": [
       "<table class=\"dataframe\">\n",
       "<caption>A tibble: 6 × 38</caption>\n",
       "<thead>\n",
       "\t<tr><th scope=col>id</th><th scope=col>Recipientgender</th><th scope=col>Stemcellsource</th><th scope=col>Donorage</th><th scope=col>Donorage35</th><th scope=col>IIIV</th><th scope=col>Gendermatch</th><th scope=col>DonorABO</th><th scope=col>RecipientABO</th><th scope=col>RecipientRh</th><th scope=col>⋯</th><th scope=col>extcGvHD</th><th scope=col>CD34kgx10d6</th><th scope=col>CD3dCD34</th><th scope=col>CD3dkgx10d8</th><th scope=col>Rbodymass</th><th scope=col>ANCrecovery</th><th scope=col>PLTrecovery</th><th scope=col>time_to_aGvHD_III_IV</th><th scope=col>survival_time</th><th scope=col>survival_status</th></tr>\n",
       "\t<tr><th scope=col>&lt;dbl&gt;</th><th scope=col>&lt;dbl&gt;</th><th scope=col>&lt;dbl&gt;</th><th scope=col>&lt;dbl&gt;</th><th scope=col>&lt;dbl&gt;</th><th scope=col>&lt;dbl&gt;</th><th scope=col>&lt;dbl&gt;</th><th scope=col>&lt;dbl&gt;</th><th scope=col>&lt;chr&gt;</th><th scope=col>&lt;chr&gt;</th><th scope=col>⋯</th><th scope=col>&lt;chr&gt;</th><th scope=col>&lt;dbl&gt;</th><th scope=col>&lt;chr&gt;</th><th scope=col>&lt;chr&gt;</th><th scope=col>&lt;chr&gt;</th><th scope=col>&lt;dbl&gt;</th><th scope=col>&lt;dbl&gt;</th><th scope=col>&lt;dbl&gt;</th><th scope=col>&lt;dbl&gt;</th><th scope=col>&lt;dbl&gt;</th></tr>\n",
       "</thead>\n",
       "<tbody>\n",
       "\t<tr><td>1</td><td>1</td><td>1</td><td>22.83014</td><td>0</td><td>1</td><td>0</td><td> 1</td><td>1 </td><td>1</td><td>⋯</td><td>1</td><td> 7.20</td><td>1.33876  </td><td>5.38 </td><td>35  </td><td>19</td><td>51</td><td>     32</td><td> 999</td><td>0</td></tr>\n",
       "\t<tr><td>2</td><td>1</td><td>0</td><td>23.34247</td><td>0</td><td>1</td><td>0</td><td>-1</td><td>-1</td><td>1</td><td>⋯</td><td>1</td><td> 4.50</td><td>11.078295</td><td>0.41 </td><td>20.6</td><td>16</td><td>37</td><td>1000000</td><td> 163</td><td>1</td></tr>\n",
       "\t<tr><td>3</td><td>1</td><td>0</td><td>26.39452</td><td>0</td><td>1</td><td>0</td><td>-1</td><td>-1</td><td>1</td><td>⋯</td><td>1</td><td> 7.94</td><td>19.01323 </td><td>0.42 </td><td>23.4</td><td>23</td><td>20</td><td>1000000</td><td> 435</td><td>1</td></tr>\n",
       "\t<tr><td>4</td><td>0</td><td>0</td><td>39.68493</td><td>1</td><td>1</td><td>0</td><td> 1</td><td>2 </td><td>1</td><td>⋯</td><td>?</td><td> 4.25</td><td>29.481647</td><td>0.14 </td><td>50  </td><td>23</td><td>29</td><td>     19</td><td>  53</td><td>1</td></tr>\n",
       "\t<tr><td>5</td><td>0</td><td>1</td><td>33.35890</td><td>0</td><td>0</td><td>0</td><td> 1</td><td>2 </td><td>0</td><td>⋯</td><td>1</td><td>51.85</td><td>3.972255 </td><td>13.05</td><td>9   </td><td>14</td><td>14</td><td>1000000</td><td>2043</td><td>0</td></tr>\n",
       "\t<tr><td>6</td><td>1</td><td>0</td><td>27.39178</td><td>0</td><td>0</td><td>0</td><td> 2</td><td>0 </td><td>1</td><td>⋯</td><td>1</td><td> 3.27</td><td>8.412758 </td><td>0.39 </td><td>40  </td><td>16</td><td>70</td><td>1000000</td><td>2800</td><td>0</td></tr>\n",
       "</tbody>\n",
       "</table>\n"
      ],
      "text/latex": [
       "A tibble: 6 × 38\n",
       "\\begin{tabular}{lllllllllllllllllllll}\n",
       " id & Recipientgender & Stemcellsource & Donorage & Donorage35 & IIIV & Gendermatch & DonorABO & RecipientABO & RecipientRh & ⋯ & extcGvHD & CD34kgx10d6 & CD3dCD34 & CD3dkgx10d8 & Rbodymass & ANCrecovery & PLTrecovery & time\\_to\\_aGvHD\\_III\\_IV & survival\\_time & survival\\_status\\\\\n",
       " <dbl> & <dbl> & <dbl> & <dbl> & <dbl> & <dbl> & <dbl> & <dbl> & <chr> & <chr> & ⋯ & <chr> & <dbl> & <chr> & <chr> & <chr> & <dbl> & <dbl> & <dbl> & <dbl> & <dbl>\\\\\n",
       "\\hline\n",
       "\t 1 & 1 & 1 & 22.83014 & 0 & 1 & 0 &  1 & 1  & 1 & ⋯ & 1 &  7.20 & 1.33876   & 5.38  & 35   & 19 & 51 &      32 &  999 & 0\\\\\n",
       "\t 2 & 1 & 0 & 23.34247 & 0 & 1 & 0 & -1 & -1 & 1 & ⋯ & 1 &  4.50 & 11.078295 & 0.41  & 20.6 & 16 & 37 & 1000000 &  163 & 1\\\\\n",
       "\t 3 & 1 & 0 & 26.39452 & 0 & 1 & 0 & -1 & -1 & 1 & ⋯ & 1 &  7.94 & 19.01323  & 0.42  & 23.4 & 23 & 20 & 1000000 &  435 & 1\\\\\n",
       "\t 4 & 0 & 0 & 39.68493 & 1 & 1 & 0 &  1 & 2  & 1 & ⋯ & ? &  4.25 & 29.481647 & 0.14  & 50   & 23 & 29 &      19 &   53 & 1\\\\\n",
       "\t 5 & 0 & 1 & 33.35890 & 0 & 0 & 0 &  1 & 2  & 0 & ⋯ & 1 & 51.85 & 3.972255  & 13.05 & 9    & 14 & 14 & 1000000 & 2043 & 0\\\\\n",
       "\t 6 & 1 & 0 & 27.39178 & 0 & 0 & 0 &  2 & 0  & 1 & ⋯ & 1 &  3.27 & 8.412758  & 0.39  & 40   & 16 & 70 & 1000000 & 2800 & 0\\\\\n",
       "\\end{tabular}\n"
      ],
      "text/markdown": [
       "\n",
       "A tibble: 6 × 38\n",
       "\n",
       "| id &lt;dbl&gt; | Recipientgender &lt;dbl&gt; | Stemcellsource &lt;dbl&gt; | Donorage &lt;dbl&gt; | Donorage35 &lt;dbl&gt; | IIIV &lt;dbl&gt; | Gendermatch &lt;dbl&gt; | DonorABO &lt;dbl&gt; | RecipientABO &lt;chr&gt; | RecipientRh &lt;chr&gt; | ⋯ ⋯ | extcGvHD &lt;chr&gt; | CD34kgx10d6 &lt;dbl&gt; | CD3dCD34 &lt;chr&gt; | CD3dkgx10d8 &lt;chr&gt; | Rbodymass &lt;chr&gt; | ANCrecovery &lt;dbl&gt; | PLTrecovery &lt;dbl&gt; | time_to_aGvHD_III_IV &lt;dbl&gt; | survival_time &lt;dbl&gt; | survival_status &lt;dbl&gt; |\n",
       "|---|---|---|---|---|---|---|---|---|---|---|---|---|---|---|---|---|---|---|---|---|\n",
       "| 1 | 1 | 1 | 22.83014 | 0 | 1 | 0 |  1 | 1  | 1 | ⋯ | 1 |  7.20 | 1.33876   | 5.38  | 35   | 19 | 51 |      32 |  999 | 0 |\n",
       "| 2 | 1 | 0 | 23.34247 | 0 | 1 | 0 | -1 | -1 | 1 | ⋯ | 1 |  4.50 | 11.078295 | 0.41  | 20.6 | 16 | 37 | 1000000 |  163 | 1 |\n",
       "| 3 | 1 | 0 | 26.39452 | 0 | 1 | 0 | -1 | -1 | 1 | ⋯ | 1 |  7.94 | 19.01323  | 0.42  | 23.4 | 23 | 20 | 1000000 |  435 | 1 |\n",
       "| 4 | 0 | 0 | 39.68493 | 1 | 1 | 0 |  1 | 2  | 1 | ⋯ | ? |  4.25 | 29.481647 | 0.14  | 50   | 23 | 29 |      19 |   53 | 1 |\n",
       "| 5 | 0 | 1 | 33.35890 | 0 | 0 | 0 |  1 | 2  | 0 | ⋯ | 1 | 51.85 | 3.972255  | 13.05 | 9    | 14 | 14 | 1000000 | 2043 | 0 |\n",
       "| 6 | 1 | 0 | 27.39178 | 0 | 0 | 0 |  2 | 0  | 1 | ⋯ | 1 |  3.27 | 8.412758  | 0.39  | 40   | 16 | 70 | 1000000 | 2800 | 0 |\n",
       "\n"
      ],
      "text/plain": [
       "  id Recipientgender Stemcellsource Donorage Donorage35 IIIV Gendermatch\n",
       "1 1  1               1              22.83014 0          1    0          \n",
       "2 2  1               0              23.34247 0          1    0          \n",
       "3 3  1               0              26.39452 0          1    0          \n",
       "4 4  0               0              39.68493 1          1    0          \n",
       "5 5  0               1              33.35890 0          0    0          \n",
       "6 6  1               0              27.39178 0          0    0          \n",
       "  DonorABO RecipientABO RecipientRh ⋯ extcGvHD CD34kgx10d6 CD3dCD34 \n",
       "1  1       1            1           ⋯ 1         7.20       1.33876  \n",
       "2 -1       -1           1           ⋯ 1         4.50       11.078295\n",
       "3 -1       -1           1           ⋯ 1         7.94       19.01323 \n",
       "4  1       2            1           ⋯ ?         4.25       29.481647\n",
       "5  1       2            0           ⋯ 1        51.85       3.972255 \n",
       "6  2       0            1           ⋯ 1         3.27       8.412758 \n",
       "  CD3dkgx10d8 Rbodymass ANCrecovery PLTrecovery time_to_aGvHD_III_IV\n",
       "1 5.38        35        19          51               32             \n",
       "2 0.41        20.6      16          37          1000000             \n",
       "3 0.42        23.4      23          20          1000000             \n",
       "4 0.14        50        23          29               19             \n",
       "5 13.05       9         14          14          1000000             \n",
       "6 0.39        40        16          70          1000000             \n",
       "  survival_time survival_status\n",
       "1  999          0              \n",
       "2  163          1              \n",
       "3  435          1              \n",
       "4   53          1              \n",
       "5 2043          0              \n",
       "6 2800          0              "
      ]
     },
     "metadata": {},
     "output_type": "display_data"
    },
    {
     "name": "stdout",
     "output_type": "stream",
     "text": [
      "Rows: 187\n",
      "Columns: 38\n",
      "$ id                   \u001b[3m\u001b[90m<dbl>\u001b[39m\u001b[23m 1, 2, 3, 4, 5, 6, 7, 8, 9, 10, 11, 12, 13, 14, 15…\n",
      "$ Recipientgender      \u001b[3m\u001b[90m<dbl>\u001b[39m\u001b[23m 1, 1, 1, 0, 0, 1, 0, 1, 1, 1, 0, 0, 1, 1, 1, 1, 1…\n",
      "$ Stemcellsource       \u001b[3m\u001b[90m<dbl>\u001b[39m\u001b[23m 1, 0, 0, 0, 1, 0, 1, 0, 1, 1, 1, 1, 1, 0, 1, 0, 1…\n",
      "$ Donorage             \u001b[3m\u001b[90m<dbl>\u001b[39m\u001b[23m 22.83014, 23.34247, 26.39452, 39.68493, 33.35890,…\n",
      "$ Donorage35           \u001b[3m\u001b[90m<dbl>\u001b[39m\u001b[23m 0, 0, 0, 1, 0, 0, 0, 0, 0, 0, 0, 1, 1, 0, 0, 1, 1…\n",
      "$ IIIV                 \u001b[3m\u001b[90m<dbl>\u001b[39m\u001b[23m 1, 1, 1, 1, 0, 0, 1, 1, 0, 1, 0, 1, 0, 1, 1, 0, 1…\n",
      "$ Gendermatch          \u001b[3m\u001b[90m<dbl>\u001b[39m\u001b[23m 0, 0, 0, 0, 0, 0, 0, 0, 0, 1, 0, 0, 0, 0, 0, 0, 0…\n",
      "$ DonorABO             \u001b[3m\u001b[90m<dbl>\u001b[39m\u001b[23m 1, -1, -1, 1, 1, 2, 0, 0, 2, 1, 0, 1, 0, 0, 1, 0,…\n",
      "$ RecipientABO         \u001b[3m\u001b[90m<chr>\u001b[39m\u001b[23m \"1\", \"-1\", \"-1\", \"2\", \"2\", \"0\", \"1\", \"1\", \"0\", \"0…\n",
      "$ RecipientRh          \u001b[3m\u001b[90m<chr>\u001b[39m\u001b[23m \"1\", \"1\", \"1\", \"1\", \"0\", \"1\", \"0\", \"1\", \"1\", \"1\",…\n",
      "$ ABOmatch             \u001b[3m\u001b[90m<chr>\u001b[39m\u001b[23m \"0\", \"0\", \"0\", \"1\", \"1\", \"1\", \"1\", \"1\", \"1\", \"1\",…\n",
      "$ CMVstatus            \u001b[3m\u001b[90m<chr>\u001b[39m\u001b[23m \"3\", \"0\", \"2\", \"1\", \"0\", \"?\", \"?\", \"1\", \"2\", \"2\",…\n",
      "$ DonorCMV             \u001b[3m\u001b[90m<chr>\u001b[39m\u001b[23m \"1\", \"0\", \"0\", \"1\", \"0\", \"?\", \"0\", \"1\", \"0\", \"0\",…\n",
      "$ RecipientCMV         \u001b[3m\u001b[90m<chr>\u001b[39m\u001b[23m \"1\", \"0\", \"1\", \"0\", \"1\", \"1\", \"?\", \"0\", \"1\", \"1\",…\n",
      "$ Disease              \u001b[3m\u001b[90m<chr>\u001b[39m\u001b[23m \"ALL\", \"ALL\", \"ALL\", \"AML\", \"chronic\", \"chronic\",…\n",
      "$ Riskgroup            \u001b[3m\u001b[90m<dbl>\u001b[39m\u001b[23m 1, 0, 0, 0, 1, 1, 0, 0, 0, 0, 1, 1, 0, 1, 1, 1, 0…\n",
      "$ Txpostrelapse        \u001b[3m\u001b[90m<dbl>\u001b[39m\u001b[23m 0, 0, 0, 0, 0, 1, 0, 0, 0, 0, 0, 0, 0, 0, 0, 0, 0…\n",
      "$ Diseasegroup         \u001b[3m\u001b[90m<dbl>\u001b[39m\u001b[23m 1, 1, 1, 1, 1, 1, 1, 0, 0, 0, 1, 1, 1, 1, 1, 1, 1…\n",
      "$ HLAmatch             \u001b[3m\u001b[90m<dbl>\u001b[39m\u001b[23m 0, 0, 0, 0, 1, 0, 0, 3, 0, 1, 1, 2, 0, 0, 0, 1, 1…\n",
      "$ HLAmismatch          \u001b[3m\u001b[90m<dbl>\u001b[39m\u001b[23m 0, 0, 0, 0, 0, 0, 0, 1, 0, 0, 0, 1, 0, 0, 0, 0, 0…\n",
      "$ Antigen              \u001b[3m\u001b[90m<chr>\u001b[39m\u001b[23m \"-1\", \"-1\", \"-1\", \"-1\", \"1\", \"-1\", \"-1\", \"1\", \"-1…\n",
      "$ Alel                 \u001b[3m\u001b[90m<chr>\u001b[39m\u001b[23m \"-1\", \"-1\", \"-1\", \"-1\", \"0\", \"-1\", \"-1\", \"2\", \"-1…\n",
      "$ HLAgrI               \u001b[3m\u001b[90m<dbl>\u001b[39m\u001b[23m 0, 0, 0, 0, 1, 0, 0, 7, 0, 3, 2, 4, 0, 0, 0, 1, 2…\n",
      "$ Recipientage         \u001b[3m\u001b[90m<dbl>\u001b[39m\u001b[23m 9.6, 4.0, 6.6, 18.1, 1.3, 8.9, 14.4, 18.2, 7.9, 4…\n",
      "$ Recipientage10       \u001b[3m\u001b[90m<dbl>\u001b[39m\u001b[23m 0, 0, 0, 1, 0, 0, 1, 1, 0, 0, 0, 1, 0, 1, 1, 1, 1…\n",
      "$ Recipientageint      \u001b[3m\u001b[90m<dbl>\u001b[39m\u001b[23m 1, 0, 1, 2, 0, 1, 2, 2, 1, 0, 0, 2, 1, 2, 2, 2, 2…\n",
      "$ Relapse              \u001b[3m\u001b[90m<dbl>\u001b[39m\u001b[23m 0, 1, 1, 0, 0, 0, 0, 0, 0, 0, 0, 0, 0, 1, 0, 0, 0…\n",
      "$ aGvHDIIIIV           \u001b[3m\u001b[90m<dbl>\u001b[39m\u001b[23m 0, 1, 1, 0, 1, 1, 0, 0, 1, 1, 1, 1, 1, 1, 1, 1, 1…\n",
      "$ extcGvHD             \u001b[3m\u001b[90m<chr>\u001b[39m\u001b[23m \"1\", \"1\", \"1\", \"?\", \"1\", \"1\", \"?\", \"?\", \"1\", \"1\",…\n",
      "$ CD34kgx10d6          \u001b[3m\u001b[90m<dbl>\u001b[39m\u001b[23m 7.20, 4.50, 7.94, 4.25, 51.85, 3.27, 17.78, 6.41,…\n",
      "$ CD3dCD34             \u001b[3m\u001b[90m<chr>\u001b[39m\u001b[23m \"1.33876\", \"11.078295\", \"19.01323\", \"29.481647\", …\n",
      "$ CD3dkgx10d8          \u001b[3m\u001b[90m<chr>\u001b[39m\u001b[23m \"5.38\", \"0.41\", \"0.42\", \"0.14\", \"13.05\", \"0.39\", …\n",
      "$ Rbodymass            \u001b[3m\u001b[90m<chr>\u001b[39m\u001b[23m \"35\", \"20.6\", \"23.4\", \"50\", \"9\", \"40\", \"51\", \"56\"…\n",
      "$ ANCrecovery          \u001b[3m\u001b[90m<dbl>\u001b[39m\u001b[23m 19, 16, 23, 23, 14, 16, 17, 22, 15, 16, 12, 11, 1…\n",
      "$ PLTrecovery          \u001b[3m\u001b[90m<dbl>\u001b[39m\u001b[23m 51, 37, 20, 29, 14, 70, 29, 58, 14, 17, 13, 16, 3…\n",
      "$ time_to_aGvHD_III_IV \u001b[3m\u001b[90m<dbl>\u001b[39m\u001b[23m 32, 1000000, 1000000, 19, 1000000, 1000000, 18, 2…\n",
      "$ survival_time        \u001b[3m\u001b[90m<dbl>\u001b[39m\u001b[23m 999, 163, 435, 53, 2043, 2800, 41, 45, 671, 676, …\n",
      "$ survival_status      \u001b[3m\u001b[90m<dbl>\u001b[39m\u001b[23m 0, 1, 1, 1, 0, 0, 1, 1, 0, 0, 0, 0, 0, 1, 0, 0, 1…\n"
     ]
    }
   ],
   "source": [
    "# look through the dataset to see what type of variables we have\n",
    "bone_data <- read_csv(\"data/boneMarrow.csv\")\n",
    "head(bone_data)\n",
    "glimpse(bone_data)"
   ]
  },
  {
   "cell_type": "markdown",
   "id": "0ec1ca6b-0c61-46c8-873e-2d46e0e10069",
   "metadata": {},
   "source": [
    "- `table1`: the first 6 observation of the data\n",
    "- `text1`: the overview of the variables present in the database"
   ]
  },
  {
   "cell_type": "markdown",
   "id": "67216e13-3876-4157-a6c9-f87625b82bd7",
   "metadata": {
    "tags": []
   },
   "source": [
    "## Part 1: Original data visualization (proposal)"
   ]
  },
  {
   "cell_type": "markdown",
   "id": "4bca43ea-6b8a-4f09-bccc-dc4828237949",
   "metadata": {},
   "source": [
    "`METHOD` We will be focusing on eight variables for our analysis. The first four include donor_age, recipient_age, donor_ABO and recipient_ABO. Our aim is to analyze these variables by comparing similarities and differences between their respective pairs (for example, comparing the age of a donor to the age of their respective recipient). For age, we will compare the ranges in which donor age and recipient age differ, while for ABO (blood type), we will focus on matching blood types or non-matching blood types. This may involve the creation of new variables, such as the difference between ages of donor and recipient. From here, we can compare different observations based on how these variables differ."
   ]
  },
  {
   "cell_type": "code",
   "execution_count": 3,
   "id": "8ab57b09-5f8e-4200-be30-6c99e9981dd8",
   "metadata": {},
   "outputs": [
    {
     "data": {
      "text/html": [
       "<table class=\"dataframe\">\n",
       "<caption>A tibble: 6 × 8</caption>\n",
       "<thead>\n",
       "\t<tr><th scope=col>Donorage</th><th scope=col>ABOmatch</th><th scope=col>Recipientage</th><th scope=col>DonorABO</th><th scope=col>RecipientABO</th><th scope=col>Relapse</th><th scope=col>survival_time</th><th scope=col>survival_status</th></tr>\n",
       "\t<tr><th scope=col>&lt;dbl&gt;</th><th scope=col>&lt;chr&gt;</th><th scope=col>&lt;dbl&gt;</th><th scope=col>&lt;dbl&gt;</th><th scope=col>&lt;chr&gt;</th><th scope=col>&lt;dbl&gt;</th><th scope=col>&lt;dbl&gt;</th><th scope=col>&lt;fct&gt;</th></tr>\n",
       "</thead>\n",
       "<tbody>\n",
       "\t<tr><td>22.83014</td><td>0</td><td> 9.6</td><td> 1</td><td>1 </td><td>0</td><td> 999</td><td>0</td></tr>\n",
       "\t<tr><td>23.34247</td><td>0</td><td> 4.0</td><td>-1</td><td>-1</td><td>1</td><td> 163</td><td>1</td></tr>\n",
       "\t<tr><td>26.39452</td><td>0</td><td> 6.6</td><td>-1</td><td>-1</td><td>1</td><td> 435</td><td>1</td></tr>\n",
       "\t<tr><td>39.68493</td><td>1</td><td>18.1</td><td> 1</td><td>2 </td><td>0</td><td>  53</td><td>1</td></tr>\n",
       "\t<tr><td>33.35890</td><td>1</td><td> 1.3</td><td> 1</td><td>2 </td><td>0</td><td>2043</td><td>0</td></tr>\n",
       "\t<tr><td>27.39178</td><td>1</td><td> 8.9</td><td> 2</td><td>0 </td><td>0</td><td>2800</td><td>0</td></tr>\n",
       "</tbody>\n",
       "</table>\n"
      ],
      "text/latex": [
       "A tibble: 6 × 8\n",
       "\\begin{tabular}{llllllll}\n",
       " Donorage & ABOmatch & Recipientage & DonorABO & RecipientABO & Relapse & survival\\_time & survival\\_status\\\\\n",
       " <dbl> & <chr> & <dbl> & <dbl> & <chr> & <dbl> & <dbl> & <fct>\\\\\n",
       "\\hline\n",
       "\t 22.83014 & 0 &  9.6 &  1 & 1  & 0 &  999 & 0\\\\\n",
       "\t 23.34247 & 0 &  4.0 & -1 & -1 & 1 &  163 & 1\\\\\n",
       "\t 26.39452 & 0 &  6.6 & -1 & -1 & 1 &  435 & 1\\\\\n",
       "\t 39.68493 & 1 & 18.1 &  1 & 2  & 0 &   53 & 1\\\\\n",
       "\t 33.35890 & 1 &  1.3 &  1 & 2  & 0 & 2043 & 0\\\\\n",
       "\t 27.39178 & 1 &  8.9 &  2 & 0  & 0 & 2800 & 0\\\\\n",
       "\\end{tabular}\n"
      ],
      "text/markdown": [
       "\n",
       "A tibble: 6 × 8\n",
       "\n",
       "| Donorage &lt;dbl&gt; | ABOmatch &lt;chr&gt; | Recipientage &lt;dbl&gt; | DonorABO &lt;dbl&gt; | RecipientABO &lt;chr&gt; | Relapse &lt;dbl&gt; | survival_time &lt;dbl&gt; | survival_status &lt;fct&gt; |\n",
       "|---|---|---|---|---|---|---|---|\n",
       "| 22.83014 | 0 |  9.6 |  1 | 1  | 0 |  999 | 0 |\n",
       "| 23.34247 | 0 |  4.0 | -1 | -1 | 1 |  163 | 1 |\n",
       "| 26.39452 | 0 |  6.6 | -1 | -1 | 1 |  435 | 1 |\n",
       "| 39.68493 | 1 | 18.1 |  1 | 2  | 0 |   53 | 1 |\n",
       "| 33.35890 | 1 |  1.3 |  1 | 2  | 0 | 2043 | 0 |\n",
       "| 27.39178 | 1 |  8.9 |  2 | 0  | 0 | 2800 | 0 |\n",
       "\n"
      ],
      "text/plain": [
       "  Donorage ABOmatch Recipientage DonorABO RecipientABO Relapse survival_time\n",
       "1 22.83014 0         9.6          1       1            0        999         \n",
       "2 23.34247 0         4.0         -1       -1           1        163         \n",
       "3 26.39452 0         6.6         -1       -1           1        435         \n",
       "4 39.68493 1        18.1          1       2            0         53         \n",
       "5 33.35890 1         1.3          1       2            0       2043         \n",
       "6 27.39178 1         8.9          2       0            0       2800         \n",
       "  survival_status\n",
       "1 0              \n",
       "2 1              \n",
       "3 1              \n",
       "4 1              \n",
       "5 0              \n",
       "6 0              "
      ]
     },
     "metadata": {},
     "output_type": "display_data"
    }
   ],
   "source": [
    "# select only the data related to blood type and age\n",
    "bone_selected <- bone_data |>\n",
    "select(Donorage, ABOmatch, Recipientage, DonorABO, RecipientABO, Relapse, survival_time, survival_status)|>\n",
    "mutate(survival_status = as_factor(survival_status))\n",
    "head(bone_selected)"
   ]
  },
  {
   "cell_type": "markdown",
   "id": "a27d6dec-0d1c-462b-bf6f-10b284e1f1f7",
   "metadata": {},
   "source": [
    " - `table1.0.1`: the first 6 observation with data related to blood type and age"
   ]
  },
  {
   "cell_type": "code",
   "execution_count": 5,
   "id": "39241a6d-cfe3-4957-91f6-9d11040f4895",
   "metadata": {},
   "outputs": [
    {
     "data": {
      "text/html": [
       "<table class=\"dataframe\">\n",
       "<caption>A tibble: 2 × 2</caption>\n",
       "<thead>\n",
       "\t<tr><th scope=col>survival_status</th><th scope=col>count</th></tr>\n",
       "\t<tr><th scope=col>&lt;fct&gt;</th><th scope=col>&lt;int&gt;</th></tr>\n",
       "</thead>\n",
       "<tbody>\n",
       "\t<tr><td>0</td><td>71</td></tr>\n",
       "\t<tr><td>1</td><td>59</td></tr>\n",
       "</tbody>\n",
       "</table>\n"
      ],
      "text/latex": [
       "A tibble: 2 × 2\n",
       "\\begin{tabular}{ll}\n",
       " survival\\_status & count\\\\\n",
       " <fct> & <int>\\\\\n",
       "\\hline\n",
       "\t 0 & 71\\\\\n",
       "\t 1 & 59\\\\\n",
       "\\end{tabular}\n"
      ],
      "text/markdown": [
       "\n",
       "A tibble: 2 × 2\n",
       "\n",
       "| survival_status &lt;fct&gt; | count &lt;int&gt; |\n",
       "|---|---|\n",
       "| 0 | 71 |\n",
       "| 1 | 59 |\n",
       "\n"
      ],
      "text/plain": [
       "  survival_status count\n",
       "1 0               71   \n",
       "2 1               59   "
      ]
     },
     "metadata": {},
     "output_type": "display_data"
    }
   ],
   "source": [
    "# see the summary of our database\n",
    "set.seed(1)\n",
    "bone_split <- initial_split(bone_selected, prop=0.7, strata=survival_status)\n",
    "bone_train <- training(bone_split)\n",
    "bone_test <- testing(bone_split)\n",
    "train_summarize <- bone_train |>\n",
    "group_by(survival_status) |>\n",
    "summarize(count=n())\n",
    "\n",
    "train_summarize"
   ]
  },
  {
   "cell_type": "markdown",
   "id": "da6f0a16-df53-44e3-ad86-98980ecfe583",
   "metadata": {},
   "source": [
    " - `table 1.0.2` the survival count of the training data"
   ]
  },
  {
   "cell_type": "markdown",
   "id": "680a4f41-9248-4f77-a012-04be2dbf6529",
   "metadata": {},
   "source": [
    "### Age analysis"
   ]
  },
  {
   "cell_type": "code",
   "execution_count": 8,
   "id": "b5c47925-3c62-49f7-9fb4-a584070aa293",
   "metadata": {},
   "outputs": [
    {
     "data": {
      "text/html": [
       "<table class=\"dataframe\">\n",
       "<caption>A tibble: 6 × 7</caption>\n",
       "<thead>\n",
       "\t<tr><th scope=col>Donorage</th><th scope=col>Recipientage</th><th scope=col>survival_time</th><th scope=col>survival_status</th><th scope=col>age_diff</th><th scope=col>DonorAgeGroup</th><th scope=col>RecipientAgeGroup</th></tr>\n",
       "\t<tr><th scope=col>&lt;dbl&gt;</th><th scope=col>&lt;dbl&gt;</th><th scope=col>&lt;dbl&gt;</th><th scope=col>&lt;fct&gt;</th><th scope=col>&lt;dbl&gt;</th><th scope=col>&lt;fct&gt;</th><th scope=col>&lt;fct&gt;</th></tr>\n",
       "</thead>\n",
       "<tbody>\n",
       "\t<tr><td>22.83014</td><td> 9.6</td><td> 999</td><td>0</td><td>13.23014</td><td>20-25</td><td>5-10 </td></tr>\n",
       "\t<tr><td>33.35890</td><td> 1.3</td><td>2043</td><td>0</td><td>32.05890</td><td>30-35</td><td><span style=white-space:pre-wrap>&lt;5   </span></td></tr>\n",
       "\t<tr><td>29.73151</td><td> 1.9</td><td> 599</td><td>0</td><td>27.83151</td><td>25-30</td><td><span style=white-space:pre-wrap>&lt;5   </span></td></tr>\n",
       "\t<tr><td>36.80000</td><td>13.4</td><td>2503</td><td>0</td><td>23.40000</td><td>35+  </td><td>10-15</td></tr>\n",
       "\t<tr><td>40.82192</td><td> 4.7</td><td>1615</td><td>0</td><td>36.12192</td><td><span style=white-space:pre-wrap>35+  </span></td><td><span style=white-space:pre-wrap>&lt;5   </span></td></tr>\n",
       "\t<tr><td>31.74520</td><td>17.7</td><td> 884</td><td>0</td><td>14.04520</td><td>30-35</td><td>15-20</td></tr>\n",
       "</tbody>\n",
       "</table>\n"
      ],
      "text/latex": [
       "A tibble: 6 × 7\n",
       "\\begin{tabular}{lllllll}\n",
       " Donorage & Recipientage & survival\\_time & survival\\_status & age\\_diff & DonorAgeGroup & RecipientAgeGroup\\\\\n",
       " <dbl> & <dbl> & <dbl> & <fct> & <dbl> & <fct> & <fct>\\\\\n",
       "\\hline\n",
       "\t 22.83014 &  9.6 &  999 & 0 & 13.23014 & 20-25 & 5-10 \\\\\n",
       "\t 33.35890 &  1.3 & 2043 & 0 & 32.05890 & 30-35 & <5   \\\\\n",
       "\t 29.73151 &  1.9 &  599 & 0 & 27.83151 & 25-30 & <5   \\\\\n",
       "\t 36.80000 & 13.4 & 2503 & 0 & 23.40000 & 35+   & 10-15\\\\\n",
       "\t 40.82192 &  4.7 & 1615 & 0 & 36.12192 & 35+   & <5   \\\\\n",
       "\t 31.74520 & 17.7 &  884 & 0 & 14.04520 & 30-35 & 15-20\\\\\n",
       "\\end{tabular}\n"
      ],
      "text/markdown": [
       "\n",
       "A tibble: 6 × 7\n",
       "\n",
       "| Donorage &lt;dbl&gt; | Recipientage &lt;dbl&gt; | survival_time &lt;dbl&gt; | survival_status &lt;fct&gt; | age_diff &lt;dbl&gt; | DonorAgeGroup &lt;fct&gt; | RecipientAgeGroup &lt;fct&gt; |\n",
       "|---|---|---|---|---|---|---|\n",
       "| 22.83014 |  9.6 |  999 | 0 | 13.23014 | 20-25 | 5-10  |\n",
       "| 33.35890 |  1.3 | 2043 | 0 | 32.05890 | 30-35 | &lt;5    |\n",
       "| 29.73151 |  1.9 |  599 | 0 | 27.83151 | 25-30 | &lt;5    |\n",
       "| 36.80000 | 13.4 | 2503 | 0 | 23.40000 | 35+   | 10-15 |\n",
       "| 40.82192 |  4.7 | 1615 | 0 | 36.12192 | 35+   | &lt;5    |\n",
       "| 31.74520 | 17.7 |  884 | 0 | 14.04520 | 30-35 | 15-20 |\n",
       "\n"
      ],
      "text/plain": [
       "  Donorage Recipientage survival_time survival_status age_diff DonorAgeGroup\n",
       "1 22.83014  9.6          999          0               13.23014 20-25        \n",
       "2 33.35890  1.3         2043          0               32.05890 30-35        \n",
       "3 29.73151  1.9          599          0               27.83151 25-30        \n",
       "4 36.80000 13.4         2503          0               23.40000 35+          \n",
       "5 40.82192  4.7         1615          0               36.12192 35+          \n",
       "6 31.74520 17.7          884          0               14.04520 30-35        \n",
       "  RecipientAgeGroup\n",
       "1 5-10             \n",
       "2 <5               \n",
       "3 <5               \n",
       "4 10-15            \n",
       "5 <5               \n",
       "6 15-20            "
      ]
     },
     "metadata": {},
     "output_type": "display_data"
    }
   ],
   "source": [
    "bone_age <- bone_train |>\n",
    "select(Donorage,Recipientage,survival_time,survival_status)|>\n",
    "mutate(age_diff = Donorage-Recipientage)|>\n",
    "mutate(DonorAgeGroup = cut(Donorage, breaks = c(0,5,10,15,20,25,30,35,100),\n",
    "              labels=c(\"<5\",\"5-10\",\"10-15\",\"15-20\",\"20-25\",\"25-30\",\"30-35\",\"35+\")))|>\n",
    "mutate(RecipientAgeGroup = cut(Recipientage, breaks = c(0,5,10,15,20,25,30,35,100),\n",
    "              labels=c(\"<5\",\"5-10\",\"10-15\",\"15-20\",\"20-25\",\"25-30\",\"30-35\",\"35+\")))\n",
    "head(bone_age)"
   ]
  },
  {
   "cell_type": "markdown",
   "id": "a15e55e6-fac1-4c0b-8bb3-0813f2f9f6c5",
   "metadata": {},
   "source": [
    " - `table 1.1.1`: the first 6 observation of data related to age, with additional column of donor's age group and recipient's age group"
   ]
  },
  {
   "cell_type": "code",
   "execution_count": 18,
   "id": "6f448f4c-accd-45e7-a296-1760af518165",
   "metadata": {},
   "outputs": [
    {
     "data": {
      "text/html": [
       "<table class=\"dataframe\">\n",
       "<caption>A tibble: 8 × 3</caption>\n",
       "<thead>\n",
       "\t<tr><th scope=col>age</th><th scope=col>donor_age</th><th scope=col>recipient_age</th></tr>\n",
       "\t<tr><th scope=col>&lt;fct&gt;</th><th scope=col>&lt;int&gt;</th><th scope=col>&lt;int&gt;</th></tr>\n",
       "</thead>\n",
       "<tbody>\n",
       "\t<tr><td><span style=white-space:pre-wrap>&lt;5   </span></td><td>NA</td><td>35</td></tr>\n",
       "\t<tr><td>5-10 </td><td>NA</td><td>31</td></tr>\n",
       "\t<tr><td>10-15</td><td>NA</td><td>35</td></tr>\n",
       "\t<tr><td>15-20</td><td> 3</td><td>27</td></tr>\n",
       "\t<tr><td>20-25</td><td>27</td><td> 2</td></tr>\n",
       "\t<tr><td>25-30</td><td>13</td><td>NA</td></tr>\n",
       "\t<tr><td>30-35</td><td>27</td><td>NA</td></tr>\n",
       "\t<tr><td>35+  </td><td>60</td><td>NA</td></tr>\n",
       "</tbody>\n",
       "</table>\n"
      ],
      "text/latex": [
       "A tibble: 8 × 3\n",
       "\\begin{tabular}{lll}\n",
       " age & donor\\_age & recipient\\_age\\\\\n",
       " <fct> & <int> & <int>\\\\\n",
       "\\hline\n",
       "\t <5    & NA & 35\\\\\n",
       "\t 5-10  & NA & 31\\\\\n",
       "\t 10-15 & NA & 35\\\\\n",
       "\t 15-20 &  3 & 27\\\\\n",
       "\t 20-25 & 27 &  2\\\\\n",
       "\t 25-30 & 13 & NA\\\\\n",
       "\t 30-35 & 27 & NA\\\\\n",
       "\t 35+   & 60 & NA\\\\\n",
       "\\end{tabular}\n"
      ],
      "text/markdown": [
       "\n",
       "A tibble: 8 × 3\n",
       "\n",
       "| age &lt;fct&gt; | donor_age &lt;int&gt; | recipient_age &lt;int&gt; |\n",
       "|---|---|---|\n",
       "| &lt;5    | NA | 35 |\n",
       "| 5-10  | NA | 31 |\n",
       "| 10-15 | NA | 35 |\n",
       "| 15-20 |  3 | 27 |\n",
       "| 20-25 | 27 |  2 |\n",
       "| 25-30 | 13 | NA |\n",
       "| 30-35 | 27 | NA |\n",
       "| 35+   | 60 | NA |\n",
       "\n"
      ],
      "text/plain": [
       "  age   donor_age recipient_age\n",
       "1 <5    NA        35           \n",
       "2 5-10  NA        31           \n",
       "3 10-15 NA        35           \n",
       " [ reached getOption(\"max.print\") -- omitted 5 rows ]"
      ]
     },
     "metadata": {},
     "output_type": "display_data"
    }
   ],
   "source": [
    "Recipient_Age_summarize <- bone_age |>\n",
    "group_by(RecipientAgeGroup)|>\n",
    "summarize(RecipientAgeCount=n())|>\n",
    "rename(age=RecipientAgeGroup)\n",
    "\n",
    "Donor_Age_summarize <- bone_age |>\n",
    "group_by(DonorAgeGroup)|>\n",
    "summarize(DonorAgeCount=n())|>\n",
    "rename(age=DonorAgeGroup)\n",
    "\n",
    "options(repr.matrix.max.rows=9) # to show all the rows.\n",
    "age_summarize <- full_join(x=Donor_Age_summarize,y=Recipient_Age_summarize,by=\"age\")|>\n",
    "arrange(by=age)|>\n",
    "rename(donor_age = DonorAgeCount,recipient_age = RecipientAgeCount)\n",
    "age_summarize"
   ]
  },
  {
   "cell_type": "markdown",
   "id": "873ab09b-bd6d-4940-95ea-c306ba0b1a69",
   "metadata": {},
   "source": [
    " - `table1.1.2`: the summary of donor's age and recipient's age"
   ]
  },
  {
   "cell_type": "code",
   "execution_count": 19,
   "id": "5e791de3-1f9a-42f7-bc55-794192bb22df",
   "metadata": {},
   "outputs": [
    {
     "data": {
      "image/png": "[encoded data removed]",
      "text/plain": [
       "plot without title"
      ]
     },
     "metadata": {
      "image/png": {
       "height": 240,
       "width": 600
      }
     },
     "output_type": "display_data"
    },
    {
     "data": {
      "image/png": "[encoded data removed]",
      "text/plain": [
       "plot without title"
      ]
     },
     "metadata": {
      "image/png": {
       "height": 240,
       "width": 600
      }
     },
     "output_type": "display_data"
    },
    {
     "data": {
      "image/png": "[encoded data removed]",
      "text/plain": [
       "plot without title"
      ]
     },
     "metadata": {
      "image/png": {
       "height": 240,
       "width": 600
      }
     },
     "output_type": "display_data"
    }
   ],
   "source": [
    "# visualize the distribution of donor's age, recipient's age, and the difference between donor and recipient's age\n",
    "options(repr.plot.width=10,repr.plot.height=4)\n",
    "age_diff_plot <- bone_age |>\n",
    "ggplot(aes(x=age_diff,fill=survival_status))+\n",
    "geom_histogram(bins=20)+\n",
    "labs(x=\"Age Difference\", y = \"count\",color= \"survival status\")+\n",
    "facet_grid(cols=vars(survival_status))\n",
    "age_diff_plot\n",
    "\n",
    "Donor_age_plot <- bone_age |>\n",
    "ggplot(aes(x=Donorage,fill=survival_status))+\n",
    "geom_histogram(bins=20)+\n",
    "facet_grid(cols=vars(survival_status))+\n",
    "labs(x=\"Donor Age\", y = \"count\",color= \"survival status\")\n",
    "Donor_age_plot\n",
    "\n",
    "Recipient_age_plot <- bone_age |>\n",
    "ggplot(aes(x=Recipientage,fill=survival_status))+\n",
    "geom_histogram(bins=20)+\n",
    "facet_grid(cols=vars(survival_status))+\n",
    "labs(x=\"Recipient Age\", y = \"count\",color= \"survival status\")\n",
    "Recipient_age_plot"
   ]
  },
  {
   "cell_type": "markdown",
   "id": "a6dbd11c-7fa5-4d16-be1b-2265b5efc0ab",
   "metadata": {},
   "source": [
    " - `plot1.1.1`: the distribution of age difference grouped into survive(1) and didn't survive(0)\n",
    " - `plot1.1.2`: the distribution of donor's age grouped into survive(1) and didn't survive(0)\n",
    " - `plot1.1.3`: the distribution of recipient's age grouped into survive(1) and didn't survive(0)\n",
    " - All three plots doesn't show any significant relationship with the survival rates"
   ]
  },
  {
   "cell_type": "markdown",
   "id": "e5a2b45b-36dc-4efc-ac5b-905ba49d8c13",
   "metadata": {},
   "source": [
    "### Blood visualization"
   ]
  },
  {
   "cell_type": "code",
   "execution_count": 20,
   "id": "abd1befd-f8bc-4f2d-a9e5-892ca0c1a784",
   "metadata": {},
   "outputs": [
    {
     "data": {
      "text/html": [
       "<table class=\"dataframe\">\n",
       "<caption>A tibble: 6 × 5</caption>\n",
       "<thead>\n",
       "\t<tr><th scope=col>DonorABO</th><th scope=col>RecipientABO</th><th scope=col>ABOmatch</th><th scope=col>survival_time</th><th scope=col>survival_status</th></tr>\n",
       "\t<tr><th scope=col>&lt;dbl&gt;</th><th scope=col>&lt;chr&gt;</th><th scope=col>&lt;chr&gt;</th><th scope=col>&lt;dbl&gt;</th><th scope=col>&lt;fct&gt;</th></tr>\n",
       "</thead>\n",
       "<tbody>\n",
       "\t<tr><td>1</td><td>1 </td><td>0</td><td> 999</td><td>0</td></tr>\n",
       "\t<tr><td>1</td><td>2 </td><td>1</td><td>2043</td><td>0</td></tr>\n",
       "\t<tr><td>0</td><td>-1</td><td>1</td><td> 599</td><td>0</td></tr>\n",
       "\t<tr><td>1</td><td>1 </td><td>0</td><td>2503</td><td>0</td></tr>\n",
       "\t<tr><td>2</td><td>0 </td><td>1</td><td>1615</td><td>0</td></tr>\n",
       "\t<tr><td>1</td><td>0 </td><td>1</td><td> 884</td><td>0</td></tr>\n",
       "</tbody>\n",
       "</table>\n"
      ],
      "text/latex": [
       "A tibble: 6 × 5\n",
       "\\begin{tabular}{lllll}\n",
       " DonorABO & RecipientABO & ABOmatch & survival\\_time & survival\\_status\\\\\n",
       " <dbl> & <chr> & <chr> & <dbl> & <fct>\\\\\n",
       "\\hline\n",
       "\t 1 & 1  & 0 &  999 & 0\\\\\n",
       "\t 1 & 2  & 1 & 2043 & 0\\\\\n",
       "\t 0 & -1 & 1 &  599 & 0\\\\\n",
       "\t 1 & 1  & 0 & 2503 & 0\\\\\n",
       "\t 2 & 0  & 1 & 1615 & 0\\\\\n",
       "\t 1 & 0  & 1 &  884 & 0\\\\\n",
       "\\end{tabular}\n"
      ],
      "text/markdown": [
       "\n",
       "A tibble: 6 × 5\n",
       "\n",
       "| DonorABO &lt;dbl&gt; | RecipientABO &lt;chr&gt; | ABOmatch &lt;chr&gt; | survival_time &lt;dbl&gt; | survival_status &lt;fct&gt; |\n",
       "|---|---|---|---|---|\n",
       "| 1 | 1  | 0 |  999 | 0 |\n",
       "| 1 | 2  | 1 | 2043 | 0 |\n",
       "| 0 | -1 | 1 |  599 | 0 |\n",
       "| 1 | 1  | 0 | 2503 | 0 |\n",
       "| 2 | 0  | 1 | 1615 | 0 |\n",
       "| 1 | 0  | 1 |  884 | 0 |\n",
       "\n"
      ],
      "text/plain": [
       "  DonorABO RecipientABO ABOmatch survival_time survival_status\n",
       "1 1        1            0         999          0              \n",
       " [ reached getOption(\"max.print\") -- omitted 5 rows ]"
      ]
     },
     "metadata": {},
     "output_type": "display_data"
    }
   ],
   "source": [
    "# select only the variables related to the blood type\n",
    "bone_blood <- bone_train |>\n",
    "select(DonorABO,RecipientABO,ABOmatch,survival_time,survival_status)\n",
    "\n",
    "# make the data tidy by filtering out missing values\n",
    "bone_blood_filtered <- bone_blood |>\n",
    "filter(ABOmatch != \"?\")\n",
    "\n",
    "head(bone_blood_filtered)"
   ]
  },
  {
   "cell_type": "markdown",
   "id": "51e5db14-6fd1-4a1b-be96-30f993b30667",
   "metadata": {},
   "source": [
    " - `table1.2.1`: the first 6 observation of the data with variables related to blood type"
   ]
  },
  {
   "cell_type": "code",
   "execution_count": 195,
   "id": "a7f8e164-5bee-4b0e-b61f-5c2becc7d335",
   "metadata": {},
   "outputs": [
    {
     "data": {
      "image/png": "[encoded data removed]",
      "text/plain": [
       "plot without title"
      ]
     },
     "metadata": {
      "image/png": {
       "height": 240,
       "width": 600
      }
     },
     "output_type": "display_data"
    }
   ],
   "source": [
    "# Blood match visualization:\n",
    "options(repr.plot.width=10,repr.plot.height=4)\n",
    "\n",
    "blood_match_plot <- bone_blood_filtered |>\n",
    "ggplot(aes(x=ABOmatch,fill=survival_status))+\n",
    "geom_bar()+\n",
    "facet_grid(cols=vars(survival_status)) +\n",
    "ggtitle(\"Survival status vs. Blood Type Match\") +\n",
    "labs(x = \"Blood Type Match\", y = \"Count\", fill = \"Survival Status\") \n",
    "\n",
    "blood_match_plot"
   ]
  },
  {
   "cell_type": "markdown",
   "id": "a6aa0d53-0499-4977-bf87-0ec827a7ca80",
   "metadata": {},
   "source": [
    " - `plot1.2.1`: the bar chart comparing the blood match with survival status. This chart doesn't show an obvious relationship between the blood match and survival status"
   ]
  },
  {
   "cell_type": "code",
   "execution_count": 21,
   "id": "ea3eb99e-4587-4681-8d6e-ed996c1f5084",
   "metadata": {},
   "outputs": [
    {
     "name": "stderr",
     "output_type": "stream",
     "text": [
      "\u001b[1m\u001b[22m`summarise()` has grouped output by 'DonorABO'. You can override using the\n",
      "`.groups` argument.\n"
     ]
    },
    {
     "data": {
      "text/html": [
       "<table class=\"dataframe\">\n",
       "<caption>A matrix: 3 × 8 of type chr</caption>\n",
       "<tbody>\n",
       "\t<tr><th scope=row>DonorABO</th><td>B </td><td>B </td><td>O </td><td>O </td><td>A </td><td>A </td><td>AB</td><td>AB</td></tr>\n",
       "\t<tr><th scope=row>survival_status</th><td>0 </td><td>1 </td><td>0 </td><td>1 </td><td>0 </td><td>1 </td><td>0 </td><td>1 </td></tr>\n",
       "\t<tr><th scope=row>count</th><td>12</td><td> 7</td><td>26</td><td>22</td><td>26</td><td>28</td><td> 7</td><td> 2</td></tr>\n",
       "</tbody>\n",
       "</table>\n"
      ],
      "text/latex": [
       "A matrix: 3 × 8 of type chr\n",
       "\\begin{tabular}{r|llllllll}\n",
       "\tDonorABO & B  & B  & O  & O  & A  & A  & AB & AB\\\\\n",
       "\tsurvival\\_status & 0  & 1  & 0  & 1  & 0  & 1  & 0  & 1 \\\\\n",
       "\tcount & 12 &  7 & 26 & 22 & 26 & 28 &  7 &  2\\\\\n",
       "\\end{tabular}\n"
      ],
      "text/markdown": [
       "\n",
       "A matrix: 3 × 8 of type chr\n",
       "\n",
       "| DonorABO | B  | B  | O  | O  | A  | A  | AB | AB |\n",
       "| survival_status | 0  | 1  | 0  | 1  | 0  | 1  | 0  | 1  |\n",
       "| count | 12 |  7 | 26 | 22 | 26 | 28 |  7 |  2 |\n",
       "\n"
      ],
      "text/plain": [
       "                [,1] [,2] [,3] [,4] [,5] [,6] [,7] [,8]\n",
       "DonorABO        B    B    O    O    A    A    AB   AB  \n",
       " [ reached getOption(\"max.print\") -- omitted 2 rows ]"
      ]
     },
     "metadata": {},
     "output_type": "display_data"
    }
   ],
   "source": [
    "# 'DonorABO''RecipientABO'\n",
    "blood_summarize <- bone_train |>\n",
    "select(DonorABO, survival_status)|>\n",
    "group_by(DonorABO,survival_status) |>\n",
    "summarize(count=n())|>\n",
    "mutate(DonorABO = case_when(\n",
    "      DonorABO == -1 ~ 'B',\n",
    "      DonorABO == 1 ~ 'A',\n",
    "      DonorABO == 0 ~ 'O',\n",
    "      DonorABO == 2 ~ 'AB'))\n",
    "\n",
    "# transpose the dataframe to better visualize the data\n",
    "t(blood_summarize)"
   ]
  },
  {
   "cell_type": "markdown",
   "id": "59d9a11b-7d4e-4155-85a9-d23532cbb05f",
   "metadata": {},
   "source": [
    " - `table1.2.2`: the count of observation grouped by donor's blood type and survival status"
   ]
  },
  {
   "cell_type": "code",
   "execution_count": 201,
   "id": "a99a347d-6f3e-4a27-9923-9d5152e0c754",
   "metadata": {},
   "outputs": [
    {
     "name": "stderr",
     "output_type": "stream",
     "text": [
      "\u001b[1m\u001b[22m`summarise()` has grouped output by 'DonorABO'. You can override using the\n",
      "`.groups` argument.\n"
     ]
    },
    {
     "data": {
      "text/html": [
       "<table class=\"dataframe\">\n",
       "<caption>A grouped_df: 4 × 4</caption>\n",
       "<thead>\n",
       "\t<tr><th scope=col>DonorABO</th><th scope=col>death</th><th scope=col>survive</th><th scope=col>survival_rate</th></tr>\n",
       "\t<tr><th scope=col>&lt;chr&gt;</th><th scope=col>&lt;int&gt;</th><th scope=col>&lt;int&gt;</th><th scope=col>&lt;dbl&gt;</th></tr>\n",
       "</thead>\n",
       "<tbody>\n",
       "\t<tr><td>A </td><td>26</td><td>28</td><td>0.5185185</td></tr>\n",
       "\t<tr><td>AB</td><td> 7</td><td> 2</td><td>0.2222222</td></tr>\n",
       "\t<tr><td>B </td><td>12</td><td> 7</td><td>0.3684211</td></tr>\n",
       "\t<tr><td>O </td><td>26</td><td>22</td><td>0.4583333</td></tr>\n",
       "</tbody>\n",
       "</table>\n"
      ],
      "text/latex": [
       "A grouped\\_df: 4 × 4\n",
       "\\begin{tabular}{llll}\n",
       " DonorABO & death & survive & survival\\_rate\\\\\n",
       " <chr> & <int> & <int> & <dbl>\\\\\n",
       "\\hline\n",
       "\t A  & 26 & 28 & 0.5185185\\\\\n",
       "\t AB &  7 &  2 & 0.2222222\\\\\n",
       "\t B  & 12 &  7 & 0.3684211\\\\\n",
       "\t O  & 26 & 22 & 0.4583333\\\\\n",
       "\\end{tabular}\n"
      ],
      "text/markdown": [
       "\n",
       "A grouped_df: 4 × 4\n",
       "\n",
       "| DonorABO &lt;chr&gt; | death &lt;int&gt; | survive &lt;int&gt; | survival_rate &lt;dbl&gt; |\n",
       "|---|---|---|---|\n",
       "| A  | 26 | 28 | 0.5185185 |\n",
       "| AB |  7 |  2 | 0.2222222 |\n",
       "| B  | 12 |  7 | 0.3684211 |\n",
       "| O  | 26 | 22 | 0.4583333 |\n",
       "\n"
      ],
      "text/plain": [
       "  DonorABO death survive survival_rate\n",
       "1 A        26    28      0.5185185    \n",
       "2 AB        7     2      0.2222222    \n",
       "3 B        12     7      0.3684211    \n",
       "4 O        26    22      0.4583333    "
      ]
     },
     "metadata": {},
     "output_type": "display_data"
    },
    {
     "name": "stderr",
     "output_type": "stream",
     "text": [
      "\u001b[1m\u001b[22m`summarise()` has grouped output by 'RecipientABO'. You can override using the\n",
      "`.groups` argument.\n"
     ]
    },
    {
     "data": {
      "text/html": [
       "<table class=\"dataframe\">\n",
       "<caption>A grouped_df: 4 × 4</caption>\n",
       "<thead>\n",
       "\t<tr><th scope=col>RecipientABO</th><th scope=col>death</th><th scope=col>survive</th><th scope=col>survival_rate</th></tr>\n",
       "\t<tr><th scope=col>&lt;chr&gt;</th><th scope=col>&lt;int&gt;</th><th scope=col>&lt;int&gt;</th><th scope=col>&lt;dbl&gt;</th></tr>\n",
       "</thead>\n",
       "<tbody>\n",
       "\t<tr><td>A </td><td>28</td><td>26</td><td>0.4814815</td></tr>\n",
       "\t<tr><td>AB</td><td> 5</td><td> 2</td><td>0.2857143</td></tr>\n",
       "\t<tr><td>B </td><td>20</td><td>15</td><td>0.4285714</td></tr>\n",
       "\t<tr><td>O </td><td>18</td><td>15</td><td>0.4545455</td></tr>\n",
       "</tbody>\n",
       "</table>\n"
      ],
      "text/latex": [
       "A grouped\\_df: 4 × 4\n",
       "\\begin{tabular}{llll}\n",
       " RecipientABO & death & survive & survival\\_rate\\\\\n",
       " <chr> & <int> & <int> & <dbl>\\\\\n",
       "\\hline\n",
       "\t A  & 28 & 26 & 0.4814815\\\\\n",
       "\t AB &  5 &  2 & 0.2857143\\\\\n",
       "\t B  & 20 & 15 & 0.4285714\\\\\n",
       "\t O  & 18 & 15 & 0.4545455\\\\\n",
       "\\end{tabular}\n"
      ],
      "text/markdown": [
       "\n",
       "A grouped_df: 4 × 4\n",
       "\n",
       "| RecipientABO &lt;chr&gt; | death &lt;int&gt; | survive &lt;int&gt; | survival_rate &lt;dbl&gt; |\n",
       "|---|---|---|---|\n",
       "| A  | 28 | 26 | 0.4814815 |\n",
       "| AB |  5 |  2 | 0.2857143 |\n",
       "| B  | 20 | 15 | 0.4285714 |\n",
       "| O  | 18 | 15 | 0.4545455 |\n",
       "\n"
      ],
      "text/plain": [
       "  RecipientABO death survive survival_rate\n",
       "1 A            28    26      0.4814815    \n",
       "2 AB            5     2      0.2857143    \n",
       "3 B            20    15      0.4285714    \n",
       "4 O            18    15      0.4545455    "
      ]
     },
     "metadata": {},
     "output_type": "display_data"
    }
   ],
   "source": [
    "# see the summary of donor's blood type / Recipient's blood type and the survival rate\n",
    "options(repr.plot.width=6,repr.plot.height=4)\n",
    "blood_summarize2 <- bone_train |>\n",
    "select(RecipientABO, DonorABO, survival_status) |>\n",
    "  mutate(RecipientABO = case_when(\n",
    "      RecipientABO == -1 ~ 'B',\n",
    "      RecipientABO == 1 ~ 'A',\n",
    "      RecipientABO == 0 ~ 'O',\n",
    "      RecipientABO == 2 ~ 'AB')) |>\n",
    "mutate(DonorABO = case_when(\n",
    "      DonorABO == -1 ~ 'B',\n",
    "      DonorABO == 1 ~ 'A',\n",
    "      DonorABO == 0 ~ 'O',\n",
    "      DonorABO == 2 ~ 'AB'))\n",
    "\n",
    "#donor\n",
    "Donor_summarize <- blood_summarize2 |>\n",
    "group_by(DonorABO, survival_status)|>\n",
    "summarize(count=n())|>\n",
    "pivot_wider(names_from=survival_status,\n",
    "            values_from=count) |>\n",
    "rename(\"survive\" = \"1\", \"death\" = \"0\")|>\n",
    "mutate(survival_rate = survive/(death+survive))\n",
    "Donor_summarize\n",
    "\n",
    "#recipient\n",
    "Recipient_summarize <- blood_summarize2 |>\n",
    "group_by(RecipientABO, survival_status)|>\n",
    "summarize(count=n())|>\n",
    "pivot_wider(names_from=survival_status,\n",
    "            values_from=count) |>\n",
    "rename(\"survive\" = \"1\", \"death\" = \"0\")|>\n",
    "mutate(survival_rate = survive/(death+survive))|>\n",
    "filter(RecipientABO != \"NA\")\n",
    "Recipient_summarize"
   ]
  },
  {
   "cell_type": "markdown",
   "id": "603712f7-5484-4ca9-b43b-f70214ef64bc",
   "metadata": {},
   "source": [
    " - `table1.2.3`: the survival rate based on donor's blood type. Considering the amount of samples we have, we think the result might not be able to represent the whole population.\n",
    " - `table1.2.4`: the survival rate based on recipient's blood type. Considering the amount of samples we have, we think the result might not be able to represent the whole population."
   ]
  },
  {
   "cell_type": "code",
   "execution_count": 214,
   "id": "3168fda4-6286-432b-804e-2b4f2911df90",
   "metadata": {},
   "outputs": [
    {
     "data": {
      "image/png": "[encoded data removed]",
      "text/plain": [
       "plot without title"
      ]
     },
     "metadata": {
      "image/png": {
       "height": 240,
       "width": 600
      }
     },
     "output_type": "display_data"
    }
   ],
   "source": [
    "# visualize the summary with bar chart\n",
    "Donor_plot <- Donor_summarize |>\n",
    "ggplot(aes(x = as.factor(DonorABO), y = survival_rate, fill=DonorABO))+\n",
    "geom_bar(stat = \"identity\")+\n",
    "labs(x=\"Donor Blood Type\", y = \"Survival Rate\")+\n",
    "theme(text = element_text(size=15))\n",
    "\n",
    "Recipient_plot <- Recipient_summarize |>\n",
    "ggplot(aes(x = as.factor(RecipientABO), y = survival_rate, fill=RecipientABO))+\n",
    "geom_bar(stat = \"identity\")+\n",
    "labs(x=\"Recipient Blood Type\", y = \"Survival Rate\")+\n",
    "theme(text = element_text(size=15))\n",
    "\n",
    "options(repr.plot.width=10, repr.plot.height=4)\n",
    "grid.arrange(Recipient_plot, Donor_plot, ncol=2)"
   ]
  },
  {
   "cell_type": "markdown",
   "id": "782b0e1c-a3d6-4318-b6ba-5869f0febb72",
   "metadata": {},
   "source": [
    " - `plot1.2.2`: the plot of recipient's blood type vs the survival rate.\n",
    " - `plot1.2.3`: the plot of donor's blood type vs the survival rate."
   ]
  },
  {
   "cell_type": "markdown",
   "id": "247e672c-f326-4e30-8cc3-6df310d4e25a",
   "metadata": {
    "tags": []
   },
   "source": [
    "# Part2: New version of data preprocessing"
   ]
  },
  {
   "cell_type": "markdown",
   "id": "8c1153aa-6aab-44c6-baff-07bbd74dd209",
   "metadata": {},
   "source": [
    "`METHOD`\n",
    " - We will also consider the variables PLT_recovery and relapse to strengthen the accuracy of predictions. \n",
    " - These two new parameters were chosen based on an analysis of which variables out of our selection offered the highest correlation with the survival_status metric. In order to achieve such analysis, the correlation table was formed using the corr function. As PLTRecovery and Relapse had the highest correlation out of all observed variables, they were the best suited to serve as new parameters.\n",
    " - Additionally, asides from analyzing the correlation of each individual parameter and the survival status, we also created an analysis in order to determine which combination of parameters would offer the best accuracy for our prediction. This was achieved through forward selection, where several models were created using different combinations of variables and their respective accuracies were computed.\n",
    " - Further correlational analysis was done using two methods. The first method consisted in the use of scatterplots regarding the relation between the recipient’s age and relapse and recipient age and PLTRecovery and their respective survival status. The second method first created summarized tables analyzing the relation between the PLTRecovery and Relapse parameters and their relation with survival rate, these results were then plotted on bar graphs, in order to provide a clearer depiction of the relationship between the variables."
   ]
  },
  {
   "cell_type": "code",
   "execution_count": 24,
   "id": "891cb22b-de9b-4abf-8db2-f3c4923058e7",
   "metadata": {},
   "outputs": [
    {
     "name": "stderr",
     "output_type": "stream",
     "text": [
      "Warning message in mask$eval_all_mutate(quo):\n",
      "“NAs introduced by coercion”\n",
      "Warning message in mask$eval_all_mutate(quo):\n",
      "“NAs introduced by coercion”\n",
      "Warning message in mask$eval_all_mutate(quo):\n",
      "“NAs introduced by coercion”\n",
      "Warning message in mask$eval_all_mutate(quo):\n",
      "“NAs introduced by coercion”\n"
     ]
    }
   ],
   "source": [
    "## tidy data\n",
    "#1. discard any NA values\n",
    "#2. select only the numeric values\n",
    "#3. transform non numeric values into numeric values that are applicable (CD3dCD34, CD3dkgx10d8 and Rbodymass)\n",
    "filtered_bone <- na.omit(bone_data)|>\n",
    "select(-survival_time, -RecipientABO, -RecipientRh, -CMVstatus,-DonorCMV, -RecipientCMV, -Disease, -Antigen,-Alel,-extcGvHD)|>\n",
    "mutate(survival_status = as_factor(survival_status),\n",
    "        CD3dCD34 = as.numeric(CD3dCD34),\n",
    "        CD3dkgx10d8 = as.numeric(CD3dkgx10d8),\n",
    "        Rbodymass = as.numeric(Rbodymass),\n",
    "        ABOmatch = as.numeric(ABOmatch))"
   ]
  },
  {
   "cell_type": "code",
   "execution_count": 25,
   "id": "421c5d53-29bd-45df-aabe-b8ff3e0fe87a",
   "metadata": {},
   "outputs": [],
   "source": [
    "# split the tidy data into training and testing dataset\n",
    "set.seed(66)\n",
    "bone_split <- initial_split(filtered_bone, prop = 0.75, strata = survival_status)\n",
    "bone_training <- training(bone_split)\n",
    "bone_testing <- testing(bone_split)"
   ]
  },
  {
   "cell_type": "code",
   "execution_count": 26,
   "id": "427e90be-f97e-4df7-8023-ba2536e3a6a1",
   "metadata": {},
   "outputs": [
    {
     "data": {
      "text/html": [
       "<table class=\"dataframe\">\n",
       "<caption>A matrix: 1 × 28 of type dbl</caption>\n",
       "<thead>\n",
       "\t<tr><th></th><th scope=col>survival_status</th><th scope=col>PLTrecovery</th><th scope=col>Relapse</th><th scope=col>Recipientage</th><th scope=col>Recipientage10</th><th scope=col>Recipientageint</th><th scope=col>ANCrecovery</th><th scope=col>id</th><th scope=col>Donorage35</th><th scope=col>IIIV</th><th scope=col>⋯</th><th scope=col>DonorABO</th><th scope=col>HLAmismatch</th><th scope=col>Stemcellsource</th><th scope=col>ABOmatch</th><th scope=col>time_to_aGvHD_III_IV</th><th scope=col>aGvHDIIIIV</th><th scope=col>CD34kgx10d6</th><th scope=col>CD3dCD34</th><th scope=col>CD3dkgx10d8</th><th scope=col>Rbodymass</th></tr>\n",
       "</thead>\n",
       "<tbody>\n",
       "\t<tr><th scope=row>survival_status</th><td>1</td><td>0.4</td><td>0.3</td><td>0.2</td><td>0.2</td><td>0.2</td><td>0.2</td><td>0.1</td><td>0.1</td><td>0.1</td><td>⋯</td><td>0</td><td>0</td><td>-0.1</td><td>-0.1</td><td>-0.1</td><td>-0.2</td><td>-0.2</td><td>NA</td><td>NA</td><td>NA</td></tr>\n",
       "</tbody>\n",
       "</table>\n"
      ],
      "text/latex": [
       "A matrix: 1 × 28 of type dbl\n",
       "\\begin{tabular}{r|lllllllllllllllllllll}\n",
       "  & survival\\_status & PLTrecovery & Relapse & Recipientage & Recipientage10 & Recipientageint & ANCrecovery & id & Donorage35 & IIIV & ⋯ & DonorABO & HLAmismatch & Stemcellsource & ABOmatch & time\\_to\\_aGvHD\\_III\\_IV & aGvHDIIIIV & CD34kgx10d6 & CD3dCD34 & CD3dkgx10d8 & Rbodymass\\\\\n",
       "\\hline\n",
       "\tsurvival\\_status & 1 & 0.4 & 0.3 & 0.2 & 0.2 & 0.2 & 0.2 & 0.1 & 0.1 & 0.1 & ⋯ & 0 & 0 & -0.1 & -0.1 & -0.1 & -0.2 & -0.2 & NA & NA & NA\\\\\n",
       "\\end{tabular}\n"
      ],
      "text/markdown": [
       "\n",
       "A matrix: 1 × 28 of type dbl\n",
       "\n",
       "| <!--/--> | survival_status | PLTrecovery | Relapse | Recipientage | Recipientage10 | Recipientageint | ANCrecovery | id | Donorage35 | IIIV | ⋯ | DonorABO | HLAmismatch | Stemcellsource | ABOmatch | time_to_aGvHD_III_IV | aGvHDIIIIV | CD34kgx10d6 | CD3dCD34 | CD3dkgx10d8 | Rbodymass |\n",
       "|---|---|---|---|---|---|---|---|---|---|---|---|---|---|---|---|---|---|---|---|---|---|\n",
       "| survival_status | 1 | 0.4 | 0.3 | 0.2 | 0.2 | 0.2 | 0.2 | 0.1 | 0.1 | 0.1 | ⋯ | 0 | 0 | -0.1 | -0.1 | -0.1 | -0.2 | -0.2 | NA | NA | NA |\n",
       "\n"
      ],
      "text/plain": [
       "                survival_status PLTrecovery Relapse Recipientage Recipientage10\n",
       "                Recipientageint ANCrecovery id  Donorage35 IIIV ⋯ DonorABO\n",
       "                HLAmismatch Stemcellsource ABOmatch time_to_aGvHD_III_IV\n",
       "                aGvHDIIIIV CD34kgx10d6 CD3dCD34 CD3dkgx10d8 Rbodymass\n",
       " [ reached getOption(\"max.print\") -- omitted 1 row ]"
      ]
     },
     "metadata": {},
     "output_type": "display_data"
    }
   ],
   "source": [
    "# use the correlation function to see which numeric varible has the closest relationship with the survival status\n",
    "num_bone <- bone_training |>\n",
    "mutate(survival_status = as.numeric(survival_status))\n",
    "# glimpse(num_bone)\n",
    "corr <- round(cor(num_bone), 1)\n",
    "corr <- as.data.frame(corr)\n",
    "cor2 <- corr |> \n",
    "select(survival_status)|>\n",
    "arrange(desc(survival_status))\n",
    "cor2 <- t(cor2)\n",
    "cor2"
   ]
  },
  {
   "cell_type": "markdown",
   "id": "fb17d5db-1495-4e3b-84e7-eac77f112969",
   "metadata": {},
   "source": [
    " - `table2.0`: the correlation of the variables vs the survival status. Since the highest ones are PLTrecovery, Relapse, Recipientage, ANCrecovery and Donorage (ignoring the Recipientage10 and Recipientageint since they are the basically the same property as Recipientage), we chose these 5 variables to be the predictors we choose from."
   ]
  },
  {
   "cell_type": "code",
   "execution_count": 27,
   "id": "d21806a0-156a-4780-aaf3-cd7d504293dc",
   "metadata": {},
   "outputs": [
    {
     "data": {
      "text/html": [
       "<table class=\"dataframe\">\n",
       "<caption>A tibble: 6 × 6</caption>\n",
       "<thead>\n",
       "\t<tr><th scope=col>PLTrecovery</th><th scope=col>Relapse</th><th scope=col>Recipientage</th><th scope=col>Donorage</th><th scope=col>ANCrecovery</th><th scope=col>survival_status</th></tr>\n",
       "\t<tr><th scope=col>&lt;dbl&gt;</th><th scope=col>&lt;dbl&gt;</th><th scope=col>&lt;dbl&gt;</th><th scope=col>&lt;dbl&gt;</th><th scope=col>&lt;dbl&gt;</th><th scope=col>&lt;fct&gt;</th></tr>\n",
       "</thead>\n",
       "<tbody>\n",
       "\t<tr><td>51</td><td>0</td><td> 9.6</td><td>22.83014</td><td>19</td><td>0</td></tr>\n",
       "\t<tr><td>70</td><td>0</td><td> 8.9</td><td>27.39178</td><td>16</td><td>0</td></tr>\n",
       "\t<tr><td>14</td><td>0</td><td> 7.9</td><td>32.64110</td><td>15</td><td>0</td></tr>\n",
       "\t<tr><td>17</td><td>0</td><td> 4.7</td><td>28.78356</td><td>16</td><td>0</td></tr>\n",
       "\t<tr><td>13</td><td>0</td><td> 1.9</td><td>29.73151</td><td>12</td><td>0</td></tr>\n",
       "\t<tr><td>16</td><td>0</td><td>13.4</td><td>36.80000</td><td>11</td><td>0</td></tr>\n",
       "</tbody>\n",
       "</table>\n"
      ],
      "text/latex": [
       "A tibble: 6 × 6\n",
       "\\begin{tabular}{llllll}\n",
       " PLTrecovery & Relapse & Recipientage & Donorage & ANCrecovery & survival\\_status\\\\\n",
       " <dbl> & <dbl> & <dbl> & <dbl> & <dbl> & <fct>\\\\\n",
       "\\hline\n",
       "\t 51 & 0 &  9.6 & 22.83014 & 19 & 0\\\\\n",
       "\t 70 & 0 &  8.9 & 27.39178 & 16 & 0\\\\\n",
       "\t 14 & 0 &  7.9 & 32.64110 & 15 & 0\\\\\n",
       "\t 17 & 0 &  4.7 & 28.78356 & 16 & 0\\\\\n",
       "\t 13 & 0 &  1.9 & 29.73151 & 12 & 0\\\\\n",
       "\t 16 & 0 & 13.4 & 36.80000 & 11 & 0\\\\\n",
       "\\end{tabular}\n"
      ],
      "text/markdown": [
       "\n",
       "A tibble: 6 × 6\n",
       "\n",
       "| PLTrecovery &lt;dbl&gt; | Relapse &lt;dbl&gt; | Recipientage &lt;dbl&gt; | Donorage &lt;dbl&gt; | ANCrecovery &lt;dbl&gt; | survival_status &lt;fct&gt; |\n",
       "|---|---|---|---|---|---|\n",
       "| 51 | 0 |  9.6 | 22.83014 | 19 | 0 |\n",
       "| 70 | 0 |  8.9 | 27.39178 | 16 | 0 |\n",
       "| 14 | 0 |  7.9 | 32.64110 | 15 | 0 |\n",
       "| 17 | 0 |  4.7 | 28.78356 | 16 | 0 |\n",
       "| 13 | 0 |  1.9 | 29.73151 | 12 | 0 |\n",
       "| 16 | 0 | 13.4 | 36.80000 | 11 | 0 |\n",
       "\n"
      ],
      "text/plain": [
       "  PLTrecovery Relapse Recipientage Donorage ANCrecovery survival_status\n",
       "1 51          0        9.6         22.83014 19          0              \n",
       " [ reached getOption(\"max.print\") -- omitted 5 rows ]"
      ]
     },
     "metadata": {},
     "output_type": "display_data"
    }
   ],
   "source": [
    "# choose the parameter we want from the elements that has the closest relationship with the survival_status\n",
    "bone_training <- bone_training |>\n",
    "select(PLTrecovery, Relapse, Recipientage, Donorage, ANCrecovery, survival_status)|>\n",
    "mutate(survival_status = as.factor(survival_status))\n",
    "head(bone_training)"
   ]
  },
  {
   "cell_type": "markdown",
   "id": "22d37f61-59f7-41a7-8245-d24c26746f52",
   "metadata": {},
   "source": [
    " - `table2.1`: the first 6 observation of our data, selecting only the 5 most related variables."
   ]
  },
  {
   "cell_type": "code",
   "execution_count": 150,
   "id": "0833443d-c838-4b85-8617-e891a1774740",
   "metadata": {},
   "outputs": [],
   "source": [
    "# apply the forward selection to select which variables other than Recipientage should we include in our analysis\n",
    "set.seed(100)\n",
    "names <- colnames(bone_training |> select(-survival_status, -Recipientage))\n",
    "accuracies <- tibble(size = integer(), \n",
    "                     model_string = character(), \n",
    "                     accuracy = numeric())\n",
    "knn_spec <- nearest_neighbor(weight_func = \"rectangular\", neighbors = tune()) |>\n",
    "     set_engine(\"kknn\") |>\n",
    "     set_mode(\"classification\")\n",
    "kval <- tibble(neighbors=seq(from=1, to=10,by=1))\n",
    "\n",
    "bone_vfold <- vfold_cv(bone_training, v=5, strata = survival_status)\n",
    "n_total <- length(names)\n",
    "selected <- c()\n",
    "\n",
    "# for every size from 1 to the total number of predictors\n",
    "for (i in 1:n_total) {\n",
    "    # for every predictor still not added yet\n",
    "    accs <- list()\n",
    "    models <- list()\n",
    "    for (j in 1:length(names)) {\n",
    "        # create a model string for this combination of predictors\n",
    "        preds_new <- c(\"Recipientage\", selected, names[[j]])\n",
    "        model_string <- paste(\"survival_status\", \"~\", paste(preds_new, collapse=\"+\"))\n",
    "        model_string\n",
    "        # create a recipe from the model string\n",
    "        bone_recipe <- recipe(as.formula(model_string), data = bone_training) |>\n",
    "                          step_scale(all_predictors()) |>\n",
    "                          step_center(all_predictors())\n",
    "\n",
    "        # tune the KNN classifier with these predictors, \n",
    "        # and collect the accuracy for the best K\n",
    "        acc <- workflow() |>\n",
    "          add_recipe(bone_recipe) |>\n",
    "          add_model(knn_spec) |>\n",
    "          tune_grid(resamples = bone_vfold, grid = kval) |>\n",
    "          collect_metrics() |>\n",
    "          filter(.metric == \"accuracy\") |>\n",
    "          summarize(mx = max(mean))\n",
    "        acc <- acc$mx |> unlist()\n",
    "\n",
    "        # add this result to the dataframe\n",
    "        accs[[j]] <- acc\n",
    "        models[[j]] <- model_string\n",
    "    }\n",
    "    jstar <- which.max(unlist(accs))\n",
    "    accuracies <- accuracies |> \n",
    "      add_row(size = i, \n",
    "              model_string = models[[jstar]], \n",
    "              accuracy = accs[[jstar]])\n",
    "    selected <- c(selected, names[[jstar]])\n",
    "    names <- names[-jstar]\n",
    "}"
   ]
  },
  {
   "cell_type": "code",
   "execution_count": 151,
   "id": "78f653f7-75af-49f8-9404-a2e82d0e4909",
   "metadata": {},
   "outputs": [
    {
     "data": {
      "text/html": [
       "<table class=\"dataframe\">\n",
       "<caption>A tibble: 4 × 3</caption>\n",
       "<thead>\n",
       "\t<tr><th scope=col>size</th><th scope=col>model_string</th><th scope=col>accuracy</th></tr>\n",
       "\t<tr><th scope=col>&lt;int&gt;</th><th scope=col>&lt;chr&gt;</th><th scope=col>&lt;dbl&gt;</th></tr>\n",
       "</thead>\n",
       "<tbody>\n",
       "\t<tr><td>1</td><td>survival_status ~ Recipientage+Relapse                                 </td><td>0.6686371</td></tr>\n",
       "\t<tr><td>2</td><td>survival_status ~ Recipientage+Relapse+PLTrecovery                     </td><td>0.7276318</td></tr>\n",
       "\t<tr><td>3</td><td>survival_status ~ Recipientage+Relapse+PLTrecovery+ANCrecovery         </td><td>0.7276318</td></tr>\n",
       "\t<tr><td>4</td><td>survival_status ~ Recipientage+Relapse+PLTrecovery+ANCrecovery+Donorage</td><td>0.7202244</td></tr>\n",
       "</tbody>\n",
       "</table>\n"
      ],
      "text/latex": [
       "A tibble: 4 × 3\n",
       "\\begin{tabular}{lll}\n",
       " size & model\\_string & accuracy\\\\\n",
       " <int> & <chr> & <dbl>\\\\\n",
       "\\hline\n",
       "\t 1 & survival\\_status \\textasciitilde{} Recipientage+Relapse                                  & 0.6686371\\\\\n",
       "\t 2 & survival\\_status \\textasciitilde{} Recipientage+Relapse+PLTrecovery                      & 0.7276318\\\\\n",
       "\t 3 & survival\\_status \\textasciitilde{} Recipientage+Relapse+PLTrecovery+ANCrecovery          & 0.7276318\\\\\n",
       "\t 4 & survival\\_status \\textasciitilde{} Recipientage+Relapse+PLTrecovery+ANCrecovery+Donorage & 0.7202244\\\\\n",
       "\\end{tabular}\n"
      ],
      "text/markdown": [
       "\n",
       "A tibble: 4 × 3\n",
       "\n",
       "| size &lt;int&gt; | model_string &lt;chr&gt; | accuracy &lt;dbl&gt; |\n",
       "|---|---|---|\n",
       "| 1 | survival_status ~ Recipientage+Relapse                                  | 0.6686371 |\n",
       "| 2 | survival_status ~ Recipientage+Relapse+PLTrecovery                      | 0.7276318 |\n",
       "| 3 | survival_status ~ Recipientage+Relapse+PLTrecovery+ANCrecovery          | 0.7276318 |\n",
       "| 4 | survival_status ~ Recipientage+Relapse+PLTrecovery+ANCrecovery+Donorage | 0.7202244 |\n",
       "\n"
      ],
      "text/plain": [
       "  size model_string                                                           \n",
       "1 1    survival_status ~ Recipientage+Relapse                                 \n",
       "2 2    survival_status ~ Recipientage+Relapse+PLTrecovery                     \n",
       "3 3    survival_status ~ Recipientage+Relapse+PLTrecovery+ANCrecovery         \n",
       "4 4    survival_status ~ Recipientage+Relapse+PLTrecovery+ANCrecovery+Donorage\n",
       "  accuracy \n",
       "1 0.6686371\n",
       "2 0.7276318\n",
       "3 0.7276318\n",
       "4 0.7202244"
      ]
     },
     "metadata": {},
     "output_type": "display_data"
    }
   ],
   "source": [
    "accuracies"
   ]
  },
  {
   "cell_type": "markdown",
   "id": "ac163005-fd54-4936-a55c-7448855450ef",
   "metadata": {},
   "source": [
    " - `table2.2`: the result of the forward selection, which shows the prediction accuracy of different combination of recipient's age and other variables. Based on the result, we decided to choose the combination of Recipientage+Relapse+PLTrecovery, which is the age of the recipient, relapse or not, and the platelet recovery count.\n",
    " \n",
    "`METHOD`\n",
    "- We chose to add relapse and platelet recovery as  variables to our study as blood type was not standardizable nor did it offer a relationship to base a prediction off of.\n",
    "- With all predictors and their respective relation to the survival status computed and analyzed, we then proceed to the actual building and application of a classification model in order to predict.\n"
   ]
  },
  {
   "cell_type": "code",
   "execution_count": 28,
   "id": "76711597-5e6d-46cf-bd3a-8c7873b5a88e",
   "metadata": {},
   "outputs": [
    {
     "data": {
      "image/png": "[encoded data removed]",
      "text/plain": [
       "plot without title"
      ]
     },
     "metadata": {
      "image/png": {
       "height": 300,
       "width": 1200
      }
     },
     "output_type": "display_data"
    }
   ],
   "source": [
    "# visualize the relationship between survival rate and (recipientage + relapse), (recipientage + pltrecovery)\n",
    "\n",
    "plot1 <- bone_training |>\n",
    "mutate(survival_status  = case_when(\n",
    "      survival_status  == 1 ~ 'Survive',\n",
    "      survival_status  == 0 ~ 'Didn\\'t survive'))|>\n",
    "ggplot(aes(x=Recipientage, y = Relapse, color = survival_status ))+\n",
    "geom_point()+\n",
    "theme(text=element_text(size=16))+\n",
    "labs(x=\"recipient's age\", y = \"relapse? 1:yes\", color = \"status\")\n",
    "\n",
    "\n",
    "plot2 <- bone_training |>\n",
    "mutate(survival_status  = case_when(\n",
    "      survival_status  == 1 ~ 'Survive',\n",
    "      survival_status  == 0 ~ 'Didn\\'t survive'))|>\n",
    "ggplot(aes(x=Recipientage, y = PLTrecovery, color = survival_status ))+\n",
    "geom_point()+\n",
    "theme(text=element_text(size=16))+\n",
    "labs(x=\"recipient's age\", y = \"platelet count >50000/mm3? 1:yes\", color = \"status\")\n",
    "\n",
    "plot3 <- bone_training |>\n",
    "mutate(survival_status  = case_when(\n",
    "      survival_status  == 1 ~ 'Survive',\n",
    "      survival_status  == 0 ~ 'Didn\\'t survive'))|>\n",
    "filter(PLTrecovery < 500000)|>\n",
    "ggplot(aes(x=Recipientage, y = PLTrecovery, color = survival_status ))+\n",
    "geom_point()+\n",
    "theme(text=element_text(size=16))+\n",
    "labs(x=\"recipient's age\", y = \"platelet count >50000/mm3? 1:yes\", color = \"status\")\n",
    "\n",
    "options(repr.plot.width=20, repr.plot.height=5)\n",
    "grid.arrange(plot1, plot2, plot3, ncol=3)"
   ]
  },
  {
   "cell_type": "markdown",
   "id": "614e7b6f-4c65-4d3d-88d2-370da37b8f5b",
   "metadata": {},
   "source": [
    " - `plot2.0`: the relationship between the recipient's age, relapse and survival status.\n",
    " - `plot2.1`: the relationship between the recipient's age, patelet recovery and survival status.\n",
    " - `plot2.2`: the relationship between the recipient's age, patelet recovery and survival status, excluding some extreme data."
   ]
  },
  {
   "cell_type": "code",
   "execution_count": 32,
   "id": "46c230b7-5f99-4b0d-9751-d0826c0de087",
   "metadata": {},
   "outputs": [
    {
     "name": "stderr",
     "output_type": "stream",
     "text": [
      "\u001b[1m\u001b[22m`summarise()` has grouped output by 'PLTrecovery'. You can override using the\n",
      "`.groups` argument.\n"
     ]
    },
    {
     "data": {
      "text/html": [
       "<table class=\"dataframe\">\n",
       "<caption>A grouped_df: 6 × 4</caption>\n",
       "<thead>\n",
       "\t<tr><th scope=col>PLTrecovery</th><th scope=col>death</th><th scope=col>survive</th><th scope=col>survival_rate</th></tr>\n",
       "\t<tr><th scope=col>&lt;dbl&gt;</th><th scope=col>&lt;int&gt;</th><th scope=col>&lt;int&gt;</th><th scope=col>&lt;dbl&gt;</th></tr>\n",
       "</thead>\n",
       "<tbody>\n",
       "\t<tr><td>     25</td><td>50</td><td>31</td><td>0.3827160</td></tr>\n",
       "\t<tr><td>     50</td><td>12</td><td>14</td><td>0.5384615</td></tr>\n",
       "\t<tr><td>     75</td><td> 7</td><td> 2</td><td>0.2222222</td></tr>\n",
       "\t<tr><td>    100</td><td> 2</td><td> 1</td><td>0.3333333</td></tr>\n",
       "\t<tr><td>    200</td><td> 5</td><td> 1</td><td>0.1666667</td></tr>\n",
       "\t<tr><td>1000000</td><td>NA</td><td>14</td><td>1.0000000</td></tr>\n",
       "</tbody>\n",
       "</table>\n"
      ],
      "text/latex": [
       "A grouped\\_df: 6 × 4\n",
       "\\begin{tabular}{llll}\n",
       " PLTrecovery & death & survive & survival\\_rate\\\\\n",
       " <dbl> & <int> & <int> & <dbl>\\\\\n",
       "\\hline\n",
       "\t      25 & 50 & 31 & 0.3827160\\\\\n",
       "\t      50 & 12 & 14 & 0.5384615\\\\\n",
       "\t      75 &  7 &  2 & 0.2222222\\\\\n",
       "\t     100 &  2 &  1 & 0.3333333\\\\\n",
       "\t     200 &  5 &  1 & 0.1666667\\\\\n",
       "\t 1000000 & NA & 14 & 1.0000000\\\\\n",
       "\\end{tabular}\n"
      ],
      "text/markdown": [
       "\n",
       "A grouped_df: 6 × 4\n",
       "\n",
       "| PLTrecovery &lt;dbl&gt; | death &lt;int&gt; | survive &lt;int&gt; | survival_rate &lt;dbl&gt; |\n",
       "|---|---|---|---|\n",
       "|      25 | 50 | 31 | 0.3827160 |\n",
       "|      50 | 12 | 14 | 0.5384615 |\n",
       "|      75 |  7 |  2 | 0.2222222 |\n",
       "|     100 |  2 |  1 | 0.3333333 |\n",
       "|     200 |  5 |  1 | 0.1666667 |\n",
       "| 1000000 | NA | 14 | 1.0000000 |\n",
       "\n"
      ],
      "text/plain": [
       "  PLTrecovery death survive survival_rate\n",
       "1      25     50    31      0.3827160    \n",
       "2      50     12    14      0.5384615    \n",
       " [ reached getOption(\"max.print\") -- omitted 4 rows ]"
      ]
     },
     "metadata": {},
     "output_type": "display_data"
    },
    {
     "name": "stderr",
     "output_type": "stream",
     "text": [
      "\u001b[1m\u001b[22m`summarise()` has grouped output by 'Relapse'. You can override using the\n",
      "`.groups` argument.\n"
     ]
    },
    {
     "data": {
      "text/html": [
       "<table class=\"dataframe\">\n",
       "<caption>A grouped_df: 2 × 4</caption>\n",
       "<thead>\n",
       "\t<tr><th scope=col>Relapse</th><th scope=col>death</th><th scope=col>survive</th><th scope=col>survival_rate</th></tr>\n",
       "\t<tr><th scope=col>&lt;chr&gt;</th><th scope=col>&lt;int&gt;</th><th scope=col>&lt;int&gt;</th><th scope=col>&lt;dbl&gt;</th></tr>\n",
       "</thead>\n",
       "<tbody>\n",
       "\t<tr><td>no </td><td>72</td><td>47</td><td>0.394958</td></tr>\n",
       "\t<tr><td>yes</td><td> 4</td><td>16</td><td>0.800000</td></tr>\n",
       "</tbody>\n",
       "</table>\n"
      ],
      "text/latex": [
       "A grouped\\_df: 2 × 4\n",
       "\\begin{tabular}{llll}\n",
       " Relapse & death & survive & survival\\_rate\\\\\n",
       " <chr> & <int> & <int> & <dbl>\\\\\n",
       "\\hline\n",
       "\t no  & 72 & 47 & 0.394958\\\\\n",
       "\t yes &  4 & 16 & 0.800000\\\\\n",
       "\\end{tabular}\n"
      ],
      "text/markdown": [
       "\n",
       "A grouped_df: 2 × 4\n",
       "\n",
       "| Relapse &lt;chr&gt; | death &lt;int&gt; | survive &lt;int&gt; | survival_rate &lt;dbl&gt; |\n",
       "|---|---|---|---|\n",
       "| no  | 72 | 47 | 0.394958 |\n",
       "| yes |  4 | 16 | 0.800000 |\n",
       "\n"
      ],
      "text/plain": [
       "  Relapse death survive survival_rate\n",
       "1 no      72    47      0.394958     \n",
       "2 yes      4    16      0.800000     "
      ]
     },
     "metadata": {},
     "output_type": "display_data"
    }
   ],
   "source": [
    "# analyze the survival rate summary of relapse and patlelet count\n",
    "PLT_summarize <- bone_training |>\n",
    "mutate(PLTrecovery = case_when(\n",
    "    PLTrecovery < 25 ~25,\n",
    "    PLTrecovery < 50 ~50,\n",
    "    PLTrecovery < 75 ~ 75,\n",
    "    PLTrecovery < 100 ~ 100,\n",
    "    PLTrecovery < 200 ~ 200,\n",
    "    PLTrecovery == 1000000 ~ 1000000))|>\n",
    "group_by(PLTrecovery, survival_status)|>\n",
    "summarize(count=n())|>\n",
    "pivot_wider(names_from=survival_status,\n",
    "            values_from=count) |>\n",
    "rename(\"survive\" = \"1\", \"death\" = \"0\")|>\n",
    "mutate(survival_rate = ifelse(is.na(death), 1, survive/(death+survive)))|>\n",
    "arrange(PLTrecovery)\n",
    "PLT_summarize\n",
    "\n",
    "relapse_summarize <- bone_training |>\n",
    "mutate(Relapse = case_when(\n",
    "    Relapse == 1 ~\"yes\",\n",
    "    Relapse == 0 ~\"no\"))|>\n",
    "group_by(Relapse, survival_status)|>\n",
    "summarize(count=n())|>\n",
    "pivot_wider(names_from=survival_status,\n",
    "            values_from=count) |>\n",
    "rename(\"survive\" = \"1\", \"death\" = \"0\")|>\n",
    "mutate(survival_rate = survive / (survive+death))\n",
    "relapse_summarize"
   ]
  },
  {
   "cell_type": "markdown",
   "id": "826c4e4f-28bd-4eb6-bb24-7fe09ffbb12a",
   "metadata": {},
   "source": [
    " - `table2.3`: the survival rate based on platelet recovery\n",
    " - `table2.4`: the survival rate based on relapse or not"
   ]
  },
  {
   "cell_type": "code",
   "execution_count": 34,
   "id": "b07b9bff-f667-4757-81b3-546d4473e554",
   "metadata": {},
   "outputs": [
    {
     "data": {
      "image/png": "[encoded data removed]",
      "text/plain": [
       "plot without title"
      ]
     },
     "metadata": {
      "image/png": {
       "height": 240,
       "width": 600
      }
     },
     "output_type": "display_data"
    }
   ],
   "source": [
    "#visualize the survival rate based on relapse and pltrecovery\n",
    "PLT_plot <- PLT_summarize |>\n",
    "mutate(PLTrecovery = as.factor(PLTrecovery))|>\n",
    "ggplot(aes(x=PLTrecovery, y = survival_rate, fill = survival_rate))+\n",
    "geom_bar(stat = \"identity\")+\n",
    "labs(x=\"platelet count >50000/mm3?\", y = \"survival rate\")\n",
    "\n",
    "relapse_plot <- relapse_summarize|>\n",
    "ggplot(aes(x=Relapse, y = survival_rate, fill = survival_rate))+\n",
    "geom_bar(stat = \"identity\")+\n",
    "labs(x=\"relapse?\", y = \"survival rate\")\n",
    "\n",
    "options(repr.plot.width=10, repr.plot.height=4)\n",
    "grid.arrange(PLT_plot, relapse_plot, ncol=2)"
   ]
  },
  {
   "cell_type": "markdown",
   "id": "eae74f0e-e7f4-490f-9970-4ee0eafa5f83",
   "metadata": {},
   "source": [
    " - `plot2.3`: the survival rate vs paletelet recovery count.\n",
    " - `plot2.4`: the survival rate vs relapse or not.\n",
    " \n",
    "`METHOD`\n",
    "- We used a classification model with k-nearest neighbors. As previously mentioned, upon computing the strength of the relationships survival status had with previously mentioned variables, we concluded that platelet recovery time, age and relapse would provide the best predictions for our model.\n",
    "- The process of actually building the model included 4 main steps: standardizing data, building the model structure, setting the folds and neighbors and building the workflow for the actual model.\n",
    "- We created 5 folds for our training data and 15 for our k-nearest neighbors value. The model was applied to our testing data.\n",
    "- Upon building and analyzing our model, we determined that 15 neighbors had the highest mean accuracy among other neighbors ranging from 1 to 25. This was done through a line plot built from the results of the built model and its folds.\n",
    "Predictors were standardized to avoid a biased model.\n"
   ]
  },
  {
   "cell_type": "code",
   "execution_count": null,
   "id": "66e3c1b2-ec1e-45e5-be79-26ff241bff67",
   "metadata": {},
   "outputs": [],
   "source": [
    "# based on the forward selection, we will choose Recipient age + Relapse + PLTrecovery as our variable.\n",
    "# standardize data\n",
    "bone_recipe <- recipe(survival_status ~ Recipientage+Relapse+PLTrecovery, data = bone_training) |>\n",
    "  step_scale(all_predictors())|>\n",
    "  step_center(all_predictors())\n",
    "\n",
    "# build the model structure\n",
    "knn_spec <- nearest_neighbor(weight_func = \"rectangular\", neighbor = tune())|>\n",
    "  set_engine(\"kknn\")|>\n",
    "  set_mode(\"classification\")\n",
    "\n",
    "# setting the folds and ks\n",
    "set.seed(234)\n",
    "bone_vfold <- vfold_cv(bone_training, v = 5, strata = survival_status)\n",
    "k_val <- tibble(neighbors = seq(from = 1, to = 25, by = 1))\n",
    "\n",
    "# build the workflow for building model\n",
    "knn_fit <- workflow()|>\n",
    "  add_recipe(bone_recipe)|>\n",
    "  add_model(knn_spec)|>\n",
    "  tune_grid(resamples = bone_vfold, grid = k_val)"
   ]
  },
  {
   "cell_type": "code",
   "execution_count": 39,
   "id": "abba03b8-6cf2-47dc-9741-d4dc45d277e4",
   "metadata": {},
   "outputs": [
    {
     "data": {
      "text/html": [
       "<table class=\"dataframe\">\n",
       "<caption>A tibble: 6 × 7</caption>\n",
       "<thead>\n",
       "\t<tr><th scope=col>neighbors</th><th scope=col>.metric</th><th scope=col>.estimator</th><th scope=col>mean</th><th scope=col>n</th><th scope=col>std_err</th><th scope=col>.config</th></tr>\n",
       "\t<tr><th scope=col>&lt;dbl&gt;</th><th scope=col>&lt;chr&gt;</th><th scope=col>&lt;chr&gt;</th><th scope=col>&lt;dbl&gt;</th><th scope=col>&lt;int&gt;</th><th scope=col>&lt;dbl&gt;</th><th scope=col>&lt;chr&gt;</th></tr>\n",
       "</thead>\n",
       "<tbody>\n",
       "\t<tr><td>1</td><td>accuracy</td><td>binary</td><td>0.6045612</td><td>5</td><td>0.05883035</td><td>Preprocessor1_Model01</td></tr>\n",
       "\t<tr><td>2</td><td>accuracy</td><td>binary</td><td>0.6045612</td><td>5</td><td>0.05883035</td><td>Preprocessor1_Model02</td></tr>\n",
       "\t<tr><td>3</td><td>accuracy</td><td>binary</td><td>0.7043696</td><td>5</td><td>0.04227367</td><td>Preprocessor1_Model03</td></tr>\n",
       "\t<tr><td>4</td><td>accuracy</td><td>binary</td><td>0.7043696</td><td>5</td><td>0.04227367</td><td>Preprocessor1_Model04</td></tr>\n",
       "\t<tr><td>5</td><td>accuracy</td><td>binary</td><td>0.7122879</td><td>5</td><td>0.01906110</td><td>Preprocessor1_Model05</td></tr>\n",
       "\t<tr><td>6</td><td>accuracy</td><td>binary</td><td>0.7122879</td><td>5</td><td>0.01906110</td><td>Preprocessor1_Model06</td></tr>\n",
       "</tbody>\n",
       "</table>\n"
      ],
      "text/latex": [
       "A tibble: 6 × 7\n",
       "\\begin{tabular}{lllllll}\n",
       " neighbors & .metric & .estimator & mean & n & std\\_err & .config\\\\\n",
       " <dbl> & <chr> & <chr> & <dbl> & <int> & <dbl> & <chr>\\\\\n",
       "\\hline\n",
       "\t 1 & accuracy & binary & 0.6045612 & 5 & 0.05883035 & Preprocessor1\\_Model01\\\\\n",
       "\t 2 & accuracy & binary & 0.6045612 & 5 & 0.05883035 & Preprocessor1\\_Model02\\\\\n",
       "\t 3 & accuracy & binary & 0.7043696 & 5 & 0.04227367 & Preprocessor1\\_Model03\\\\\n",
       "\t 4 & accuracy & binary & 0.7043696 & 5 & 0.04227367 & Preprocessor1\\_Model04\\\\\n",
       "\t 5 & accuracy & binary & 0.7122879 & 5 & 0.01906110 & Preprocessor1\\_Model05\\\\\n",
       "\t 6 & accuracy & binary & 0.7122879 & 5 & 0.01906110 & Preprocessor1\\_Model06\\\\\n",
       "\\end{tabular}\n"
      ],
      "text/markdown": [
       "\n",
       "A tibble: 6 × 7\n",
       "\n",
       "| neighbors &lt;dbl&gt; | .metric &lt;chr&gt; | .estimator &lt;chr&gt; | mean &lt;dbl&gt; | n &lt;int&gt; | std_err &lt;dbl&gt; | .config &lt;chr&gt; |\n",
       "|---|---|---|---|---|---|---|\n",
       "| 1 | accuracy | binary | 0.6045612 | 5 | 0.05883035 | Preprocessor1_Model01 |\n",
       "| 2 | accuracy | binary | 0.6045612 | 5 | 0.05883035 | Preprocessor1_Model02 |\n",
       "| 3 | accuracy | binary | 0.7043696 | 5 | 0.04227367 | Preprocessor1_Model03 |\n",
       "| 4 | accuracy | binary | 0.7043696 | 5 | 0.04227367 | Preprocessor1_Model04 |\n",
       "| 5 | accuracy | binary | 0.7122879 | 5 | 0.01906110 | Preprocessor1_Model05 |\n",
       "| 6 | accuracy | binary | 0.7122879 | 5 | 0.01906110 | Preprocessor1_Model06 |\n",
       "\n"
      ],
      "text/plain": [
       "  neighbors .metric  .estimator mean      n std_err    .config              \n",
       "1 1         accuracy binary     0.6045612 5 0.05883035 Preprocessor1_Model01\n",
       " [ reached getOption(\"max.print\") -- omitted 5 rows ]"
      ]
     },
     "metadata": {},
     "output_type": "display_data"
    },
    {
     "data": {
      "text/html": [
       "15"
      ],
      "text/latex": [
       "15"
      ],
      "text/markdown": [
       "15"
      ],
      "text/plain": [
       "[1] 15"
      ]
     },
     "metadata": {},
     "output_type": "display_data"
    },
    {
     "data": {
      "image/png": "[encoded data removed]",
      "text/plain": [
       "plot without title"
      ]
     },
     "metadata": {
      "image/png": {
       "height": 360,
       "width": 600
      }
     },
     "output_type": "display_data"
    }
   ],
   "source": [
    "# visualize the result of our model\n",
    "bone_metric <- knn_fit |>\n",
    "collect_metrics() |>\n",
    "filter(.metric == \"accuracy\") \n",
    "head(bone_metric)\n",
    "\n",
    "options(repr.plot.width=10,repr.plot.height=6)\n",
    "n_plot <- bone_metric |>\n",
    "ggplot(aes(x=neighbors, y = mean))+\n",
    "geom_point()+\n",
    "geom_line()+\n",
    "labs(x=\"number of neighbors\", y = \"mean accuracy\")+\n",
    "ggtitle(\"accuracy vs neighbors\")\n",
    "n_plot\n",
    "\n",
    "nmin <- bone_metric |>\n",
    "arrange(desc(mean)) |>\n",
    "slice(1)|>\n",
    "select(neighbors)|>\n",
    "pull()\n",
    "nmin"
   ]
  },
  {
   "cell_type": "markdown",
   "id": "45c3b39d-4abd-4d63-a20b-6d81e43f995e",
   "metadata": {},
   "source": [
    " - `table2.5`: the first few rows of the result based on number of neighbors.\n",
    " - `plot2.5`: number of neighbors vs the accuracy. Based on the chart, we chose the n that gives us the maximum accuracy (n=15)"
   ]
  },
  {
   "cell_type": "code",
   "execution_count": 40,
   "id": "a11c7f10-1753-44bd-9f55-22db7f5891b3",
   "metadata": {},
   "outputs": [
    {
     "data": {
      "text/html": [
       "<table class=\"dataframe\">\n",
       "<caption>A tibble: 6 × 29</caption>\n",
       "<thead>\n",
       "\t<tr><th scope=col>.pred_class</th><th scope=col>id</th><th scope=col>Recipientgender</th><th scope=col>Stemcellsource</th><th scope=col>Donorage</th><th scope=col>Donorage35</th><th scope=col>IIIV</th><th scope=col>Gendermatch</th><th scope=col>DonorABO</th><th scope=col>ABOmatch</th><th scope=col>⋯</th><th scope=col>Relapse</th><th scope=col>aGvHDIIIIV</th><th scope=col>CD34kgx10d6</th><th scope=col>CD3dCD34</th><th scope=col>CD3dkgx10d8</th><th scope=col>Rbodymass</th><th scope=col>ANCrecovery</th><th scope=col>PLTrecovery</th><th scope=col>time_to_aGvHD_III_IV</th><th scope=col>survival_status</th></tr>\n",
       "\t<tr><th scope=col>&lt;fct&gt;</th><th scope=col>&lt;dbl&gt;</th><th scope=col>&lt;dbl&gt;</th><th scope=col>&lt;dbl&gt;</th><th scope=col>&lt;dbl&gt;</th><th scope=col>&lt;dbl&gt;</th><th scope=col>&lt;dbl&gt;</th><th scope=col>&lt;dbl&gt;</th><th scope=col>&lt;dbl&gt;</th><th scope=col>&lt;dbl&gt;</th><th scope=col>⋯</th><th scope=col>&lt;dbl&gt;</th><th scope=col>&lt;dbl&gt;</th><th scope=col>&lt;dbl&gt;</th><th scope=col>&lt;dbl&gt;</th><th scope=col>&lt;dbl&gt;</th><th scope=col>&lt;dbl&gt;</th><th scope=col>&lt;dbl&gt;</th><th scope=col>&lt;dbl&gt;</th><th scope=col>&lt;dbl&gt;</th><th scope=col>&lt;fct&gt;</th></tr>\n",
       "</thead>\n",
       "<tbody>\n",
       "\t<tr><td>0</td><td> 5</td><td>0</td><td>1</td><td>33.35890</td><td>0</td><td>0</td><td>0</td><td>1</td><td>1</td><td>⋯</td><td>0</td><td>1</td><td>51.85</td><td>3.972255</td><td>13.05</td><td> 9.0</td><td>14</td><td>     14</td><td>1000000</td><td>0</td></tr>\n",
       "\t<tr><td>0</td><td>13</td><td>1</td><td>1</td><td>40.86301</td><td>1</td><td>0</td><td>0</td><td>0</td><td>1</td><td>⋯</td><td>0</td><td>1</td><td>15.42</td><td>2.734654</td><td> 5.64</td><td>18.1</td><td>14</td><td>     37</td><td>1000000</td><td>0</td></tr>\n",
       "\t<tr><td>1</td><td>14</td><td>1</td><td>0</td><td>30.60274</td><td>0</td><td>1</td><td>0</td><td>0</td><td>1</td><td>⋯</td><td>1</td><td>1</td><td> 3.14</td><td>3.713956</td><td> 0.85</td><td>42.0</td><td>20</td><td>     48</td><td>1000000</td><td>1</td></tr>\n",
       "\t<tr><td>0</td><td>21</td><td>1</td><td>1</td><td>43.57808</td><td>1</td><td>0</td><td>1</td><td>0</td><td>1</td><td>⋯</td><td>0</td><td>1</td><td> 0.82</td><td>0.368720</td><td> 2.22</td><td>62.0</td><td>26</td><td>     30</td><td>1000000</td><td>1</td></tr>\n",
       "\t<tr><td>1</td><td>28</td><td>1</td><td>1</td><td>39.98356</td><td>1</td><td>1</td><td>0</td><td>1</td><td>1</td><td>⋯</td><td>0</td><td>0</td><td>11.27</td><td>3.242425</td><td> 3.48</td><td>17.0</td><td>16</td><td>1000000</td><td>     16</td><td>1</td></tr>\n",
       "\t<tr><td>1</td><td>30</td><td>0</td><td>1</td><td>39.17260</td><td>1</td><td>1</td><td>0</td><td>1</td><td>0</td><td>⋯</td><td>1</td><td>1</td><td> 5.86</td><td>1.849607</td><td> 3.17</td><td>38.3</td><td>15</td><td>     23</td><td>1000000</td><td>1</td></tr>\n",
       "</tbody>\n",
       "</table>\n"
      ],
      "text/latex": [
       "A tibble: 6 × 29\n",
       "\\begin{tabular}{lllllllllllllllllllll}\n",
       " .pred\\_class & id & Recipientgender & Stemcellsource & Donorage & Donorage35 & IIIV & Gendermatch & DonorABO & ABOmatch & ⋯ & Relapse & aGvHDIIIIV & CD34kgx10d6 & CD3dCD34 & CD3dkgx10d8 & Rbodymass & ANCrecovery & PLTrecovery & time\\_to\\_aGvHD\\_III\\_IV & survival\\_status\\\\\n",
       " <fct> & <dbl> & <dbl> & <dbl> & <dbl> & <dbl> & <dbl> & <dbl> & <dbl> & <dbl> & ⋯ & <dbl> & <dbl> & <dbl> & <dbl> & <dbl> & <dbl> & <dbl> & <dbl> & <dbl> & <fct>\\\\\n",
       "\\hline\n",
       "\t 0 &  5 & 0 & 1 & 33.35890 & 0 & 0 & 0 & 1 & 1 & ⋯ & 0 & 1 & 51.85 & 3.972255 & 13.05 &  9.0 & 14 &      14 & 1000000 & 0\\\\\n",
       "\t 0 & 13 & 1 & 1 & 40.86301 & 1 & 0 & 0 & 0 & 1 & ⋯ & 0 & 1 & 15.42 & 2.734654 &  5.64 & 18.1 & 14 &      37 & 1000000 & 0\\\\\n",
       "\t 1 & 14 & 1 & 0 & 30.60274 & 0 & 1 & 0 & 0 & 1 & ⋯ & 1 & 1 &  3.14 & 3.713956 &  0.85 & 42.0 & 20 &      48 & 1000000 & 1\\\\\n",
       "\t 0 & 21 & 1 & 1 & 43.57808 & 1 & 0 & 1 & 0 & 1 & ⋯ & 0 & 1 &  0.82 & 0.368720 &  2.22 & 62.0 & 26 &      30 & 1000000 & 1\\\\\n",
       "\t 1 & 28 & 1 & 1 & 39.98356 & 1 & 1 & 0 & 1 & 1 & ⋯ & 0 & 0 & 11.27 & 3.242425 &  3.48 & 17.0 & 16 & 1000000 &      16 & 1\\\\\n",
       "\t 1 & 30 & 0 & 1 & 39.17260 & 1 & 1 & 0 & 1 & 0 & ⋯ & 1 & 1 &  5.86 & 1.849607 &  3.17 & 38.3 & 15 &      23 & 1000000 & 1\\\\\n",
       "\\end{tabular}\n"
      ],
      "text/markdown": [
       "\n",
       "A tibble: 6 × 29\n",
       "\n",
       "| .pred_class &lt;fct&gt; | id &lt;dbl&gt; | Recipientgender &lt;dbl&gt; | Stemcellsource &lt;dbl&gt; | Donorage &lt;dbl&gt; | Donorage35 &lt;dbl&gt; | IIIV &lt;dbl&gt; | Gendermatch &lt;dbl&gt; | DonorABO &lt;dbl&gt; | ABOmatch &lt;dbl&gt; | ⋯ ⋯ | Relapse &lt;dbl&gt; | aGvHDIIIIV &lt;dbl&gt; | CD34kgx10d6 &lt;dbl&gt; | CD3dCD34 &lt;dbl&gt; | CD3dkgx10d8 &lt;dbl&gt; | Rbodymass &lt;dbl&gt; | ANCrecovery &lt;dbl&gt; | PLTrecovery &lt;dbl&gt; | time_to_aGvHD_III_IV &lt;dbl&gt; | survival_status &lt;fct&gt; |\n",
       "|---|---|---|---|---|---|---|---|---|---|---|---|---|---|---|---|---|---|---|---|---|\n",
       "| 0 |  5 | 0 | 1 | 33.35890 | 0 | 0 | 0 | 1 | 1 | ⋯ | 0 | 1 | 51.85 | 3.972255 | 13.05 |  9.0 | 14 |      14 | 1000000 | 0 |\n",
       "| 0 | 13 | 1 | 1 | 40.86301 | 1 | 0 | 0 | 0 | 1 | ⋯ | 0 | 1 | 15.42 | 2.734654 |  5.64 | 18.1 | 14 |      37 | 1000000 | 0 |\n",
       "| 1 | 14 | 1 | 0 | 30.60274 | 0 | 1 | 0 | 0 | 1 | ⋯ | 1 | 1 |  3.14 | 3.713956 |  0.85 | 42.0 | 20 |      48 | 1000000 | 1 |\n",
       "| 0 | 21 | 1 | 1 | 43.57808 | 1 | 0 | 1 | 0 | 1 | ⋯ | 0 | 1 |  0.82 | 0.368720 |  2.22 | 62.0 | 26 |      30 | 1000000 | 1 |\n",
       "| 1 | 28 | 1 | 1 | 39.98356 | 1 | 1 | 0 | 1 | 1 | ⋯ | 0 | 0 | 11.27 | 3.242425 |  3.48 | 17.0 | 16 | 1000000 |      16 | 1 |\n",
       "| 1 | 30 | 0 | 1 | 39.17260 | 1 | 1 | 0 | 1 | 0 | ⋯ | 1 | 1 |  5.86 | 1.849607 |  3.17 | 38.3 | 15 |      23 | 1000000 | 1 |\n",
       "\n"
      ],
      "text/plain": [
       "  .pred_class id Recipientgender Stemcellsource Donorage Donorage35 IIIV\n",
       "  Gendermatch DonorABO ABOmatch ⋯ Relapse aGvHDIIIIV CD34kgx10d6 CD3dCD34\n",
       "  CD3dkgx10d8 Rbodymass ANCrecovery PLTrecovery time_to_aGvHD_III_IV\n",
       "  survival_status\n",
       " [ reached getOption(\"max.print\") -- omitted 6 rows ]"
      ]
     },
     "metadata": {},
     "output_type": "display_data"
    }
   ],
   "source": [
    "knn_best_spec <- nearest_neighbor(weight_func = \"rectangular\", neighbor = nmin)|>\n",
    "  set_engine(\"kknn\")|>\n",
    "  set_mode(\"classification\")\n",
    "\n",
    "bone_vfold <- vfold_cv(bone_training, v = 5, strata = survival_status)\n",
    "\n",
    "# build the workflow for building model\n",
    "knn_fit <- workflow()|>\n",
    "add_recipe(bone_recipe)|>\n",
    "add_model(knn_best_spec)|>\n",
    "fit(data = bone_training)\n",
    "\n",
    "bone_pred <- predict(knn_fit, bone_testing) |>\n",
    "bind_cols(bone_testing |> mutate(survival_status = as.factor(survival_status)))\n",
    "head(bone_pred)"
   ]
  },
  {
   "cell_type": "markdown",
   "id": "4e9ce5b9-8012-43fc-a9e7-f4b4ac385c02",
   "metadata": {},
   "source": [
    " - `table2.6`: the first 6 prediction of our model combined with other variables from our training data."
   ]
  },
  {
   "cell_type": "code",
   "execution_count": 165,
   "id": "356e1a98-c70b-45a5-9448-e6e585bd64a1",
   "metadata": {},
   "outputs": [
    {
     "data": {
      "text/html": [
       "<table class=\"dataframe\">\n",
       "<caption>A tibble: 1 × 3</caption>\n",
       "<thead>\n",
       "\t<tr><th scope=col>.metric</th><th scope=col>.estimator</th><th scope=col>.estimate</th></tr>\n",
       "\t<tr><th scope=col>&lt;chr&gt;</th><th scope=col>&lt;chr&gt;</th><th scope=col>&lt;dbl&gt;</th></tr>\n",
       "</thead>\n",
       "<tbody>\n",
       "\t<tr><td>accuracy</td><td>binary</td><td>0.7083333</td></tr>\n",
       "</tbody>\n",
       "</table>\n"
      ],
      "text/latex": [
       "A tibble: 1 × 3\n",
       "\\begin{tabular}{lll}\n",
       " .metric & .estimator & .estimate\\\\\n",
       " <chr> & <chr> & <dbl>\\\\\n",
       "\\hline\n",
       "\t accuracy & binary & 0.7083333\\\\\n",
       "\\end{tabular}\n"
      ],
      "text/markdown": [
       "\n",
       "A tibble: 1 × 3\n",
       "\n",
       "| .metric &lt;chr&gt; | .estimator &lt;chr&gt; | .estimate &lt;dbl&gt; |\n",
       "|---|---|---|\n",
       "| accuracy | binary | 0.7083333 |\n",
       "\n"
      ],
      "text/plain": [
       "  .metric  .estimator .estimate\n",
       "1 accuracy binary     0.7083333"
      ]
     },
     "metadata": {},
     "output_type": "display_data"
    },
    {
     "data": {
      "text/plain": [
       "          Truth\n",
       "Prediction  0  1\n",
       "         0 21  9\n",
       "         1  5 13"
      ]
     },
     "metadata": {},
     "output_type": "display_data"
    }
   ],
   "source": [
    "bone_test_metric <- bone_pred |>\n",
    "  metrics(truth = survival_status, estimate = .pred_class) |>\n",
    "  filter(.metric == \"accuracy\")\n",
    "bone_test_metric\n",
    "\n",
    "\n",
    "# get conf mat\n",
    "bone_conf <- bone_pred |>\n",
    "  conf_mat(truth = survival_status, estimate = .pred_class)\n",
    "bone_conf"
   ]
  },
  {
   "cell_type": "markdown",
   "id": "5b5a94ad-0961-4d09-9f3b-c951e76d4ae5",
   "metadata": {},
   "source": [
    " - `table2.7`: the accuracy of our model (70.8%)\n",
    " - `table2.8`: the confusion matrix of our result. The precision is 13/18 (72%), and the recall is 13/19 (68%)"
   ]
  },
  {
   "cell_type": "markdown",
   "id": "c8d45506-e50a-4ffc-adfd-4be9f5769150",
   "metadata": {},
   "source": [
    "# Results and Discussion"
   ]
  },
  {
   "cell_type": "markdown",
   "id": "2bda386c-6c9e-4922-b4f1-1e994294747c",
   "metadata": {
    "tags": []
   },
   "source": [
    "# Bibliography"
   ]
  }
 ],
 "metadata": {
  "kernelspec": {
   "display_name": "R",
   "language": "R",
   "name": "ir"
  },
  "language_info": {
   "codemirror_mode": "r",
   "file_extension": ".r",
   "mimetype": "text/x-r-source",
   "name": "R",
   "pygments_lexer": "r",
   "version": "4.1.3"
  }
 },
 "nbformat": 4,
 "nbformat_minor": 5
}
