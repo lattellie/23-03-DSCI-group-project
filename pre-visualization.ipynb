{
 "cells": [
  {
   "cell_type": "code",
   "execution_count": 2,
   "id": "c91048c3-9f30-4ea6-943f-ea8b7c3f3a9e",
   "metadata": {},
   "outputs": [
    {
     "name": "stderr",
     "output_type": "stream",
     "text": [
      "Warning message in file(filename, \"r\", encoding = encoding):\n",
      "“cannot open file 'tests.R': No such file or directory”\n"
     ]
    },
    {
     "ename": "ERROR",
     "evalue": "Error in file(filename, \"r\", encoding = encoding): cannot open the connection\n",
     "output_type": "error",
     "traceback": [
      "Error in file(filename, \"r\", encoding = encoding): cannot open the connection\nTraceback:\n",
      "1. source(\"tests.R\")",
      "2. file(filename, \"r\", encoding = encoding)"
     ]
    }
   ],
   "source": [
    "library(tidyverse)\n",
    "library(repr)\n",
    "library(tidymodels)\n",
    "options(repr.matrix.max.rows = 6)\n",
    "source('tests.R')\n",
    "source('cleanup.R')"
   ]
  },
  {
   "cell_type": "code",
   "execution_count": 3,
   "id": "2948d690-763e-4af8-99b4-d32666d0aa10",
   "metadata": {},
   "outputs": [
    {
     "name": "stderr",
     "output_type": "stream",
     "text": [
      "\u001b[1mRows: \u001b[22m\u001b[34m187\u001b[39m \u001b[1mColumns: \u001b[22m\u001b[34m38\u001b[39m\n",
      "\u001b[36m──\u001b[39m \u001b[1mColumn specification\u001b[22m \u001b[36m────────────────────────────────────────────────────────\u001b[39m\n",
      "\u001b[1mDelimiter:\u001b[22m \",\"\n",
      "\u001b[31mchr\u001b[39m (13): RecipientABO, RecipientRh, ABOmatch, CMVstatus, DonorCMV, Recipien...\n",
      "\u001b[32mdbl\u001b[39m (25): id, Recipientgender, Stemcellsource, Donorage, Donorage35, IIIV, G...\n",
      "\n",
      "\u001b[36mℹ\u001b[39m Use `spec()` to retrieve the full column specification for this data.\n",
      "\u001b[36mℹ\u001b[39m Specify the column types or set `show_col_types = FALSE` to quiet this message.\n"
     ]
    },
    {
     "data": {
      "text/html": [
       "<table class=\"dataframe\">\n",
       "<caption>A tibble: 6 × 38</caption>\n",
       "<thead>\n",
       "\t<tr><th scope=col>id</th><th scope=col>Recipientgender</th><th scope=col>Stemcellsource</th><th scope=col>Donorage</th><th scope=col>Donorage35</th><th scope=col>IIIV</th><th scope=col>Gendermatch</th><th scope=col>DonorABO</th><th scope=col>RecipientABO</th><th scope=col>RecipientRh</th><th scope=col>⋯</th><th scope=col>extcGvHD</th><th scope=col>CD34kgx10d6</th><th scope=col>CD3dCD34</th><th scope=col>CD3dkgx10d8</th><th scope=col>Rbodymass</th><th scope=col>ANCrecovery</th><th scope=col>PLTrecovery</th><th scope=col>time_to_aGvHD_III_IV</th><th scope=col>survival_time</th><th scope=col>survival_status</th></tr>\n",
       "\t<tr><th scope=col>&lt;dbl&gt;</th><th scope=col>&lt;dbl&gt;</th><th scope=col>&lt;dbl&gt;</th><th scope=col>&lt;dbl&gt;</th><th scope=col>&lt;dbl&gt;</th><th scope=col>&lt;dbl&gt;</th><th scope=col>&lt;dbl&gt;</th><th scope=col>&lt;dbl&gt;</th><th scope=col>&lt;chr&gt;</th><th scope=col>&lt;chr&gt;</th><th scope=col>⋯</th><th scope=col>&lt;chr&gt;</th><th scope=col>&lt;dbl&gt;</th><th scope=col>&lt;chr&gt;</th><th scope=col>&lt;chr&gt;</th><th scope=col>&lt;chr&gt;</th><th scope=col>&lt;dbl&gt;</th><th scope=col>&lt;dbl&gt;</th><th scope=col>&lt;dbl&gt;</th><th scope=col>&lt;dbl&gt;</th><th scope=col>&lt;dbl&gt;</th></tr>\n",
       "</thead>\n",
       "<tbody>\n",
       "\t<tr><td>1</td><td>1</td><td>1</td><td>22.83014</td><td>0</td><td>1</td><td>0</td><td> 1</td><td>1 </td><td>1</td><td>⋯</td><td>1</td><td> 7.20</td><td>1.33876  </td><td>5.38 </td><td>35  </td><td>19</td><td>51</td><td>     32</td><td> 999</td><td>0</td></tr>\n",
       "\t<tr><td>2</td><td>1</td><td>0</td><td>23.34247</td><td>0</td><td>1</td><td>0</td><td>-1</td><td>-1</td><td>1</td><td>⋯</td><td>1</td><td> 4.50</td><td>11.078295</td><td>0.41 </td><td>20.6</td><td>16</td><td>37</td><td>1000000</td><td> 163</td><td>1</td></tr>\n",
       "\t<tr><td>3</td><td>1</td><td>0</td><td>26.39452</td><td>0</td><td>1</td><td>0</td><td>-1</td><td>-1</td><td>1</td><td>⋯</td><td>1</td><td> 7.94</td><td>19.01323 </td><td>0.42 </td><td>23.4</td><td>23</td><td>20</td><td>1000000</td><td> 435</td><td>1</td></tr>\n",
       "\t<tr><td>4</td><td>0</td><td>0</td><td>39.68493</td><td>1</td><td>1</td><td>0</td><td> 1</td><td>2 </td><td>1</td><td>⋯</td><td>?</td><td> 4.25</td><td>29.481647</td><td>0.14 </td><td>50  </td><td>23</td><td>29</td><td>     19</td><td>  53</td><td>1</td></tr>\n",
       "\t<tr><td>5</td><td>0</td><td>1</td><td>33.35890</td><td>0</td><td>0</td><td>0</td><td> 1</td><td>2 </td><td>0</td><td>⋯</td><td>1</td><td>51.85</td><td>3.972255 </td><td>13.05</td><td>9   </td><td>14</td><td>14</td><td>1000000</td><td>2043</td><td>0</td></tr>\n",
       "\t<tr><td>6</td><td>1</td><td>0</td><td>27.39178</td><td>0</td><td>0</td><td>0</td><td> 2</td><td>0 </td><td>1</td><td>⋯</td><td>1</td><td> 3.27</td><td>8.412758 </td><td>0.39 </td><td>40  </td><td>16</td><td>70</td><td>1000000</td><td>2800</td><td>0</td></tr>\n",
       "</tbody>\n",
       "</table>\n"
      ],
      "text/latex": [
       "A tibble: 6 × 38\n",
       "\\begin{tabular}{lllllllllllllllllllll}\n",
       " id & Recipientgender & Stemcellsource & Donorage & Donorage35 & IIIV & Gendermatch & DonorABO & RecipientABO & RecipientRh & ⋯ & extcGvHD & CD34kgx10d6 & CD3dCD34 & CD3dkgx10d8 & Rbodymass & ANCrecovery & PLTrecovery & time\\_to\\_aGvHD\\_III\\_IV & survival\\_time & survival\\_status\\\\\n",
       " <dbl> & <dbl> & <dbl> & <dbl> & <dbl> & <dbl> & <dbl> & <dbl> & <chr> & <chr> & ⋯ & <chr> & <dbl> & <chr> & <chr> & <chr> & <dbl> & <dbl> & <dbl> & <dbl> & <dbl>\\\\\n",
       "\\hline\n",
       "\t 1 & 1 & 1 & 22.83014 & 0 & 1 & 0 &  1 & 1  & 1 & ⋯ & 1 &  7.20 & 1.33876   & 5.38  & 35   & 19 & 51 &      32 &  999 & 0\\\\\n",
       "\t 2 & 1 & 0 & 23.34247 & 0 & 1 & 0 & -1 & -1 & 1 & ⋯ & 1 &  4.50 & 11.078295 & 0.41  & 20.6 & 16 & 37 & 1000000 &  163 & 1\\\\\n",
       "\t 3 & 1 & 0 & 26.39452 & 0 & 1 & 0 & -1 & -1 & 1 & ⋯ & 1 &  7.94 & 19.01323  & 0.42  & 23.4 & 23 & 20 & 1000000 &  435 & 1\\\\\n",
       "\t 4 & 0 & 0 & 39.68493 & 1 & 1 & 0 &  1 & 2  & 1 & ⋯ & ? &  4.25 & 29.481647 & 0.14  & 50   & 23 & 29 &      19 &   53 & 1\\\\\n",
       "\t 5 & 0 & 1 & 33.35890 & 0 & 0 & 0 &  1 & 2  & 0 & ⋯ & 1 & 51.85 & 3.972255  & 13.05 & 9    & 14 & 14 & 1000000 & 2043 & 0\\\\\n",
       "\t 6 & 1 & 0 & 27.39178 & 0 & 0 & 0 &  2 & 0  & 1 & ⋯ & 1 &  3.27 & 8.412758  & 0.39  & 40   & 16 & 70 & 1000000 & 2800 & 0\\\\\n",
       "\\end{tabular}\n"
      ],
      "text/markdown": [
       "\n",
       "A tibble: 6 × 38\n",
       "\n",
       "| id &lt;dbl&gt; | Recipientgender &lt;dbl&gt; | Stemcellsource &lt;dbl&gt; | Donorage &lt;dbl&gt; | Donorage35 &lt;dbl&gt; | IIIV &lt;dbl&gt; | Gendermatch &lt;dbl&gt; | DonorABO &lt;dbl&gt; | RecipientABO &lt;chr&gt; | RecipientRh &lt;chr&gt; | ⋯ ⋯ | extcGvHD &lt;chr&gt; | CD34kgx10d6 &lt;dbl&gt; | CD3dCD34 &lt;chr&gt; | CD3dkgx10d8 &lt;chr&gt; | Rbodymass &lt;chr&gt; | ANCrecovery &lt;dbl&gt; | PLTrecovery &lt;dbl&gt; | time_to_aGvHD_III_IV &lt;dbl&gt; | survival_time &lt;dbl&gt; | survival_status &lt;dbl&gt; |\n",
       "|---|---|---|---|---|---|---|---|---|---|---|---|---|---|---|---|---|---|---|---|---|\n",
       "| 1 | 1 | 1 | 22.83014 | 0 | 1 | 0 |  1 | 1  | 1 | ⋯ | 1 |  7.20 | 1.33876   | 5.38  | 35   | 19 | 51 |      32 |  999 | 0 |\n",
       "| 2 | 1 | 0 | 23.34247 | 0 | 1 | 0 | -1 | -1 | 1 | ⋯ | 1 |  4.50 | 11.078295 | 0.41  | 20.6 | 16 | 37 | 1000000 |  163 | 1 |\n",
       "| 3 | 1 | 0 | 26.39452 | 0 | 1 | 0 | -1 | -1 | 1 | ⋯ | 1 |  7.94 | 19.01323  | 0.42  | 23.4 | 23 | 20 | 1000000 |  435 | 1 |\n",
       "| 4 | 0 | 0 | 39.68493 | 1 | 1 | 0 |  1 | 2  | 1 | ⋯ | ? |  4.25 | 29.481647 | 0.14  | 50   | 23 | 29 |      19 |   53 | 1 |\n",
       "| 5 | 0 | 1 | 33.35890 | 0 | 0 | 0 |  1 | 2  | 0 | ⋯ | 1 | 51.85 | 3.972255  | 13.05 | 9    | 14 | 14 | 1000000 | 2043 | 0 |\n",
       "| 6 | 1 | 0 | 27.39178 | 0 | 0 | 0 |  2 | 0  | 1 | ⋯ | 1 |  3.27 | 8.412758  | 0.39  | 40   | 16 | 70 | 1000000 | 2800 | 0 |\n",
       "\n"
      ],
      "text/plain": [
       "  id Recipientgender Stemcellsource Donorage Donorage35 IIIV Gendermatch\n",
       "1 1  1               1              22.83014 0          1    0          \n",
       "2 2  1               0              23.34247 0          1    0          \n",
       "3 3  1               0              26.39452 0          1    0          \n",
       "4 4  0               0              39.68493 1          1    0          \n",
       "5 5  0               1              33.35890 0          0    0          \n",
       "6 6  1               0              27.39178 0          0    0          \n",
       "  DonorABO RecipientABO RecipientRh ⋯ extcGvHD CD34kgx10d6 CD3dCD34 \n",
       "1  1       1            1           ⋯ 1         7.20       1.33876  \n",
       "2 -1       -1           1           ⋯ 1         4.50       11.078295\n",
       "3 -1       -1           1           ⋯ 1         7.94       19.01323 \n",
       "4  1       2            1           ⋯ ?         4.25       29.481647\n",
       "5  1       2            0           ⋯ 1        51.85       3.972255 \n",
       "6  2       0            1           ⋯ 1         3.27       8.412758 \n",
       "  CD3dkgx10d8 Rbodymass ANCrecovery PLTrecovery time_to_aGvHD_III_IV\n",
       "1 5.38        35        19          51               32             \n",
       "2 0.41        20.6      16          37          1000000             \n",
       "3 0.42        23.4      23          20          1000000             \n",
       "4 0.14        50        23          29               19             \n",
       "5 13.05       9         14          14          1000000             \n",
       "6 0.39        40        16          70          1000000             \n",
       "  survival_time survival_status\n",
       "1  999          0              \n",
       "2  163          1              \n",
       "3  435          1              \n",
       "4   53          1              \n",
       "5 2043          0              \n",
       "6 2800          0              "
      ]
     },
     "metadata": {},
     "output_type": "display_data"
    },
    {
     "data": {
      "text/html": [
       "<style>\n",
       ".list-inline {list-style: none; margin:0; padding: 0}\n",
       ".list-inline>li {display: inline-block}\n",
       ".list-inline>li:not(:last-child)::after {content: \"\\00b7\"; padding: 0 .5ex}\n",
       "</style>\n",
       "<ol class=list-inline><li>'id'</li><li>'Recipientgender'</li><li>'Stemcellsource'</li><li>'Donorage'</li><li>'Donorage35'</li><li>'IIIV'</li><li>'Gendermatch'</li><li>'DonorABO'</li><li>'RecipientABO'</li><li>'RecipientRh'</li><li>'ABOmatch'</li><li>'CMVstatus'</li><li>'DonorCMV'</li><li>'RecipientCMV'</li><li>'Disease'</li><li>'Riskgroup'</li><li>'Txpostrelapse'</li><li>'Diseasegroup'</li><li>'HLAmatch'</li><li>'HLAmismatch'</li><li>'Antigen'</li><li>'Alel'</li><li>'HLAgrI'</li><li>'Recipientage'</li><li>'Recipientage10'</li><li>'Recipientageint'</li><li>'Relapse'</li><li>'aGvHDIIIIV'</li><li>'extcGvHD'</li><li>'CD34kgx10d6'</li><li>'CD3dCD34'</li><li>'CD3dkgx10d8'</li><li>'Rbodymass'</li><li>'ANCrecovery'</li><li>'PLTrecovery'</li><li>'time_to_aGvHD_III_IV'</li><li>'survival_time'</li><li>'survival_status'</li></ol>\n"
      ],
      "text/latex": [
       "\\begin{enumerate*}\n",
       "\\item 'id'\n",
       "\\item 'Recipientgender'\n",
       "\\item 'Stemcellsource'\n",
       "\\item 'Donorage'\n",
       "\\item 'Donorage35'\n",
       "\\item 'IIIV'\n",
       "\\item 'Gendermatch'\n",
       "\\item 'DonorABO'\n",
       "\\item 'RecipientABO'\n",
       "\\item 'RecipientRh'\n",
       "\\item 'ABOmatch'\n",
       "\\item 'CMVstatus'\n",
       "\\item 'DonorCMV'\n",
       "\\item 'RecipientCMV'\n",
       "\\item 'Disease'\n",
       "\\item 'Riskgroup'\n",
       "\\item 'Txpostrelapse'\n",
       "\\item 'Diseasegroup'\n",
       "\\item 'HLAmatch'\n",
       "\\item 'HLAmismatch'\n",
       "\\item 'Antigen'\n",
       "\\item 'Alel'\n",
       "\\item 'HLAgrI'\n",
       "\\item 'Recipientage'\n",
       "\\item 'Recipientage10'\n",
       "\\item 'Recipientageint'\n",
       "\\item 'Relapse'\n",
       "\\item 'aGvHDIIIIV'\n",
       "\\item 'extcGvHD'\n",
       "\\item 'CD34kgx10d6'\n",
       "\\item 'CD3dCD34'\n",
       "\\item 'CD3dkgx10d8'\n",
       "\\item 'Rbodymass'\n",
       "\\item 'ANCrecovery'\n",
       "\\item 'PLTrecovery'\n",
       "\\item 'time\\_to\\_aGvHD\\_III\\_IV'\n",
       "\\item 'survival\\_time'\n",
       "\\item 'survival\\_status'\n",
       "\\end{enumerate*}\n"
      ],
      "text/markdown": [
       "1. 'id'\n",
       "2. 'Recipientgender'\n",
       "3. 'Stemcellsource'\n",
       "4. 'Donorage'\n",
       "5. 'Donorage35'\n",
       "6. 'IIIV'\n",
       "7. 'Gendermatch'\n",
       "8. 'DonorABO'\n",
       "9. 'RecipientABO'\n",
       "10. 'RecipientRh'\n",
       "11. 'ABOmatch'\n",
       "12. 'CMVstatus'\n",
       "13. 'DonorCMV'\n",
       "14. 'RecipientCMV'\n",
       "15. 'Disease'\n",
       "16. 'Riskgroup'\n",
       "17. 'Txpostrelapse'\n",
       "18. 'Diseasegroup'\n",
       "19. 'HLAmatch'\n",
       "20. 'HLAmismatch'\n",
       "21. 'Antigen'\n",
       "22. 'Alel'\n",
       "23. 'HLAgrI'\n",
       "24. 'Recipientage'\n",
       "25. 'Recipientage10'\n",
       "26. 'Recipientageint'\n",
       "27. 'Relapse'\n",
       "28. 'aGvHDIIIIV'\n",
       "29. 'extcGvHD'\n",
       "30. 'CD34kgx10d6'\n",
       "31. 'CD3dCD34'\n",
       "32. 'CD3dkgx10d8'\n",
       "33. 'Rbodymass'\n",
       "34. 'ANCrecovery'\n",
       "35. 'PLTrecovery'\n",
       "36. 'time_to_aGvHD_III_IV'\n",
       "37. 'survival_time'\n",
       "38. 'survival_status'\n",
       "\n",
       "\n"
      ],
      "text/plain": [
       " [1] \"id\"                   \"Recipientgender\"      \"Stemcellsource\"      \n",
       " [4] \"Donorage\"             \"Donorage35\"           \"IIIV\"                \n",
       " [7] \"Gendermatch\"          \"DonorABO\"             \"RecipientABO\"        \n",
       "[10] \"RecipientRh\"          \"ABOmatch\"             \"CMVstatus\"           \n",
       "[13] \"DonorCMV\"             \"RecipientCMV\"         \"Disease\"             \n",
       "[16] \"Riskgroup\"            \"Txpostrelapse\"        \"Diseasegroup\"        \n",
       "[19] \"HLAmatch\"             \"HLAmismatch\"          \"Antigen\"             \n",
       "[22] \"Alel\"                 \"HLAgrI\"               \"Recipientage\"        \n",
       "[25] \"Recipientage10\"       \"Recipientageint\"      \"Relapse\"             \n",
       "[28] \"aGvHDIIIIV\"           \"extcGvHD\"             \"CD34kgx10d6\"         \n",
       "[31] \"CD3dCD34\"             \"CD3dkgx10d8\"          \"Rbodymass\"           \n",
       "[34] \"ANCrecovery\"          \"PLTrecovery\"          \"time_to_aGvHD_III_IV\"\n",
       "[37] \"survival_time\"        \"survival_status\"     "
      ]
     },
     "metadata": {},
     "output_type": "display_data"
    }
   ],
   "source": [
    "bone_data <- read_csv(\"data/boneMarrow.csv\")\n",
    "head(bone_data)\n",
    "colnames(bone_data)"
   ]
  },
  {
   "cell_type": "code",
   "execution_count": 4,
   "id": "64abfd2f-5c26-48e7-88c5-c6a594578521",
   "metadata": {},
   "outputs": [
    {
     "data": {
      "text/html": [
       "<table class=\"dataframe\">\n",
       "<caption>A tibble: 187 × 7</caption>\n",
       "<thead>\n",
       "\t<tr><th scope=col>Donorage</th><th scope=col>Recipientage</th><th scope=col>DonorABO</th><th scope=col>RecipientABO</th><th scope=col>Relapse</th><th scope=col>survival_time</th><th scope=col>survival_status</th></tr>\n",
       "\t<tr><th scope=col>&lt;dbl&gt;</th><th scope=col>&lt;dbl&gt;</th><th scope=col>&lt;dbl&gt;</th><th scope=col>&lt;chr&gt;</th><th scope=col>&lt;dbl&gt;</th><th scope=col>&lt;dbl&gt;</th><th scope=col>&lt;fct&gt;</th></tr>\n",
       "</thead>\n",
       "<tbody>\n",
       "\t<tr><td>22.83014</td><td>9.6</td><td> 1</td><td>1 </td><td>0</td><td>999</td><td>0</td></tr>\n",
       "\t<tr><td>23.34247</td><td>4.0</td><td>-1</td><td>-1</td><td>1</td><td>163</td><td>1</td></tr>\n",
       "\t<tr><td>26.39452</td><td>6.6</td><td>-1</td><td>-1</td><td>1</td><td>435</td><td>1</td></tr>\n",
       "\t<tr><td>⋮</td><td>⋮</td><td>⋮</td><td>⋮</td><td>⋮</td><td>⋮</td><td>⋮</td></tr>\n",
       "\t<tr><td>27.34794</td><td>10.4</td><td>1</td><td>-1</td><td>0</td><td>1895</td><td>0</td></tr>\n",
       "\t<tr><td>27.78082</td><td> 8.0</td><td>1</td><td>0 </td><td>0</td><td> 382</td><td>1</td></tr>\n",
       "\t<tr><td>55.55342</td><td> 9.5</td><td>1</td><td>2 </td><td>0</td><td>1109</td><td>0</td></tr>\n",
       "</tbody>\n",
       "</table>\n"
      ],
      "text/latex": [
       "A tibble: 187 × 7\n",
       "\\begin{tabular}{lllllll}\n",
       " Donorage & Recipientage & DonorABO & RecipientABO & Relapse & survival\\_time & survival\\_status\\\\\n",
       " <dbl> & <dbl> & <dbl> & <chr> & <dbl> & <dbl> & <fct>\\\\\n",
       "\\hline\n",
       "\t 22.83014 & 9.6 &  1 & 1  & 0 & 999 & 0\\\\\n",
       "\t 23.34247 & 4.0 & -1 & -1 & 1 & 163 & 1\\\\\n",
       "\t 26.39452 & 6.6 & -1 & -1 & 1 & 435 & 1\\\\\n",
       "\t ⋮ & ⋮ & ⋮ & ⋮ & ⋮ & ⋮ & ⋮\\\\\n",
       "\t 27.34794 & 10.4 & 1 & -1 & 0 & 1895 & 0\\\\\n",
       "\t 27.78082 &  8.0 & 1 & 0  & 0 &  382 & 1\\\\\n",
       "\t 55.55342 &  9.5 & 1 & 2  & 0 & 1109 & 0\\\\\n",
       "\\end{tabular}\n"
      ],
      "text/markdown": [
       "\n",
       "A tibble: 187 × 7\n",
       "\n",
       "| Donorage &lt;dbl&gt; | Recipientage &lt;dbl&gt; | DonorABO &lt;dbl&gt; | RecipientABO &lt;chr&gt; | Relapse &lt;dbl&gt; | survival_time &lt;dbl&gt; | survival_status &lt;fct&gt; |\n",
       "|---|---|---|---|---|---|---|\n",
       "| 22.83014 | 9.6 |  1 | 1  | 0 | 999 | 0 |\n",
       "| 23.34247 | 4.0 | -1 | -1 | 1 | 163 | 1 |\n",
       "| 26.39452 | 6.6 | -1 | -1 | 1 | 435 | 1 |\n",
       "| ⋮ | ⋮ | ⋮ | ⋮ | ⋮ | ⋮ | ⋮ |\n",
       "| 27.34794 | 10.4 | 1 | -1 | 0 | 1895 | 0 |\n",
       "| 27.78082 |  8.0 | 1 | 0  | 0 |  382 | 1 |\n",
       "| 55.55342 |  9.5 | 1 | 2  | 0 | 1109 | 0 |\n",
       "\n"
      ],
      "text/plain": [
       "    Donorage Recipientage DonorABO RecipientABO Relapse survival_time\n",
       "1   22.83014 9.6           1       1            0       999          \n",
       "2   23.34247 4.0          -1       -1           1       163          \n",
       "3   26.39452 6.6          -1       -1           1       435          \n",
       "⋮   ⋮        ⋮            ⋮        ⋮            ⋮       ⋮            \n",
       "185 27.34794 10.4         1        -1           0       1895         \n",
       "186 27.78082  8.0         1        0            0        382         \n",
       "187 55.55342  9.5         1        2            0       1109         \n",
       "    survival_status\n",
       "1   0              \n",
       "2   1              \n",
       "3   1              \n",
       "⋮   ⋮              \n",
       "185 0              \n",
       "186 1              \n",
       "187 0              "
      ]
     },
     "metadata": {},
     "output_type": "display_data"
    }
   ],
   "source": [
    "bone_selected <- bone_data |>\n",
    "select(Donorage, Recipientage, DonorABO, RecipientABO, Relapse, survival_time, survival_status)|>\n",
    "mutate(survival_status = as_factor(survival_status))\n",
    "bone_selected"
   ]
  },
  {
   "cell_type": "code",
   "execution_count": 5,
   "id": "83d1a262-c4eb-4b9b-9a18-0ed909c10aac",
   "metadata": {},
   "outputs": [
    {
     "data": {
      "text/html": [
       "<table class=\"dataframe\">\n",
       "<caption>A tibble: 2 × 2</caption>\n",
       "<thead>\n",
       "\t<tr><th scope=col>survival_status</th><th scope=col>count</th></tr>\n",
       "\t<tr><th scope=col>&lt;fct&gt;</th><th scope=col>&lt;int&gt;</th></tr>\n",
       "</thead>\n",
       "<tbody>\n",
       "\t<tr><td>0</td><td>102</td></tr>\n",
       "\t<tr><td>1</td><td> 85</td></tr>\n",
       "</tbody>\n",
       "</table>\n"
      ],
      "text/latex": [
       "A tibble: 2 × 2\n",
       "\\begin{tabular}{ll}\n",
       " survival\\_status & count\\\\\n",
       " <fct> & <int>\\\\\n",
       "\\hline\n",
       "\t 0 & 102\\\\\n",
       "\t 1 &  85\\\\\n",
       "\\end{tabular}\n"
      ],
      "text/markdown": [
       "\n",
       "A tibble: 2 × 2\n",
       "\n",
       "| survival_status &lt;fct&gt; | count &lt;int&gt; |\n",
       "|---|---|\n",
       "| 0 | 102 |\n",
       "| 1 |  85 |\n",
       "\n"
      ],
      "text/plain": [
       "  survival_status count\n",
       "1 0               102  \n",
       "2 1                85  "
      ]
     },
     "metadata": {},
     "output_type": "display_data"
    },
    {
     "data": {
      "text/html": [
       "<table class=\"dataframe\">\n",
       "<caption>A tibble: 2 × 2</caption>\n",
       "<thead>\n",
       "\t<tr><th scope=col>survival_status</th><th scope=col>count</th></tr>\n",
       "\t<tr><th scope=col>&lt;fct&gt;</th><th scope=col>&lt;int&gt;</th></tr>\n",
       "</thead>\n",
       "<tbody>\n",
       "\t<tr><td>0</td><td>71</td></tr>\n",
       "\t<tr><td>1</td><td>59</td></tr>\n",
       "</tbody>\n",
       "</table>\n"
      ],
      "text/latex": [
       "A tibble: 2 × 2\n",
       "\\begin{tabular}{ll}\n",
       " survival\\_status & count\\\\\n",
       " <fct> & <int>\\\\\n",
       "\\hline\n",
       "\t 0 & 71\\\\\n",
       "\t 1 & 59\\\\\n",
       "\\end{tabular}\n"
      ],
      "text/markdown": [
       "\n",
       "A tibble: 2 × 2\n",
       "\n",
       "| survival_status &lt;fct&gt; | count &lt;int&gt; |\n",
       "|---|---|\n",
       "| 0 | 71 |\n",
       "| 1 | 59 |\n",
       "\n"
      ],
      "text/plain": [
       "  survival_status count\n",
       "1 0               71   \n",
       "2 1               59   "
      ]
     },
     "metadata": {},
     "output_type": "display_data"
    }
   ],
   "source": [
    "survival_summarize <- bone_selected |>\n",
    "group_by(survival_status) |>\n",
    "summarize(count=n())\n",
    "survival_summarize\n",
    "\n",
    "set.seed(1)\n",
    "bone_split <- initial_split(bone_selected, prop=0.7, strata=survival_status)\n",
    "bone_train <- training(bone_split)\n",
    "bone_test <- testing(bone_split)\n",
    "train_summarize <- bone_train |>\n",
    "group_by(survival_status) |>\n",
    "summarize(count=n())\n",
    "train_summarize"
   ]
  },
  {
   "cell_type": "markdown",
   "id": "11a2f3ba-f0f6-486a-a89b-1811f4795819",
   "metadata": {
    "jp-MarkdownHeadingCollapsed": true,
    "tags": []
   },
   "source": [
    "# PART1-AGE"
   ]
  },
  {
   "cell_type": "code",
   "execution_count": 6,
   "id": "c90a2fc6-d453-4327-809a-753df0376d92",
   "metadata": {},
   "outputs": [
    {
     "data": {
      "text/html": [
       "<table class=\"dataframe\">\n",
       "<caption>A tibble: 130 × 8</caption>\n",
       "<thead>\n",
       "\t<tr><th scope=col>Donorage</th><th scope=col>Recipientage</th><th scope=col>Relapse</th><th scope=col>survival_time</th><th scope=col>survival_status</th><th scope=col>age_diff</th><th scope=col>DonorAgeGroup</th><th scope=col>RecipientAgeGroup</th></tr>\n",
       "\t<tr><th scope=col>&lt;dbl&gt;</th><th scope=col>&lt;dbl&gt;</th><th scope=col>&lt;dbl&gt;</th><th scope=col>&lt;dbl&gt;</th><th scope=col>&lt;fct&gt;</th><th scope=col>&lt;dbl&gt;</th><th scope=col>&lt;fct&gt;</th><th scope=col>&lt;fct&gt;</th></tr>\n",
       "</thead>\n",
       "<tbody>\n",
       "\t<tr><td>22.83014</td><td>9.6</td><td>0</td><td> 999</td><td>0</td><td>13.23014</td><td>20-25</td><td>5-10</td></tr>\n",
       "\t<tr><td>33.35890</td><td>1.3</td><td>0</td><td>2043</td><td>0</td><td>32.05890</td><td>30-35</td><td><span style=white-space:pre-wrap>&lt;5  </span></td></tr>\n",
       "\t<tr><td>29.73151</td><td>1.9</td><td>0</td><td> 599</td><td>0</td><td>27.83151</td><td>25-30</td><td><span style=white-space:pre-wrap>&lt;5  </span></td></tr>\n",
       "\t<tr><td>⋮</td><td>⋮</td><td>⋮</td><td>⋮</td><td>⋮</td><td>⋮</td><td>⋮</td><td>⋮</td></tr>\n",
       "\t<tr><td>37.57534</td><td>12.9</td><td>1</td><td>385</td><td>1</td><td>24.67534</td><td>35+  </td><td>10-15</td></tr>\n",
       "\t<tr><td>22.89589</td><td>13.9</td><td>0</td><td>634</td><td>1</td><td> 8.99589</td><td>20-25</td><td>10-15</td></tr>\n",
       "\t<tr><td>27.78082</td><td> 8.0</td><td>0</td><td>382</td><td>1</td><td>19.78082</td><td>25-30</td><td>5-10 </td></tr>\n",
       "</tbody>\n",
       "</table>\n"
      ],
      "text/latex": [
       "A tibble: 130 × 8\n",
       "\\begin{tabular}{llllllll}\n",
       " Donorage & Recipientage & Relapse & survival\\_time & survival\\_status & age\\_diff & DonorAgeGroup & RecipientAgeGroup\\\\\n",
       " <dbl> & <dbl> & <dbl> & <dbl> & <fct> & <dbl> & <fct> & <fct>\\\\\n",
       "\\hline\n",
       "\t 22.83014 & 9.6 & 0 &  999 & 0 & 13.23014 & 20-25 & 5-10\\\\\n",
       "\t 33.35890 & 1.3 & 0 & 2043 & 0 & 32.05890 & 30-35 & <5  \\\\\n",
       "\t 29.73151 & 1.9 & 0 &  599 & 0 & 27.83151 & 25-30 & <5  \\\\\n",
       "\t ⋮ & ⋮ & ⋮ & ⋮ & ⋮ & ⋮ & ⋮ & ⋮\\\\\n",
       "\t 37.57534 & 12.9 & 1 & 385 & 1 & 24.67534 & 35+   & 10-15\\\\\n",
       "\t 22.89589 & 13.9 & 0 & 634 & 1 &  8.99589 & 20-25 & 10-15\\\\\n",
       "\t 27.78082 &  8.0 & 0 & 382 & 1 & 19.78082 & 25-30 & 5-10 \\\\\n",
       "\\end{tabular}\n"
      ],
      "text/markdown": [
       "\n",
       "A tibble: 130 × 8\n",
       "\n",
       "| Donorage &lt;dbl&gt; | Recipientage &lt;dbl&gt; | Relapse &lt;dbl&gt; | survival_time &lt;dbl&gt; | survival_status &lt;fct&gt; | age_diff &lt;dbl&gt; | DonorAgeGroup &lt;fct&gt; | RecipientAgeGroup &lt;fct&gt; |\n",
       "|---|---|---|---|---|---|---|---|\n",
       "| 22.83014 | 9.6 | 0 |  999 | 0 | 13.23014 | 20-25 | 5-10 |\n",
       "| 33.35890 | 1.3 | 0 | 2043 | 0 | 32.05890 | 30-35 | &lt;5   |\n",
       "| 29.73151 | 1.9 | 0 |  599 | 0 | 27.83151 | 25-30 | &lt;5   |\n",
       "| ⋮ | ⋮ | ⋮ | ⋮ | ⋮ | ⋮ | ⋮ | ⋮ |\n",
       "| 37.57534 | 12.9 | 1 | 385 | 1 | 24.67534 | 35+   | 10-15 |\n",
       "| 22.89589 | 13.9 | 0 | 634 | 1 |  8.99589 | 20-25 | 10-15 |\n",
       "| 27.78082 |  8.0 | 0 | 382 | 1 | 19.78082 | 25-30 | 5-10  |\n",
       "\n"
      ],
      "text/plain": [
       "    Donorage Recipientage Relapse survival_time survival_status age_diff\n",
       "1   22.83014 9.6          0        999          0               13.23014\n",
       "2   33.35890 1.3          0       2043          0               32.05890\n",
       "3   29.73151 1.9          0        599          0               27.83151\n",
       "⋮   ⋮        ⋮            ⋮       ⋮             ⋮               ⋮       \n",
       "128 37.57534 12.9         1       385           1               24.67534\n",
       "129 22.89589 13.9         0       634           1                8.99589\n",
       "130 27.78082  8.0         0       382           1               19.78082\n",
       "    DonorAgeGroup RecipientAgeGroup\n",
       "1   20-25         5-10             \n",
       "2   30-35         <5               \n",
       "3   25-30         <5               \n",
       "⋮   ⋮             ⋮                \n",
       "128 35+           10-15            \n",
       "129 20-25         10-15            \n",
       "130 25-30         5-10             "
      ]
     },
     "metadata": {},
     "output_type": "display_data"
    }
   ],
   "source": [
    "bone_age <- bone_train |>\n",
    "select(Donorage,Recipientage,Relapse,survival_time,survival_status)|>\n",
    "mutate(age_diff = Donorage-Recipientage)|>\n",
    "mutate(DonorAgeGroup = cut(Donorage, breaks = c(0,5,10,15,20,25,30,35,100),\n",
    "              labels=c(\"<5\",\"5-10\",\"10-15\",\"15-20\",\"20-25\",\"25-30\",\"30-35\",\"35+\")))|>\n",
    "mutate(RecipientAgeGroup = cut(Recipientage, breaks = c(0,5,10,15,20,25,30,35,100),\n",
    "              labels=c(\"<5\",\"5-10\",\"10-15\",\"15-20\",\"20-25\",\"25-30\",\"30-35\",\"35+\")))\n",
    "bone_age"
   ]
  },
  {
   "cell_type": "code",
   "execution_count": 7,
   "id": "e3e7b637-25aa-4832-88f7-0028a7b3e74b",
   "metadata": {},
   "outputs": [
    {
     "data": {
      "text/html": [
       "<table class=\"dataframe\">\n",
       "<caption>A tibble: 5 × 2</caption>\n",
       "<thead>\n",
       "\t<tr><th scope=col>age</th><th scope=col>RecipientAgeCount</th></tr>\n",
       "\t<tr><th scope=col>&lt;fct&gt;</th><th scope=col>&lt;int&gt;</th></tr>\n",
       "</thead>\n",
       "<tbody>\n",
       "\t<tr><td><span style=white-space:pre-wrap>&lt;5   </span></td><td>35</td></tr>\n",
       "\t<tr><td>5-10 </td><td>31</td></tr>\n",
       "\t<tr><td>10-15</td><td>35</td></tr>\n",
       "\t<tr><td>15-20</td><td>27</td></tr>\n",
       "\t<tr><td>20-25</td><td> 2</td></tr>\n",
       "</tbody>\n",
       "</table>\n"
      ],
      "text/latex": [
       "A tibble: 5 × 2\n",
       "\\begin{tabular}{ll}\n",
       " age & RecipientAgeCount\\\\\n",
       " <fct> & <int>\\\\\n",
       "\\hline\n",
       "\t <5    & 35\\\\\n",
       "\t 5-10  & 31\\\\\n",
       "\t 10-15 & 35\\\\\n",
       "\t 15-20 & 27\\\\\n",
       "\t 20-25 &  2\\\\\n",
       "\\end{tabular}\n"
      ],
      "text/markdown": [
       "\n",
       "A tibble: 5 × 2\n",
       "\n",
       "| age &lt;fct&gt; | RecipientAgeCount &lt;int&gt; |\n",
       "|---|---|\n",
       "| &lt;5    | 35 |\n",
       "| 5-10  | 31 |\n",
       "| 10-15 | 35 |\n",
       "| 15-20 | 27 |\n",
       "| 20-25 |  2 |\n",
       "\n"
      ],
      "text/plain": [
       "  age   RecipientAgeCount\n",
       "1 <5    35               \n",
       "2 5-10  31               \n",
       "3 10-15 35               \n",
       "4 15-20 27               \n",
       "5 20-25  2               "
      ]
     },
     "metadata": {},
     "output_type": "display_data"
    },
    {
     "data": {
      "text/html": [
       "<table class=\"dataframe\">\n",
       "<caption>A tibble: 5 × 2</caption>\n",
       "<thead>\n",
       "\t<tr><th scope=col>age</th><th scope=col>DonorAgeCount</th></tr>\n",
       "\t<tr><th scope=col>&lt;fct&gt;</th><th scope=col>&lt;int&gt;</th></tr>\n",
       "</thead>\n",
       "<tbody>\n",
       "\t<tr><td>15-20</td><td> 3</td></tr>\n",
       "\t<tr><td>20-25</td><td>27</td></tr>\n",
       "\t<tr><td>25-30</td><td>13</td></tr>\n",
       "\t<tr><td>30-35</td><td>27</td></tr>\n",
       "\t<tr><td>35+  </td><td>60</td></tr>\n",
       "</tbody>\n",
       "</table>\n"
      ],
      "text/latex": [
       "A tibble: 5 × 2\n",
       "\\begin{tabular}{ll}\n",
       " age & DonorAgeCount\\\\\n",
       " <fct> & <int>\\\\\n",
       "\\hline\n",
       "\t 15-20 &  3\\\\\n",
       "\t 20-25 & 27\\\\\n",
       "\t 25-30 & 13\\\\\n",
       "\t 30-35 & 27\\\\\n",
       "\t 35+   & 60\\\\\n",
       "\\end{tabular}\n"
      ],
      "text/markdown": [
       "\n",
       "A tibble: 5 × 2\n",
       "\n",
       "| age &lt;fct&gt; | DonorAgeCount &lt;int&gt; |\n",
       "|---|---|\n",
       "| 15-20 |  3 |\n",
       "| 20-25 | 27 |\n",
       "| 25-30 | 13 |\n",
       "| 30-35 | 27 |\n",
       "| 35+   | 60 |\n",
       "\n"
      ],
      "text/plain": [
       "  age   DonorAgeCount\n",
       "1 15-20  3           \n",
       "2 20-25 27           \n",
       "3 25-30 13           \n",
       "4 30-35 27           \n",
       "5 35+   60           "
      ]
     },
     "metadata": {},
     "output_type": "display_data"
    }
   ],
   "source": [
    "Recipient_summarize <- bone_age |>\n",
    "group_by(RecipientAgeGroup)|>\n",
    "summarize(RecipientAgeCount=n())|>\n",
    "rename(age=RecipientAgeGroup)\n",
    "Recipient_summarize \n",
    "\n",
    "Donor_summarize <- bone_age |>\n",
    "group_by(DonorAgeGroup)|>\n",
    "summarize(DonorAgeCount=n())|>\n",
    "rename(age=DonorAgeGroup)\n",
    "Donor_summarize "
   ]
  },
  {
   "cell_type": "code",
   "execution_count": 8,
   "id": "1568b118-1026-4c0c-a409-1f8354aac87e",
   "metadata": {},
   "outputs": [
    {
     "name": "stdout",
     "output_type": "stream",
     "text": [
      "    age donor_age recipient_age\n",
      "1    <5        NA            35\n",
      "2  5-10        NA            31\n",
      "3 10-15        NA            35\n",
      "4 15-20         3            27\n",
      "5 20-25        27             2\n",
      "6 25-30        13            NA\n",
      "7 30-35        27            NA\n",
      "8   35+        60            NA\n"
     ]
    }
   ],
   "source": [
    "options(tibble.print_max = 8) # to show all the rows.\n",
    "age_summarize <- full_join(x=Donor_summarize,y=Recipient_summarize,by=\"age\")|>\n",
    "arrange(by=age)|>\n",
    "rename(donor_age = DonorAgeCount,recipient_age = RecipientAgeCount)\n",
    "print.data.frame(age_summarize)"
   ]
  },
  {
   "cell_type": "code",
   "execution_count": 62,
   "id": "4ad15664-abd1-4e5d-9e59-f6d9f2b9af49",
   "metadata": {},
   "outputs": [
    {
     "data": {
      "image/png": "[encoded data removed]",
      "text/plain": [
       "plot without title"
      ]
     },
     "metadata": {
      "image/png": {
       "height": 240,
       "width": 600
      }
     },
     "output_type": "display_data"
    },
    {
     "data": {
      "image/png": "[encoded data removed]",
      "text/plain": [
       "plot without title"
      ]
     },
     "metadata": {
      "image/png": {
       "height": 240,
       "width": 600
      }
     },
     "output_type": "display_data"
    }
   ],
   "source": [
    "options(repr.plot.width=10,repr.plot.height=4)\n",
    "age_diff_plot <- bone_age |>\n",
    "# revalue(str, c(\"0\"=\"death\", \"1\"=\"survival\"))\n",
    "# mapvalues(from=c(\"0\",\"1\"), \n",
    "#           to=c(\"death\",\"survival\"))\n",
    "\n",
    "ggplot(aes(x=age_diff,fill=survival_status))+\n",
    "geom_histogram(bins=20)+\n",
    "facet_grid(cols=vars(survival_status))\n",
    "age_diff_plot\n",
    "\n",
    "age_plot <- bone_age |>\n",
    "ggplot(aes(x=Donorage,fill=survival_status))+\n",
    "geom_histogram(bins=20)+\n",
    "facet_grid(cols=vars(survival_status))+\n",
    "labs(x=\"age difference\", y = \"count\",color= \"survival status\")\n",
    "age_plot"
   ]
  },
  {
   "cell_type": "markdown",
   "id": "ec0a465d-d0a2-4dd1-b69b-ae533fd57337",
   "metadata": {
    "tags": []
   },
   "source": [
    "# part 2 - blood"
   ]
  },
  {
   "cell_type": "code",
   "execution_count": 18,
   "id": "1657995f-065f-4a2d-a667-6369b20dc7b9",
   "metadata": {},
   "outputs": [
    {
     "name": "stderr",
     "output_type": "stream",
     "text": [
      "\u001b[1m\u001b[22m`summarise()` has grouped output by 'DonorABO'. You can override using the\n",
      "`.groups` argument.\n"
     ]
    },
    {
     "data": {
      "text/html": [
       "<table class=\"dataframe\">\n",
       "<caption>A grouped_df: 8 × 3</caption>\n",
       "<thead>\n",
       "\t<tr><th scope=col>DonorABO</th><th scope=col>survival_status</th><th scope=col>count</th></tr>\n",
       "\t<tr><th scope=col>&lt;dbl&gt;</th><th scope=col>&lt;fct&gt;</th><th scope=col>&lt;int&gt;</th></tr>\n",
       "</thead>\n",
       "<tbody>\n",
       "\t<tr><td>-1</td><td>0</td><td>12</td></tr>\n",
       "\t<tr><td>-1</td><td>1</td><td> 7</td></tr>\n",
       "\t<tr><td> 0</td><td>0</td><td>26</td></tr>\n",
       "\t<tr><td>⋮</td><td>⋮</td><td>⋮</td></tr>\n",
       "\t<tr><td>1</td><td>1</td><td>28</td></tr>\n",
       "\t<tr><td>2</td><td>0</td><td> 7</td></tr>\n",
       "\t<tr><td>2</td><td>1</td><td> 2</td></tr>\n",
       "</tbody>\n",
       "</table>\n"
      ],
      "text/latex": [
       "A grouped\\_df: 8 × 3\n",
       "\\begin{tabular}{lll}\n",
       " DonorABO & survival\\_status & count\\\\\n",
       " <dbl> & <fct> & <int>\\\\\n",
       "\\hline\n",
       "\t -1 & 0 & 12\\\\\n",
       "\t -1 & 1 &  7\\\\\n",
       "\t  0 & 0 & 26\\\\\n",
       "\t ⋮ & ⋮ & ⋮\\\\\n",
       "\t 1 & 1 & 28\\\\\n",
       "\t 2 & 0 &  7\\\\\n",
       "\t 2 & 1 &  2\\\\\n",
       "\\end{tabular}\n"
      ],
      "text/markdown": [
       "\n",
       "A grouped_df: 8 × 3\n",
       "\n",
       "| DonorABO &lt;dbl&gt; | survival_status &lt;fct&gt; | count &lt;int&gt; |\n",
       "|---|---|---|\n",
       "| -1 | 0 | 12 |\n",
       "| -1 | 1 |  7 |\n",
       "|  0 | 0 | 26 |\n",
       "| ⋮ | ⋮ | ⋮ |\n",
       "| 1 | 1 | 28 |\n",
       "| 2 | 0 |  7 |\n",
       "| 2 | 1 |  2 |\n",
       "\n"
      ],
      "text/plain": [
       "  DonorABO survival_status count\n",
       "1 -1       0               12   \n",
       "2 -1       1                7   \n",
       "3  0       0               26   \n",
       "⋮ ⋮        ⋮               ⋮    \n",
       "6 1        1               28   \n",
       "7 2        0                7   \n",
       "8 2        1                2   "
      ]
     },
     "metadata": {},
     "output_type": "display_data"
    }
   ],
   "source": [
    "# 'DonorABO''RecipientABO'\n",
    "blood_summarize <- bone_train |>\n",
    "select(DonorABO, survival_status)|>\n",
    "group_by(DonorABO,survival_status) |>\n",
    "summarize(count=n())\n",
    "blood_summarize"
   ]
  },
  {
   "cell_type": "code",
   "execution_count": 54,
   "id": "fd82cbb1-2d3a-472f-8b9f-ff06d013c1a4",
   "metadata": {},
   "outputs": [
    {
     "name": "stderr",
     "output_type": "stream",
     "text": [
      "\u001b[1m\u001b[22m`summarise()` has grouped output by 'DonorABO'. You can override using the\n",
      "`.groups` argument.\n"
     ]
    },
    {
     "data": {
      "text/html": [
       "<table class=\"dataframe\">\n",
       "<caption>A grouped_df: 4 × 4</caption>\n",
       "<thead>\n",
       "\t<tr><th scope=col>DonorABO</th><th scope=col>death</th><th scope=col>survive</th><th scope=col>survival_rate</th></tr>\n",
       "\t<tr><th scope=col>&lt;chr&gt;</th><th scope=col>&lt;int&gt;</th><th scope=col>&lt;int&gt;</th><th scope=col>&lt;dbl&gt;</th></tr>\n",
       "</thead>\n",
       "<tbody>\n",
       "\t<tr><td>A </td><td>26</td><td>28</td><td>0.5185185</td></tr>\n",
       "\t<tr><td>AB</td><td> 7</td><td> 2</td><td>0.2222222</td></tr>\n",
       "\t<tr><td>B </td><td>12</td><td> 7</td><td>0.3684211</td></tr>\n",
       "\t<tr><td>O </td><td>26</td><td>22</td><td>0.4583333</td></tr>\n",
       "</tbody>\n",
       "</table>\n"
      ],
      "text/latex": [
       "A grouped\\_df: 4 × 4\n",
       "\\begin{tabular}{llll}\n",
       " DonorABO & death & survive & survival\\_rate\\\\\n",
       " <chr> & <int> & <int> & <dbl>\\\\\n",
       "\\hline\n",
       "\t A  & 26 & 28 & 0.5185185\\\\\n",
       "\t AB &  7 &  2 & 0.2222222\\\\\n",
       "\t B  & 12 &  7 & 0.3684211\\\\\n",
       "\t O  & 26 & 22 & 0.4583333\\\\\n",
       "\\end{tabular}\n"
      ],
      "text/markdown": [
       "\n",
       "A grouped_df: 4 × 4\n",
       "\n",
       "| DonorABO &lt;chr&gt; | death &lt;int&gt; | survive &lt;int&gt; | survival_rate &lt;dbl&gt; |\n",
       "|---|---|---|---|\n",
       "| A  | 26 | 28 | 0.5185185 |\n",
       "| AB |  7 |  2 | 0.2222222 |\n",
       "| B  | 12 |  7 | 0.3684211 |\n",
       "| O  | 26 | 22 | 0.4583333 |\n",
       "\n"
      ],
      "text/plain": [
       "  DonorABO death survive survival_rate\n",
       "1 A        26    28      0.5185185    \n",
       "2 AB        7     2      0.2222222    \n",
       "3 B        12     7      0.3684211    \n",
       "4 O        26    22      0.4583333    "
      ]
     },
     "metadata": {},
     "output_type": "display_data"
    }
   ],
   "source": [
    "options(repr.plot.width=6,repr.plot.height=4)\n",
    "blood_summarize2 <- bone_train |>\n",
    "select(RecipientABO, DonorABO, survival_status) |>\n",
    "  mutate(RecipientABO = case_when(\n",
    "      RecipientABO == -1 ~ 'B',\n",
    "      RecipientABO == 1 ~ 'A',\n",
    "      RecipientABO == 0 ~ 'O',\n",
    "      RecipientABO == 2 ~ 'AB')) |>\n",
    "mutate(DonorABO = case_when(\n",
    "      DonorABO == -1 ~ 'B',\n",
    "      DonorABO == 1 ~ 'A',\n",
    "      DonorABO == 0 ~ 'O',\n",
    "      DonorABO == 2 ~ 'AB'))\n",
    "\n",
    "Donor_summarize <- blood_summarize2 |>\n",
    "group_by(DonorABO, survival_status)|>\n",
    "summarize(count=n())|>\n",
    "pivot_wider(names_from=survival_status,\n",
    "            values_from=count) |>\n",
    "rename(\"survive\" = \"1\", \"death\" = \"0\")|>\n",
    "mutate(survival_rate = survive/(death+survive))\n",
    "Donor_summarize"
   ]
  },
  {
   "cell_type": "code",
   "execution_count": 58,
   "id": "6d928192-5ad5-4f72-855f-5ea4b09b1f64",
   "metadata": {},
   "outputs": [
    {
     "data": {
      "image/png": "[encoded data removed]",
      "text/plain": [
       "plot without title"
      ]
     },
     "metadata": {
      "image/png": {
       "height": 240,
       "width": 360
      }
     },
     "output_type": "display_data"
    }
   ],
   "source": [
    "Donor_plot <- Donor_summarize |>\n",
    "ggplot(aes(x = as.factor(DonorABO), y = survival_rate, fill=DonorABO))+\n",
    "geom_bar(stat = \"identity\")+\n",
    "labs(x=\"Donor Blood Type\", y = \"Survival Rate\")+\n",
    "theme(text = element_text(size=15))\n",
    "Donor_plot"
   ]
  },
  {
   "cell_type": "code",
   "execution_count": 35,
   "id": "05c7bfa1-978f-461f-9963-30c7c389309b",
   "metadata": {},
   "outputs": [
    {
     "name": "stderr",
     "output_type": "stream",
     "text": [
      "\u001b[1m\u001b[22m`summarise()` has grouped output by 'RecipientABO'. You can override using the\n",
      "`.groups` argument.\n"
     ]
    },
    {
     "data": {
      "text/html": [
       "<table class=\"dataframe\">\n",
       "<caption>A grouped_df: 4 × 4</caption>\n",
       "<thead>\n",
       "\t<tr><th scope=col>RecipientABO</th><th scope=col>death</th><th scope=col>survive</th><th scope=col>survival_rate</th></tr>\n",
       "\t<tr><th scope=col>&lt;chr&gt;</th><th scope=col>&lt;int&gt;</th><th scope=col>&lt;int&gt;</th><th scope=col>&lt;dbl&gt;</th></tr>\n",
       "</thead>\n",
       "<tbody>\n",
       "\t<tr><td>A </td><td>28</td><td>26</td><td>0.4814815</td></tr>\n",
       "\t<tr><td>AB</td><td> 5</td><td> 2</td><td>0.2857143</td></tr>\n",
       "\t<tr><td>B </td><td>20</td><td>15</td><td>0.4285714</td></tr>\n",
       "\t<tr><td>O </td><td>18</td><td>15</td><td>0.4545455</td></tr>\n",
       "</tbody>\n",
       "</table>\n"
      ],
      "text/latex": [
       "A grouped\\_df: 4 × 4\n",
       "\\begin{tabular}{llll}\n",
       " RecipientABO & death & survive & survival\\_rate\\\\\n",
       " <chr> & <int> & <int> & <dbl>\\\\\n",
       "\\hline\n",
       "\t A  & 28 & 26 & 0.4814815\\\\\n",
       "\t AB &  5 &  2 & 0.2857143\\\\\n",
       "\t B  & 20 & 15 & 0.4285714\\\\\n",
       "\t O  & 18 & 15 & 0.4545455\\\\\n",
       "\\end{tabular}\n"
      ],
      "text/markdown": [
       "\n",
       "A grouped_df: 4 × 4\n",
       "\n",
       "| RecipientABO &lt;chr&gt; | death &lt;int&gt; | survive &lt;int&gt; | survival_rate &lt;dbl&gt; |\n",
       "|---|---|---|---|\n",
       "| A  | 28 | 26 | 0.4814815 |\n",
       "| AB |  5 |  2 | 0.2857143 |\n",
       "| B  | 20 | 15 | 0.4285714 |\n",
       "| O  | 18 | 15 | 0.4545455 |\n",
       "\n"
      ],
      "text/plain": [
       "  RecipientABO death survive survival_rate\n",
       "1 A            28    26      0.4814815    \n",
       "2 AB            5     2      0.2857143    \n",
       "3 B            20    15      0.4285714    \n",
       "4 O            18    15      0.4545455    "
      ]
     },
     "metadata": {},
     "output_type": "display_data"
    }
   ],
   "source": [
    "Recipient_summarize <- blood_summarize2 |>\n",
    "group_by(RecipientABO, survival_status)|>\n",
    "summarize(count=n())|>\n",
    "pivot_wider(names_from=survival_status,\n",
    "            values_from=count) |>\n",
    "rename(\"survive\" = \"1\", \"death\" = \"0\")|>\n",
    "mutate(survival_rate = survive/(death+survive))|>\n",
    "filter(RecipientABO != \"NA\")\n",
    "Recipient_summarize"
   ]
  },
  {
   "cell_type": "code",
   "execution_count": 61,
   "id": "662bc160-dd10-4cea-a870-9d1a2a1db658",
   "metadata": {},
   "outputs": [
    {
     "data": {
      "image/png": "[encoded data removed]",
      "text/plain": [
       "plot without title"
      ]
     },
     "metadata": {
      "image/png": {
       "height": 240,
       "width": 360
      }
     },
     "output_type": "display_data"
    }
   ],
   "source": [
    "Recipient_plot <- Recipient_summarize |>\n",
    "ggplot(aes(x = as.factor(RecipientABO), y = survival_rate, fill=RecipientABO))+\n",
    "geom_bar(stat = \"identity\")+\n",
    "labs(x=\"Donor Blood Type\", y = \"Survival Rate\")+\n",
    "theme(text = element_text(size=15))\n",
    "Recipient_plot"
   ]
  },
  {
   "cell_type": "markdown",
   "id": "935db888-ac5a-47a3-bed6-88e1e178f0fd",
   "metadata": {},
   "source": [
    "# part 3 - All visualization summarized"
   ]
  },
  {
   "cell_type": "code",
   "execution_count": null,
   "id": "349679b5-ad04-47cf-bde0-384eef705739",
   "metadata": {},
   "outputs": [],
   "source": []
  }
 ],
 "metadata": {
  "kernelspec": {
   "display_name": "R",
   "language": "R",
   "name": "ir"
  },
  "language_info": {
   "codemirror_mode": "r",
   "file_extension": ".r",
   "mimetype": "text/x-r-source",
   "name": "R",
   "pygments_lexer": "r",
   "version": "4.1.3"
  }
 },
 "nbformat": 4,
 "nbformat_minor": 5
}
