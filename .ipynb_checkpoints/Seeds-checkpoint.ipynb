{
 "cells": [
  {
   "cell_type": "code",
   "execution_count": 1,
   "id": "d2866de9-3f4d-418a-8313-7a89a7ee5229",
   "metadata": {},
   "outputs": [
    {
     "name": "stderr",
     "output_type": "stream",
     "text": [
      "── \u001b[1mAttaching packages\u001b[22m ─────────────────────────────────────── tidyverse 1.3.1 ──\n",
      "\n",
      "\u001b[32m✔\u001b[39m \u001b[34mggplot2\u001b[39m 3.3.6     \u001b[32m✔\u001b[39m \u001b[34mpurrr  \u001b[39m 0.3.4\n",
      "\u001b[32m✔\u001b[39m \u001b[34mtibble \u001b[39m 3.1.7     \u001b[32m✔\u001b[39m \u001b[34mdplyr  \u001b[39m 1.0.9\n",
      "\u001b[32m✔\u001b[39m \u001b[34mtidyr  \u001b[39m 1.2.0     \u001b[32m✔\u001b[39m \u001b[34mstringr\u001b[39m 1.4.0\n",
      "\u001b[32m✔\u001b[39m \u001b[34mreadr  \u001b[39m 2.1.2     \u001b[32m✔\u001b[39m \u001b[34mforcats\u001b[39m 0.5.1\n",
      "\n",
      "── \u001b[1mConflicts\u001b[22m ────────────────────────────────────────── tidyverse_conflicts() ──\n",
      "\u001b[31m✖\u001b[39m \u001b[34mdplyr\u001b[39m::\u001b[32mfilter()\u001b[39m masks \u001b[34mstats\u001b[39m::filter()\n",
      "\u001b[31m✖\u001b[39m \u001b[34mdplyr\u001b[39m::\u001b[32mlag()\u001b[39m    masks \u001b[34mstats\u001b[39m::lag()\n",
      "\n",
      "── \u001b[1mAttaching packages\u001b[22m ────────────────────────────────────── tidymodels 1.0.0 ──\n",
      "\n",
      "\u001b[32m✔\u001b[39m \u001b[34mbroom       \u001b[39m 1.0.0     \u001b[32m✔\u001b[39m \u001b[34mrsample     \u001b[39m 1.0.0\n",
      "\u001b[32m✔\u001b[39m \u001b[34mdials       \u001b[39m 1.0.0     \u001b[32m✔\u001b[39m \u001b[34mtune        \u001b[39m 1.0.0\n",
      "\u001b[32m✔\u001b[39m \u001b[34minfer       \u001b[39m 1.0.2     \u001b[32m✔\u001b[39m \u001b[34mworkflows   \u001b[39m 1.0.0\n",
      "\u001b[32m✔\u001b[39m \u001b[34mmodeldata   \u001b[39m 1.0.0     \u001b[32m✔\u001b[39m \u001b[34mworkflowsets\u001b[39m 1.0.0\n",
      "\u001b[32m✔\u001b[39m \u001b[34mparsnip     \u001b[39m 1.0.0     \u001b[32m✔\u001b[39m \u001b[34myardstick   \u001b[39m 1.0.0\n",
      "\u001b[32m✔\u001b[39m \u001b[34mrecipes     \u001b[39m 1.0.1     \n",
      "\n",
      "── \u001b[1mConflicts\u001b[22m ───────────────────────────────────────── tidymodels_conflicts() ──\n",
      "\u001b[31m✖\u001b[39m \u001b[34mscales\u001b[39m::\u001b[32mdiscard()\u001b[39m masks \u001b[34mpurrr\u001b[39m::discard()\n",
      "\u001b[31m✖\u001b[39m \u001b[34mdplyr\u001b[39m::\u001b[32mfilter()\u001b[39m   masks \u001b[34mstats\u001b[39m::filter()\n",
      "\u001b[31m✖\u001b[39m \u001b[34mrecipes\u001b[39m::\u001b[32mfixed()\u001b[39m  masks \u001b[34mstringr\u001b[39m::fixed()\n",
      "\u001b[31m✖\u001b[39m \u001b[34mdplyr\u001b[39m::\u001b[32mlag()\u001b[39m      masks \u001b[34mstats\u001b[39m::lag()\n",
      "\u001b[31m✖\u001b[39m \u001b[34myardstick\u001b[39m::\u001b[32mspec()\u001b[39m masks \u001b[34mreadr\u001b[39m::spec()\n",
      "\u001b[31m✖\u001b[39m \u001b[34mrecipes\u001b[39m::\u001b[32mstep()\u001b[39m   masks \u001b[34mstats\u001b[39m::step()\n",
      "\u001b[34m•\u001b[39m Learn how to get started at \u001b[32mhttps://www.tidymodels.org/start/\u001b[39m\n",
      "\n",
      "Warning message in file(filename, \"r\", encoding = encoding):\n",
      "“cannot open file 'tests.R': No such file or directory”\n"
     ]
    },
    {
     "ename": "ERROR",
     "evalue": "Error in file(filename, \"r\", encoding = encoding): cannot open the connection\n",
     "output_type": "error",
     "traceback": [
      "Error in file(filename, \"r\", encoding = encoding): cannot open the connection\nTraceback:\n",
      "1. source(\"tests.R\")",
      "2. file(filename, \"r\", encoding = encoding)"
     ]
    }
   ],
   "source": [
    "library(tidyverse)\n",
    "library(repr)\n",
    "library(tidymodels)\n",
    "options(repr.matrix.max.rows = 6)\n",
    "source('tests.R')\n",
    "source('cleanup.R')"
   ]
  },
  {
   "cell_type": "code",
   "execution_count": 7,
   "id": "d08415c5-2d1e-4d85-a515-6f13ff4810ae",
   "metadata": {},
   "outputs": [
    {
     "name": "stderr",
     "output_type": "stream",
     "text": [
      "Warning message:\n",
      "“One or more parsing issues, see `problems()` for details”\n",
      "\u001b[1mRows: \u001b[22m\u001b[34m210\u001b[39m \u001b[1mColumns: \u001b[22m\u001b[34m8\u001b[39m\n",
      "\u001b[36m──\u001b[39m \u001b[1mColumn specification\u001b[22m \u001b[36m────────────────────────────────────────────────────────\u001b[39m\n",
      "\u001b[1mDelimiter:\u001b[22m \" \"\n",
      "\u001b[31mchr\u001b[39m (1): type\n",
      "\u001b[32mdbl\u001b[39m (7): area, perimeter, compactness, length_kernal, width, assymetry, leng...\n",
      "\n",
      "\u001b[36mℹ\u001b[39m Use `spec()` to retrieve the full column specification for this data.\n",
      "\u001b[36mℹ\u001b[39m Specify the column types or set `show_col_types = FALSE` to quiet this message.\n"
     ]
    },
    {
     "data": {
      "text/html": [
       "<table class=\"dataframe\">\n",
       "<caption>A spec_tbl_df: 210 × 8</caption>\n",
       "<thead>\n",
       "\t<tr><th scope=col>area</th><th scope=col>perimeter</th><th scope=col>compactness</th><th scope=col>length_kernal</th><th scope=col>width</th><th scope=col>assymetry</th><th scope=col>length_groove</th><th scope=col>type</th></tr>\n",
       "\t<tr><th scope=col>&lt;dbl&gt;</th><th scope=col>&lt;dbl&gt;</th><th scope=col>&lt;dbl&gt;</th><th scope=col>&lt;dbl&gt;</th><th scope=col>&lt;dbl&gt;</th><th scope=col>&lt;dbl&gt;</th><th scope=col>&lt;dbl&gt;</th><th scope=col>&lt;chr&gt;</th></tr>\n",
       "</thead>\n",
       "<tbody>\n",
       "\t<tr><td>15.26</td><td>14.84</td><td>0.8710</td><td>5.763</td><td>3.312</td><td>2.221</td><td>5.220</td><td>1</td></tr>\n",
       "\t<tr><td>14.88</td><td>14.57</td><td>0.8811</td><td>5.554</td><td>3.333</td><td>1.018</td><td>4.956</td><td>1</td></tr>\n",
       "\t<tr><td>14.29</td><td>14.09</td><td>0.9050</td><td>5.291</td><td>3.337</td><td>2.699</td><td>4.825</td><td>1</td></tr>\n",
       "\t<tr><td>⋮</td><td>⋮</td><td>⋮</td><td>⋮</td><td>⋮</td><td>⋮</td><td>⋮</td><td>⋮</td></tr>\n",
       "\t<tr><td>13.20</td><td>13.66</td><td>0.8883</td><td>5.236</td><td>3.232</td><td>8.315</td><td>5.056</td><td>3</td></tr>\n",
       "\t<tr><td>11.84</td><td>13.21</td><td>0.8521</td><td>5.175</td><td>2.836</td><td>3.598</td><td>5.044</td><td>3</td></tr>\n",
       "\t<tr><td>12.30</td><td>13.34</td><td>0.8684</td><td>5.243</td><td>2.974</td><td>5.637</td><td>5.063</td><td>3</td></tr>\n",
       "</tbody>\n",
       "</table>\n"
      ],
      "text/latex": [
       "A spec\\_tbl\\_df: 210 × 8\n",
       "\\begin{tabular}{llllllll}\n",
       " area & perimeter & compactness & length\\_kernal & width & assymetry & length\\_groove & type\\\\\n",
       " <dbl> & <dbl> & <dbl> & <dbl> & <dbl> & <dbl> & <dbl> & <chr>\\\\\n",
       "\\hline\n",
       "\t 15.26 & 14.84 & 0.8710 & 5.763 & 3.312 & 2.221 & 5.220 & 1\\\\\n",
       "\t 14.88 & 14.57 & 0.8811 & 5.554 & 3.333 & 1.018 & 4.956 & 1\\\\\n",
       "\t 14.29 & 14.09 & 0.9050 & 5.291 & 3.337 & 2.699 & 4.825 & 1\\\\\n",
       "\t ⋮ & ⋮ & ⋮ & ⋮ & ⋮ & ⋮ & ⋮ & ⋮\\\\\n",
       "\t 13.20 & 13.66 & 0.8883 & 5.236 & 3.232 & 8.315 & 5.056 & 3\\\\\n",
       "\t 11.84 & 13.21 & 0.8521 & 5.175 & 2.836 & 3.598 & 5.044 & 3\\\\\n",
       "\t 12.30 & 13.34 & 0.8684 & 5.243 & 2.974 & 5.637 & 5.063 & 3\\\\\n",
       "\\end{tabular}\n"
      ],
      "text/markdown": [
       "\n",
       "A spec_tbl_df: 210 × 8\n",
       "\n",
       "| area &lt;dbl&gt; | perimeter &lt;dbl&gt; | compactness &lt;dbl&gt; | length_kernal &lt;dbl&gt; | width &lt;dbl&gt; | assymetry &lt;dbl&gt; | length_groove &lt;dbl&gt; | type &lt;chr&gt; |\n",
       "|---|---|---|---|---|---|---|---|\n",
       "| 15.26 | 14.84 | 0.8710 | 5.763 | 3.312 | 2.221 | 5.220 | 1 |\n",
       "| 14.88 | 14.57 | 0.8811 | 5.554 | 3.333 | 1.018 | 4.956 | 1 |\n",
       "| 14.29 | 14.09 | 0.9050 | 5.291 | 3.337 | 2.699 | 4.825 | 1 |\n",
       "| ⋮ | ⋮ | ⋮ | ⋮ | ⋮ | ⋮ | ⋮ | ⋮ |\n",
       "| 13.20 | 13.66 | 0.8883 | 5.236 | 3.232 | 8.315 | 5.056 | 3 |\n",
       "| 11.84 | 13.21 | 0.8521 | 5.175 | 2.836 | 3.598 | 5.044 | 3 |\n",
       "| 12.30 | 13.34 | 0.8684 | 5.243 | 2.974 | 5.637 | 5.063 | 3 |\n",
       "\n"
      ],
      "text/plain": [
       "    area  perimeter compactness length_kernal width assymetry length_groove\n",
       "1   15.26 14.84     0.8710      5.763         3.312 2.221     5.220        \n",
       "2   14.88 14.57     0.8811      5.554         3.333 1.018     4.956        \n",
       "3   14.29 14.09     0.9050      5.291         3.337 2.699     4.825        \n",
       "⋮   ⋮     ⋮         ⋮           ⋮             ⋮     ⋮         ⋮            \n",
       "208 13.20 13.66     0.8883      5.236         3.232 8.315     5.056        \n",
       "209 11.84 13.21     0.8521      5.175         2.836 3.598     5.044        \n",
       "210 12.30 13.34     0.8684      5.243         2.974 5.637     5.063        \n",
       "    type\n",
       "1   1   \n",
       "2   1   \n",
       "3   1   \n",
       "⋮   ⋮   \n",
       "208 3   \n",
       "209 3   \n",
       "210 3   "
      ]
     },
     "metadata": {},
     "output_type": "display_data"
    }
   ],
   "source": [
    "seeds <- read_delim(\"data/seeds_dataset.txt\", delim = \" \")\n",
    "seeds"
   ]
  },
  {
   "cell_type": "code",
   "execution_count": 9,
   "id": "e4458e77-4610-4f28-aa33-e35ecdd7712b",
   "metadata": {},
   "outputs": [
    {
     "data": {
      "text/html": [
       "<table class=\"dataframe\">\n",
       "<caption>A tibble: 210 × 8</caption>\n",
       "<thead>\n",
       "\t<tr><th scope=col>area</th><th scope=col>perimeter</th><th scope=col>compactness</th><th scope=col>length_kernal</th><th scope=col>width</th><th scope=col>assymetry</th><th scope=col>length_groove</th><th scope=col>type</th></tr>\n",
       "\t<tr><th scope=col>&lt;dbl&gt;</th><th scope=col>&lt;dbl&gt;</th><th scope=col>&lt;dbl&gt;</th><th scope=col>&lt;dbl&gt;</th><th scope=col>&lt;dbl&gt;</th><th scope=col>&lt;dbl&gt;</th><th scope=col>&lt;dbl&gt;</th><th scope=col>&lt;chr&gt;</th></tr>\n",
       "</thead>\n",
       "<tbody>\n",
       "\t<tr><td>15.26</td><td>14.84</td><td>0.8710</td><td>5.763</td><td>3.312</td><td>2.221</td><td>5.220</td><td>Kama</td></tr>\n",
       "\t<tr><td>14.88</td><td>14.57</td><td>0.8811</td><td>5.554</td><td>3.333</td><td>1.018</td><td>4.956</td><td>Kama</td></tr>\n",
       "\t<tr><td>14.29</td><td>14.09</td><td>0.9050</td><td>5.291</td><td>3.337</td><td>2.699</td><td>4.825</td><td>Kama</td></tr>\n",
       "\t<tr><td>⋮</td><td>⋮</td><td>⋮</td><td>⋮</td><td>⋮</td><td>⋮</td><td>⋮</td><td>⋮</td></tr>\n",
       "\t<tr><td>13.20</td><td>13.66</td><td>0.8883</td><td>5.236</td><td>3.232</td><td>8.315</td><td>5.056</td><td>Canadian</td></tr>\n",
       "\t<tr><td>11.84</td><td>13.21</td><td>0.8521</td><td>5.175</td><td>2.836</td><td>3.598</td><td>5.044</td><td>Canadian</td></tr>\n",
       "\t<tr><td>12.30</td><td>13.34</td><td>0.8684</td><td>5.243</td><td>2.974</td><td>5.637</td><td>5.063</td><td>Canadian</td></tr>\n",
       "</tbody>\n",
       "</table>\n"
      ],
      "text/latex": [
       "A tibble: 210 × 8\n",
       "\\begin{tabular}{llllllll}\n",
       " area & perimeter & compactness & length\\_kernal & width & assymetry & length\\_groove & type\\\\\n",
       " <dbl> & <dbl> & <dbl> & <dbl> & <dbl> & <dbl> & <dbl> & <chr>\\\\\n",
       "\\hline\n",
       "\t 15.26 & 14.84 & 0.8710 & 5.763 & 3.312 & 2.221 & 5.220 & Kama\\\\\n",
       "\t 14.88 & 14.57 & 0.8811 & 5.554 & 3.333 & 1.018 & 4.956 & Kama\\\\\n",
       "\t 14.29 & 14.09 & 0.9050 & 5.291 & 3.337 & 2.699 & 4.825 & Kama\\\\\n",
       "\t ⋮ & ⋮ & ⋮ & ⋮ & ⋮ & ⋮ & ⋮ & ⋮\\\\\n",
       "\t 13.20 & 13.66 & 0.8883 & 5.236 & 3.232 & 8.315 & 5.056 & Canadian\\\\\n",
       "\t 11.84 & 13.21 & 0.8521 & 5.175 & 2.836 & 3.598 & 5.044 & Canadian\\\\\n",
       "\t 12.30 & 13.34 & 0.8684 & 5.243 & 2.974 & 5.637 & 5.063 & Canadian\\\\\n",
       "\\end{tabular}\n"
      ],
      "text/markdown": [
       "\n",
       "A tibble: 210 × 8\n",
       "\n",
       "| area &lt;dbl&gt; | perimeter &lt;dbl&gt; | compactness &lt;dbl&gt; | length_kernal &lt;dbl&gt; | width &lt;dbl&gt; | assymetry &lt;dbl&gt; | length_groove &lt;dbl&gt; | type &lt;chr&gt; |\n",
       "|---|---|---|---|---|---|---|---|\n",
       "| 15.26 | 14.84 | 0.8710 | 5.763 | 3.312 | 2.221 | 5.220 | Kama |\n",
       "| 14.88 | 14.57 | 0.8811 | 5.554 | 3.333 | 1.018 | 4.956 | Kama |\n",
       "| 14.29 | 14.09 | 0.9050 | 5.291 | 3.337 | 2.699 | 4.825 | Kama |\n",
       "| ⋮ | ⋮ | ⋮ | ⋮ | ⋮ | ⋮ | ⋮ | ⋮ |\n",
       "| 13.20 | 13.66 | 0.8883 | 5.236 | 3.232 | 8.315 | 5.056 | Canadian |\n",
       "| 11.84 | 13.21 | 0.8521 | 5.175 | 2.836 | 3.598 | 5.044 | Canadian |\n",
       "| 12.30 | 13.34 | 0.8684 | 5.243 | 2.974 | 5.637 | 5.063 | Canadian |\n",
       "\n"
      ],
      "text/plain": [
       "    area  perimeter compactness length_kernal width assymetry length_groove\n",
       "1   15.26 14.84     0.8710      5.763         3.312 2.221     5.220        \n",
       "2   14.88 14.57     0.8811      5.554         3.333 1.018     4.956        \n",
       "3   14.29 14.09     0.9050      5.291         3.337 2.699     4.825        \n",
       "⋮   ⋮     ⋮         ⋮           ⋮             ⋮     ⋮         ⋮            \n",
       "208 13.20 13.66     0.8883      5.236         3.232 8.315     5.056        \n",
       "209 11.84 13.21     0.8521      5.175         2.836 3.598     5.044        \n",
       "210 12.30 13.34     0.8684      5.243         2.974 5.637     5.063        \n",
       "    type    \n",
       "1   Kama    \n",
       "2   Kama    \n",
       "3   Kama    \n",
       "⋮   ⋮       \n",
       "208 Canadian\n",
       "209 Canadian\n",
       "210 Canadian"
      ]
     },
     "metadata": {},
     "output_type": "display_data"
    }
   ],
   "source": [
    "seeds_factor <- seeds |>\n",
    "mutate(type = as.factor(type)) |>\n",
    "mutate(type = case_when(\n",
    "      type == 1 ~ 'Kama',\n",
    "      type == 2 ~ 'Rosa',\n",
    "      type == 3 ~ 'Canadian'))\n",
    "seeds_factor"
   ]
  },
  {
   "cell_type": "markdown",
   "id": "ce2d1503-28aa-484e-aa5e-57b0a49085a6",
   "metadata": {},
   "source": [
    "## visualize"
   ]
  },
  {
   "cell_type": "code",
   "execution_count": 14,
   "id": "452b1a8a-733a-4312-97fc-3f4eb8d5998f",
   "metadata": {},
   "outputs": [
    {
     "data": {
      "text/html": [
       "<style>\n",
       ".list-inline {list-style: none; margin:0; padding: 0}\n",
       ".list-inline>li {display: inline-block}\n",
       ".list-inline>li:not(:last-child)::after {content: \"\\00b7\"; padding: 0 .5ex}\n",
       "</style>\n",
       "<ol class=list-inline><li>156</li><li>8</li></ol>\n"
      ],
      "text/latex": [
       "\\begin{enumerate*}\n",
       "\\item 156\n",
       "\\item 8\n",
       "\\end{enumerate*}\n"
      ],
      "text/markdown": [
       "1. 156\n",
       "2. 8\n",
       "\n",
       "\n"
      ],
      "text/plain": [
       "[1] 156   8"
      ]
     },
     "metadata": {},
     "output_type": "display_data"
    },
    {
     "data": {
      "text/html": [
       "<style>\n",
       ".list-inline {list-style: none; margin:0; padding: 0}\n",
       ".list-inline>li {display: inline-block}\n",
       ".list-inline>li:not(:last-child)::after {content: \"\\00b7\"; padding: 0 .5ex}\n",
       "</style>\n",
       "<ol class=list-inline><li>54</li><li>8</li></ol>\n"
      ],
      "text/latex": [
       "\\begin{enumerate*}\n",
       "\\item 54\n",
       "\\item 8\n",
       "\\end{enumerate*}\n"
      ],
      "text/markdown": [
       "1. 54\n",
       "2. 8\n",
       "\n",
       "\n"
      ],
      "text/plain": [
       "[1] 54  8"
      ]
     },
     "metadata": {},
     "output_type": "display_data"
    }
   ],
   "source": [
    "set.seed(123)\n",
    "seeds_split <- initial_split(seeds_factor, strata = type, prop = 0.75)\n",
    "seeds_training <- training(seeds_split)\n",
    "seeds_testing <- testing(seeds_split)\n",
    "dim(seeds_training)\n",
    "dim(seeds_testing)"
   ]
  },
  {
   "cell_type": "code",
   "execution_count": 15,
   "id": "8f9e0d5d-f418-4f01-98f6-74830e821bc4",
   "metadata": {},
   "outputs": [
    {
     "data": {
      "text/html": [
       "<style>\n",
       ".list-inline {list-style: none; margin:0; padding: 0}\n",
       ".list-inline>li {display: inline-block}\n",
       ".list-inline>li:not(:last-child)::after {content: \"\\00b7\"; padding: 0 .5ex}\n",
       "</style>\n",
       "<ol class=list-inline><li>'area'</li><li>'perimeter'</li><li>'compactness'</li><li>'length_kernal'</li><li>'width'</li><li>'assymetry'</li><li>'length_groove'</li></ol>\n"
      ],
      "text/latex": [
       "\\begin{enumerate*}\n",
       "\\item 'area'\n",
       "\\item 'perimeter'\n",
       "\\item 'compactness'\n",
       "\\item 'length\\_kernal'\n",
       "\\item 'width'\n",
       "\\item 'assymetry'\n",
       "\\item 'length\\_groove'\n",
       "\\end{enumerate*}\n"
      ],
      "text/markdown": [
       "1. 'area'\n",
       "2. 'perimeter'\n",
       "3. 'compactness'\n",
       "4. 'length_kernal'\n",
       "5. 'width'\n",
       "6. 'assymetry'\n",
       "7. 'length_groove'\n",
       "\n",
       "\n"
      ],
      "text/plain": [
       "[1] \"area\"          \"perimeter\"     \"compactness\"   \"length_kernal\"\n",
       "[5] \"width\"         \"assymetry\"     \"length_groove\""
      ]
     },
     "metadata": {},
     "output_type": "display_data"
    }
   ],
   "source": [
    "names <- colnames(seeds |> select(-type))\n",
    "names"
   ]
  },
  {
   "cell_type": "code",
   "execution_count": 16,
   "id": "af94427c-ab23-4554-8777-edfed2e9479a",
   "metadata": {},
   "outputs": [
    {
     "data": {
      "text/html": [
       "'type ~ area+perimeter+compactness+length_kernal+width+assymetry+length_groove'"
      ],
      "text/latex": [
       "'type \\textasciitilde{} area+perimeter+compactness+length\\_kernal+width+assymetry+length\\_groove'"
      ],
      "text/markdown": [
       "'type ~ area+perimeter+compactness+length_kernal+width+assymetry+length_groove'"
      ],
      "text/plain": [
       "[1] \"type ~ area+perimeter+compactness+length_kernal+width+assymetry+length_groove\""
      ]
     },
     "metadata": {},
     "output_type": "display_data"
    }
   ],
   "source": [
    "example_formula <- paste(\"type\",\"~\", paste(names, collapse = \"+\"))\n",
    "example_formula"
   ]
  },
  {
   "cell_type": "code",
   "execution_count": null,
   "id": "bc5a6a17-dbc7-4d02-a949-d32b20e7d160",
   "metadata": {},
   "outputs": [],
   "source": [
    "accuracies <- tibble(size = integer(), \n",
    "                     model_string = character(), \n",
    "                     accuracy = numeric())\n",
    "\n",
    "knn_spec <- nearest_neighbor(weight_func = \"rectangular\", neighbors = tune()) |>\n",
    "     set_engine(\"kknn\") |>\n",
    "     set_mode(\"classification\")\n",
    "\n",
    "seed_vfold <- vfold_cv(seeds, v=5, strata = type)\n",
    "n_total <- length(names)\n",
    "selected <- c()\n",
    "\n",
    "# for every size from 1 to the total number of predictors\n",
    "for (i in 1:n_total) {\n",
    "    # for every predictor still not added yet\n",
    "    accs <- list()\n",
    "    models <- list()\n",
    "    for (j in 1:length(names)) {\n",
    "        # create a model string for this combination of predictors\n",
    "        preds_new <- c(selected, names[[j]])\n",
    "        model_string <- paste(\"type\", \"~\", paste(preds_new, collapse=\"+\"))\n",
    "\n",
    "        # create a recipe from the model string\n",
    "        seed_recipe <- recipe(as.formula(model_string), data = seeds) |>\n",
    "                          step_scale(all_predictors()) |>\n",
    "                          step_center(all_predictors())\n",
    "\n",
    "        # tune the KNN classifier with these predictors, \n",
    "        # and collect the accuracy for the best K\n",
    "        acc <- workflow() |>\n",
    "          add_recipe(seed_recipe) |>\n",
    "          add_model(knn_spec) |>\n",
    "          tune_grid(resamples = seed_vfold, grid = 10) |>\n",
    "          collect_metrics() |>\n",
    "          filter(.metric == \"accuracy\") |>\n",
    "          summarize(mx = max(mean))\n",
    "        acc <- acc$mx |> unlist()\n",
    "\n",
    "        # add this result to the dataframe\n",
    "        accs[[j]] <- acc\n",
    "        models[[j]] <- model_string\n",
    "    }\n",
    "    jstar <- which.max(unlist(accs))\n",
    "    accuracies <- accuracies |> \n",
    "      add_row(size = i, \n",
    "              model_string = models[[jstar]], \n",
    "              accuracy = accs[[jstar]])\n",
    "    selected <- c(selected, names[[jstar]])\n",
    "    names <- names[-jstar]\n",
    "}"
   ]
  },
  {
   "cell_type": "code",
   "execution_count": 23,
   "id": "5caa9213-a444-44a6-8cde-d95631f8d5e1",
   "metadata": {},
   "outputs": [
    {
     "data": {
      "text/html": [
       "<table class=\"dataframe\">\n",
       "<caption>A tibble: 6 × 3</caption>\n",
       "<thead>\n",
       "\t<tr><th scope=col>size</th><th scope=col>model_string</th><th scope=col>accuracy</th></tr>\n",
       "\t<tr><th scope=col>&lt;int&gt;</th><th scope=col>&lt;chr&gt;</th><th scope=col>&lt;dbl&gt;</th></tr>\n",
       "</thead>\n",
       "<tbody>\n",
       "\t<tr><td>1</td><td>type ~ perimeter                                               </td><td>0.8567328</td></tr>\n",
       "\t<tr><td>2</td><td>type ~ perimeter+length_groove                                 </td><td>0.9398955</td></tr>\n",
       "\t<tr><td>3</td><td>type ~ perimeter+length_groove+area                            </td><td>0.9279907</td></tr>\n",
       "\t<tr><td>4</td><td>type ~ perimeter+length_groove+area+compactness                </td><td>0.9512195</td></tr>\n",
       "\t<tr><td>5</td><td>type ~ perimeter+length_groove+area+compactness+assymetry      </td><td>0.9756098</td></tr>\n",
       "\t<tr><td>6</td><td>type ~ perimeter+length_groove+area+compactness+assymetry+width</td><td>0.9756098</td></tr>\n",
       "</tbody>\n",
       "</table>\n"
      ],
      "text/latex": [
       "A tibble: 6 × 3\n",
       "\\begin{tabular}{lll}\n",
       " size & model\\_string & accuracy\\\\\n",
       " <int> & <chr> & <dbl>\\\\\n",
       "\\hline\n",
       "\t 1 & type \\textasciitilde{} perimeter                                                & 0.8567328\\\\\n",
       "\t 2 & type \\textasciitilde{} perimeter+length\\_groove                                  & 0.9398955\\\\\n",
       "\t 3 & type \\textasciitilde{} perimeter+length\\_groove+area                             & 0.9279907\\\\\n",
       "\t 4 & type \\textasciitilde{} perimeter+length\\_groove+area+compactness                 & 0.9512195\\\\\n",
       "\t 5 & type \\textasciitilde{} perimeter+length\\_groove+area+compactness+assymetry       & 0.9756098\\\\\n",
       "\t 6 & type \\textasciitilde{} perimeter+length\\_groove+area+compactness+assymetry+width & 0.9756098\\\\\n",
       "\\end{tabular}\n"
      ],
      "text/markdown": [
       "\n",
       "A tibble: 6 × 3\n",
       "\n",
       "| size &lt;int&gt; | model_string &lt;chr&gt; | accuracy &lt;dbl&gt; |\n",
       "|---|---|---|\n",
       "| 1 | type ~ perimeter                                                | 0.8567328 |\n",
       "| 2 | type ~ perimeter+length_groove                                  | 0.9398955 |\n",
       "| 3 | type ~ perimeter+length_groove+area                             | 0.9279907 |\n",
       "| 4 | type ~ perimeter+length_groove+area+compactness                 | 0.9512195 |\n",
       "| 5 | type ~ perimeter+length_groove+area+compactness+assymetry       | 0.9756098 |\n",
       "| 6 | type ~ perimeter+length_groove+area+compactness+assymetry+width | 0.9756098 |\n",
       "\n"
      ],
      "text/plain": [
       "  size model_string                                                   \n",
       "1 1    type ~ perimeter                                               \n",
       "2 2    type ~ perimeter+length_groove                                 \n",
       "3 3    type ~ perimeter+length_groove+area                            \n",
       "4 4    type ~ perimeter+length_groove+area+compactness                \n",
       "5 5    type ~ perimeter+length_groove+area+compactness+assymetry      \n",
       "6 6    type ~ perimeter+length_groove+area+compactness+assymetry+width\n",
       "  accuracy \n",
       "1 0.8567328\n",
       "2 0.9398955\n",
       "3 0.9279907\n",
       "4 0.9512195\n",
       "5 0.9756098\n",
       "6 0.9756098"
      ]
     },
     "metadata": {},
     "output_type": "display_data"
    }
   ],
   "source": [
    "# accuracies\n",
    "head(accuracies)"
   ]
  },
  {
   "cell_type": "code",
   "execution_count": 24,
   "id": "1e0aa2fe-8d66-4bd2-94da-f651d4c8b45d",
   "metadata": {},
   "outputs": [],
   "source": [
    "names <- colnames(seeds |> select(perimeter, length_groove, compactness, assymetry, width, area, length_kernal))"
   ]
  },
  {
   "cell_type": "code",
   "execution_count": null,
   "id": "e23591c3-196c-403f-98a4-21d57e1b7fec",
   "metadata": {},
   "outputs": [],
   "source": [
    "accuracies <- tibble(size = integer(), \n",
    "                     model_string = character(), \n",
    "                     accuracy = numeric())\n",
    "\n",
    "knn_spec <- nearest_neighbor(weight_func = \"rectangular\", neighbors = tune()) |>\n",
    "     set_engine(\"kknn\") |>\n",
    "     set_mode(\"classification\")\n",
    "\n",
    "seed_vfold <- vfold_cv(seeds, v=5, strata = type)\n",
    "n_total <- length(names)\n",
    "selected <- c()\n",
    "\n",
    "# for every size from 1 to the total number of predictors\n",
    "for (i in 1:n_total) {\n",
    "    # for every predictor still not added yet\n",
    "    accs <- list()\n",
    "    models <- list()\n",
    "    for (j in 1:length(names)) {\n",
    "        # create a model string for this combination of predictors\n",
    "        preds_new <- c(selected, names[[j]])\n",
    "        model_string <- paste(\"type\", \"~\", paste(preds_new, collapse=\"+\"))\n",
    "\n",
    "        # create a recipe from the model string\n",
    "        seed_recipe <- recipe(as.formula(model_string), data = seeds) |>\n",
    "                          step_scale(all_predictors()) |>\n",
    "                          step_center(all_predictors())\n",
    "\n",
    "        # tune the KNN classifier with these predictors, \n",
    "        # and collect the accuracy for the best K\n",
    "        acc <- workflow() |>\n",
    "          add_recipe(seed_recipe) |>\n",
    "          add_model(knn_spec) |>\n",
    "          tune_grid(resamples = seed_vfold, grid = 10) |>\n",
    "          collect_metrics() |>\n",
    "          filter(.metric == \"accuracy\") |>\n",
    "          summarize(mx = max(mean))\n",
    "        acc <- acc$mx |> unlist()\n",
    "\n",
    "        # add this result to the dataframe\n",
    "        accs[[j]] <- acc\n",
    "        models[[j]] <- model_string\n",
    "    }\n",
    "    jstar <- which.max(unlist(accs))\n",
    "    accuracies <- accuracies |> \n",
    "      add_row(size = i, \n",
    "              model_string = models[[jstar]], \n",
    "              accuracy = accs[[jstar]])\n",
    "    selected <- c(selected, names[[jstar]])\n",
    "    names <- names[-jstar]\n",
    "}"
   ]
  },
  {
   "cell_type": "code",
   "execution_count": 27,
   "id": "d85bad32-05ba-4230-9040-740de4c0a5dd",
   "metadata": {},
   "outputs": [
    {
     "data": {
      "text/html": [
       "<table class=\"dataframe\">\n",
       "<caption>A tibble: 6 × 3</caption>\n",
       "<thead>\n",
       "\t<tr><th scope=col>size</th><th scope=col>model_string</th><th scope=col>accuracy</th></tr>\n",
       "\t<tr><th scope=col>&lt;int&gt;</th><th scope=col>&lt;chr&gt;</th><th scope=col>&lt;dbl&gt;</th></tr>\n",
       "</thead>\n",
       "<tbody>\n",
       "\t<tr><td>1</td><td>type ~ perimeter                                                   </td><td>0.8684492</td></tr>\n",
       "\t<tr><td>2</td><td>type ~ perimeter+length_groove                                     </td><td>0.9761905</td></tr>\n",
       "\t<tr><td>3</td><td>type ~ perimeter+length_groove+compactness                         </td><td>0.9761905</td></tr>\n",
       "\t<tr><td>4</td><td>type ~ perimeter+length_groove+compactness+width                   </td><td>0.9761905</td></tr>\n",
       "\t<tr><td>5</td><td>type ~ perimeter+length_groove+compactness+width+area              </td><td>0.9761905</td></tr>\n",
       "\t<tr><td>6</td><td>type ~ perimeter+length_groove+compactness+width+area+length_kernal</td><td>0.9761905</td></tr>\n",
       "</tbody>\n",
       "</table>\n"
      ],
      "text/latex": [
       "A tibble: 6 × 3\n",
       "\\begin{tabular}{lll}\n",
       " size & model\\_string & accuracy\\\\\n",
       " <int> & <chr> & <dbl>\\\\\n",
       "\\hline\n",
       "\t 1 & type \\textasciitilde{} perimeter                                                    & 0.8684492\\\\\n",
       "\t 2 & type \\textasciitilde{} perimeter+length\\_groove                                      & 0.9761905\\\\\n",
       "\t 3 & type \\textasciitilde{} perimeter+length\\_groove+compactness                          & 0.9761905\\\\\n",
       "\t 4 & type \\textasciitilde{} perimeter+length\\_groove+compactness+width                    & 0.9761905\\\\\n",
       "\t 5 & type \\textasciitilde{} perimeter+length\\_groove+compactness+width+area               & 0.9761905\\\\\n",
       "\t 6 & type \\textasciitilde{} perimeter+length\\_groove+compactness+width+area+length\\_kernal & 0.9761905\\\\\n",
       "\\end{tabular}\n"
      ],
      "text/markdown": [
       "\n",
       "A tibble: 6 × 3\n",
       "\n",
       "| size &lt;int&gt; | model_string &lt;chr&gt; | accuracy &lt;dbl&gt; |\n",
       "|---|---|---|\n",
       "| 1 | type ~ perimeter                                                    | 0.8684492 |\n",
       "| 2 | type ~ perimeter+length_groove                                      | 0.9761905 |\n",
       "| 3 | type ~ perimeter+length_groove+compactness                          | 0.9761905 |\n",
       "| 4 | type ~ perimeter+length_groove+compactness+width                    | 0.9761905 |\n",
       "| 5 | type ~ perimeter+length_groove+compactness+width+area               | 0.9761905 |\n",
       "| 6 | type ~ perimeter+length_groove+compactness+width+area+length_kernal | 0.9761905 |\n",
       "\n"
      ],
      "text/plain": [
       "  size model_string                                                       \n",
       "1 1    type ~ perimeter                                                   \n",
       "2 2    type ~ perimeter+length_groove                                     \n",
       "3 3    type ~ perimeter+length_groove+compactness                         \n",
       "4 4    type ~ perimeter+length_groove+compactness+width                   \n",
       "5 5    type ~ perimeter+length_groove+compactness+width+area              \n",
       "6 6    type ~ perimeter+length_groove+compactness+width+area+length_kernal\n",
       "  accuracy \n",
       "1 0.8684492\n",
       "2 0.9761905\n",
       "3 0.9761905\n",
       "4 0.9761905\n",
       "5 0.9761905\n",
       "6 0.9761905"
      ]
     },
     "metadata": {},
     "output_type": "display_data"
    }
   ],
   "source": [
    "head(accuracies)"
   ]
  },
  {
   "cell_type": "code",
   "execution_count": 31,
   "id": "2a212b59-6261-4922-a32f-518a8970d524",
   "metadata": {},
   "outputs": [
    {
     "name": "stdout",
     "output_type": "stream",
     "text": [
      "Rows: 210\n",
      "Columns: 8\n",
      "$ area          \u001b[3m\u001b[90m<dbl>\u001b[39m\u001b[23m 15.26, 14.88, 14.29, 13.84, 16.14, 14.38, 14.69, 14.11, …\n",
      "$ perimeter     \u001b[3m\u001b[90m<dbl>\u001b[39m\u001b[23m 14.84, 14.57, 14.09, 13.94, 14.99, 14.21, 14.49, 14.10, …\n",
      "$ compactness   \u001b[3m\u001b[90m<dbl>\u001b[39m\u001b[23m 0.8710, 0.8811, 0.9050, 0.8955, 0.9034, 0.8951, 0.8799, …\n",
      "$ length_kernal \u001b[3m\u001b[90m<dbl>\u001b[39m\u001b[23m 5.763, 5.554, 5.291, 5.324, 5.658, 5.386, 5.563, 5.420, …\n",
      "$ width         \u001b[3m\u001b[90m<dbl>\u001b[39m\u001b[23m 3.312, 3.333, 3.337, 3.379, 3.562, 3.312, 3.259, 3.302, …\n",
      "$ assymetry     \u001b[3m\u001b[90m<dbl>\u001b[39m\u001b[23m 2.2210, 1.0180, 2.6990, 2.2590, 1.3550, 2.4620, 3.5860, …\n",
      "$ length_groove \u001b[3m\u001b[90m<dbl>\u001b[39m\u001b[23m 5.220, 4.956, 4.825, 4.805, 5.175, 4.956, 5.219, NA, 5.8…\n",
      "$ type          \u001b[3m\u001b[90m<chr>\u001b[39m\u001b[23m \"1\", \"1\", \"1\", \"1\", \"1\", \"1\", \"1\", \"5  1\", \"1\", \"1\", \"1\"…\n"
     ]
    }
   ],
   "source": [
    "glimpse(seeds)"
   ]
  },
  {
   "cell_type": "code",
   "execution_count": 38,
   "id": "c9f170b1-7100-4cac-8bd9-96141b114852",
   "metadata": {},
   "outputs": [
    {
     "data": {
      "image/png": "[encoded data removed]",
      "text/plain": [
       "plot without title"
      ]
     },
     "metadata": {
      "image/png": {
       "height": 420,
       "width": 420
      }
     },
     "output_type": "display_data"
    }
   ],
   "source": [
    "seeds_factor <- na.omit(seeds_factor)\n",
    "seed_plot <- seeds_factor |>\n",
    "ggplot(aes(x=perimeter, y = length_groove, color=type))+\n",
    "geom_point()\n",
    "\n",
    "seed_plot"
   ]
  },
  {
   "cell_type": "code",
   "execution_count": 47,
   "id": "e8e411eb-9ea3-4c91-8652-cb0b4160b7a9",
   "metadata": {},
   "outputs": [
    {
     "name": "stdout",
     "output_type": "stream",
     "text": [
      "Rows: 148\n",
      "Columns: 8\n",
      "$ area          \u001b[3m\u001b[90m<dbl>\u001b[39m\u001b[23m 13.32, 13.34, 11.82, 11.21, 11.43, 12.49, 12.70, 10.79, …\n",
      "$ perimeter     \u001b[3m\u001b[90m<dbl>\u001b[39m\u001b[23m 13.94, 13.95, 13.40, 13.13, 13.13, 13.46, 13.71, 12.93, …\n",
      "$ compactness   \u001b[3m\u001b[90m<dbl>\u001b[39m\u001b[23m 0.8613, 0.8620, 0.8274, 0.8167, 0.8335, 0.8658, 0.8491, …\n",
      "$ length_kernal \u001b[3m\u001b[90m<dbl>\u001b[39m\u001b[23m 5.541, 5.389, 5.314, 5.279, 5.176, 5.267, 5.386, 5.317, …\n",
      "$ width         \u001b[3m\u001b[90m<dbl>\u001b[39m\u001b[23m 3.073, 3.074, 2.777, 2.687, 2.719, 2.967, 2.911, 2.648, …\n",
      "$ assymetry     \u001b[3m\u001b[90m<dbl>\u001b[39m\u001b[23m 7.035, 5.995, 4.471, 6.169, 2.221, 4.421, 3.260, 5.462, …\n",
      "$ length_groove \u001b[3m\u001b[90m<dbl>\u001b[39m\u001b[23m 5.440, 5.307, 5.178, 5.275, 5.132, 5.002, 5.316, 5.194, …\n",
      "$ type          \u001b[3m\u001b[90m<chr>\u001b[39m\u001b[23m \"Canadian\", \"Canadian\", \"Canadian\", \"Canadian\", \"Canadia…\n"
     ]
    },
    {
     "data": {
      "text/html": [
       "<style>\n",
       ".list-inline {list-style: none; margin:0; padding: 0}\n",
       ".list-inline>li {display: inline-block}\n",
       ".list-inline>li:not(:last-child)::after {content: \"\\00b7\"; padding: 0 .5ex}\n",
       "</style>\n",
       "<ol class=list-inline><li>148</li><li>8</li></ol>\n"
      ],
      "text/latex": [
       "\\begin{enumerate*}\n",
       "\\item 148\n",
       "\\item 8\n",
       "\\end{enumerate*}\n"
      ],
      "text/markdown": [
       "1. 148\n",
       "2. 8\n",
       "\n",
       "\n"
      ],
      "text/plain": [
       "[1] 148   8"
      ]
     },
     "metadata": {},
     "output_type": "display_data"
    }
   ],
   "source": [
    "set.seed(123)\n",
    "seed_split <- initial_split(seeds_factor, prop = 0.75, strata = type)\n",
    "seed_training <- training(seed_split)\n",
    "seed_testing <- testing(seed_split)\n",
    "glimpse(seed_training)\n",
    "dim(seed_training)\n",
    "\n",
    "# standardize data\n",
    "seed_recipe <- recipe(type ~ perimeter+length_groove+compactness+assymetry, data = seed_training) |>\n",
    "  step_scale(all_predictors())|>\n",
    "  step_center(all_predictors())\n",
    "\n",
    "# build the model structure\n",
    "knn_spec <- nearest_neighbor(weight_func = \"rectangular\", neighbor = tune())|> # in here it's tune\n",
    "  set_engine(\"kknn\")|>\n",
    "  set_mode(\"classification\")\n",
    "\n",
    "# setting the folds and ks\n",
    "set.seed(234)\n",
    "seed_vfold <- vfold_cv(seed_training, v = 5, strata = type)\n",
    "k_val <- tibble(neighbors = seq(from = 1, to = 25, by = 1))\n",
    "\n",
    "# build the workflow for building model\n",
    "knn_fit <- workflow()|>\n",
    "  add_recipe(seed_recipe)|>\n",
    "  add_model(knn_spec)|>\n",
    "  tune_grid(resamples = seed_vfold, grid = k_val)"
   ]
  },
  {
   "cell_type": "code",
   "execution_count": 48,
   "id": "90f4ef76-e0a1-41f3-96e2-3c794ecd6d57",
   "metadata": {},
   "outputs": [
    {
     "data": {
      "text/html": [
       "<table class=\"dataframe\">\n",
       "<caption>A tibble: 50 × 7</caption>\n",
       "<thead>\n",
       "\t<tr><th scope=col>neighbors</th><th scope=col>.metric</th><th scope=col>.estimator</th><th scope=col>mean</th><th scope=col>n</th><th scope=col>std_err</th><th scope=col>.config</th></tr>\n",
       "\t<tr><th scope=col>&lt;dbl&gt;</th><th scope=col>&lt;chr&gt;</th><th scope=col>&lt;chr&gt;</th><th scope=col>&lt;dbl&gt;</th><th scope=col>&lt;int&gt;</th><th scope=col>&lt;dbl&gt;</th><th scope=col>&lt;chr&gt;</th></tr>\n",
       "</thead>\n",
       "<tbody>\n",
       "\t<tr><td>1</td><td>accuracy</td><td>multiclass</td><td>0.9203692</td><td>5</td><td>0.02368360</td><td>Preprocessor1_Model01</td></tr>\n",
       "\t<tr><td>1</td><td>roc_auc </td><td>hand_till </td><td>0.9403535</td><td>5</td><td>0.01766692</td><td>Preprocessor1_Model01</td></tr>\n",
       "\t<tr><td>2</td><td>accuracy</td><td>multiclass</td><td>0.9203692</td><td>5</td><td>0.02368360</td><td>Preprocessor1_Model02</td></tr>\n",
       "\t<tr><td>⋮</td><td>⋮</td><td>⋮</td><td>⋮</td><td>⋮</td><td>⋮</td><td>⋮</td></tr>\n",
       "\t<tr><td>24</td><td>roc_auc </td><td>hand_till </td><td>0.9807626</td><td>5</td><td>0.011475194</td><td>Preprocessor1_Model24</td></tr>\n",
       "\t<tr><td>25</td><td>accuracy</td><td>multiclass</td><td>0.9275121</td><td>5</td><td>0.027726845</td><td>Preprocessor1_Model25</td></tr>\n",
       "\t<tr><td>25</td><td>roc_auc </td><td>hand_till </td><td>0.9829899</td><td>5</td><td>0.009863019</td><td>Preprocessor1_Model25</td></tr>\n",
       "</tbody>\n",
       "</table>\n"
      ],
      "text/latex": [
       "A tibble: 50 × 7\n",
       "\\begin{tabular}{lllllll}\n",
       " neighbors & .metric & .estimator & mean & n & std\\_err & .config\\\\\n",
       " <dbl> & <chr> & <chr> & <dbl> & <int> & <dbl> & <chr>\\\\\n",
       "\\hline\n",
       "\t 1 & accuracy & multiclass & 0.9203692 & 5 & 0.02368360 & Preprocessor1\\_Model01\\\\\n",
       "\t 1 & roc\\_auc  & hand\\_till  & 0.9403535 & 5 & 0.01766692 & Preprocessor1\\_Model01\\\\\n",
       "\t 2 & accuracy & multiclass & 0.9203692 & 5 & 0.02368360 & Preprocessor1\\_Model02\\\\\n",
       "\t ⋮ & ⋮ & ⋮ & ⋮ & ⋮ & ⋮ & ⋮\\\\\n",
       "\t 24 & roc\\_auc  & hand\\_till  & 0.9807626 & 5 & 0.011475194 & Preprocessor1\\_Model24\\\\\n",
       "\t 25 & accuracy & multiclass & 0.9275121 & 5 & 0.027726845 & Preprocessor1\\_Model25\\\\\n",
       "\t 25 & roc\\_auc  & hand\\_till  & 0.9829899 & 5 & 0.009863019 & Preprocessor1\\_Model25\\\\\n",
       "\\end{tabular}\n"
      ],
      "text/markdown": [
       "\n",
       "A tibble: 50 × 7\n",
       "\n",
       "| neighbors &lt;dbl&gt; | .metric &lt;chr&gt; | .estimator &lt;chr&gt; | mean &lt;dbl&gt; | n &lt;int&gt; | std_err &lt;dbl&gt; | .config &lt;chr&gt; |\n",
       "|---|---|---|---|---|---|---|\n",
       "| 1 | accuracy | multiclass | 0.9203692 | 5 | 0.02368360 | Preprocessor1_Model01 |\n",
       "| 1 | roc_auc  | hand_till  | 0.9403535 | 5 | 0.01766692 | Preprocessor1_Model01 |\n",
       "| 2 | accuracy | multiclass | 0.9203692 | 5 | 0.02368360 | Preprocessor1_Model02 |\n",
       "| ⋮ | ⋮ | ⋮ | ⋮ | ⋮ | ⋮ | ⋮ |\n",
       "| 24 | roc_auc  | hand_till  | 0.9807626 | 5 | 0.011475194 | Preprocessor1_Model24 |\n",
       "| 25 | accuracy | multiclass | 0.9275121 | 5 | 0.027726845 | Preprocessor1_Model25 |\n",
       "| 25 | roc_auc  | hand_till  | 0.9829899 | 5 | 0.009863019 | Preprocessor1_Model25 |\n",
       "\n"
      ],
      "text/plain": [
       "   neighbors .metric  .estimator mean      n std_err     .config              \n",
       "1  1         accuracy multiclass 0.9203692 5 0.02368360  Preprocessor1_Model01\n",
       "2  1         roc_auc  hand_till  0.9403535 5 0.01766692  Preprocessor1_Model01\n",
       "3  2         accuracy multiclass 0.9203692 5 0.02368360  Preprocessor1_Model02\n",
       "⋮  ⋮         ⋮        ⋮          ⋮         ⋮ ⋮           ⋮                    \n",
       "48 24        roc_auc  hand_till  0.9807626 5 0.011475194 Preprocessor1_Model24\n",
       "49 25        accuracy multiclass 0.9275121 5 0.027726845 Preprocessor1_Model25\n",
       "50 25        roc_auc  hand_till  0.9829899 5 0.009863019 Preprocessor1_Model25"
      ]
     },
     "metadata": {},
     "output_type": "display_data"
    },
    {
     "data": {
      "text/html": [
       "3"
      ],
      "text/latex": [
       "3"
      ],
      "text/markdown": [
       "3"
      ],
      "text/plain": [
       "[1] 3"
      ]
     },
     "metadata": {},
     "output_type": "display_data"
    }
   ],
   "source": [
    "seed_metric <- knn_fit |>\n",
    "  collect_metrics()\n",
    "seed_metric\n",
    "\n",
    "# get the n with best accuracy\n",
    "min_n <- seed_metric |>\n",
    "  filter(.metric == \"accuracy\") |>\n",
    "  arrange(desc(mean))|>\n",
    "  slice(1) |>\n",
    "  select(neighbors) |>\n",
    "  pull()\n",
    "min_n"
   ]
  },
  {
   "cell_type": "code",
   "execution_count": 49,
   "id": "8df4d771-31e2-4332-b312-f1eeee0b7d60",
   "metadata": {},
   "outputs": [
    {
     "data": {
      "image/png": "[encoded data removed]",
      "text/plain": [
       "plot without title"
      ]
     },
     "metadata": {
      "image/png": {
       "height": 420,
       "width": 420
      }
     },
     "output_type": "display_data"
    }
   ],
   "source": [
    "neighbor_plot <- seed_metric |>\n",
    "filter(.metric == \"accuracy\") |>\n",
    "ggplot(aes(x=neighbors, y = mean))+\n",
    "geom_point()+\n",
    "geom_line()\n",
    "neighbor_plot"
   ]
  },
  {
   "cell_type": "code",
   "execution_count": 56,
   "id": "70da1864-ae16-44c5-b911-af8d62b90a35",
   "metadata": {},
   "outputs": [
    {
     "data": {
      "text/html": [
       "<table class=\"dataframe\">\n",
       "<caption>A tibble: 51 × 9</caption>\n",
       "<thead>\n",
       "\t<tr><th scope=col>.pred_class</th><th scope=col>area</th><th scope=col>perimeter</th><th scope=col>compactness</th><th scope=col>length_kernal</th><th scope=col>width</th><th scope=col>assymetry</th><th scope=col>length_groove</th><th scope=col>type</th></tr>\n",
       "\t<tr><th scope=col>&lt;fct&gt;</th><th scope=col>&lt;dbl&gt;</th><th scope=col>&lt;dbl&gt;</th><th scope=col>&lt;dbl&gt;</th><th scope=col>&lt;dbl&gt;</th><th scope=col>&lt;dbl&gt;</th><th scope=col>&lt;dbl&gt;</th><th scope=col>&lt;dbl&gt;</th><th scope=col>&lt;fct&gt;</th></tr>\n",
       "</thead>\n",
       "<tbody>\n",
       "\t<tr><td>Kama</td><td>15.26</td><td>14.84</td><td>0.8710</td><td>5.763</td><td>3.312</td><td>2.221</td><td>5.220</td><td>Kama</td></tr>\n",
       "\t<tr><td>Kama</td><td>14.88</td><td>14.57</td><td>0.8811</td><td>5.554</td><td>3.333</td><td>1.018</td><td>4.956</td><td>Kama</td></tr>\n",
       "\t<tr><td>Kama</td><td>16.44</td><td>15.25</td><td>0.8880</td><td>5.884</td><td>3.505</td><td>1.969</td><td>5.533</td><td>Kama</td></tr>\n",
       "\t<tr><td>⋮</td><td>⋮</td><td>⋮</td><td>⋮</td><td>⋮</td><td>⋮</td><td>⋮</td><td>⋮</td><td>⋮</td></tr>\n",
       "\t<tr><td>Kama    </td><td>12.76</td><td>13.38</td><td>0.8964</td><td>5.073</td><td>3.155</td><td>2.828</td><td>4.830</td><td>Canadian</td></tr>\n",
       "\t<tr><td>Canadian</td><td>12.19</td><td>13.20</td><td>0.8783</td><td>5.137</td><td>2.981</td><td>3.631</td><td>4.870</td><td>Canadian</td></tr>\n",
       "\t<tr><td>Canadian</td><td>12.30</td><td>13.34</td><td>0.8684</td><td>5.243</td><td>2.974</td><td>5.637</td><td>5.063</td><td>Canadian</td></tr>\n",
       "</tbody>\n",
       "</table>\n"
      ],
      "text/latex": [
       "A tibble: 51 × 9\n",
       "\\begin{tabular}{lllllllll}\n",
       " .pred\\_class & area & perimeter & compactness & length\\_kernal & width & assymetry & length\\_groove & type\\\\\n",
       " <fct> & <dbl> & <dbl> & <dbl> & <dbl> & <dbl> & <dbl> & <dbl> & <fct>\\\\\n",
       "\\hline\n",
       "\t Kama & 15.26 & 14.84 & 0.8710 & 5.763 & 3.312 & 2.221 & 5.220 & Kama\\\\\n",
       "\t Kama & 14.88 & 14.57 & 0.8811 & 5.554 & 3.333 & 1.018 & 4.956 & Kama\\\\\n",
       "\t Kama & 16.44 & 15.25 & 0.8880 & 5.884 & 3.505 & 1.969 & 5.533 & Kama\\\\\n",
       "\t ⋮ & ⋮ & ⋮ & ⋮ & ⋮ & ⋮ & ⋮ & ⋮ & ⋮\\\\\n",
       "\t Kama     & 12.76 & 13.38 & 0.8964 & 5.073 & 3.155 & 2.828 & 4.830 & Canadian\\\\\n",
       "\t Canadian & 12.19 & 13.20 & 0.8783 & 5.137 & 2.981 & 3.631 & 4.870 & Canadian\\\\\n",
       "\t Canadian & 12.30 & 13.34 & 0.8684 & 5.243 & 2.974 & 5.637 & 5.063 & Canadian\\\\\n",
       "\\end{tabular}\n"
      ],
      "text/markdown": [
       "\n",
       "A tibble: 51 × 9\n",
       "\n",
       "| .pred_class &lt;fct&gt; | area &lt;dbl&gt; | perimeter &lt;dbl&gt; | compactness &lt;dbl&gt; | length_kernal &lt;dbl&gt; | width &lt;dbl&gt; | assymetry &lt;dbl&gt; | length_groove &lt;dbl&gt; | type &lt;fct&gt; |\n",
       "|---|---|---|---|---|---|---|---|---|\n",
       "| Kama | 15.26 | 14.84 | 0.8710 | 5.763 | 3.312 | 2.221 | 5.220 | Kama |\n",
       "| Kama | 14.88 | 14.57 | 0.8811 | 5.554 | 3.333 | 1.018 | 4.956 | Kama |\n",
       "| Kama | 16.44 | 15.25 | 0.8880 | 5.884 | 3.505 | 1.969 | 5.533 | Kama |\n",
       "| ⋮ | ⋮ | ⋮ | ⋮ | ⋮ | ⋮ | ⋮ | ⋮ | ⋮ |\n",
       "| Kama     | 12.76 | 13.38 | 0.8964 | 5.073 | 3.155 | 2.828 | 4.830 | Canadian |\n",
       "| Canadian | 12.19 | 13.20 | 0.8783 | 5.137 | 2.981 | 3.631 | 4.870 | Canadian |\n",
       "| Canadian | 12.30 | 13.34 | 0.8684 | 5.243 | 2.974 | 5.637 | 5.063 | Canadian |\n",
       "\n"
      ],
      "text/plain": [
       "   .pred_class area  perimeter compactness length_kernal width assymetry\n",
       "1  Kama        15.26 14.84     0.8710      5.763         3.312 2.221    \n",
       "2  Kama        14.88 14.57     0.8811      5.554         3.333 1.018    \n",
       "3  Kama        16.44 15.25     0.8880      5.884         3.505 1.969    \n",
       "⋮  ⋮           ⋮     ⋮         ⋮           ⋮             ⋮     ⋮        \n",
       "49 Kama        12.76 13.38     0.8964      5.073         3.155 2.828    \n",
       "50 Canadian    12.19 13.20     0.8783      5.137         2.981 3.631    \n",
       "51 Canadian    12.30 13.34     0.8684      5.243         2.974 5.637    \n",
       "   length_groove type    \n",
       "1  5.220         Kama    \n",
       "2  4.956         Kama    \n",
       "3  5.533         Kama    \n",
       "⋮  ⋮             ⋮       \n",
       "49 4.830         Canadian\n",
       "50 4.870         Canadian\n",
       "51 5.063         Canadian"
      ]
     },
     "metadata": {},
     "output_type": "display_data"
    }
   ],
   "source": [
    "knn_best_spec <- nearest_neighbor(weight_func = \"rectangular\", neighbor = min_n)|>\n",
    "  set_engine(\"kknn\")|>\n",
    "  set_mode(\"classification\")\n",
    "\n",
    "set.seed(100)\n",
    "seed_vfold <- vfold_cv(seed_training, v = 5, strata = type)\n",
    "\n",
    "# build the workflow for building model\n",
    "knn_fit <- workflow()|>\n",
    "  add_recipe(seed_recipe)|>\n",
    "  add_model(knn_best_spec)|>\n",
    "fit(data = seed_training)\n",
    "\n",
    "seed_pred <- predict(knn_fit, seed_testing) |>\n",
    "  bind_cols(seed_testing |> mutate(type = as.factor(type)))\n",
    "seed_pred"
   ]
  },
  {
   "cell_type": "code",
   "execution_count": 58,
   "id": "6691e126-709e-4f60-a844-69c5bcb16fff",
   "metadata": {},
   "outputs": [
    {
     "data": {
      "text/html": [
       "<table class=\"dataframe\">\n",
       "<caption>A tibble: 1 × 3</caption>\n",
       "<thead>\n",
       "\t<tr><th scope=col>.metric</th><th scope=col>.estimator</th><th scope=col>.estimate</th></tr>\n",
       "\t<tr><th scope=col>&lt;chr&gt;</th><th scope=col>&lt;chr&gt;</th><th scope=col>&lt;dbl&gt;</th></tr>\n",
       "</thead>\n",
       "<tbody>\n",
       "\t<tr><td>accuracy</td><td>multiclass</td><td>0.9411765</td></tr>\n",
       "</tbody>\n",
       "</table>\n"
      ],
      "text/latex": [
       "A tibble: 1 × 3\n",
       "\\begin{tabular}{lll}\n",
       " .metric & .estimator & .estimate\\\\\n",
       " <chr> & <chr> & <dbl>\\\\\n",
       "\\hline\n",
       "\t accuracy & multiclass & 0.9411765\\\\\n",
       "\\end{tabular}\n"
      ],
      "text/markdown": [
       "\n",
       "A tibble: 1 × 3\n",
       "\n",
       "| .metric &lt;chr&gt; | .estimator &lt;chr&gt; | .estimate &lt;dbl&gt; |\n",
       "|---|---|---|\n",
       "| accuracy | multiclass | 0.9411765 |\n",
       "\n"
      ],
      "text/plain": [
       "  .metric  .estimator .estimate\n",
       "1 accuracy multiclass 0.9411765"
      ]
     },
     "metadata": {},
     "output_type": "display_data"
    },
    {
     "data": {
      "text/plain": [
       "          Truth\n",
       "Prediction Canadian Kama Rosa\n",
       "  Canadian       16    2    0\n",
       "  Kama            1   15    0\n",
       "  Rosa            0    0   17"
      ]
     },
     "metadata": {},
     "output_type": "display_data"
    }
   ],
   "source": [
    "seed_test_metric <- seed_pred |>\n",
    "  metrics(truth = type, estimate = .pred_class) |>\n",
    "  filter(.metric == \"accuracy\")\n",
    "seed_test_metric\n",
    "\n",
    "\n",
    "# get conf mat\n",
    "seed_conf <- seed_pred |>\n",
    "  conf_mat(truth = type, estimate = .pred_class)\n",
    "seed_conf"
   ]
  },
  {
   "cell_type": "code",
   "execution_count": null,
   "id": "5251f2d2-f850-4a5a-9fd5-271c1d101c70",
   "metadata": {},
   "outputs": [],
   "source": []
  }
 ],
 "metadata": {
  "kernelspec": {
   "display_name": "R",
   "language": "R",
   "name": "ir"
  },
  "language_info": {
   "codemirror_mode": "r",
   "file_extension": ".r",
   "mimetype": "text/x-r-source",
   "name": "R",
   "pygments_lexer": "r",
   "version": "4.1.3"
  }
 },
 "nbformat": 4,
 "nbformat_minor": 5
}
