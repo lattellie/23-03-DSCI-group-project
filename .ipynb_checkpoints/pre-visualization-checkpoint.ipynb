{
 "cells": [
  {
   "cell_type": "code",
   "execution_count": 1,
   "id": "c91048c3-9f30-4ea6-943f-ea8b7c3f3a9e",
   "metadata": {},
   "outputs": [
    {
     "name": "stderr",
     "output_type": "stream",
     "text": [
      "── \u001b[1mAttaching packages\u001b[22m ─────────────────────────────────────── tidyverse 1.3.1 ──\n",
      "\n",
      "\u001b[32m✔\u001b[39m \u001b[34mggplot2\u001b[39m 3.3.6     \u001b[32m✔\u001b[39m \u001b[34mpurrr  \u001b[39m 0.3.4\n",
      "\u001b[32m✔\u001b[39m \u001b[34mtibble \u001b[39m 3.1.7     \u001b[32m✔\u001b[39m \u001b[34mdplyr  \u001b[39m 1.0.9\n",
      "\u001b[32m✔\u001b[39m \u001b[34mtidyr  \u001b[39m 1.2.0     \u001b[32m✔\u001b[39m \u001b[34mstringr\u001b[39m 1.4.0\n",
      "\u001b[32m✔\u001b[39m \u001b[34mreadr  \u001b[39m 2.1.2     \u001b[32m✔\u001b[39m \u001b[34mforcats\u001b[39m 0.5.1\n",
      "\n",
      "── \u001b[1mConflicts\u001b[22m ────────────────────────────────────────── tidyverse_conflicts() ──\n",
      "\u001b[31m✖\u001b[39m \u001b[34mdplyr\u001b[39m::\u001b[32mfilter()\u001b[39m masks \u001b[34mstats\u001b[39m::filter()\n",
      "\u001b[31m✖\u001b[39m \u001b[34mdplyr\u001b[39m::\u001b[32mlag()\u001b[39m    masks \u001b[34mstats\u001b[39m::lag()\n",
      "\n",
      "── \u001b[1mAttaching packages\u001b[22m ────────────────────────────────────── tidymodels 1.0.0 ──\n",
      "\n",
      "\u001b[32m✔\u001b[39m \u001b[34mbroom       \u001b[39m 1.0.0     \u001b[32m✔\u001b[39m \u001b[34mrsample     \u001b[39m 1.0.0\n",
      "\u001b[32m✔\u001b[39m \u001b[34mdials       \u001b[39m 1.0.0     \u001b[32m✔\u001b[39m \u001b[34mtune        \u001b[39m 1.0.0\n",
      "\u001b[32m✔\u001b[39m \u001b[34minfer       \u001b[39m 1.0.2     \u001b[32m✔\u001b[39m \u001b[34mworkflows   \u001b[39m 1.0.0\n",
      "\u001b[32m✔\u001b[39m \u001b[34mmodeldata   \u001b[39m 1.0.0     \u001b[32m✔\u001b[39m \u001b[34mworkflowsets\u001b[39m 1.0.0\n",
      "\u001b[32m✔\u001b[39m \u001b[34mparsnip     \u001b[39m 1.0.0     \u001b[32m✔\u001b[39m \u001b[34myardstick   \u001b[39m 1.0.0\n",
      "\u001b[32m✔\u001b[39m \u001b[34mrecipes     \u001b[39m 1.0.1     \n",
      "\n",
      "── \u001b[1mConflicts\u001b[22m ───────────────────────────────────────── tidymodels_conflicts() ──\n",
      "\u001b[31m✖\u001b[39m \u001b[34mscales\u001b[39m::\u001b[32mdiscard()\u001b[39m masks \u001b[34mpurrr\u001b[39m::discard()\n",
      "\u001b[31m✖\u001b[39m \u001b[34mdplyr\u001b[39m::\u001b[32mfilter()\u001b[39m   masks \u001b[34mstats\u001b[39m::filter()\n",
      "\u001b[31m✖\u001b[39m \u001b[34mrecipes\u001b[39m::\u001b[32mfixed()\u001b[39m  masks \u001b[34mstringr\u001b[39m::fixed()\n",
      "\u001b[31m✖\u001b[39m \u001b[34mdplyr\u001b[39m::\u001b[32mlag()\u001b[39m      masks \u001b[34mstats\u001b[39m::lag()\n",
      "\u001b[31m✖\u001b[39m \u001b[34myardstick\u001b[39m::\u001b[32mspec()\u001b[39m masks \u001b[34mreadr\u001b[39m::spec()\n",
      "\u001b[31m✖\u001b[39m \u001b[34mrecipes\u001b[39m::\u001b[32mstep()\u001b[39m   masks \u001b[34mstats\u001b[39m::step()\n",
      "\u001b[34m•\u001b[39m Use suppressPackageStartupMessages() to eliminate package startup messages\n",
      "\n",
      "Warning message in file(filename, \"r\", encoding = encoding):\n",
      "“cannot open file 'tests.R': No such file or directory”\n"
     ]
    },
    {
     "ename": "ERROR",
     "evalue": "Error in file(filename, \"r\", encoding = encoding): cannot open the connection\n",
     "output_type": "error",
     "traceback": [
      "Error in file(filename, \"r\", encoding = encoding): cannot open the connection\nTraceback:\n",
      "1. source(\"tests.R\")",
      "2. file(filename, \"r\", encoding = encoding)"
     ]
    }
   ],
   "source": [
    "library(tidyverse)\n",
    "library(repr)\n",
    "library(tidymodels)\n",
    "options(repr.matrix.max.rows = 6)\n",
    "source('tests.R')\n",
    "source('cleanup.R')"
   ]
  },
  {
   "cell_type": "code",
   "execution_count": 2,
   "id": "2948d690-763e-4af8-99b4-d32666d0aa10",
   "metadata": {},
   "outputs": [
    {
     "name": "stderr",
     "output_type": "stream",
     "text": [
      "\u001b[1mRows: \u001b[22m\u001b[34m187\u001b[39m \u001b[1mColumns: \u001b[22m\u001b[34m38\u001b[39m\n",
      "\u001b[36m──\u001b[39m \u001b[1mColumn specification\u001b[22m \u001b[36m────────────────────────────────────────────────────────\u001b[39m\n",
      "\u001b[1mDelimiter:\u001b[22m \",\"\n",
      "\u001b[31mchr\u001b[39m (13): RecipientABO, RecipientRh, ABOmatch, CMVstatus, DonorCMV, Recipien...\n",
      "\u001b[32mdbl\u001b[39m (25): id, Recipientgender, Stemcellsource, Donorage, Donorage35, IIIV, G...\n",
      "\n",
      "\u001b[36mℹ\u001b[39m Use `spec()` to retrieve the full column specification for this data.\n",
      "\u001b[36mℹ\u001b[39m Specify the column types or set `show_col_types = FALSE` to quiet this message.\n"
     ]
    },
    {
     "data": {
      "text/html": [
       "<table class=\"dataframe\">\n",
       "<caption>A tibble: 6 × 38</caption>\n",
       "<thead>\n",
       "\t<tr><th scope=col>id</th><th scope=col>Recipientgender</th><th scope=col>Stemcellsource</th><th scope=col>Donorage</th><th scope=col>Donorage35</th><th scope=col>IIIV</th><th scope=col>Gendermatch</th><th scope=col>DonorABO</th><th scope=col>RecipientABO</th><th scope=col>RecipientRh</th><th scope=col>⋯</th><th scope=col>extcGvHD</th><th scope=col>CD34kgx10d6</th><th scope=col>CD3dCD34</th><th scope=col>CD3dkgx10d8</th><th scope=col>Rbodymass</th><th scope=col>ANCrecovery</th><th scope=col>PLTrecovery</th><th scope=col>time_to_aGvHD_III_IV</th><th scope=col>survival_time</th><th scope=col>survival_status</th></tr>\n",
       "\t<tr><th scope=col>&lt;dbl&gt;</th><th scope=col>&lt;dbl&gt;</th><th scope=col>&lt;dbl&gt;</th><th scope=col>&lt;dbl&gt;</th><th scope=col>&lt;dbl&gt;</th><th scope=col>&lt;dbl&gt;</th><th scope=col>&lt;dbl&gt;</th><th scope=col>&lt;dbl&gt;</th><th scope=col>&lt;chr&gt;</th><th scope=col>&lt;chr&gt;</th><th scope=col>⋯</th><th scope=col>&lt;chr&gt;</th><th scope=col>&lt;dbl&gt;</th><th scope=col>&lt;chr&gt;</th><th scope=col>&lt;chr&gt;</th><th scope=col>&lt;chr&gt;</th><th scope=col>&lt;dbl&gt;</th><th scope=col>&lt;dbl&gt;</th><th scope=col>&lt;dbl&gt;</th><th scope=col>&lt;dbl&gt;</th><th scope=col>&lt;dbl&gt;</th></tr>\n",
       "</thead>\n",
       "<tbody>\n",
       "\t<tr><td>1</td><td>1</td><td>1</td><td>22.83014</td><td>0</td><td>1</td><td>0</td><td> 1</td><td>1 </td><td>1</td><td>⋯</td><td>1</td><td> 7.20</td><td>1.33876  </td><td>5.38 </td><td>35  </td><td>19</td><td>51</td><td>     32</td><td> 999</td><td>0</td></tr>\n",
       "\t<tr><td>2</td><td>1</td><td>0</td><td>23.34247</td><td>0</td><td>1</td><td>0</td><td>-1</td><td>-1</td><td>1</td><td>⋯</td><td>1</td><td> 4.50</td><td>11.078295</td><td>0.41 </td><td>20.6</td><td>16</td><td>37</td><td>1000000</td><td> 163</td><td>1</td></tr>\n",
       "\t<tr><td>3</td><td>1</td><td>0</td><td>26.39452</td><td>0</td><td>1</td><td>0</td><td>-1</td><td>-1</td><td>1</td><td>⋯</td><td>1</td><td> 7.94</td><td>19.01323 </td><td>0.42 </td><td>23.4</td><td>23</td><td>20</td><td>1000000</td><td> 435</td><td>1</td></tr>\n",
       "\t<tr><td>4</td><td>0</td><td>0</td><td>39.68493</td><td>1</td><td>1</td><td>0</td><td> 1</td><td>2 </td><td>1</td><td>⋯</td><td>?</td><td> 4.25</td><td>29.481647</td><td>0.14 </td><td>50  </td><td>23</td><td>29</td><td>     19</td><td>  53</td><td>1</td></tr>\n",
       "\t<tr><td>5</td><td>0</td><td>1</td><td>33.35890</td><td>0</td><td>0</td><td>0</td><td> 1</td><td>2 </td><td>0</td><td>⋯</td><td>1</td><td>51.85</td><td>3.972255 </td><td>13.05</td><td>9   </td><td>14</td><td>14</td><td>1000000</td><td>2043</td><td>0</td></tr>\n",
       "\t<tr><td>6</td><td>1</td><td>0</td><td>27.39178</td><td>0</td><td>0</td><td>0</td><td> 2</td><td>0 </td><td>1</td><td>⋯</td><td>1</td><td> 3.27</td><td>8.412758 </td><td>0.39 </td><td>40  </td><td>16</td><td>70</td><td>1000000</td><td>2800</td><td>0</td></tr>\n",
       "</tbody>\n",
       "</table>\n"
      ],
      "text/latex": [
       "A tibble: 6 × 38\n",
       "\\begin{tabular}{lllllllllllllllllllll}\n",
       " id & Recipientgender & Stemcellsource & Donorage & Donorage35 & IIIV & Gendermatch & DonorABO & RecipientABO & RecipientRh & ⋯ & extcGvHD & CD34kgx10d6 & CD3dCD34 & CD3dkgx10d8 & Rbodymass & ANCrecovery & PLTrecovery & time\\_to\\_aGvHD\\_III\\_IV & survival\\_time & survival\\_status\\\\\n",
       " <dbl> & <dbl> & <dbl> & <dbl> & <dbl> & <dbl> & <dbl> & <dbl> & <chr> & <chr> & ⋯ & <chr> & <dbl> & <chr> & <chr> & <chr> & <dbl> & <dbl> & <dbl> & <dbl> & <dbl>\\\\\n",
       "\\hline\n",
       "\t 1 & 1 & 1 & 22.83014 & 0 & 1 & 0 &  1 & 1  & 1 & ⋯ & 1 &  7.20 & 1.33876   & 5.38  & 35   & 19 & 51 &      32 &  999 & 0\\\\\n",
       "\t 2 & 1 & 0 & 23.34247 & 0 & 1 & 0 & -1 & -1 & 1 & ⋯ & 1 &  4.50 & 11.078295 & 0.41  & 20.6 & 16 & 37 & 1000000 &  163 & 1\\\\\n",
       "\t 3 & 1 & 0 & 26.39452 & 0 & 1 & 0 & -1 & -1 & 1 & ⋯ & 1 &  7.94 & 19.01323  & 0.42  & 23.4 & 23 & 20 & 1000000 &  435 & 1\\\\\n",
       "\t 4 & 0 & 0 & 39.68493 & 1 & 1 & 0 &  1 & 2  & 1 & ⋯ & ? &  4.25 & 29.481647 & 0.14  & 50   & 23 & 29 &      19 &   53 & 1\\\\\n",
       "\t 5 & 0 & 1 & 33.35890 & 0 & 0 & 0 &  1 & 2  & 0 & ⋯ & 1 & 51.85 & 3.972255  & 13.05 & 9    & 14 & 14 & 1000000 & 2043 & 0\\\\\n",
       "\t 6 & 1 & 0 & 27.39178 & 0 & 0 & 0 &  2 & 0  & 1 & ⋯ & 1 &  3.27 & 8.412758  & 0.39  & 40   & 16 & 70 & 1000000 & 2800 & 0\\\\\n",
       "\\end{tabular}\n"
      ],
      "text/markdown": [
       "\n",
       "A tibble: 6 × 38\n",
       "\n",
       "| id &lt;dbl&gt; | Recipientgender &lt;dbl&gt; | Stemcellsource &lt;dbl&gt; | Donorage &lt;dbl&gt; | Donorage35 &lt;dbl&gt; | IIIV &lt;dbl&gt; | Gendermatch &lt;dbl&gt; | DonorABO &lt;dbl&gt; | RecipientABO &lt;chr&gt; | RecipientRh &lt;chr&gt; | ⋯ ⋯ | extcGvHD &lt;chr&gt; | CD34kgx10d6 &lt;dbl&gt; | CD3dCD34 &lt;chr&gt; | CD3dkgx10d8 &lt;chr&gt; | Rbodymass &lt;chr&gt; | ANCrecovery &lt;dbl&gt; | PLTrecovery &lt;dbl&gt; | time_to_aGvHD_III_IV &lt;dbl&gt; | survival_time &lt;dbl&gt; | survival_status &lt;dbl&gt; |\n",
       "|---|---|---|---|---|---|---|---|---|---|---|---|---|---|---|---|---|---|---|---|---|\n",
       "| 1 | 1 | 1 | 22.83014 | 0 | 1 | 0 |  1 | 1  | 1 | ⋯ | 1 |  7.20 | 1.33876   | 5.38  | 35   | 19 | 51 |      32 |  999 | 0 |\n",
       "| 2 | 1 | 0 | 23.34247 | 0 | 1 | 0 | -1 | -1 | 1 | ⋯ | 1 |  4.50 | 11.078295 | 0.41  | 20.6 | 16 | 37 | 1000000 |  163 | 1 |\n",
       "| 3 | 1 | 0 | 26.39452 | 0 | 1 | 0 | -1 | -1 | 1 | ⋯ | 1 |  7.94 | 19.01323  | 0.42  | 23.4 | 23 | 20 | 1000000 |  435 | 1 |\n",
       "| 4 | 0 | 0 | 39.68493 | 1 | 1 | 0 |  1 | 2  | 1 | ⋯ | ? |  4.25 | 29.481647 | 0.14  | 50   | 23 | 29 |      19 |   53 | 1 |\n",
       "| 5 | 0 | 1 | 33.35890 | 0 | 0 | 0 |  1 | 2  | 0 | ⋯ | 1 | 51.85 | 3.972255  | 13.05 | 9    | 14 | 14 | 1000000 | 2043 | 0 |\n",
       "| 6 | 1 | 0 | 27.39178 | 0 | 0 | 0 |  2 | 0  | 1 | ⋯ | 1 |  3.27 | 8.412758  | 0.39  | 40   | 16 | 70 | 1000000 | 2800 | 0 |\n",
       "\n"
      ],
      "text/plain": [
       "  id Recipientgender Stemcellsource Donorage Donorage35 IIIV Gendermatch\n",
       "1 1  1               1              22.83014 0          1    0          \n",
       "2 2  1               0              23.34247 0          1    0          \n",
       "3 3  1               0              26.39452 0          1    0          \n",
       "4 4  0               0              39.68493 1          1    0          \n",
       "5 5  0               1              33.35890 0          0    0          \n",
       "6 6  1               0              27.39178 0          0    0          \n",
       "  DonorABO RecipientABO RecipientRh ⋯ extcGvHD CD34kgx10d6 CD3dCD34 \n",
       "1  1       1            1           ⋯ 1         7.20       1.33876  \n",
       "2 -1       -1           1           ⋯ 1         4.50       11.078295\n",
       "3 -1       -1           1           ⋯ 1         7.94       19.01323 \n",
       "4  1       2            1           ⋯ ?         4.25       29.481647\n",
       "5  1       2            0           ⋯ 1        51.85       3.972255 \n",
       "6  2       0            1           ⋯ 1         3.27       8.412758 \n",
       "  CD3dkgx10d8 Rbodymass ANCrecovery PLTrecovery time_to_aGvHD_III_IV\n",
       "1 5.38        35        19          51               32             \n",
       "2 0.41        20.6      16          37          1000000             \n",
       "3 0.42        23.4      23          20          1000000             \n",
       "4 0.14        50        23          29               19             \n",
       "5 13.05       9         14          14          1000000             \n",
       "6 0.39        40        16          70          1000000             \n",
       "  survival_time survival_status\n",
       "1  999          0              \n",
       "2  163          1              \n",
       "3  435          1              \n",
       "4   53          1              \n",
       "5 2043          0              \n",
       "6 2800          0              "
      ]
     },
     "metadata": {},
     "output_type": "display_data"
    },
    {
     "data": {
      "text/html": [
       "<style>\n",
       ".list-inline {list-style: none; margin:0; padding: 0}\n",
       ".list-inline>li {display: inline-block}\n",
       ".list-inline>li:not(:last-child)::after {content: \"\\00b7\"; padding: 0 .5ex}\n",
       "</style>\n",
       "<ol class=list-inline><li>'id'</li><li>'Recipientgender'</li><li>'Stemcellsource'</li><li>'Donorage'</li><li>'Donorage35'</li><li>'IIIV'</li><li>'Gendermatch'</li><li>'DonorABO'</li><li>'RecipientABO'</li><li>'RecipientRh'</li><li>'ABOmatch'</li><li>'CMVstatus'</li><li>'DonorCMV'</li><li>'RecipientCMV'</li><li>'Disease'</li><li>'Riskgroup'</li><li>'Txpostrelapse'</li><li>'Diseasegroup'</li><li>'HLAmatch'</li><li>'HLAmismatch'</li><li>'Antigen'</li><li>'Alel'</li><li>'HLAgrI'</li><li>'Recipientage'</li><li>'Recipientage10'</li><li>'Recipientageint'</li><li>'Relapse'</li><li>'aGvHDIIIIV'</li><li>'extcGvHD'</li><li>'CD34kgx10d6'</li><li>'CD3dCD34'</li><li>'CD3dkgx10d8'</li><li>'Rbodymass'</li><li>'ANCrecovery'</li><li>'PLTrecovery'</li><li>'time_to_aGvHD_III_IV'</li><li>'survival_time'</li><li>'survival_status'</li></ol>\n"
      ],
      "text/latex": [
       "\\begin{enumerate*}\n",
       "\\item 'id'\n",
       "\\item 'Recipientgender'\n",
       "\\item 'Stemcellsource'\n",
       "\\item 'Donorage'\n",
       "\\item 'Donorage35'\n",
       "\\item 'IIIV'\n",
       "\\item 'Gendermatch'\n",
       "\\item 'DonorABO'\n",
       "\\item 'RecipientABO'\n",
       "\\item 'RecipientRh'\n",
       "\\item 'ABOmatch'\n",
       "\\item 'CMVstatus'\n",
       "\\item 'DonorCMV'\n",
       "\\item 'RecipientCMV'\n",
       "\\item 'Disease'\n",
       "\\item 'Riskgroup'\n",
       "\\item 'Txpostrelapse'\n",
       "\\item 'Diseasegroup'\n",
       "\\item 'HLAmatch'\n",
       "\\item 'HLAmismatch'\n",
       "\\item 'Antigen'\n",
       "\\item 'Alel'\n",
       "\\item 'HLAgrI'\n",
       "\\item 'Recipientage'\n",
       "\\item 'Recipientage10'\n",
       "\\item 'Recipientageint'\n",
       "\\item 'Relapse'\n",
       "\\item 'aGvHDIIIIV'\n",
       "\\item 'extcGvHD'\n",
       "\\item 'CD34kgx10d6'\n",
       "\\item 'CD3dCD34'\n",
       "\\item 'CD3dkgx10d8'\n",
       "\\item 'Rbodymass'\n",
       "\\item 'ANCrecovery'\n",
       "\\item 'PLTrecovery'\n",
       "\\item 'time\\_to\\_aGvHD\\_III\\_IV'\n",
       "\\item 'survival\\_time'\n",
       "\\item 'survival\\_status'\n",
       "\\end{enumerate*}\n"
      ],
      "text/markdown": [
       "1. 'id'\n",
       "2. 'Recipientgender'\n",
       "3. 'Stemcellsource'\n",
       "4. 'Donorage'\n",
       "5. 'Donorage35'\n",
       "6. 'IIIV'\n",
       "7. 'Gendermatch'\n",
       "8. 'DonorABO'\n",
       "9. 'RecipientABO'\n",
       "10. 'RecipientRh'\n",
       "11. 'ABOmatch'\n",
       "12. 'CMVstatus'\n",
       "13. 'DonorCMV'\n",
       "14. 'RecipientCMV'\n",
       "15. 'Disease'\n",
       "16. 'Riskgroup'\n",
       "17. 'Txpostrelapse'\n",
       "18. 'Diseasegroup'\n",
       "19. 'HLAmatch'\n",
       "20. 'HLAmismatch'\n",
       "21. 'Antigen'\n",
       "22. 'Alel'\n",
       "23. 'HLAgrI'\n",
       "24. 'Recipientage'\n",
       "25. 'Recipientage10'\n",
       "26. 'Recipientageint'\n",
       "27. 'Relapse'\n",
       "28. 'aGvHDIIIIV'\n",
       "29. 'extcGvHD'\n",
       "30. 'CD34kgx10d6'\n",
       "31. 'CD3dCD34'\n",
       "32. 'CD3dkgx10d8'\n",
       "33. 'Rbodymass'\n",
       "34. 'ANCrecovery'\n",
       "35. 'PLTrecovery'\n",
       "36. 'time_to_aGvHD_III_IV'\n",
       "37. 'survival_time'\n",
       "38. 'survival_status'\n",
       "\n",
       "\n"
      ],
      "text/plain": [
       " [1] \"id\"                   \"Recipientgender\"      \"Stemcellsource\"      \n",
       " [4] \"Donorage\"             \"Donorage35\"           \"IIIV\"                \n",
       " [7] \"Gendermatch\"          \"DonorABO\"             \"RecipientABO\"        \n",
       "[10] \"RecipientRh\"          \"ABOmatch\"             \"CMVstatus\"           \n",
       "[13] \"DonorCMV\"             \"RecipientCMV\"         \"Disease\"             \n",
       "[16] \"Riskgroup\"            \"Txpostrelapse\"        \"Diseasegroup\"        \n",
       "[19] \"HLAmatch\"             \"HLAmismatch\"          \"Antigen\"             \n",
       "[22] \"Alel\"                 \"HLAgrI\"               \"Recipientage\"        \n",
       "[25] \"Recipientage10\"       \"Recipientageint\"      \"Relapse\"             \n",
       "[28] \"aGvHDIIIIV\"           \"extcGvHD\"             \"CD34kgx10d6\"         \n",
       "[31] \"CD3dCD34\"             \"CD3dkgx10d8\"          \"Rbodymass\"           \n",
       "[34] \"ANCrecovery\"          \"PLTrecovery\"          \"time_to_aGvHD_III_IV\"\n",
       "[37] \"survival_time\"        \"survival_status\"     "
      ]
     },
     "metadata": {},
     "output_type": "display_data"
    }
   ],
   "source": [
    "bone_data <- read_csv(\"data/boneMarrow.csv\")\n",
    "head(bone_data)\n",
    "colnames(bone_data)"
   ]
  },
  {
   "cell_type": "code",
   "execution_count": 11,
   "id": "64abfd2f-5c26-48e7-88c5-c6a594578521",
   "metadata": {},
   "outputs": [
    {
     "data": {
      "text/html": [
       "<table class=\"dataframe\">\n",
       "<caption>A tibble: 187 × 8</caption>\n",
       "<thead>\n",
       "\t<tr><th scope=col>Donorage</th><th scope=col>Recipientage</th><th scope=col>DonorABO</th><th scope=col>ABOmatch</th><th scope=col>RecipientABO</th><th scope=col>Relapse</th><th scope=col>survival_time</th><th scope=col>survival_status</th></tr>\n",
       "\t<tr><th scope=col>&lt;dbl&gt;</th><th scope=col>&lt;dbl&gt;</th><th scope=col>&lt;dbl&gt;</th><th scope=col>&lt;chr&gt;</th><th scope=col>&lt;chr&gt;</th><th scope=col>&lt;dbl&gt;</th><th scope=col>&lt;dbl&gt;</th><th scope=col>&lt;fct&gt;</th></tr>\n",
       "</thead>\n",
       "<tbody>\n",
       "\t<tr><td>22.83014</td><td>9.6</td><td> 1</td><td>0</td><td>1 </td><td>0</td><td>999</td><td>0</td></tr>\n",
       "\t<tr><td>23.34247</td><td>4.0</td><td>-1</td><td>0</td><td>-1</td><td>1</td><td>163</td><td>1</td></tr>\n",
       "\t<tr><td>26.39452</td><td>6.6</td><td>-1</td><td>0</td><td>-1</td><td>1</td><td>435</td><td>1</td></tr>\n",
       "\t<tr><td>⋮</td><td>⋮</td><td>⋮</td><td>⋮</td><td>⋮</td><td>⋮</td><td>⋮</td><td>⋮</td></tr>\n",
       "\t<tr><td>27.34794</td><td>10.4</td><td>1</td><td>1</td><td>-1</td><td>0</td><td>1895</td><td>0</td></tr>\n",
       "\t<tr><td>27.78082</td><td> 8.0</td><td>1</td><td>1</td><td>0 </td><td>0</td><td> 382</td><td>1</td></tr>\n",
       "\t<tr><td>55.55342</td><td> 9.5</td><td>1</td><td>1</td><td>2 </td><td>0</td><td>1109</td><td>0</td></tr>\n",
       "</tbody>\n",
       "</table>\n"
      ],
      "text/latex": [
       "A tibble: 187 × 8\n",
       "\\begin{tabular}{llllllll}\n",
       " Donorage & Recipientage & DonorABO & ABOmatch & RecipientABO & Relapse & survival\\_time & survival\\_status\\\\\n",
       " <dbl> & <dbl> & <dbl> & <chr> & <chr> & <dbl> & <dbl> & <fct>\\\\\n",
       "\\hline\n",
       "\t 22.83014 & 9.6 &  1 & 0 & 1  & 0 & 999 & 0\\\\\n",
       "\t 23.34247 & 4.0 & -1 & 0 & -1 & 1 & 163 & 1\\\\\n",
       "\t 26.39452 & 6.6 & -1 & 0 & -1 & 1 & 435 & 1\\\\\n",
       "\t ⋮ & ⋮ & ⋮ & ⋮ & ⋮ & ⋮ & ⋮ & ⋮\\\\\n",
       "\t 27.34794 & 10.4 & 1 & 1 & -1 & 0 & 1895 & 0\\\\\n",
       "\t 27.78082 &  8.0 & 1 & 1 & 0  & 0 &  382 & 1\\\\\n",
       "\t 55.55342 &  9.5 & 1 & 1 & 2  & 0 & 1109 & 0\\\\\n",
       "\\end{tabular}\n"
      ],
      "text/markdown": [
       "\n",
       "A tibble: 187 × 8\n",
       "\n",
       "| Donorage &lt;dbl&gt; | Recipientage &lt;dbl&gt; | DonorABO &lt;dbl&gt; | ABOmatch &lt;chr&gt; | RecipientABO &lt;chr&gt; | Relapse &lt;dbl&gt; | survival_time &lt;dbl&gt; | survival_status &lt;fct&gt; |\n",
       "|---|---|---|---|---|---|---|---|\n",
       "| 22.83014 | 9.6 |  1 | 0 | 1  | 0 | 999 | 0 |\n",
       "| 23.34247 | 4.0 | -1 | 0 | -1 | 1 | 163 | 1 |\n",
       "| 26.39452 | 6.6 | -1 | 0 | -1 | 1 | 435 | 1 |\n",
       "| ⋮ | ⋮ | ⋮ | ⋮ | ⋮ | ⋮ | ⋮ | ⋮ |\n",
       "| 27.34794 | 10.4 | 1 | 1 | -1 | 0 | 1895 | 0 |\n",
       "| 27.78082 |  8.0 | 1 | 1 | 0  | 0 |  382 | 1 |\n",
       "| 55.55342 |  9.5 | 1 | 1 | 2  | 0 | 1109 | 0 |\n",
       "\n"
      ],
      "text/plain": [
       "    Donorage Recipientage DonorABO ABOmatch RecipientABO Relapse survival_time\n",
       "1   22.83014 9.6           1       0        1            0       999          \n",
       "2   23.34247 4.0          -1       0        -1           1       163          \n",
       "3   26.39452 6.6          -1       0        -1           1       435          \n",
       "⋮   ⋮        ⋮            ⋮        ⋮        ⋮            ⋮       ⋮            \n",
       "185 27.34794 10.4         1        1        -1           0       1895         \n",
       "186 27.78082  8.0         1        1        0            0        382         \n",
       "187 55.55342  9.5         1        1        2            0       1109         \n",
       "    survival_status\n",
       "1   0              \n",
       "2   1              \n",
       "3   1              \n",
       "⋮   ⋮              \n",
       "185 0              \n",
       "186 1              \n",
       "187 0              "
      ]
     },
     "metadata": {},
     "output_type": "display_data"
    }
   ],
   "source": [
    "bone_selected <- bone_data |>\n",
    "select(Donorage, Recipientage, DonorABO, ABOmatch, RecipientABO, Relapse, survival_time, survival_status)|>\n",
    "mutate(survival_status = as_factor(survival_status))\n",
    "bone_selected"
   ]
  },
  {
   "cell_type": "code",
   "execution_count": 12,
   "id": "83d1a262-c4eb-4b9b-9a18-0ed909c10aac",
   "metadata": {},
   "outputs": [
    {
     "data": {
      "text/html": [
       "<table class=\"dataframe\">\n",
       "<caption>A tibble: 2 × 2</caption>\n",
       "<thead>\n",
       "\t<tr><th scope=col>survival_status</th><th scope=col>count</th></tr>\n",
       "\t<tr><th scope=col>&lt;fct&gt;</th><th scope=col>&lt;int&gt;</th></tr>\n",
       "</thead>\n",
       "<tbody>\n",
       "\t<tr><td>0</td><td>102</td></tr>\n",
       "\t<tr><td>1</td><td> 85</td></tr>\n",
       "</tbody>\n",
       "</table>\n"
      ],
      "text/latex": [
       "A tibble: 2 × 2\n",
       "\\begin{tabular}{ll}\n",
       " survival\\_status & count\\\\\n",
       " <fct> & <int>\\\\\n",
       "\\hline\n",
       "\t 0 & 102\\\\\n",
       "\t 1 &  85\\\\\n",
       "\\end{tabular}\n"
      ],
      "text/markdown": [
       "\n",
       "A tibble: 2 × 2\n",
       "\n",
       "| survival_status &lt;fct&gt; | count &lt;int&gt; |\n",
       "|---|---|\n",
       "| 0 | 102 |\n",
       "| 1 |  85 |\n",
       "\n"
      ],
      "text/plain": [
       "  survival_status count\n",
       "1 0               102  \n",
       "2 1                85  "
      ]
     },
     "metadata": {},
     "output_type": "display_data"
    },
    {
     "data": {
      "text/html": [
       "<table class=\"dataframe\">\n",
       "<caption>A tibble: 2 × 2</caption>\n",
       "<thead>\n",
       "\t<tr><th scope=col>survival_status</th><th scope=col>count</th></tr>\n",
       "\t<tr><th scope=col>&lt;fct&gt;</th><th scope=col>&lt;int&gt;</th></tr>\n",
       "</thead>\n",
       "<tbody>\n",
       "\t<tr><td>0</td><td>71</td></tr>\n",
       "\t<tr><td>1</td><td>59</td></tr>\n",
       "</tbody>\n",
       "</table>\n"
      ],
      "text/latex": [
       "A tibble: 2 × 2\n",
       "\\begin{tabular}{ll}\n",
       " survival\\_status & count\\\\\n",
       " <fct> & <int>\\\\\n",
       "\\hline\n",
       "\t 0 & 71\\\\\n",
       "\t 1 & 59\\\\\n",
       "\\end{tabular}\n"
      ],
      "text/markdown": [
       "\n",
       "A tibble: 2 × 2\n",
       "\n",
       "| survival_status &lt;fct&gt; | count &lt;int&gt; |\n",
       "|---|---|\n",
       "| 0 | 71 |\n",
       "| 1 | 59 |\n",
       "\n"
      ],
      "text/plain": [
       "  survival_status count\n",
       "1 0               71   \n",
       "2 1               59   "
      ]
     },
     "metadata": {},
     "output_type": "display_data"
    }
   ],
   "source": [
    "survival_summarize <- bone_selected |>\n",
    "group_by(survival_status) |>\n",
    "summarize(count=n())\n",
    "survival_summarize\n",
    "\n",
    "set.seed(1)\n",
    "bone_split <- initial_split(bone_selected, prop=0.7, strata=survival_status)\n",
    "bone_train <- training(bone_split)\n",
    "bone_test <- testing(bone_split)\n",
    "train_summarize <- bone_train |>\n",
    "group_by(survival_status) |>\n",
    "summarize(count=n())\n",
    "train_summarize"
   ]
  },
  {
   "cell_type": "markdown",
   "id": "11a2f3ba-f0f6-486a-a89b-1811f4795819",
   "metadata": {
    "tags": []
   },
   "source": [
    "# PART1-AGE"
   ]
  },
  {
   "cell_type": "code",
   "execution_count": 13,
   "id": "c90a2fc6-d453-4327-809a-753df0376d92",
   "metadata": {},
   "outputs": [
    {
     "data": {
      "text/html": [
       "<table class=\"dataframe\">\n",
       "<caption>A tibble: 130 × 8</caption>\n",
       "<thead>\n",
       "\t<tr><th scope=col>Donorage</th><th scope=col>Recipientage</th><th scope=col>Relapse</th><th scope=col>survival_time</th><th scope=col>survival_status</th><th scope=col>age_diff</th><th scope=col>DonorAgeGroup</th><th scope=col>RecipientAgeGroup</th></tr>\n",
       "\t<tr><th scope=col>&lt;dbl&gt;</th><th scope=col>&lt;dbl&gt;</th><th scope=col>&lt;dbl&gt;</th><th scope=col>&lt;dbl&gt;</th><th scope=col>&lt;fct&gt;</th><th scope=col>&lt;dbl&gt;</th><th scope=col>&lt;fct&gt;</th><th scope=col>&lt;fct&gt;</th></tr>\n",
       "</thead>\n",
       "<tbody>\n",
       "\t<tr><td>22.83014</td><td>9.6</td><td>0</td><td> 999</td><td>0</td><td>13.23014</td><td>20-25</td><td>5-10</td></tr>\n",
       "\t<tr><td>33.35890</td><td>1.3</td><td>0</td><td>2043</td><td>0</td><td>32.05890</td><td>30-35</td><td><span style=white-space:pre-wrap>&lt;5  </span></td></tr>\n",
       "\t<tr><td>29.73151</td><td>1.9</td><td>0</td><td> 599</td><td>0</td><td>27.83151</td><td>25-30</td><td><span style=white-space:pre-wrap>&lt;5  </span></td></tr>\n",
       "\t<tr><td>⋮</td><td>⋮</td><td>⋮</td><td>⋮</td><td>⋮</td><td>⋮</td><td>⋮</td><td>⋮</td></tr>\n",
       "\t<tr><td>37.57534</td><td>12.9</td><td>1</td><td>385</td><td>1</td><td>24.67534</td><td>35+  </td><td>10-15</td></tr>\n",
       "\t<tr><td>22.89589</td><td>13.9</td><td>0</td><td>634</td><td>1</td><td> 8.99589</td><td>20-25</td><td>10-15</td></tr>\n",
       "\t<tr><td>27.78082</td><td> 8.0</td><td>0</td><td>382</td><td>1</td><td>19.78082</td><td>25-30</td><td>5-10 </td></tr>\n",
       "</tbody>\n",
       "</table>\n"
      ],
      "text/latex": [
       "A tibble: 130 × 8\n",
       "\\begin{tabular}{llllllll}\n",
       " Donorage & Recipientage & Relapse & survival\\_time & survival\\_status & age\\_diff & DonorAgeGroup & RecipientAgeGroup\\\\\n",
       " <dbl> & <dbl> & <dbl> & <dbl> & <fct> & <dbl> & <fct> & <fct>\\\\\n",
       "\\hline\n",
       "\t 22.83014 & 9.6 & 0 &  999 & 0 & 13.23014 & 20-25 & 5-10\\\\\n",
       "\t 33.35890 & 1.3 & 0 & 2043 & 0 & 32.05890 & 30-35 & <5  \\\\\n",
       "\t 29.73151 & 1.9 & 0 &  599 & 0 & 27.83151 & 25-30 & <5  \\\\\n",
       "\t ⋮ & ⋮ & ⋮ & ⋮ & ⋮ & ⋮ & ⋮ & ⋮\\\\\n",
       "\t 37.57534 & 12.9 & 1 & 385 & 1 & 24.67534 & 35+   & 10-15\\\\\n",
       "\t 22.89589 & 13.9 & 0 & 634 & 1 &  8.99589 & 20-25 & 10-15\\\\\n",
       "\t 27.78082 &  8.0 & 0 & 382 & 1 & 19.78082 & 25-30 & 5-10 \\\\\n",
       "\\end{tabular}\n"
      ],
      "text/markdown": [
       "\n",
       "A tibble: 130 × 8\n",
       "\n",
       "| Donorage &lt;dbl&gt; | Recipientage &lt;dbl&gt; | Relapse &lt;dbl&gt; | survival_time &lt;dbl&gt; | survival_status &lt;fct&gt; | age_diff &lt;dbl&gt; | DonorAgeGroup &lt;fct&gt; | RecipientAgeGroup &lt;fct&gt; |\n",
       "|---|---|---|---|---|---|---|---|\n",
       "| 22.83014 | 9.6 | 0 |  999 | 0 | 13.23014 | 20-25 | 5-10 |\n",
       "| 33.35890 | 1.3 | 0 | 2043 | 0 | 32.05890 | 30-35 | &lt;5   |\n",
       "| 29.73151 | 1.9 | 0 |  599 | 0 | 27.83151 | 25-30 | &lt;5   |\n",
       "| ⋮ | ⋮ | ⋮ | ⋮ | ⋮ | ⋮ | ⋮ | ⋮ |\n",
       "| 37.57534 | 12.9 | 1 | 385 | 1 | 24.67534 | 35+   | 10-15 |\n",
       "| 22.89589 | 13.9 | 0 | 634 | 1 |  8.99589 | 20-25 | 10-15 |\n",
       "| 27.78082 |  8.0 | 0 | 382 | 1 | 19.78082 | 25-30 | 5-10  |\n",
       "\n"
      ],
      "text/plain": [
       "    Donorage Recipientage Relapse survival_time survival_status age_diff\n",
       "1   22.83014 9.6          0        999          0               13.23014\n",
       "2   33.35890 1.3          0       2043          0               32.05890\n",
       "3   29.73151 1.9          0        599          0               27.83151\n",
       "⋮   ⋮        ⋮            ⋮       ⋮             ⋮               ⋮       \n",
       "128 37.57534 12.9         1       385           1               24.67534\n",
       "129 22.89589 13.9         0       634           1                8.99589\n",
       "130 27.78082  8.0         0       382           1               19.78082\n",
       "    DonorAgeGroup RecipientAgeGroup\n",
       "1   20-25         5-10             \n",
       "2   30-35         <5               \n",
       "3   25-30         <5               \n",
       "⋮   ⋮             ⋮                \n",
       "128 35+           10-15            \n",
       "129 20-25         10-15            \n",
       "130 25-30         5-10             "
      ]
     },
     "metadata": {},
     "output_type": "display_data"
    }
   ],
   "source": [
    "bone_age <- bone_train |>\n",
    "select(Donorage,Recipientage,Relapse,survival_time,survival_status)|>\n",
    "mutate(age_diff = Donorage-Recipientage)|>\n",
    "mutate(DonorAgeGroup = cut(Donorage, breaks = c(0,5,10,15,20,25,30,35,100),\n",
    "              labels=c(\"<5\",\"5-10\",\"10-15\",\"15-20\",\"20-25\",\"25-30\",\"30-35\",\"35+\")))|>\n",
    "mutate(RecipientAgeGroup = cut(Recipientage, breaks = c(0,5,10,15,20,25,30,35,100),\n",
    "              labels=c(\"<5\",\"5-10\",\"10-15\",\"15-20\",\"20-25\",\"25-30\",\"30-35\",\"35+\")))\n",
    "bone_age"
   ]
  },
  {
   "cell_type": "code",
   "execution_count": 14,
   "id": "e3e7b637-25aa-4832-88f7-0028a7b3e74b",
   "metadata": {},
   "outputs": [
    {
     "data": {
      "text/html": [
       "<table class=\"dataframe\">\n",
       "<caption>A tibble: 5 × 2</caption>\n",
       "<thead>\n",
       "\t<tr><th scope=col>age</th><th scope=col>RecipientAgeCount</th></tr>\n",
       "\t<tr><th scope=col>&lt;fct&gt;</th><th scope=col>&lt;int&gt;</th></tr>\n",
       "</thead>\n",
       "<tbody>\n",
       "\t<tr><td><span style=white-space:pre-wrap>&lt;5   </span></td><td>35</td></tr>\n",
       "\t<tr><td>5-10 </td><td>31</td></tr>\n",
       "\t<tr><td>10-15</td><td>35</td></tr>\n",
       "\t<tr><td>15-20</td><td>27</td></tr>\n",
       "\t<tr><td>20-25</td><td> 2</td></tr>\n",
       "</tbody>\n",
       "</table>\n"
      ],
      "text/latex": [
       "A tibble: 5 × 2\n",
       "\\begin{tabular}{ll}\n",
       " age & RecipientAgeCount\\\\\n",
       " <fct> & <int>\\\\\n",
       "\\hline\n",
       "\t <5    & 35\\\\\n",
       "\t 5-10  & 31\\\\\n",
       "\t 10-15 & 35\\\\\n",
       "\t 15-20 & 27\\\\\n",
       "\t 20-25 &  2\\\\\n",
       "\\end{tabular}\n"
      ],
      "text/markdown": [
       "\n",
       "A tibble: 5 × 2\n",
       "\n",
       "| age &lt;fct&gt; | RecipientAgeCount &lt;int&gt; |\n",
       "|---|---|\n",
       "| &lt;5    | 35 |\n",
       "| 5-10  | 31 |\n",
       "| 10-15 | 35 |\n",
       "| 15-20 | 27 |\n",
       "| 20-25 |  2 |\n",
       "\n"
      ],
      "text/plain": [
       "  age   RecipientAgeCount\n",
       "1 <5    35               \n",
       "2 5-10  31               \n",
       "3 10-15 35               \n",
       "4 15-20 27               \n",
       "5 20-25  2               "
      ]
     },
     "metadata": {},
     "output_type": "display_data"
    },
    {
     "data": {
      "text/html": [
       "<table class=\"dataframe\">\n",
       "<caption>A tibble: 5 × 2</caption>\n",
       "<thead>\n",
       "\t<tr><th scope=col>age</th><th scope=col>DonorAgeCount</th></tr>\n",
       "\t<tr><th scope=col>&lt;fct&gt;</th><th scope=col>&lt;int&gt;</th></tr>\n",
       "</thead>\n",
       "<tbody>\n",
       "\t<tr><td>15-20</td><td> 3</td></tr>\n",
       "\t<tr><td>20-25</td><td>27</td></tr>\n",
       "\t<tr><td>25-30</td><td>13</td></tr>\n",
       "\t<tr><td>30-35</td><td>27</td></tr>\n",
       "\t<tr><td>35+  </td><td>60</td></tr>\n",
       "</tbody>\n",
       "</table>\n"
      ],
      "text/latex": [
       "A tibble: 5 × 2\n",
       "\\begin{tabular}{ll}\n",
       " age & DonorAgeCount\\\\\n",
       " <fct> & <int>\\\\\n",
       "\\hline\n",
       "\t 15-20 &  3\\\\\n",
       "\t 20-25 & 27\\\\\n",
       "\t 25-30 & 13\\\\\n",
       "\t 30-35 & 27\\\\\n",
       "\t 35+   & 60\\\\\n",
       "\\end{tabular}\n"
      ],
      "text/markdown": [
       "\n",
       "A tibble: 5 × 2\n",
       "\n",
       "| age &lt;fct&gt; | DonorAgeCount &lt;int&gt; |\n",
       "|---|---|\n",
       "| 15-20 |  3 |\n",
       "| 20-25 | 27 |\n",
       "| 25-30 | 13 |\n",
       "| 30-35 | 27 |\n",
       "| 35+   | 60 |\n",
       "\n"
      ],
      "text/plain": [
       "  age   DonorAgeCount\n",
       "1 15-20  3           \n",
       "2 20-25 27           \n",
       "3 25-30 13           \n",
       "4 30-35 27           \n",
       "5 35+   60           "
      ]
     },
     "metadata": {},
     "output_type": "display_data"
    }
   ],
   "source": [
    "Recipient_summarize <- bone_age |>\n",
    "group_by(RecipientAgeGroup)|>\n",
    "summarize(RecipientAgeCount=n())|>\n",
    "rename(age=RecipientAgeGroup)\n",
    "Recipient_summarize \n",
    "\n",
    "Donor_summarize <- bone_age |>\n",
    "group_by(DonorAgeGroup)|>\n",
    "summarize(DonorAgeCount=n())|>\n",
    "rename(age=DonorAgeGroup)\n",
    "Donor_summarize "
   ]
  },
  {
   "cell_type": "code",
   "execution_count": 15,
   "id": "1568b118-1026-4c0c-a409-1f8354aac87e",
   "metadata": {},
   "outputs": [
    {
     "name": "stdout",
     "output_type": "stream",
     "text": [
      "    age donor_age recipient_age\n",
      "1    <5        NA            35\n",
      "2  5-10        NA            31\n",
      "3 10-15        NA            35\n",
      "4 15-20         3            27\n",
      "5 20-25        27             2\n",
      "6 25-30        13            NA\n",
      "7 30-35        27            NA\n",
      "8   35+        60            NA\n"
     ]
    }
   ],
   "source": [
    "options(tibble.print_max = 8) # to show all the rows.\n",
    "age_summarize <- full_join(x=Donor_summarize,y=Recipient_summarize,by=\"age\")|>\n",
    "arrange(by=age)|>\n",
    "rename(donor_age = DonorAgeCount,recipient_age = RecipientAgeCount)\n",
    "print.data.frame(age_summarize)"
   ]
  },
  {
   "cell_type": "code",
   "execution_count": 16,
   "id": "4ad15664-abd1-4e5d-9e59-f6d9f2b9af49",
   "metadata": {},
   "outputs": [
    {
     "data": {
      "image/png": "[encoded data removed]",
      "text/plain": [
       "plot without title"
      ]
     },
     "metadata": {
      "image/png": {
       "height": 240,
       "width": 600
      }
     },
     "output_type": "display_data"
    },
    {
     "data": {
      "image/png": "[encoded data removed]",
      "text/plain": [
       "plot without title"
      ]
     },
     "metadata": {
      "image/png": {
       "height": 240,
       "width": 600
      }
     },
     "output_type": "display_data"
    }
   ],
   "source": [
    "options(repr.plot.width=10,repr.plot.height=4)\n",
    "age_diff_plot <- bone_age |>\n",
    "# revalue(str, c(\"0\"=\"death\", \"1\"=\"survival\"))\n",
    "# mapvalues(from=c(\"0\",\"1\"), \n",
    "#           to=c(\"death\",\"survival\"))\n",
    "\n",
    "ggplot(aes(x=age_diff,fill=survival_status))+\n",
    "geom_histogram(bins=20)+\n",
    "facet_grid(cols=vars(survival_status))\n",
    "age_diff_plot\n",
    "\n",
    "age_plot <- bone_age |>\n",
    "ggplot(aes(x=Donorage,fill=survival_status))+\n",
    "geom_histogram(bins=20)+\n",
    "facet_grid(cols=vars(survival_status))\n",
    "age_plot"
   ]
  },
  {
   "cell_type": "markdown",
   "id": "99b10145-1e42-46c5-b50c-9463603a7347",
   "metadata": {},
   "source": [
    "# PART2 - Blood Type"
   ]
  },
  {
   "cell_type": "code",
   "execution_count": 17,
   "id": "aaff87b0-676f-46cf-9ce1-e8a855f51a06",
   "metadata": {},
   "outputs": [
    {
     "data": {
      "text/html": [
       "<table class=\"dataframe\">\n",
       "<caption>A tibble: 130 × 5</caption>\n",
       "<thead>\n",
       "\t<tr><th scope=col>DonorABO</th><th scope=col>RecipientABO</th><th scope=col>ABOmatch</th><th scope=col>survival_time</th><th scope=col>survival_status</th></tr>\n",
       "\t<tr><th scope=col>&lt;dbl&gt;</th><th scope=col>&lt;chr&gt;</th><th scope=col>&lt;chr&gt;</th><th scope=col>&lt;dbl&gt;</th><th scope=col>&lt;fct&gt;</th></tr>\n",
       "</thead>\n",
       "<tbody>\n",
       "\t<tr><td>1</td><td>1 </td><td>0</td><td> 999</td><td>0</td></tr>\n",
       "\t<tr><td>1</td><td>2 </td><td>1</td><td>2043</td><td>0</td></tr>\n",
       "\t<tr><td>0</td><td>-1</td><td>1</td><td> 599</td><td>0</td></tr>\n",
       "\t<tr><td>⋮</td><td>⋮</td><td>⋮</td><td>⋮</td><td>⋮</td></tr>\n",
       "\t<tr><td>1</td><td>1</td><td>0</td><td>385</td><td>1</td></tr>\n",
       "\t<tr><td>1</td><td>0</td><td>1</td><td>634</td><td>1</td></tr>\n",
       "\t<tr><td>1</td><td>0</td><td>1</td><td>382</td><td>1</td></tr>\n",
       "</tbody>\n",
       "</table>\n"
      ],
      "text/latex": [
       "A tibble: 130 × 5\n",
       "\\begin{tabular}{lllll}\n",
       " DonorABO & RecipientABO & ABOmatch & survival\\_time & survival\\_status\\\\\n",
       " <dbl> & <chr> & <chr> & <dbl> & <fct>\\\\\n",
       "\\hline\n",
       "\t 1 & 1  & 0 &  999 & 0\\\\\n",
       "\t 1 & 2  & 1 & 2043 & 0\\\\\n",
       "\t 0 & -1 & 1 &  599 & 0\\\\\n",
       "\t ⋮ & ⋮ & ⋮ & ⋮ & ⋮\\\\\n",
       "\t 1 & 1 & 0 & 385 & 1\\\\\n",
       "\t 1 & 0 & 1 & 634 & 1\\\\\n",
       "\t 1 & 0 & 1 & 382 & 1\\\\\n",
       "\\end{tabular}\n"
      ],
      "text/markdown": [
       "\n",
       "A tibble: 130 × 5\n",
       "\n",
       "| DonorABO &lt;dbl&gt; | RecipientABO &lt;chr&gt; | ABOmatch &lt;chr&gt; | survival_time &lt;dbl&gt; | survival_status &lt;fct&gt; |\n",
       "|---|---|---|---|---|\n",
       "| 1 | 1  | 0 |  999 | 0 |\n",
       "| 1 | 2  | 1 | 2043 | 0 |\n",
       "| 0 | -1 | 1 |  599 | 0 |\n",
       "| ⋮ | ⋮ | ⋮ | ⋮ | ⋮ |\n",
       "| 1 | 1 | 0 | 385 | 1 |\n",
       "| 1 | 0 | 1 | 634 | 1 |\n",
       "| 1 | 0 | 1 | 382 | 1 |\n",
       "\n"
      ],
      "text/plain": [
       "    DonorABO RecipientABO ABOmatch survival_time survival_status\n",
       "1   1        1            0         999          0              \n",
       "2   1        2            1        2043          0              \n",
       "3   0        -1           1         599          0              \n",
       "⋮   ⋮        ⋮            ⋮        ⋮             ⋮              \n",
       "128 1        1            0        385           1              \n",
       "129 1        0            1        634           1              \n",
       "130 1        0            1        382           1              "
      ]
     },
     "metadata": {},
     "output_type": "display_data"
    }
   ],
   "source": [
    "bone_blood <- bone_train |>\n",
    "select(DonorABO,RecipientABO,ABOmatch,survival_time,survival_status)\n",
    "\n",
    "bone_blood"
   ]
  },
  {
   "cell_type": "code",
   "execution_count": 23,
   "id": "2bd78bd2-6add-42b8-b84b-7c0d7c4fedf5",
   "metadata": {},
   "outputs": [
    {
     "data": {
      "image/png": "[encoded data removed]",
      "text/plain": [
       "plot without title"
      ]
     },
     "metadata": {
      "image/png": {
       "height": 240,
       "width": 600
      }
     },
     "output_type": "display_data"
    }
   ],
   "source": [
    "## Blood match visualization:\n",
    "\n",
    "options(repr.plot.width=10,repr.plot.height=4)\n",
    "\n",
    "blood_match_plot <- bone_blood |>\n",
    "ggplot(aes(x=ABOmatch,fill=survival_status))+\n",
    "geom_bar()+\n",
    "facet_grid(cols=vars(survival_status)) +\n",
    "ggtitle(\"Survival status vs. Blood Type Match\") +\n",
    "labs(x = \"Blood Type Match\", y = \"Count\", fill = \"Survival Status\") \n",
    "\n",
    "blood_match_plot"
   ]
  }
 ],
 "metadata": {
  "kernelspec": {
   "display_name": "R",
   "language": "R",
   "name": "ir"
  },
  "language_info": {
   "codemirror_mode": "r",
   "file_extension": ".r",
   "mimetype": "text/x-r-source",
   "name": "R",
   "pygments_lexer": "r",
   "version": "4.1.3"
  }
 },
 "nbformat": 4,
 "nbformat_minor": 5
}
